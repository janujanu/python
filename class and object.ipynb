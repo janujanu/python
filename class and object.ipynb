{
 "cells": [
  {
   "cell_type": "code",
   "execution_count": 1,
   "id": "cd469ab0-e08f-452b-8668-8f83a54e7672",
   "metadata": {},
   "outputs": [
    {
     "name": "stdout",
     "output_type": "stream",
     "text": [
      "<class 'int'>\n"
     ]
    }
   ],
   "source": [
    "a = 25\n",
    "print(type(a))"
   ]
  },
  {
   "cell_type": "code",
   "execution_count": 2,
   "id": "327f7555-9f73-4da6-9a00-e1680b9a6c24",
   "metadata": {},
   "outputs": [
    {
     "name": "stdout",
     "output_type": "stream",
     "text": [
      "<class 'int'>\n"
     ]
    }
   ],
   "source": [
    "b = 26\n",
    "print(type(b))"
   ]
  },
  {
   "cell_type": "code",
   "execution_count": 3,
   "id": "11453da7-4079-4dd2-99f7-773130b3c2dc",
   "metadata": {},
   "outputs": [
    {
     "name": "stdout",
     "output_type": "stream",
     "text": [
      "<class 'str'>\n"
     ]
    }
   ],
   "source": [
    "c = 'Hello world'\n",
    "print(type(c))"
   ]
  },
  {
   "cell_type": "markdown",
   "id": "c1c04d64-ad03-4d5b-9459-612101c8cee1",
   "metadata": {},
   "source": [
    "## Creating the class and object"
   ]
  },
  {
   "cell_type": "code",
   "execution_count": 4,
   "id": "fdc4d84e-ab6f-433f-8d5a-af20dd4fc98b",
   "metadata": {},
   "outputs": [],
   "source": [
    "class prototype:\n",
    "    pass"
   ]
  },
  {
   "cell_type": "code",
   "execution_count": 5,
   "id": "14661054-2ad5-4d8c-a50d-5bc04288acf6",
   "metadata": {},
   "outputs": [],
   "source": [
    "obj = prototype()"
   ]
  },
  {
   "cell_type": "markdown",
   "id": "ca0ed63d-098d-4629-8bbd-73b845221851",
   "metadata": {},
   "source": [
    "### Bank Application "
   ]
  },
  {
   "cell_type": "code",
   "execution_count": 18,
   "id": "89d348be-ec8c-4d05-b8ad-a17ab28e67aa",
   "metadata": {},
   "outputs": [],
   "source": [
    "class bank:\n",
    "    #Initializing/Creating the variables\n",
    "    def __init__(self,name,accno,ifsc,phone,address,balance):\n",
    "\n",
    "        self.name = name\n",
    "        self.accno = accno\n",
    "        self.ifsc = ifsc\n",
    "        self.phone = phone\n",
    "        self.address = address\n",
    "        self.balance = balance\n",
    "\n",
    "   #Actions/Methods\n",
    "\n",
    "    def withdraw(self):\n",
    "       amount = int(input(\"Enter the amount to withdraw:: \"))\n",
    "       if amount > self.balance:\n",
    "           print(\"Insufficient Balance:\")\n",
    "       else:\n",
    "            print(\"please collect the cash\")\n",
    "            self.balance = self.balance - amount\n",
    "\n",
    "    def deposit(self):\n",
    "       amount = int(input(\"Enter the amount to deposit:: \"))\n",
    "       print(\"cash is deposited successfully\")\n",
    "       self.balance = self.balance + amount\n",
    "\n",
    "    def check_bal(self):\n",
    "       print(f\"Your account balance is {self.balance} rupees\")"
   ]
  },
  {
   "cell_type": "code",
   "execution_count": 9,
   "id": "6db548aa-e05c-4958-9f65-2ac7e1a20ba6",
   "metadata": {},
   "outputs": [],
   "source": [
    "jahnavi = bank('Jahnavi Mandava','ICICI12345','ICIC111222',8763652889,'Hyderabad',100000)"
   ]
  },
  {
   "cell_type": "markdown",
   "id": "788779f0-786c-485d-b9b2-7b1dc8105a1a",
   "metadata": {},
   "source": [
    "### To get the methods"
   ]
  },
  {
   "cell_type": "code",
   "execution_count": 10,
   "id": "21bc9d37-1418-45a7-b9e2-24846569c5d2",
   "metadata": {},
   "outputs": [
    {
     "name": "stdin",
     "output_type": "stream",
     "text": [
      "Enter the amount to withdraw::  10000\n"
     ]
    },
    {
     "name": "stdout",
     "output_type": "stream",
     "text": [
      "please collect the cash\n"
     ]
    }
   ],
   "source": [
    "jahnavi.withdraw()"
   ]
  },
  {
   "cell_type": "code",
   "execution_count": 11,
   "id": "0411fc57-d0f6-4d1b-9450-993b0f475a18",
   "metadata": {},
   "outputs": [
    {
     "name": "stdout",
     "output_type": "stream",
     "text": [
      "Your account balance is 90000 rupees\n"
     ]
    }
   ],
   "source": [
    "jahnavi.check_bal()"
   ]
  },
  {
   "cell_type": "code",
   "execution_count": 12,
   "id": "f63456ae-3b51-46b0-a7f8-52108909ba07",
   "metadata": {},
   "outputs": [
    {
     "name": "stdin",
     "output_type": "stream",
     "text": [
      "Enter the amount to deposit::  15000\n"
     ]
    },
    {
     "name": "stdout",
     "output_type": "stream",
     "text": [
      "cash is deposited successfully\n"
     ]
    }
   ],
   "source": [
    "jahnavi.deposit()"
   ]
  },
  {
   "cell_type": "code",
   "execution_count": 13,
   "id": "26a5f46b-557d-4c5c-b476-5a9fda674056",
   "metadata": {},
   "outputs": [
    {
     "name": "stdout",
     "output_type": "stream",
     "text": [
      "Your account balance is 105000 rupees\n"
     ]
    }
   ],
   "source": [
    "jahnavi.check_bal()"
   ]
  },
  {
   "cell_type": "markdown",
   "id": "326f3203-7023-42b7-8051-c657ed178cf2",
   "metadata": {},
   "source": [
    "### To get the attributes"
   ]
  },
  {
   "cell_type": "code",
   "execution_count": 14,
   "id": "4d678556-2ef7-4679-9683-3952e27d15dd",
   "metadata": {},
   "outputs": [
    {
     "data": {
      "text/plain": [
       "'Hyderabad'"
      ]
     },
     "execution_count": 14,
     "metadata": {},
     "output_type": "execute_result"
    }
   ],
   "source": [
    "jahnavi.address"
   ]
  },
  {
   "cell_type": "code",
   "execution_count": 19,
   "id": "c3b6a2dc-add8-45be-bcdd-a1e40477c05d",
   "metadata": {},
   "outputs": [],
   "source": [
    "siva = bank('Siva Sankar','ICICI56789','ICIC111222',8763652889,'Hyderabad',200000)"
   ]
  },
  {
   "cell_type": "code",
   "execution_count": 20,
   "id": "6f788046-ecd3-4af7-b3cc-5f1a20c1c832",
   "metadata": {},
   "outputs": [
    {
     "name": "stdin",
     "output_type": "stream",
     "text": [
      "Enter the amount to withdraw::  500000\n"
     ]
    },
    {
     "name": "stdout",
     "output_type": "stream",
     "text": [
      "Insufficient Balance:\n"
     ]
    }
   ],
   "source": [
    "siva.withdraw()"
   ]
  },
  {
   "cell_type": "code",
   "execution_count": 1,
   "id": "6d07bf5b-d338-4309-8e5a-0ce0b4455805",
   "metadata": {},
   "outputs": [
    {
     "name": "stdout",
     "output_type": "stream",
     "text": [
      "D\n",
      "c\n"
     ]
    }
   ],
   "source": [
    "class a:\n",
    "    def f(self):\n",
    "        print(\"A\")\n",
    "\n",
    "class b:\n",
    "    def f1(self):\n",
    "        print(\"B\")\n",
    "\n",
    "class c:\n",
    "    def f1(self):\n",
    "        print(\"c\")\n",
    "\n",
    "class d(a,c,b):\n",
    "    def f1(self):\n",
    "        print(\"D\")\n",
    "        super().f1()\n",
    "\n",
    "obj1 = d()\n",
    "obj1.f1()"
   ]
  },
  {
   "cell_type": "code",
   "execution_count": 1,
   "id": "11518791-80d0-4af6-80cc-ea4b799b0a7e",
   "metadata": {},
   "outputs": [
    {
     "ename": "TypeError",
     "evalue": "test.__init__() missing 1 required positional argument: 'a'",
     "output_type": "error",
     "traceback": [
      "\u001b[1;31m---------------------------------------------------------------------------\u001b[0m",
      "\u001b[1;31mTypeError\u001b[0m                                 Traceback (most recent call last)",
      "Cell \u001b[1;32mIn[1], line 8\u001b[0m\n\u001b[0;32m      5\u001b[0m     \u001b[38;5;28;01mdef\u001b[39;00m \u001b[38;5;21mdisplay\u001b[39m(\u001b[38;5;28mself\u001b[39m):\n\u001b[0;32m      6\u001b[0m         \u001b[38;5;28mprint\u001b[39m(\u001b[38;5;28mself\u001b[39m\u001b[38;5;241m.\u001b[39ma)\n\u001b[1;32m----> 8\u001b[0m obj \u001b[38;5;241m=\u001b[39m test()\n\u001b[0;32m      9\u001b[0m obj\u001b[38;5;241m.\u001b[39mdisplay()\n",
      "\u001b[1;31mTypeError\u001b[0m: test.__init__() missing 1 required positional argument: 'a'"
     ]
    }
   ],
   "source": [
    "class test:\n",
    "    def __init__(self,a):\n",
    "        self.a = a\n",
    "\n",
    "    def display(self):\n",
    "        print(self.a)\n",
    "\n",
    "obj = test()\n",
    "obj.display()"
   ]
  },
  {
   "cell_type": "code",
   "execution_count": 2,
   "id": "3ba9bfb2-32cb-458b-b9b2-67c9942d8094",
   "metadata": {},
   "outputs": [
    {
     "name": "stdout",
     "output_type": "stream",
     "text": [
      "__main__\n"
     ]
    }
   ],
   "source": [
    "class Demo:\n",
    "    def __init__(self):\n",
    "        pass\n",
    "\n",
    "    def test(self):\n",
    "        print(__name__)\n",
    "\n",
    "obj = Demo()\n",
    "obj.test()"
   ]
  },
  {
   "cell_type": "code",
   "execution_count": 3,
   "id": "893ed89a-61b9-405e-8108-741129ed23e8",
   "metadata": {},
   "outputs": [
    {
     "name": "stdout",
     "output_type": "stream",
     "text": [
      "12\n"
     ]
    }
   ],
   "source": [
    "class tester:\n",
    "    def __init__(self,id):\n",
    "        self.id = str(id)\n",
    "        id=\"224\"\n",
    "\n",
    "temp = tester(12)\n",
    "print(temp.id)"
   ]
  },
  {
   "cell_type": "code",
   "execution_count": 5,
   "id": "a90a5b36-96d9-4b3a-b7d7-c293a2c7c925",
   "metadata": {},
   "outputs": [
    {
     "name": "stdout",
     "output_type": "stream",
     "text": [
      "7\n"
     ]
    }
   ],
   "source": [
    "class change:\n",
    "    def __init__(self,x,y,z):\n",
    "        self.a = x+y+z\n",
    "\n",
    "x = change(1,2,3)\n",
    "y = getattr(x,'a')\n",
    "setattr(x, 'a', y+1)\n",
    "print(x.a)"
   ]
  },
  {
   "cell_type": "code",
   "execution_count": 6,
   "id": "c628db2d-721b-4859-a6ee-adea5ae118fb",
   "metadata": {},
   "outputs": [
    {
     "name": "stdout",
     "output_type": "stream",
     "text": [
      "13\n"
     ]
    }
   ],
   "source": [
    "class fruits:\n",
    "    def __init__(self,price):\n",
    "        self.price = price\n",
    "\n",
    "obj=fruits(50)\n",
    "\n",
    "obj.quantity=10\n",
    "obj.bags=2\n",
    "\n",
    "print(obj.quantity+len(obj.__dict__))"
   ]
  },
  {
   "cell_type": "code",
   "execution_count": null,
   "id": "73e404be-162f-4d0a-b6c2-4b362f13ba4d",
   "metadata": {},
   "outputs": [],
   "source": []
  }
 ],
 "metadata": {
  "kernelspec": {
   "display_name": "Python 3 (ipykernel)",
   "language": "python",
   "name": "python3"
  },
  "language_info": {
   "codemirror_mode": {
    "name": "ipython",
    "version": 3
   },
   "file_extension": ".py",
   "mimetype": "text/x-python",
   "name": "python",
   "nbconvert_exporter": "python",
   "pygments_lexer": "ipython3",
   "version": "3.11.7"
  }
 },
 "nbformat": 4,
 "nbformat_minor": 5
}
