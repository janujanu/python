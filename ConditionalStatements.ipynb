{
 "cells": [
  {
   "cell_type": "code",
   "execution_count": 3,
   "id": "c6699197-1f62-452b-a526-0137ccfdf5f6",
   "metadata": {},
   "outputs": [
    {
     "name": "stdin",
     "output_type": "stream",
     "text": [
      "Is It raining?  (Yes/No)::  Yes\n"
     ]
    },
    {
     "name": "stdout",
     "output_type": "stream",
     "text": [
      "Take Umbrella\n"
     ]
    }
   ],
   "source": [
    "rain = input(\"Is It raining?  (Yes/No):: \")\n",
    "if rain == 'Yes':\n",
    "    print(\"Take Umbrella\")\n",
    "else:\n",
    "    print(\"Do not take umbrella \")"
   ]
  },
  {
   "cell_type": "code",
   "execution_count": 5,
   "id": "8236a359-9817-4693-8760-f9b1211c6ac5",
   "metadata": {},
   "outputs": [
    {
     "name": "stdin",
     "output_type": "stream",
     "text": [
      "Enter the a value::  10\n",
      "Enter the b value::  10\n"
     ]
    },
    {
     "name": "stdout",
     "output_type": "stream",
     "text": [
      "Both are equal\n"
     ]
    }
   ],
   "source": [
    "a = int(input(\"Enter the a value:: \"))\n",
    "b = int(input(\"Enter the b value:: \"))\n",
    "\n",
    "if a == b:\n",
    "    print(\"Both are equal\")\n",
    "else:\n",
    "    print(\"Both are not equal\")        "
   ]
  },
  {
   "cell_type": "code",
   "execution_count": 6,
   "id": "923570b6-c080-4c4a-a81a-1fb6344f6adb",
   "metadata": {},
   "outputs": [
    {
     "name": "stdin",
     "output_type": "stream",
     "text": [
      "Enter the a value::  4\n",
      "Enter the b value::  6\n"
     ]
    },
    {
     "name": "stdout",
     "output_type": "stream",
     "text": [
      "a is less than b\n"
     ]
    }
   ],
   "source": [
    "a = int(input(\"Enter the a value:: \"))\n",
    "b = int(input(\"Enter the b value:: \"))\n",
    "\n",
    "if a == b:\n",
    "    print(\"Both are equal\")\n",
    "elif a > b:\n",
    "    print(\"a is greater than b\")  \n",
    "elif a < b:\n",
    "    print(\"a is less than b\")"
   ]
  },
  {
   "cell_type": "code",
   "execution_count": 7,
   "id": "e0540c00-4a8f-4440-b36d-7489e0378594",
   "metadata": {},
   "outputs": [
    {
     "name": "stdin",
     "output_type": "stream",
     "text": [
      "Enter first string:: innomatics\n",
      "Enter second string:: jahnavi\n"
     ]
    },
    {
     "name": "stdout",
     "output_type": "stream",
     "text": [
      "String1 is greater\n"
     ]
    }
   ],
   "source": [
    "string1 = input(\"Enter first string::\")\n",
    "string2 = input(\"Enter second string::\")\n",
    "\n",
    "if len(string1) > len(string2):\n",
    "    print(\"String1 is greater\")\n",
    "elif len(string) < len(string2):\n",
    "    print(\"String2 is greater\")"
   ]
  },
  {
   "cell_type": "code",
   "execution_count": 8,
   "id": "ebc1faf7-82ef-4daf-a580-8110c18af9d4",
   "metadata": {},
   "outputs": [
    {
     "name": "stdin",
     "output_type": "stream",
     "text": [
      "Enter first string:: jahnavi\n",
      "Enter second string:: sivasankar\n"
     ]
    },
    {
     "name": "stdout",
     "output_type": "stream",
     "text": [
      "String2 is greater\n"
     ]
    }
   ],
   "source": [
    "string1 = input(\"Enter first string::\")\n",
    "string2 = input(\"Enter second string::\")\n",
    "\n",
    "if len(string1) > len(string2):\n",
    "    print(\"String1 is greater\")\n",
    "else:\n",
    "    print(\"String2 is greater\")"
   ]
  },
  {
   "cell_type": "code",
   "execution_count": 20,
   "id": "a2534e19-0127-4960-b79d-83be5d856cc8",
   "metadata": {},
   "outputs": [
    {
     "name": "stdin",
     "output_type": "stream",
     "text": [
      "Enter the number::  5\n"
     ]
    }
   ],
   "source": [
    "number = int(input(\"Enter the number:: \"))\n"
   ]
  },
  {
   "cell_type": "markdown",
   "id": "a2742c61-54d5-4fd8-82c1-341927992217",
   "metadata": {},
   "source": [
    "#### Logic for finding the even or odd --\n",
    "\n",
    "*any number which is divided by 2 and remainder is 0.---Even\n",
    "\n",
    "*any number which is divided by 2 and remainder is 1.---odd"
   ]
  },
  {
   "cell_type": "code",
   "execution_count": 21,
   "id": "75ca4c62-04f7-4b62-b10c-440634068d19",
   "metadata": {},
   "outputs": [
    {
     "name": "stdin",
     "output_type": "stream",
     "text": [
      "Enter the number::  6\n"
     ]
    },
    {
     "name": "stdout",
     "output_type": "stream",
     "text": [
      "Even number\n"
     ]
    }
   ],
   "source": [
    "number = int(input(\"Enter the number:: \"))\n",
    "\n",
    "if number%2 == 0:\n",
    "    print('Even number')\n",
    "else:\n",
    "    print(\"odd number\")"
   ]
  },
  {
   "cell_type": "code",
   "execution_count": 22,
   "id": "885f89f1-1e09-46af-9120-9bbec2c285e6",
   "metadata": {},
   "outputs": [
    {
     "name": "stdin",
     "output_type": "stream",
     "text": [
      "Enter the number::  5\n"
     ]
    },
    {
     "name": "stdout",
     "output_type": "stream",
     "text": [
      "odd number\n"
     ]
    }
   ],
   "source": [
    "number = int(input(\"Enter the number:: \"))\n",
    "\n",
    "if number%2 == 0:\n",
    "    print('Even number')\n",
    "else:\n",
    "    print(\"odd number\")"
   ]
  },
  {
   "cell_type": "code",
   "execution_count": 29,
   "id": "601aa54f-6435-41e8-8704-39bb9625061e",
   "metadata": {},
   "outputs": [
    {
     "name": "stdin",
     "output_type": "stream",
     "text": [
      "Enter the mail Id:  jahnavi@gmail.com\n"
     ]
    },
    {
     "name": "stdout",
     "output_type": "stream",
     "text": [
      "Valid Email Id\n"
     ]
    }
   ],
   "source": [
    "email = input(\"Enter the mail Id: \")\n",
    "\n",
    "if email.endswith(('@gmail.com','@yahoo.com','@outlook.com')):\n",
    "    print(\"Valid Email Id\")\n",
    "else:\n",
    "    print(\"It is invalid Email Id\")"
   ]
  },
  {
   "cell_type": "code",
   "execution_count": 30,
   "id": "83bb0eb6-f769-4d27-b3b6-8f14558e1666",
   "metadata": {},
   "outputs": [
    {
     "name": "stdin",
     "output_type": "stream",
     "text": [
      "Enter the website:  www.instagram.com\n"
     ]
    },
    {
     "name": "stdout",
     "output_type": "stream",
     "text": [
      "not a valid website\n"
     ]
    }
   ],
   "source": [
    "website = input(\"Enter the website: \")\n",
    "\n",
    "if website.startswith(('https:','www:')) and website.endswith(('.com','.in')):\n",
    "    print(\"Valid website\")\n",
    "else:\n",
    "    print(\"not a valid website\")"
   ]
  },
  {
   "cell_type": "markdown",
   "id": "e08b1232-eb6c-437d-9ac5-2764e3e90ec5",
   "metadata": {},
   "source": [
    "## Grade calculation"
   ]
  },
  {
   "cell_type": "code",
   "execution_count": 43,
   "id": "eb6f85c1-f8fa-4783-9730-11d6a63ea8e2",
   "metadata": {},
   "outputs": [
    {
     "name": "stdin",
     "output_type": "stream",
     "text": [
      "Enter the marks::  65\n"
     ]
    },
    {
     "name": "stdout",
     "output_type": "stream",
     "text": [
      "B Grade\n"
     ]
    }
   ],
   "source": [
    "marks = int(input(\"Enter the marks:: \"))\n",
    "\n",
    "if (marks >= 85) and (marks <= 100):\n",
    "    print(\"A+ Grade\")\n",
    "            \n",
    "elif (marks >= 70) and (marks < 85):\n",
    "    print(\"A Grade\")  \n",
    "\n",
    "elif (marks >= 50) and (marks < 70):\n",
    "    print(\"B Grade\")\n",
    "\n",
    "elif (marks >= 35) and (marks < 50):\n",
    "    print(\"C Grade\")\n",
    "\n",
    "elif (marks < 35) and (marks >= 0):\n",
    "    print(\"Fail\")\n",
    "\n",
    "else:\n",
    "    print(\"Enter the valid marks\")\n"
   ]
  },
  {
   "cell_type": "markdown",
   "id": "91f5109d-9ff1-45de-b204-c8081522b7dc",
   "metadata": {},
   "source": [
    "### Sign up Form"
   ]
  },
  {
   "cell_type": "code",
   "execution_count": 53,
   "id": "c6529768-d35e-4112-968d-055d09c52bde",
   "metadata": {},
   "outputs": [],
   "source": [
    "database = {}"
   ]
  },
  {
   "cell_type": "code",
   "execution_count": 54,
   "id": "cb7f1652-6154-4b01-a4ac-7dd2cb1d33f3",
   "metadata": {},
   "outputs": [
    {
     "name": "stdin",
     "output_type": "stream",
     "text": [
      "Enter your mailid to register::  jahnavi@gmail.com\n",
      "Set the password janu123@\n",
      "Enter your mailid to register::  sivasankar@gmail.com\n",
      "Set the password siva123\"\n",
      "Enter your mailid to register::  praksash@gmail.com\n",
      "Set the password pra456@\n",
      "Enter your mailid to register::  suresh@gmail.com\n",
      "Set the password sur123\"\n",
      "Enter your mailid to register::  sankar266@gmail.com\n",
      "Set the password sankar123\n"
     ]
    }
   ],
   "source": [
    "email = input(\"Enter your mailid to register:: \")\n",
    "password = input(\"Set the password\")\n",
    "database[email] = password\n",
    "\n",
    "email = input(\"Enter your mailid to register:: \")\n",
    "password = input(\"Set the password\")\n",
    "database[email] = password\n",
    "\n",
    "email = input(\"Enter your mailid to register:: \")\n",
    "password = input(\"Set the password\")\n",
    "database[email] = password\n",
    "\n",
    "email = input(\"Enter your mailid to register:: \")\n",
    "password = input(\"Set the password\")\n",
    "database[email] = password\n",
    "\n",
    "email = input(\"Enter your mailid to register:: \")\n",
    "password = input(\"Set the password\")\n",
    "database[email] = password\n",
    "\n",
    "\n"
   ]
  },
  {
   "cell_type": "code",
   "execution_count": 55,
   "id": "bce57c5c-3c5e-4341-880b-90d1296b61b6",
   "metadata": {},
   "outputs": [
    {
     "data": {
      "text/plain": [
       "{'jahnavi@gmail.com': 'janu123@',\n",
       " 'sivasankar@gmail.com': 'siva123\"',\n",
       " 'praksash@gmail.com': 'pra456@',\n",
       " 'suresh@gmail.com': 'sur123\"',\n",
       " 'sankar266@gmail.com': 'sankar123'}"
      ]
     },
     "execution_count": 55,
     "metadata": {},
     "output_type": "execute_result"
    }
   ],
   "source": [
    "database"
   ]
  },
  {
   "cell_type": "markdown",
   "id": "30127ef8-102b-48ec-a196-488704d3cbd5",
   "metadata": {},
   "source": [
    "## Login Form"
   ]
  },
  {
   "cell_type": "code",
   "execution_count": 59,
   "id": "bff66559-2f60-4952-a304-1764ce4a686b",
   "metadata": {},
   "outputs": [
    {
     "ename": "SyntaxError",
     "evalue": "unterminated string literal (detected at line 1) (1347188093.py, line 1)",
     "output_type": "error",
     "traceback": [
      "\u001b[1;36m  Cell \u001b[1;32mIn[59], line 1\u001b[1;36m\u001b[0m\n\u001b[1;33m    database['jahnavi@gmail.com]\u001b[0m\n\u001b[1;37m             ^\u001b[0m\n\u001b[1;31mSyntaxError\u001b[0m\u001b[1;31m:\u001b[0m unterminated string literal (detected at line 1)\n"
     ]
    }
   ],
   "source": [
    "database['jahnavi@gmail.com]"
   ]
  },
  {
   "cell_type": "code",
   "execution_count": 60,
   "id": "54bfc907-5aff-4557-beb1-f7ced8d36913",
   "metadata": {},
   "outputs": [
    {
     "data": {
      "text/plain": [
       "dict_keys(['jahnavi@gmail.com', 'sivasankar@gmail.com', 'praksash@gmail.com', 'suresh@gmail.com', 'sankar266@gmail.com'])"
      ]
     },
     "execution_count": 60,
     "metadata": {},
     "output_type": "execute_result"
    }
   ],
   "source": [
    "database.keys()"
   ]
  },
  {
   "cell_type": "code",
   "execution_count": 61,
   "id": "39a0def0-7500-4a43-8677-79869422ec60",
   "metadata": {},
   "outputs": [
    {
     "name": "stdin",
     "output_type": "stream",
     "text": [
      "Enter the email:  jahnavi@gmail.com\n",
      "Enter the password::  janu123@\n"
     ]
    },
    {
     "name": "stdout",
     "output_type": "stream",
     "text": [
      "Login Successfull\n"
     ]
    }
   ],
   "source": [
    "email_ID = input(\"Enter the email: \")\n",
    "\n",
    "if email_ID in database.keys():\n",
    "    pas = input(\"Enter the password:: \")\n",
    "    if database[email_ID] == pas:\n",
    "        print(\"Login Successfull\")\n",
    "    else:\n",
    "        print(\"Incorrect password\")\n",
    "else:\n",
    "    print(\"The email was not found\")"
   ]
  },
  {
   "cell_type": "markdown",
   "id": "6185af13-56a8-467d-988a-494265c4fdae",
   "metadata": {},
   "source": [
    "## Tax Calculator"
   ]
  },
  {
   "cell_type": "code",
   "execution_count": 62,
   "id": "30b469f8-75ea-4a24-a72b-0bc6a183fa65",
   "metadata": {},
   "outputs": [
    {
     "name": "stdin",
     "output_type": "stream",
     "text": [
      "Enter your annual income::  1200000\n"
     ]
    },
    {
     "name": "stdout",
     "output_type": "stream",
     "text": [
      "you need to pay 180000.0\n"
     ]
    }
   ],
   "source": [
    "income = float(input(\"Enter your annual income:: \"))\n",
    "\n",
    "if (income <= 300000) and (income > 0):\n",
    "    print(\"No tax\")\n",
    "\n",
    "elif (income > 300000) and (income <= 600000):\n",
    "    tax = income * 0.05\n",
    "    print(\"You need to pay {tax}\")\n",
    "\n",
    "elif (income > 600000) and (income <= 900000):\n",
    "    tax = income * 0.1\n",
    "    print(f\"you need to pay {tax}\")\n",
    "\n",
    "elif (income > 900000) and (income <= 1200000):\n",
    "    tax = income * 0.15\n",
    "    print(f\"you need to pay {tax}\")\n",
    "\n",
    "elif (income > 1200000) and (income <= 1500000):\n",
    "    tax = income * 0.2\n",
    "    print(f\"you need to pay {tax}\")\n",
    "\n",
    "elif (income > 1500000):\n",
    "    tax = income * 0.3\n",
    "    print(f\"you need to pay {tax}\")\n",
    "\n",
    "else:\n",
    "    print(\"Enter the valid Income\")"
   ]
  },
  {
   "cell_type": "markdown",
   "id": "e0c2debd-501a-4f7c-81fc-504805b57b1a",
   "metadata": {},
   "source": [
    "### Ternary Operator"
   ]
  },
  {
   "cell_type": "code",
   "execution_count": 63,
   "id": "8540b741-1c00-4342-a282-d4cd7a4bf408",
   "metadata": {},
   "outputs": [
    {
     "name": "stdin",
     "output_type": "stream",
     "text": [
      "Enter the number::   5\n"
     ]
    },
    {
     "name": "stdout",
     "output_type": "stream",
     "text": [
      "Odd\n"
     ]
    }
   ],
   "source": [
    "a = int(input(\"Enter the number::  \"))   #This is the basic program for even and odd\n",
    "\n",
    "if a%2 == 0:\n",
    "    print(\"Even\")\n",
    "else:\n",
    "    print(\"Odd\")"
   ]
  },
  {
   "cell_type": "code",
   "execution_count": 64,
   "id": "76f0e876-1e78-411a-b9e7-0dceeb50ea6f",
   "metadata": {},
   "outputs": [
    {
     "name": "stdin",
     "output_type": "stream",
     "text": [
      "Enter the number::   4\n"
     ]
    },
    {
     "data": {
      "text/plain": [
       "'Even'"
      ]
     },
     "execution_count": 64,
     "metadata": {},
     "output_type": "execute_result"
    }
   ],
   "source": [
    "a = int(input(\"Enter the number::  \")) \n",
    "\n",
    "\"Even\" if a%2 == 0 else \"odd\""
   ]
  },
  {
   "cell_type": "code",
   "execution_count": 65,
   "id": "91b10909-cbe1-4da0-94ef-410515567d35",
   "metadata": {},
   "outputs": [
    {
     "name": "stdin",
     "output_type": "stream",
     "text": [
      "Enter the number::   4\n",
      "Enter the number::   5\n"
     ]
    },
    {
     "name": "stdout",
     "output_type": "stream",
     "text": [
      "b is larger value\n"
     ]
    }
   ],
   "source": [
    "a = int(input(\"Enter the number::  \")) \n",
    "b = int(input(\"Enter the number::  \")) \n",
    "if a>b:\n",
    "    print(\" a is larger value\")\n",
    "else:\n",
    "    print(\"b is larger value\")"
   ]
  },
  {
   "cell_type": "code",
   "execution_count": 67,
   "id": "5ac2fa3b-3618-476e-9c5f-ab78bb3a9d58",
   "metadata": {},
   "outputs": [
    {
     "name": "stdin",
     "output_type": "stream",
     "text": [
      "Enter the number::   5\n",
      "Enter the number::   4\n"
     ]
    },
    {
     "data": {
      "text/plain": [
       "'a is larger value'"
      ]
     },
     "execution_count": 67,
     "metadata": {},
     "output_type": "execute_result"
    }
   ],
   "source": [
    "a = int(input(\"Enter the number::  \")) \n",
    "b = int(input(\"Enter the number::  \")) \n",
    "\"a is larger value\" if a>b else \"b is larger value\""
   ]
  },
  {
   "cell_type": "markdown",
   "id": "ff1d3372-e979-4cbb-99c4-8fea421ae3e3",
   "metadata": {},
   "source": [
    "## Palindrome"
   ]
  },
  {
   "cell_type": "code",
   "execution_count": 70,
   "id": "67cbcd2d-473d-46c4-ba35-bbb5f4f01988",
   "metadata": {},
   "outputs": [
    {
     "name": "stdin",
     "output_type": "stream",
     "text": [
      "Enter the name::  Dad\n"
     ]
    },
    {
     "name": "stdout",
     "output_type": "stream",
     "text": [
      "It is not palindrome\n"
     ]
    }
   ],
   "source": [
    "name = input(\"Enter the name:: \")\n",
    "if name == name[::-1]:\n",
    "    print(\"It is a palindrome\")\n",
    "else:\n",
    "    print(\"It is not palindrome\")"
   ]
  },
  {
   "cell_type": "code",
   "execution_count": 71,
   "id": "0c5a5fff-18a9-4d11-86f7-7da5d0120f9a",
   "metadata": {},
   "outputs": [
    {
     "name": "stdin",
     "output_type": "stream",
     "text": [
      "Enter the name::  Dad\n"
     ]
    },
    {
     "name": "stdout",
     "output_type": "stream",
     "text": [
      "It is a palindrome\n"
     ]
    }
   ],
   "source": [
    "name = input(\"Enter the name:: \").lower()\n",
    "if name == name[::-1]:\n",
    "    print(\"It is a palindrome\")\n",
    "else:\n",
    "    print(\"It is not palindrome\")"
   ]
  },
  {
   "cell_type": "code",
   "execution_count": 74,
   "id": "061a99da-6283-449d-92fa-250ffb4fa1ed",
   "metadata": {},
   "outputs": [
    {
     "name": "stdin",
     "output_type": "stream",
     "text": [
      "Enter the name::  Mom\n"
     ]
    },
    {
     "data": {
      "text/plain": [
       "'It is palindrome'"
      ]
     },
     "execution_count": 74,
     "metadata": {},
     "output_type": "execute_result"
    }
   ],
   "source": [
    "name = input(\"Enter the name:: \").lower()\n",
    "\"It is palindrome\" if name == name[::-1] else \"It is not palindrome\""
   ]
  },
  {
   "cell_type": "markdown",
   "id": "c2c324eb-fb6b-4b37-943b-20a42d783db4",
   "metadata": {},
   "source": [
    "#### [ouputs][condition]"
   ]
  },
  {
   "cell_type": "code",
   "execution_count": 75,
   "id": "c936109a-5cc5-43e6-86a6-e840ae655046",
   "metadata": {},
   "outputs": [
    {
     "name": "stdin",
     "output_type": "stream",
     "text": [
      "Enter the name::  DAD\n"
     ]
    },
    {
     "data": {
      "text/plain": [
       "'palindrome'"
      ]
     },
     "execution_count": 75,
     "metadata": {},
     "output_type": "execute_result"
    }
   ],
   "source": [
    "name = input(\"Enter the name:: \").upper()\n",
    "[\"Not palindrome\",\"palindrome\"][name == name[::-1]]"
   ]
  },
  {
   "cell_type": "code",
   "execution_count": null,
   "id": "396b9946-388f-4e5a-af67-75d247c6bb98",
   "metadata": {},
   "outputs": [],
   "source": []
  }
 ],
 "metadata": {
  "kernelspec": {
   "display_name": "Python 3 (ipykernel)",
   "language": "python",
   "name": "python3"
  },
  "language_info": {
   "codemirror_mode": {
    "name": "ipython",
    "version": 3
   },
   "file_extension": ".py",
   "mimetype": "text/x-python",
   "name": "python",
   "nbconvert_exporter": "python",
   "pygments_lexer": "ipython3",
   "version": "3.11.7"
  }
 },
 "nbformat": 4,
 "nbformat_minor": 5
}
