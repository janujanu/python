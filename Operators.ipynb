{
 "cells": [
  {
   "cell_type": "markdown",
   "id": "32f7783c-21c5-4a9f-84fa-e26f648687b0",
   "metadata": {},
   "source": [
    "# ARITHEMETIC"
   ]
  },
  {
   "cell_type": "code",
   "execution_count": 1,
   "id": "74e04382-686b-457a-a34e-19b52925b655",
   "metadata": {},
   "outputs": [
    {
     "data": {
      "text/plain": [
       "130"
      ]
     },
     "execution_count": 1,
     "metadata": {},
     "output_type": "execute_result"
    }
   ],
   "source": [
    "a=100\n",
    "b=30\n",
    "a+b"
   ]
  },
  {
   "cell_type": "code",
   "execution_count": 2,
   "id": "5bd00886-740e-445f-a332-add029b30e2f",
   "metadata": {},
   "outputs": [
    {
     "data": {
      "text/plain": [
       "130.5"
      ]
     },
     "execution_count": 2,
     "metadata": {},
     "output_type": "execute_result"
    }
   ],
   "source": [
    "a=100\n",
    "b=30.5\n",
    "a+b"
   ]
  },
  {
   "cell_type": "code",
   "execution_count": 3,
   "id": "40ca3b29-c88f-4520-b44a-f08f4ecebdd8",
   "metadata": {},
   "outputs": [
    {
     "data": {
      "text/plain": [
       "210.5"
      ]
     },
     "execution_count": 3,
     "metadata": {},
     "output_type": "execute_result"
    }
   ],
   "source": [
    "q=110.5\n",
    "b=110.5\n",
    "a+b"
   ]
  },
  {
   "cell_type": "code",
   "execution_count": 4,
   "id": "d393d0dc-9374-41df-b358-8ad469524c3e",
   "metadata": {},
   "outputs": [
    {
     "data": {
      "text/plain": [
       "(200+20j)"
      ]
     },
     "execution_count": 4,
     "metadata": {},
     "output_type": "execute_result"
    }
   ],
   "source": [
    "a=100+20j\n",
    "b=100\n",
    "a+b"
   ]
  },
  {
   "cell_type": "code",
   "execution_count": 5,
   "id": "6ee190fb-9316-4aab-a1a7-ed3cc6c6b48c",
   "metadata": {},
   "outputs": [
    {
     "data": {
      "text/plain": [
       "complex"
      ]
     },
     "execution_count": 5,
     "metadata": {},
     "output_type": "execute_result"
    }
   ],
   "source": [
    "type(a)"
   ]
  },
  {
   "cell_type": "code",
   "execution_count": 6,
   "id": "6a0a3886-876d-4791-b4f8-c60fe6569b10",
   "metadata": {},
   "outputs": [
    {
     "data": {
      "text/plain": [
       "1"
      ]
     },
     "execution_count": 6,
     "metadata": {},
     "output_type": "execute_result"
    }
   ],
   "source": [
    "a=True\n",
    "b=False\n",
    "a+b"
   ]
  },
  {
   "cell_type": "code",
   "execution_count": 8,
   "id": "0588c1b8-de09-4a9c-9337-3340c1a37902",
   "metadata": {},
   "outputs": [
    {
     "data": {
      "text/plain": [
       "11"
      ]
     },
     "execution_count": 8,
     "metadata": {},
     "output_type": "execute_result"
    }
   ],
   "source": [
    "a=True\n",
    "b=10\n",
    "a+b"
   ]
  },
  {
   "cell_type": "code",
   "execution_count": 9,
   "id": "6e7a95c9-2fe1-4070-99ae-bdab1f2b1084",
   "metadata": {},
   "outputs": [
    {
     "data": {
      "text/plain": [
       "(1+11j)"
      ]
     },
     "execution_count": 9,
     "metadata": {},
     "output_type": "execute_result"
    }
   ],
   "source": [
    "a=True\n",
    "b=11j\n",
    "a+b"
   ]
  },
  {
   "cell_type": "markdown",
   "id": "23bfcfbb-1af1-4ead-b568-b84561ddede2",
   "metadata": {},
   "source": [
    "# concatenation"
   ]
  },
  {
   "cell_type": "code",
   "execution_count": 10,
   "id": "3179bfab-411e-4276-b3e4-05bdaa10874c",
   "metadata": {},
   "outputs": [
    {
     "data": {
      "text/plain": [
       "'HelloWorld'"
      ]
     },
     "execution_count": 10,
     "metadata": {},
     "output_type": "execute_result"
    }
   ],
   "source": [
    "a=\"Hello\"\n",
    "b=\"World\"\n",
    "a+b"
   ]
  },
  {
   "cell_type": "code",
   "execution_count": 11,
   "id": "2bb2afd0-75a3-456f-8347-aa864f0f17d1",
   "metadata": {},
   "outputs": [
    {
     "ename": "TypeError",
     "evalue": "unsupported operand type(s) for +: 'int' and 'str'",
     "output_type": "error",
     "traceback": [
      "\u001b[1;31m---------------------------------------------------------------------------\u001b[0m",
      "\u001b[1;31mTypeError\u001b[0m                                 Traceback (most recent call last)",
      "Cell \u001b[1;32mIn[11], line 3\u001b[0m\n\u001b[0;32m      1\u001b[0m a\u001b[38;5;241m=\u001b[39m\u001b[38;5;241m10\u001b[39m\n\u001b[0;32m      2\u001b[0m b\u001b[38;5;241m=\u001b[39m\u001b[38;5;124m\"\u001b[39m\u001b[38;5;124mHello\u001b[39m\u001b[38;5;124m\"\u001b[39m\n\u001b[1;32m----> 3\u001b[0m a\u001b[38;5;241m+\u001b[39mb\n",
      "\u001b[1;31mTypeError\u001b[0m: unsupported operand type(s) for +: 'int' and 'str'"
     ]
    }
   ],
   "source": [
    "a=10\n",
    "b=\"Hello\"\n",
    "a+b"
   ]
  },
  {
   "cell_type": "code",
   "execution_count": 14,
   "id": "5433181c-c103-449e-ba61-cdf57b36961e",
   "metadata": {},
   "outputs": [
    {
     "data": {
      "text/plain": [
       "('20hello', '20', 'hello')"
      ]
     },
     "execution_count": 14,
     "metadata": {},
     "output_type": "execute_result"
    }
   ],
   "source": [
    "a='20'\n",
    "b='hello'\n",
    "a+b ,a,b"
   ]
  },
  {
   "cell_type": "markdown",
   "id": "59771c01-ec74-4d7a-a8d6-1a071c9d292e",
   "metadata": {},
   "source": [
    "# SUBTRACTION"
   ]
  },
  {
   "cell_type": "code",
   "execution_count": 15,
   "id": "5e7c4138-02de-4731-bb2c-3e9cca18635a",
   "metadata": {},
   "outputs": [
    {
     "data": {
      "text/plain": [
       "-5"
      ]
     },
     "execution_count": 15,
     "metadata": {},
     "output_type": "execute_result"
    }
   ],
   "source": [
    "a = 25\n",
    "b = 30\n",
    "a-b"
   ]
  },
  {
   "cell_type": "code",
   "execution_count": 16,
   "id": "cfa31f49-cc10-45bd-80e9-923c6844d9e9",
   "metadata": {},
   "outputs": [
    {
     "data": {
      "text/plain": [
       "1"
      ]
     },
     "execution_count": 16,
     "metadata": {},
     "output_type": "execute_result"
    }
   ],
   "source": [
    "x = True\n",
    "y = False\n",
    "x-y"
   ]
  },
  {
   "cell_type": "code",
   "execution_count": 17,
   "id": "3f577956-f3b7-4826-9d6d-3e0ac476e4ad",
   "metadata": {},
   "outputs": [
    {
     "data": {
      "text/plain": [
       "(10+45j)"
      ]
     },
     "execution_count": 17,
     "metadata": {},
     "output_type": "execute_result"
    }
   ],
   "source": [
    "x = 20 + 50j\n",
    "y = 10 + 5j\n",
    "x-y"
   ]
  },
  {
   "cell_type": "markdown",
   "id": "11b17390-dfc4-4e50-a2b1-9cf1cd478bc9",
   "metadata": {},
   "source": [
    "# MULTIPLICATION"
   ]
  },
  {
   "cell_type": "code",
   "execution_count": 18,
   "id": "8c403158-8af2-4587-9096-0e3c89c35fde",
   "metadata": {},
   "outputs": [
    {
     "data": {
      "text/plain": [
       "600"
      ]
     },
     "execution_count": 18,
     "metadata": {},
     "output_type": "execute_result"
    }
   ],
   "source": [
    "a = 20\n",
    "b = 30\n",
    "a*b"
   ]
  },
  {
   "cell_type": "code",
   "execution_count": 19,
   "id": "92a78404-8d60-4726-87b5-c95b1b7ca5c8",
   "metadata": {},
   "outputs": [
    {
     "data": {
      "text/plain": [
       "29.25"
      ]
     },
     "execution_count": 19,
     "metadata": {},
     "output_type": "execute_result"
    }
   ],
   "source": [
    "a = 4.5\n",
    "b = 6.5\n",
    "a*b"
   ]
  },
  {
   "cell_type": "code",
   "execution_count": 20,
   "id": "271b2214-4b5c-4c5f-8334-8c9855158d79",
   "metadata": {},
   "outputs": [
    {
     "data": {
      "text/plain": [
       "(104+0j)"
      ]
     },
     "execution_count": 20,
     "metadata": {},
     "output_type": "execute_result"
    }
   ],
   "source": [
    "a = 2 + 10j\n",
    "b = 2 - 10j\n",
    "a*b"
   ]
  },
  {
   "cell_type": "code",
   "execution_count": 21,
   "id": "fdeceb94-9fb1-49d3-a747-39f67ddd0b4e",
   "metadata": {},
   "outputs": [
    {
     "ename": "TypeError",
     "evalue": "can't multiply sequence by non-int of type 'str'",
     "output_type": "error",
     "traceback": [
      "\u001b[1;31m---------------------------------------------------------------------------\u001b[0m",
      "\u001b[1;31mTypeError\u001b[0m                                 Traceback (most recent call last)",
      "Cell \u001b[1;32mIn[21], line 3\u001b[0m\n\u001b[0;32m      1\u001b[0m q \u001b[38;5;241m=\u001b[39m \u001b[38;5;124m'\u001b[39m\u001b[38;5;124mhello\u001b[39m\u001b[38;5;124m'\u001b[39m\n\u001b[0;32m      2\u001b[0m r \u001b[38;5;241m=\u001b[39m \u001b[38;5;124m'\u001b[39m\u001b[38;5;124mworld\u001b[39m\u001b[38;5;124m'\u001b[39m\n\u001b[1;32m----> 3\u001b[0m q\u001b[38;5;241m*\u001b[39mr\n",
      "\u001b[1;31mTypeError\u001b[0m: can't multiply sequence by non-int of type 'str'"
     ]
    }
   ],
   "source": [
    "q = 'hello'\n",
    "r = 'world'\n",
    "q*r"
   ]
  },
  {
   "cell_type": "markdown",
   "id": "83ac41b7-de12-4592-9874-586b40b8cc05",
   "metadata": {},
   "source": [
    "# REPETITION"
   ]
  },
  {
   "cell_type": "markdown",
   "id": "3b5e9432-4712-4bf5-83a7-a79d98cf6ca6",
   "metadata": {},
   "source": [
    "#### STRING"
   ]
  },
  {
   "cell_type": "code",
   "execution_count": 24,
   "id": "5b1e8f19-f3c2-4450-9da6-41ce289f0e48",
   "metadata": {},
   "outputs": [
    {
     "data": {
      "text/plain": [
       "'hello hello hello hello hello hello '"
      ]
     },
     "execution_count": 24,
     "metadata": {},
     "output_type": "execute_result"
    }
   ],
   "source": [
    "q = 'hello '\n",
    "r = 6\n",
    "q * r"
   ]
  },
  {
   "cell_type": "markdown",
   "id": "de45977f-d047-435e-8415-713c6cf454c3",
   "metadata": {},
   "source": [
    "#### STRING WITH FLOAT"
   ]
  },
  {
   "cell_type": "code",
   "execution_count": 25,
   "id": "ab9eef24-5cff-4197-9aa3-6ba719b37847",
   "metadata": {},
   "outputs": [
    {
     "ename": "TypeError",
     "evalue": "can't multiply sequence by non-int of type 'float'",
     "output_type": "error",
     "traceback": [
      "\u001b[1;31m---------------------------------------------------------------------------\u001b[0m",
      "\u001b[1;31mTypeError\u001b[0m                                 Traceback (most recent call last)",
      "Cell \u001b[1;32mIn[25], line 3\u001b[0m\n\u001b[0;32m      1\u001b[0m q \u001b[38;5;241m=\u001b[39m \u001b[38;5;124m'\u001b[39m\u001b[38;5;124mHello\u001b[39m\u001b[38;5;124m'\u001b[39m\n\u001b[0;32m      2\u001b[0m r \u001b[38;5;241m=\u001b[39m  \u001b[38;5;241m4.5\u001b[39m\n\u001b[1;32m----> 3\u001b[0m q\u001b[38;5;241m*\u001b[39mr\n",
      "\u001b[1;31mTypeError\u001b[0m: can't multiply sequence by non-int of type 'float'"
     ]
    }
   ],
   "source": [
    "q = 'Hello'\n",
    "r =  4.5\n",
    "q*r"
   ]
  },
  {
   "cell_type": "markdown",
   "id": "c108b193-e2a5-42b3-a640-4ae8f9bdf6d3",
   "metadata": {},
   "source": [
    "#### STRING WITH BOOLEAN"
   ]
  },
  {
   "cell_type": "code",
   "execution_count": 26,
   "id": "3ed96e06-ebb3-49ee-a6f9-070afd2b56f0",
   "metadata": {},
   "outputs": [
    {
     "data": {
      "text/plain": [
       "'Hello'"
      ]
     },
     "execution_count": 26,
     "metadata": {},
     "output_type": "execute_result"
    }
   ],
   "source": [
    "n = 'Hello'\n",
    "m = True\n",
    "n*m"
   ]
  },
  {
   "cell_type": "markdown",
   "id": "0658918b-e9bc-4961-ad09-41bbd02ea323",
   "metadata": {},
   "source": [
    "# DIVISION"
   ]
  },
  {
   "cell_type": "markdown",
   "id": "9b8bf68b-5783-4a33-a4fd-05f729d1434e",
   "metadata": {},
   "source": [
    "#### NORMAL DIVISION"
   ]
  },
  {
   "cell_type": "code",
   "execution_count": 27,
   "id": "4768985d-303e-41be-a648-90fca16fbbac",
   "metadata": {},
   "outputs": [
    {
     "data": {
      "text/plain": [
       "1.2"
      ]
     },
     "execution_count": 27,
     "metadata": {},
     "output_type": "execute_result"
    }
   ],
   "source": [
    "n = 6\n",
    "m = 5\n",
    "n / m"
   ]
  },
  {
   "cell_type": "markdown",
   "id": "fe3ad697-dd18-41b6-9073-e4c2baecb7ee",
   "metadata": {},
   "source": [
    "#### FLOOR DIVISION"
   ]
  },
  {
   "cell_type": "code",
   "execution_count": 28,
   "id": "99200e02-954d-4601-b07f-28efcbc98d8b",
   "metadata": {},
   "outputs": [
    {
     "data": {
      "text/plain": [
       "2"
      ]
     },
     "execution_count": 28,
     "metadata": {},
     "output_type": "execute_result"
    }
   ],
   "source": [
    "a = 5\n",
    "b = 2\n",
    "a // b"
   ]
  },
  {
   "cell_type": "markdown",
   "id": "cd5ae3b9-5f09-46e5-9609-b94985326c28",
   "metadata": {},
   "source": [
    "#### MODULO OPERATOR"
   ]
  },
  {
   "cell_type": "code",
   "execution_count": 29,
   "id": "d8e537df-1c6f-4880-98f4-78b2b73deeea",
   "metadata": {},
   "outputs": [
    {
     "data": {
      "text/plain": [
       "1"
      ]
     },
     "execution_count": 29,
     "metadata": {},
     "output_type": "execute_result"
    }
   ],
   "source": [
    "a = 5\n",
    "b = 2\n",
    "a % b"
   ]
  },
  {
   "cell_type": "markdown",
   "id": "86a4337d-040b-4b23-a8c5-38d97f687df1",
   "metadata": {},
   "source": [
    "#### POWER OPERATOR(EXPONENT)"
   ]
  },
  {
   "cell_type": "code",
   "execution_count": 30,
   "id": "f4f3a462-8595-414a-be22-55994f2358a3",
   "metadata": {},
   "outputs": [
    {
     "data": {
      "text/plain": [
       "1000"
      ]
     },
     "execution_count": 30,
     "metadata": {},
     "output_type": "execute_result"
    }
   ],
   "source": [
    "10 ** 3"
   ]
  },
  {
   "cell_type": "code",
   "execution_count": 31,
   "id": "19fc272c-4893-4fd0-9f6e-118f35896bd6",
   "metadata": {},
   "outputs": [
    {
     "data": {
      "text/plain": [
       "16"
      ]
     },
     "execution_count": 31,
     "metadata": {},
     "output_type": "execute_result"
    }
   ],
   "source": [
    "4 ** 2"
   ]
  },
  {
   "cell_type": "code",
   "execution_count": 33,
   "id": "a4cae604-3c09-4c77-89de-828ed1922587",
   "metadata": {},
   "outputs": [
    {
     "data": {
      "text/plain": [
       "5.0"
      ]
     },
     "execution_count": 33,
     "metadata": {},
     "output_type": "execute_result"
    }
   ],
   "source": [
    "25 ** (1/2)"
   ]
  },
  {
   "cell_type": "code",
   "execution_count": 34,
   "id": "797264af-3502-4661-a4e2-5db35d3553a6",
   "metadata": {},
   "outputs": [
    {
     "data": {
      "text/plain": [
       "5.0"
      ]
     },
     "execution_count": 34,
     "metadata": {},
     "output_type": "execute_result"
    }
   ],
   "source": [
    "25 ** 0.5"
   ]
  },
  {
   "cell_type": "markdown",
   "id": "0075ce8e-0113-46d5-a32f-fe6e549d4c9a",
   "metadata": {},
   "source": [
    "# RELATIONAL OPERATORS(COMPARATIVE OPERATORS)"
   ]
  },
  {
   "cell_type": "code",
   "execution_count": 1,
   "id": "33c4e3d2-83c0-4cf1-abd3-141468ce3b84",
   "metadata": {},
   "outputs": [
    {
     "data": {
      "text/plain": [
       "False"
      ]
     },
     "execution_count": 1,
     "metadata": {},
     "output_type": "execute_result"
    }
   ],
   "source": [
    "10>20"
   ]
  },
  {
   "cell_type": "code",
   "execution_count": 2,
   "id": "99c2d9ba-6987-44f1-a1fc-28aaf08a2077",
   "metadata": {},
   "outputs": [
    {
     "data": {
      "text/plain": [
       "True"
      ]
     },
     "execution_count": 2,
     "metadata": {},
     "output_type": "execute_result"
    }
   ],
   "source": [
    "20<100"
   ]
  },
  {
   "cell_type": "code",
   "execution_count": 3,
   "id": "26fefeee-6342-48e7-9ce1-ad723659fcaa",
   "metadata": {},
   "outputs": [
    {
     "data": {
      "text/plain": [
       "False"
      ]
     },
     "execution_count": 3,
     "metadata": {},
     "output_type": "execute_result"
    }
   ],
   "source": [
    "10==20"
   ]
  },
  {
   "cell_type": "code",
   "execution_count": 4,
   "id": "27e2f4d0-7437-47e1-9318-cda3dc44ddb7",
   "metadata": {},
   "outputs": [
    {
     "data": {
      "text/plain": [
       "False"
      ]
     },
     "execution_count": 4,
     "metadata": {},
     "output_type": "execute_result"
    }
   ],
   "source": [
    "20!=20"
   ]
  },
  {
   "cell_type": "code",
   "execution_count": 5,
   "id": "a41655ac-794b-40ea-9cbe-d6e2d52c91e0",
   "metadata": {},
   "outputs": [
    {
     "data": {
      "text/plain": [
       "False"
      ]
     },
     "execution_count": 5,
     "metadata": {},
     "output_type": "execute_result"
    }
   ],
   "source": [
    "10>=20"
   ]
  },
  {
   "cell_type": "code",
   "execution_count": 6,
   "id": "e4a1bc49-20de-4353-9fc1-0d954422c2ea",
   "metadata": {},
   "outputs": [
    {
     "data": {
      "text/plain": [
       "True"
      ]
     },
     "execution_count": 6,
     "metadata": {},
     "output_type": "execute_result"
    }
   ],
   "source": [
    "10>=10"
   ]
  },
  {
   "cell_type": "code",
   "execution_count": 7,
   "id": "44ea629b-2ca1-4555-9b43-c8c94815a0ec",
   "metadata": {},
   "outputs": [
    {
     "data": {
      "text/plain": [
       "True"
      ]
     },
     "execution_count": 7,
     "metadata": {},
     "output_type": "execute_result"
    }
   ],
   "source": [
    "10<=10"
   ]
  },
  {
   "cell_type": "code",
   "execution_count": 8,
   "id": "8afcb09c-8217-4d2a-adf6-521c3d62e9fd",
   "metadata": {},
   "outputs": [
    {
     "data": {
      "text/plain": [
       "True"
      ]
     },
     "execution_count": 8,
     "metadata": {},
     "output_type": "execute_result"
    }
   ],
   "source": [
    "10.3>10"
   ]
  },
  {
   "cell_type": "code",
   "execution_count": 9,
   "id": "5ee68932-2477-47c5-a9e8-a2b345c14ae1",
   "metadata": {},
   "outputs": [
    {
     "data": {
      "text/plain": [
       "True"
      ]
     },
     "execution_count": 9,
     "metadata": {},
     "output_type": "execute_result"
    }
   ],
   "source": [
    "10.5>6"
   ]
  },
  {
   "cell_type": "code",
   "execution_count": 10,
   "id": "887b55be-cd0a-441f-92fd-46ba756e94cc",
   "metadata": {},
   "outputs": [
    {
     "ename": "TypeError",
     "evalue": "'>' not supported between instances of 'complex' and 'int'",
     "output_type": "error",
     "traceback": [
      "\u001b[1;31m---------------------------------------------------------------------------\u001b[0m",
      "\u001b[1;31mTypeError\u001b[0m                                 Traceback (most recent call last)",
      "Cell \u001b[1;32mIn[10], line 1\u001b[0m\n\u001b[1;32m----> 1\u001b[0m (\u001b[38;5;241m1\u001b[39m\u001b[38;5;241m+\u001b[39m\u001b[38;5;241m5\u001b[39mj)\u001b[38;5;241m>\u001b[39m\u001b[38;5;241m2\u001b[39m\n",
      "\u001b[1;31mTypeError\u001b[0m: '>' not supported between instances of 'complex' and 'int'"
     ]
    }
   ],
   "source": [
    "(1+5j)>2    //doesnt work for complex"
   ]
  },
  {
   "cell_type": "code",
   "execution_count": 11,
   "id": "a7918541-e84f-43aa-b99a-ac6c93ea6b27",
   "metadata": {},
   "outputs": [
    {
     "data": {
      "text/plain": [
       "False"
      ]
     },
     "execution_count": 11,
     "metadata": {},
     "output_type": "execute_result"
    }
   ],
   "source": [
    "name = 'hello'\n",
    "name2 = 'hi'\n",
    "name > name2"
   ]
  },
  {
   "cell_type": "markdown",
   "id": "8c132129-f350-46ed-825b-6c5b6e584a5b",
   "metadata": {},
   "source": [
    "#### ASCII VALUES"
   ]
  },
  {
   "cell_type": "code",
   "execution_count": 12,
   "id": "d1ec63a2-43ea-4d5d-b092-00ce8a4d65ce",
   "metadata": {},
   "outputs": [
    {
     "data": {
      "text/plain": [
       "105"
      ]
     },
     "execution_count": 12,
     "metadata": {},
     "output_type": "execute_result"
    }
   ],
   "source": [
    "ord('i')"
   ]
  },
  {
   "cell_type": "code",
   "execution_count": 13,
   "id": "a6f4af23-d839-4b12-972f-391239142040",
   "metadata": {},
   "outputs": [
    {
     "data": {
      "text/plain": [
       "97"
      ]
     },
     "execution_count": 13,
     "metadata": {},
     "output_type": "execute_result"
    }
   ],
   "source": [
    "ord('a')"
   ]
  },
  {
   "cell_type": "code",
   "execution_count": 14,
   "id": "d4ae6dec-c4ed-4cc2-b184-daef27e2e965",
   "metadata": {},
   "outputs": [
    {
     "data": {
      "text/plain": [
       "65"
      ]
     },
     "execution_count": 14,
     "metadata": {},
     "output_type": "execute_result"
    }
   ],
   "source": [
    "ord('A')"
   ]
  },
  {
   "cell_type": "code",
   "execution_count": 15,
   "id": "1109147e-6fe7-45ee-9658-ada11e53a8cb",
   "metadata": {},
   "outputs": [
    {
     "data": {
      "text/plain": [
       "73"
      ]
     },
     "execution_count": 15,
     "metadata": {},
     "output_type": "execute_result"
    }
   ],
   "source": [
    "ord('I')"
   ]
  },
  {
   "cell_type": "code",
   "execution_count": 16,
   "id": "9aa18e25-fd3f-4979-baaf-ad843fca24f1",
   "metadata": {},
   "outputs": [
    {
     "data": {
      "text/plain": [
       "64"
      ]
     },
     "execution_count": 16,
     "metadata": {},
     "output_type": "execute_result"
    }
   ],
   "source": [
    "ord('@')"
   ]
  },
  {
   "cell_type": "code",
   "execution_count": 17,
   "id": "942863f5-2c32-4a9d-bc1d-09dba6a496d2",
   "metadata": {},
   "outputs": [
    {
     "data": {
      "text/plain": [
       "49"
      ]
     },
     "execution_count": 17,
     "metadata": {},
     "output_type": "execute_result"
    }
   ],
   "source": [
    "ord(\"1\")"
   ]
  },
  {
   "cell_type": "code",
   "execution_count": 18,
   "id": "3a2cd42e-1cdd-442f-954f-4ad7b5dfd757",
   "metadata": {},
   "outputs": [
    {
     "data": {
      "text/plain": [
       "False"
      ]
     },
     "execution_count": 18,
     "metadata": {},
     "output_type": "execute_result"
    }
   ],
   "source": [
    "x = 'hello'\n",
    "y = 'hello '\n",
    "x == y"
   ]
  },
  {
   "cell_type": "markdown",
   "id": "daf64882-62b1-4ad7-aecf-f46e9583cfa1",
   "metadata": {},
   "source": [
    "### Miscelleneous functions"
   ]
  },
  {
   "cell_type": "markdown",
   "id": "a434f37c-2f7e-484e-8bd9-3434e84399ba",
   "metadata": {},
   "source": [
    "1 . *print()---to show the output\n",
    "2.  *ord()---  to get ascii value\n",
    "3.  *len()---  to find the no of values present in sequence/iterable/collection(not for numerical)\n",
    "4.  *id()---returns memory address of the value\n",
    "5.  *input()---asks user to enter input(user input)"
   ]
  },
  {
   "cell_type": "code",
   "execution_count": 19,
   "id": "044077be-e692-470b-bc9b-1c873e712824",
   "metadata": {},
   "outputs": [
    {
     "data": {
      "text/plain": [
       "11"
      ]
     },
     "execution_count": 19,
     "metadata": {},
     "output_type": "execute_result"
    }
   ],
   "source": [
    "name = 'Hello World'\n",
    "len(name)"
   ]
  },
  {
   "cell_type": "code",
   "execution_count": 20,
   "id": "7e048592-2e17-4763-967e-90134194f909",
   "metadata": {},
   "outputs": [
    {
     "data": {
      "text/plain": [
       "7"
      ]
     },
     "execution_count": 20,
     "metadata": {},
     "output_type": "execute_result"
    }
   ],
   "source": [
    "n = 'Jahnavi'\n",
    "len(n)"
   ]
  },
  {
   "cell_type": "code",
   "execution_count": 21,
   "id": "7fba924a-5fb1-4acd-bb03-3cab799d9242",
   "metadata": {},
   "outputs": [
    {
     "data": {
      "text/plain": [
       "4"
      ]
     },
     "execution_count": 21,
     "metadata": {},
     "output_type": "execute_result"
    }
   ],
   "source": [
    "n = [10,20,40,50]\n",
    "len(n)"
   ]
  },
  {
   "cell_type": "code",
   "execution_count": 22,
   "id": "81ccd417-932a-4cee-a79a-6567fd069ec9",
   "metadata": {},
   "outputs": [
    {
     "ename": "TypeError",
     "evalue": "object of type 'int' has no len()",
     "output_type": "error",
     "traceback": [
      "\u001b[1;31m---------------------------------------------------------------------------\u001b[0m",
      "\u001b[1;31mTypeError\u001b[0m                                 Traceback (most recent call last)",
      "Cell \u001b[1;32mIn[22], line 1\u001b[0m\n\u001b[1;32m----> 1\u001b[0m \u001b[38;5;28mlen\u001b[39m(\u001b[38;5;241m234\u001b[39m)\n",
      "\u001b[1;31mTypeError\u001b[0m: object of type 'int' has no len()"
     ]
    }
   ],
   "source": [
    "len(234)"
   ]
  },
  {
   "cell_type": "code",
   "execution_count": 23,
   "id": "3efc85e7-e84c-4d21-b202-cbf6e74f9c18",
   "metadata": {},
   "outputs": [
    {
     "ename": "TypeError",
     "evalue": "object of type 'float' has no len()",
     "output_type": "error",
     "traceback": [
      "\u001b[1;31m---------------------------------------------------------------------------\u001b[0m",
      "\u001b[1;31mTypeError\u001b[0m                                 Traceback (most recent call last)",
      "Cell \u001b[1;32mIn[23], line 1\u001b[0m\n\u001b[1;32m----> 1\u001b[0m \u001b[38;5;28mlen\u001b[39m(\u001b[38;5;241m12.5\u001b[39m)\n",
      "\u001b[1;31mTypeError\u001b[0m: object of type 'float' has no len()"
     ]
    }
   ],
   "source": [
    "len(12.5)"
   ]
  },
  {
   "cell_type": "code",
   "execution_count": 24,
   "id": "698710f0-a04c-4a48-96ce-b5d6fd6d85e3",
   "metadata": {},
   "outputs": [
    {
     "data": {
      "text/plain": [
       "140729089114984"
      ]
     },
     "execution_count": 24,
     "metadata": {},
     "output_type": "execute_result"
    }
   ],
   "source": [
    "n = 3\n",
    "id(n)"
   ]
  },
  {
   "cell_type": "code",
   "execution_count": 25,
   "id": "733b121e-fa0f-49b5-901f-877866952e61",
   "metadata": {},
   "outputs": [
    {
     "data": {
      "text/plain": [
       "2523696228976"
      ]
     },
     "execution_count": 25,
     "metadata": {},
     "output_type": "execute_result"
    }
   ],
   "source": [
    "n = 'Hello'\n",
    "id(n)"
   ]
  },
  {
   "cell_type": "code",
   "execution_count": 26,
   "id": "2e78ecfb-fffc-4ad1-9c83-8adc0b44eba6",
   "metadata": {},
   "outputs": [
    {
     "data": {
      "text/plain": [
       "'0x7ffe0b5dc368'"
      ]
     },
     "execution_count": 26,
     "metadata": {},
     "output_type": "execute_result"
    }
   ],
   "source": [
    "n = 3\n",
    "hex(id(n))"
   ]
  },
  {
   "cell_type": "code",
   "execution_count": 2,
   "id": "2d67467b-d816-46c0-8679-750bd8b1be79",
   "metadata": {},
   "outputs": [
    {
     "name": "stdin",
     "output_type": "stream",
     "text": [
      " 6\n"
     ]
    },
    {
     "data": {
      "text/plain": [
       "'6'"
      ]
     },
     "execution_count": 2,
     "metadata": {},
     "output_type": "execute_result"
    }
   ],
   "source": [
    "input()"
   ]
  },
  {
   "cell_type": "code",
   "execution_count": 3,
   "id": "9711fb50-89b8-4119-9b12-f4fd3dc6d583",
   "metadata": {},
   "outputs": [
    {
     "name": "stdin",
     "output_type": "stream",
     "text": [
      "Enter your name::  Jahnavi\n"
     ]
    },
    {
     "name": "stdout",
     "output_type": "stream",
     "text": [
      "Jahnavi\n"
     ]
    }
   ],
   "source": [
    "name = input(\"Enter your name:: \")\n",
    "print(name)"
   ]
  },
  {
   "cell_type": "code",
   "execution_count": 5,
   "id": "c4d1785a-76e0-4847-b087-318e970350e2",
   "metadata": {},
   "outputs": [
    {
     "name": "stdin",
     "output_type": "stream",
     "text": [
      "Enter your name::  5\n"
     ]
    },
    {
     "name": "stdout",
     "output_type": "stream",
     "text": [
      "5\n"
     ]
    }
   ],
   "source": [
    "name = int(input(\"Enter your name:: \"))\n",
    "print(name)"
   ]
  },
  {
   "cell_type": "code",
   "execution_count": 7,
   "id": "d2eeb6ff-6cf5-4aca-9caa-b339c11e3bca",
   "metadata": {},
   "outputs": [
    {
     "name": "stdin",
     "output_type": "stream",
     "text": [
      "Enter your first name::  Jahnavi\n",
      "Enter your last name::   Mandava\n"
     ]
    },
    {
     "name": "stdout",
     "output_type": "stream",
     "text": [
      "Jahnavi  Mandava\n"
     ]
    }
   ],
   "source": [
    "First_name = input(\"Enter your first name:: \")\n",
    "last_name = input(\"Enter your last name:: \")\n",
    "print(First_name + ' ' + last_name)"
   ]
  },
  {
   "cell_type": "code",
   "execution_count": 8,
   "id": "2869dee5-9998-4c9c-95b1-fd27263bc5a2",
   "metadata": {},
   "outputs": [
    {
     "name": "stdin",
     "output_type": "stream",
     "text": [
      "Enter your first name::  sivasankar upputholla\n"
     ]
    },
    {
     "name": "stdout",
     "output_type": "stream",
     "text": [
      "['sivasankar', 'upputholla']\n"
     ]
    }
   ],
   "source": [
    "First_name = input(\"Enter your first name:: \").split()\n",
    "print(First_name)"
   ]
  },
  {
   "cell_type": "code",
   "execution_count": 10,
   "id": "0dc935cf-8198-4448-8b49-58c515c803ab",
   "metadata": {},
   "outputs": [
    {
     "name": "stdin",
     "output_type": "stream",
     "text": [
      "Enter your last name::  uppu, mama\n"
     ]
    },
    {
     "name": "stdout",
     "output_type": "stream",
     "text": [
      "['uppu', ' mama']\n"
     ]
    }
   ],
   "source": [
    "Last_name = input(\"Enter your last name:: \").split(',')\n",
    "print(Last_name)"
   ]
  },
  {
   "cell_type": "code",
   "execution_count": 11,
   "id": "54bca949-48f3-4605-b855-df0a566425bc",
   "metadata": {},
   "outputs": [
    {
     "data": {
      "text/plain": [
       "'he'"
      ]
     },
     "execution_count": 11,
     "metadata": {},
     "output_type": "execute_result"
    }
   ],
   "source": [
    "name = 'hello'\n",
    "name[:2]"
   ]
  },
  {
   "cell_type": "markdown",
   "id": "617c975d-2862-4c84-987e-09bedef11867",
   "metadata": {},
   "source": [
    "# LOGICAL OPERATOR"
   ]
  },
  {
   "cell_type": "markdown",
   "id": "12bcc45d-a606-4a94-9f85-f40d4dd78c02",
   "metadata": {},
   "source": [
    "## AND"
   ]
  },
  {
   "cell_type": "code",
   "execution_count": 1,
   "id": "43c83bb4-8c52-4747-bcd8-fac8ce62c56c",
   "metadata": {},
   "outputs": [
    {
     "data": {
      "text/plain": [
       "True"
      ]
     },
     "execution_count": 1,
     "metadata": {},
     "output_type": "execute_result"
    }
   ],
   "source": [
    "a = 10\n",
    "b = 5\n",
    "(a>b) and (a>=b)\n"
   ]
  },
  {
   "cell_type": "code",
   "execution_count": 2,
   "id": "54a32632-4f4b-4388-8e4c-2e5288eea5fa",
   "metadata": {},
   "outputs": [
    {
     "data": {
      "text/plain": [
       "True"
      ]
     },
     "execution_count": 2,
     "metadata": {},
     "output_type": "execute_result"
    }
   ],
   "source": [
    "True and True and True and True"
   ]
  },
  {
   "cell_type": "code",
   "execution_count": 3,
   "id": "ee2b51c9-42b9-4f7d-b940-5c6accc4b99a",
   "metadata": {},
   "outputs": [
    {
     "data": {
      "text/plain": [
       "False"
      ]
     },
     "execution_count": 3,
     "metadata": {},
     "output_type": "execute_result"
    }
   ],
   "source": [
    "True and True and True and False"
   ]
  },
  {
   "cell_type": "code",
   "execution_count": 5,
   "id": "6a4d8904-55ff-4f8c-b1f0-8e7e7b165deb",
   "metadata": {},
   "outputs": [
    {
     "data": {
      "text/plain": [
       "True"
      ]
     },
     "execution_count": 5,
     "metadata": {},
     "output_type": "execute_result"
    }
   ],
   "source": [
    "name = 'hello'\n",
    "name2 = 'bye'\n",
    "\n",
    "(len(name)>len(name2)) and (name > name2)"
   ]
  },
  {
   "cell_type": "code",
   "execution_count": 6,
   "id": "9de6eeaf-2e25-454b-ab87-659b44e4871e",
   "metadata": {},
   "outputs": [
    {
     "data": {
      "text/plain": [
       "False"
      ]
     },
     "execution_count": 6,
     "metadata": {},
     "output_type": "execute_result"
    }
   ],
   "source": [
    "a = 10.00001\n",
    "b = 10\n",
    "\n",
    "(a==b) and (a>b)"
   ]
  },
  {
   "cell_type": "markdown",
   "id": "60992bfd-82ed-4694-bb50-8914d9f7638e",
   "metadata": {},
   "source": [
    "#### **If all are true then only true for AND operator**"
   ]
  },
  {
   "cell_type": "code",
   "execution_count": 7,
   "id": "ef83f3b5-2714-4dd0-b96f-0834aab93e92",
   "metadata": {},
   "outputs": [
    {
     "data": {
      "text/plain": [
       "True"
      ]
     },
     "execution_count": 7,
     "metadata": {},
     "output_type": "execute_result"
    }
   ],
   "source": [
    "a = 10\n",
    "b = 20\n",
    "c = 30\n",
    "\n",
    "a<b and b<c and c>a"
   ]
  },
  {
   "cell_type": "code",
   "execution_count": 8,
   "id": "3ff1c3ad-4948-4d1c-80af-4863f1a394b7",
   "metadata": {},
   "outputs": [
    {
     "data": {
      "text/plain": [
       "15"
      ]
     },
     "execution_count": 8,
     "metadata": {},
     "output_type": "execute_result"
    }
   ],
   "source": [
    "10 and 15"
   ]
  },
  {
   "cell_type": "code",
   "execution_count": 9,
   "id": "663c2c78-ec4b-4d92-a23b-5bc6288b2663",
   "metadata": {},
   "outputs": [
    {
     "data": {
      "text/plain": [
       "30"
      ]
     },
     "execution_count": 9,
     "metadata": {},
     "output_type": "execute_result"
    }
   ],
   "source": [
    "10 and 20 and 30"
   ]
  },
  {
   "cell_type": "code",
   "execution_count": 10,
   "id": "630f30e5-0ce2-4462-9715-f95d4328c48d",
   "metadata": {},
   "outputs": [],
   "source": [
    "is_sunny = True\n",
    "is_warm = True"
   ]
  },
  {
   "cell_type": "code",
   "execution_count": 11,
   "id": "86e06974-7204-4b66-8e90-c911ae3b0983",
   "metadata": {},
   "outputs": [
    {
     "data": {
      "text/plain": [
       "True"
      ]
     },
     "execution_count": 11,
     "metadata": {},
     "output_type": "execute_result"
    }
   ],
   "source": [
    "is_sunny and is_warm"
   ]
  },
  {
   "cell_type": "markdown",
   "id": "ea79cc45-5e51-450a-938e-fd6dcfe5fdc2",
   "metadata": {},
   "source": [
    "## OR"
   ]
  },
  {
   "cell_type": "code",
   "execution_count": 14,
   "id": "ffe0cdb5-5934-4532-97ca-677f1030742d",
   "metadata": {},
   "outputs": [
    {
     "data": {
      "text/plain": [
       "True"
      ]
     },
     "execution_count": 14,
     "metadata": {},
     "output_type": "execute_result"
    }
   ],
   "source": [
    "is_sunny or is_warm"
   ]
  },
  {
   "cell_type": "markdown",
   "id": "0a9c7e62-5f8c-4ff8-a04c-5232f546f274",
   "metadata": {},
   "source": [
    "### if all are false,output is false otherwise true"
   ]
  },
  {
   "cell_type": "code",
   "execution_count": 15,
   "id": "4ee8c893-9716-47b6-833b-0937a7f2e5c3",
   "metadata": {},
   "outputs": [
    {
     "data": {
      "text/plain": [
       "False"
      ]
     },
     "execution_count": 15,
     "metadata": {},
     "output_type": "execute_result"
    }
   ],
   "source": [
    "a = 10\n",
    "b = 15\n",
    "\n",
    "a>b or b<a"
   ]
  },
  {
   "cell_type": "code",
   "execution_count": 16,
   "id": "baf820e9-e363-48a4-97f7-277b25472444",
   "metadata": {},
   "outputs": [
    {
     "data": {
      "text/plain": [
       "True"
      ]
     },
     "execution_count": 16,
     "metadata": {},
     "output_type": "execute_result"
    }
   ],
   "source": [
    "a = 10\n",
    "b = 15\n",
    "\n",
    "a>b or b>a"
   ]
  },
  {
   "cell_type": "code",
   "execution_count": 17,
   "id": "38643d9e-489c-4d9b-bd57-2daaee4a658d",
   "metadata": {},
   "outputs": [
    {
     "data": {
      "text/plain": [
       "True"
      ]
     },
     "execution_count": 17,
     "metadata": {},
     "output_type": "execute_result"
    }
   ],
   "source": [
    "a = 20.5\n",
    "b = 20\n",
    "c =19\n",
    "\n",
    "a>b or a<b or c>=a or b>c"
   ]
  },
  {
   "cell_type": "code",
   "execution_count": 18,
   "id": "f9829e10-8911-4336-a781-879cd200e980",
   "metadata": {},
   "outputs": [
    {
     "data": {
      "text/plain": [
       "10"
      ]
     },
     "execution_count": 18,
     "metadata": {},
     "output_type": "execute_result"
    }
   ],
   "source": [
    "10 or 20"
   ]
  },
  {
   "cell_type": "code",
   "execution_count": 19,
   "id": "ef02934b-5535-457a-9b2c-99c94eca41e9",
   "metadata": {},
   "outputs": [
    {
     "data": {
      "text/plain": [
       "10"
      ]
     },
     "execution_count": 19,
     "metadata": {},
     "output_type": "execute_result"
    }
   ],
   "source": [
    "10 or 20 or 35 or 45 or 55 or 65"
   ]
  },
  {
   "cell_type": "markdown",
   "id": "58c65d3c-ec12-4bf7-8a76-fde2afb8f3ce",
   "metadata": {},
   "source": [
    "#### NOT"
   ]
  },
  {
   "cell_type": "code",
   "execution_count": 21,
   "id": "20a5cf0f-41e7-47d8-9507-432ab5414259",
   "metadata": {},
   "outputs": [
    {
     "data": {
      "text/plain": [
       "False"
      ]
     },
     "execution_count": 21,
     "metadata": {},
     "output_type": "execute_result"
    }
   ],
   "source": [
    "not True"
   ]
  },
  {
   "cell_type": "code",
   "execution_count": 22,
   "id": "297ad0a1-a642-4ad3-8655-8339f66b8b25",
   "metadata": {},
   "outputs": [
    {
     "data": {
      "text/plain": [
       "True"
      ]
     },
     "execution_count": 22,
     "metadata": {},
     "output_type": "execute_result"
    }
   ],
   "source": [
    "not False"
   ]
  },
  {
   "cell_type": "code",
   "execution_count": 23,
   "id": "1930be06-1c32-40e3-8abe-eb98d146f4ee",
   "metadata": {},
   "outputs": [
    {
     "data": {
      "text/plain": [
       "False"
      ]
     },
     "execution_count": 23,
     "metadata": {},
     "output_type": "execute_result"
    }
   ],
   "source": [
    "bool(0)"
   ]
  },
  {
   "cell_type": "code",
   "execution_count": 24,
   "id": "4270c5fc-f2ca-4c92-8fac-92ee5f443dbc",
   "metadata": {},
   "outputs": [
    {
     "data": {
      "text/plain": [
       "True"
      ]
     },
     "execution_count": 24,
     "metadata": {},
     "output_type": "execute_result"
    }
   ],
   "source": [
    "bool(1.0)"
   ]
  },
  {
   "cell_type": "code",
   "execution_count": 25,
   "id": "b8885b3c-b856-44e9-b95e-1312e1b548e9",
   "metadata": {},
   "outputs": [
    {
     "data": {
      "text/plain": [
       "False"
      ]
     },
     "execution_count": 25,
     "metadata": {},
     "output_type": "execute_result"
    }
   ],
   "source": [
    "bool(0.0)"
   ]
  },
  {
   "cell_type": "code",
   "execution_count": 26,
   "id": "86d5cc87-55f6-480e-8025-33a360703b1f",
   "metadata": {},
   "outputs": [
    {
     "data": {
      "text/plain": [
       "False"
      ]
     },
     "execution_count": 26,
     "metadata": {},
     "output_type": "execute_result"
    }
   ],
   "source": [
    "bool('')"
   ]
  },
  {
   "cell_type": "code",
   "execution_count": 27,
   "id": "4253ffde-f45d-418d-be1e-a171715b52e2",
   "metadata": {},
   "outputs": [
    {
     "data": {
      "text/plain": [
       "False"
      ]
     },
     "execution_count": 27,
     "metadata": {},
     "output_type": "execute_result"
    }
   ],
   "source": [
    "bool(0+0j)"
   ]
  },
  {
   "cell_type": "code",
   "execution_count": 28,
   "id": "f28480d0-5b28-4283-b490-b9ca31c56853",
   "metadata": {},
   "outputs": [
    {
     "data": {
      "text/plain": [
       "True"
      ]
     },
     "execution_count": 28,
     "metadata": {},
     "output_type": "execute_result"
    }
   ],
   "source": [
    "bool('hi')"
   ]
  },
  {
   "cell_type": "code",
   "execution_count": 29,
   "id": "8f477216-3872-4afb-97ea-71292ae15113",
   "metadata": {},
   "outputs": [
    {
     "data": {
      "text/plain": [
       "False"
      ]
     },
     "execution_count": 29,
     "metadata": {},
     "output_type": "execute_result"
    }
   ],
   "source": [
    "not 6"
   ]
  },
  {
   "cell_type": "code",
   "execution_count": 30,
   "id": "5a053f06-c5e6-435c-aed4-db2b40a45ab7",
   "metadata": {},
   "outputs": [
    {
     "data": {
      "text/plain": [
       "True"
      ]
     },
     "execution_count": 30,
     "metadata": {},
     "output_type": "execute_result"
    }
   ],
   "source": [
    "not 0"
   ]
  },
  {
   "cell_type": "code",
   "execution_count": 31,
   "id": "d27c5fe0-14ed-4fd4-9e54-5f620d82cec7",
   "metadata": {},
   "outputs": [
    {
     "data": {
      "text/plain": [
       "True"
      ]
     },
     "execution_count": 31,
     "metadata": {},
     "output_type": "execute_result"
    }
   ],
   "source": [
    "not 0.0"
   ]
  },
  {
   "cell_type": "code",
   "execution_count": 32,
   "id": "e8bce176-50c3-4f52-8eb0-58eefe390e65",
   "metadata": {},
   "outputs": [
    {
     "data": {
      "text/plain": [
       "False"
      ]
     },
     "execution_count": 32,
     "metadata": {},
     "output_type": "execute_result"
    }
   ],
   "source": [
    "not 0.000000000001"
   ]
  },
  {
   "cell_type": "code",
   "execution_count": 33,
   "id": "5a6b587e-f959-47d9-9494-0a17377df7b6",
   "metadata": {},
   "outputs": [
    {
     "data": {
      "text/plain": [
       "True"
      ]
     },
     "execution_count": 33,
     "metadata": {},
     "output_type": "execute_result"
    }
   ],
   "source": [
    "not 0.0000000000"
   ]
  },
  {
   "cell_type": "code",
   "execution_count": 34,
   "id": "15dd37ac-0504-454b-bbd2-4bcf02c403bf",
   "metadata": {},
   "outputs": [
    {
     "data": {
      "text/plain": [
       "False"
      ]
     },
     "execution_count": 34,
     "metadata": {},
     "output_type": "execute_result"
    }
   ],
   "source": [
    "not ' '"
   ]
  },
  {
   "cell_type": "code",
   "execution_count": 35,
   "id": "12ab7b60-7bd1-467e-8e3c-fb885c878b14",
   "metadata": {},
   "outputs": [
    {
     "data": {
      "text/plain": [
       "True"
      ]
     },
     "execution_count": 35,
     "metadata": {},
     "output_type": "execute_result"
    }
   ],
   "source": [
    "not ''"
   ]
  },
  {
   "cell_type": "code",
   "execution_count": 36,
   "id": "8ed03d6d-c3fc-4d89-ac03-ed432ba7c42b",
   "metadata": {},
   "outputs": [
    {
     "data": {
      "text/plain": [
       "False"
      ]
     },
     "execution_count": 36,
     "metadata": {},
     "output_type": "execute_result"
    }
   ],
   "source": [
    "not '  '"
   ]
  },
  {
   "cell_type": "markdown",
   "id": "5dc3de7d-6bb4-4a6c-ac57-6111c227d61b",
   "metadata": {},
   "source": [
    "# MEMBERSHIP OPERATOR"
   ]
  },
  {
   "cell_type": "markdown",
   "id": "9eb647c2-ce5a-4efd-8ac2-da3a3c10890f",
   "metadata": {},
   "source": [
    "#### check whether the value is present or not"
   ]
  },
  {
   "cell_type": "code",
   "execution_count": 37,
   "id": "3aa558e9-ecdb-4053-b653-3c19386f020a",
   "metadata": {},
   "outputs": [
    {
     "data": {
      "text/plain": [
       "False"
      ]
     },
     "execution_count": 37,
     "metadata": {},
     "output_type": "execute_result"
    }
   ],
   "source": [
    "'h' in 'Hello'"
   ]
  },
  {
   "cell_type": "code",
   "execution_count": 38,
   "id": "a05e95d1-779d-4f83-a481-16072c1f48e3",
   "metadata": {},
   "outputs": [
    {
     "data": {
      "text/plain": [
       "True"
      ]
     },
     "execution_count": 38,
     "metadata": {},
     "output_type": "execute_result"
    }
   ],
   "source": [
    "'H' in 'Hello'"
   ]
  },
  {
   "cell_type": "code",
   "execution_count": 39,
   "id": "88f2f122-a9de-472e-a94a-bd60d09f22ac",
   "metadata": {},
   "outputs": [
    {
     "data": {
      "text/plain": [
       "True"
      ]
     },
     "execution_count": 39,
     "metadata": {},
     "output_type": "execute_result"
    }
   ],
   "source": [
    "'He' in 'Hello'"
   ]
  },
  {
   "cell_type": "code",
   "execution_count": 40,
   "id": "75d5b263-657d-40ec-8fbb-7c847dff6283",
   "metadata": {},
   "outputs": [
    {
     "data": {
      "text/plain": [
       "False"
      ]
     },
     "execution_count": 40,
     "metadata": {},
     "output_type": "execute_result"
    }
   ],
   "source": [
    "'Ho' in 'Hello'"
   ]
  },
  {
   "cell_type": "code",
   "execution_count": 41,
   "id": "9ee0555f-f856-4a4e-8c39-9b29a2c238bb",
   "metadata": {},
   "outputs": [
    {
     "data": {
      "text/plain": [
       "True"
      ]
     },
     "execution_count": 41,
     "metadata": {},
     "output_type": "execute_result"
    }
   ],
   "source": [
    "'Hell' in 'Hello'"
   ]
  },
  {
   "cell_type": "code",
   "execution_count": 42,
   "id": "6c5b7162-c11e-4594-b793-0301586d86f6",
   "metadata": {},
   "outputs": [
    {
     "data": {
      "text/plain": [
       "True"
      ]
     },
     "execution_count": 42,
     "metadata": {},
     "output_type": "execute_result"
    }
   ],
   "source": [
    "'hell' not in 'Hello'"
   ]
  },
  {
   "cell_type": "code",
   "execution_count": 43,
   "id": "4963d506-873d-4d46-b1e0-a6d17c9ce6d5",
   "metadata": {},
   "outputs": [
    {
     "data": {
      "text/plain": [
       "True"
      ]
     },
     "execution_count": 43,
     "metadata": {},
     "output_type": "execute_result"
    }
   ],
   "source": [
    "2 in [1,2,4,6]"
   ]
  },
  {
   "cell_type": "code",
   "execution_count": 44,
   "id": "ad6d76e1-6144-4fe4-aa4d-40faee513ccd",
   "metadata": {},
   "outputs": [
    {
     "data": {
      "text/plain": [
       "False"
      ]
     },
     "execution_count": 44,
     "metadata": {},
     "output_type": "execute_result"
    }
   ],
   "source": [
    "2 not in [1,2,4,6]"
   ]
  },
  {
   "cell_type": "code",
   "execution_count": 45,
   "id": "e76fbdd8-7d14-45b5-a91d-a9609ab826a6",
   "metadata": {},
   "outputs": [
    {
     "data": {
      "text/plain": [
       "True"
      ]
     },
     "execution_count": 45,
     "metadata": {},
     "output_type": "execute_result"
    }
   ],
   "source": [
    "'4' in '55460'"
   ]
  },
  {
   "cell_type": "code",
   "execution_count": 46,
   "id": "5d08a510-b597-4668-9848-0cde3ddd0161",
   "metadata": {},
   "outputs": [
    {
     "data": {
      "text/plain": [
       "True"
      ]
     },
     "execution_count": 46,
     "metadata": {},
     "output_type": "execute_result"
    }
   ],
   "source": [
    "' ' in 'Hello world'"
   ]
  },
  {
   "cell_type": "code",
   "execution_count": 47,
   "id": "97edf378-1a5e-4364-97fc-ee349209ced0",
   "metadata": {},
   "outputs": [
    {
     "data": {
      "text/plain": [
       "True"
      ]
     },
     "execution_count": 47,
     "metadata": {},
     "output_type": "execute_result"
    }
   ],
   "source": [
    "'' in 'Hello world'"
   ]
  },
  {
   "cell_type": "code",
   "execution_count": 48,
   "id": "68e1cf03-45a7-4458-a017-31c36b7fdec1",
   "metadata": {},
   "outputs": [
    {
     "data": {
      "text/plain": [
       "True"
      ]
     },
     "execution_count": 48,
     "metadata": {},
     "output_type": "execute_result"
    }
   ],
   "source": [
    "'' in 'Hello'"
   ]
  },
  {
   "cell_type": "code",
   "execution_count": 50,
   "id": "31908718-c761-4239-8112-8851b79604c2",
   "metadata": {},
   "outputs": [],
   "source": [
    "names = ['jahnavi', 'janu', 'siva', 'sankar']"
   ]
  },
  {
   "cell_type": "code",
   "execution_count": 52,
   "id": "e4917e8b-f411-45d2-915c-1e2a78f533eb",
   "metadata": {},
   "outputs": [
    {
     "data": {
      "text/plain": [
       "True"
      ]
     },
     "execution_count": 52,
     "metadata": {},
     "output_type": "execute_result"
    }
   ],
   "source": [
    "'siva' in names"
   ]
  },
  {
   "cell_type": "code",
   "execution_count": 53,
   "id": "f0f3bc99-c911-4962-9de5-447df9addcd6",
   "metadata": {},
   "outputs": [
    {
     "data": {
      "text/plain": [
       "False"
      ]
     },
     "execution_count": 53,
     "metadata": {},
     "output_type": "execute_result"
    }
   ],
   "source": [
    "' ' in 'Hello'"
   ]
  },
  {
   "cell_type": "markdown",
   "id": "c0803cd0-8b10-4a44-b6f1-aca17894fb28",
   "metadata": {},
   "source": [
    "# IDENTITY OPERATOR"
   ]
  },
  {
   "cell_type": "code",
   "execution_count": 54,
   "id": "dc4ca279-1572-4413-aaf9-efe052b6b454",
   "metadata": {},
   "outputs": [
    {
     "data": {
      "text/plain": [
       "False"
      ]
     },
     "execution_count": 54,
     "metadata": {},
     "output_type": "execute_result"
    }
   ],
   "source": [
    "a = 5\n",
    "b = 10\n",
    "a is b"
   ]
  },
  {
   "cell_type": "code",
   "execution_count": 55,
   "id": "134a965a-3d5a-4e65-86fe-a8795585542c",
   "metadata": {},
   "outputs": [
    {
     "data": {
      "text/plain": [
       "140728237671336"
      ]
     },
     "execution_count": 55,
     "metadata": {},
     "output_type": "execute_result"
    }
   ],
   "source": [
    "id(a)"
   ]
  },
  {
   "cell_type": "code",
   "execution_count": 56,
   "id": "dca47d5b-387a-422d-8396-e06a516ed29a",
   "metadata": {},
   "outputs": [
    {
     "data": {
      "text/plain": [
       "140728237671496"
      ]
     },
     "execution_count": 56,
     "metadata": {},
     "output_type": "execute_result"
    }
   ],
   "source": [
    "id(b)"
   ]
  },
  {
   "cell_type": "code",
   "execution_count": 57,
   "id": "0d3a79f4-9265-40ac-90c3-08a1516f0bf7",
   "metadata": {},
   "outputs": [
    {
     "data": {
      "text/plain": [
       "True"
      ]
     },
     "execution_count": 57,
     "metadata": {},
     "output_type": "execute_result"
    }
   ],
   "source": [
    "a = 5\n",
    "b = 5\n",
    "a is b"
   ]
  },
  {
   "cell_type": "code",
   "execution_count": 58,
   "id": "43177cb0-d55f-440d-ba7d-92d60873de95",
   "metadata": {},
   "outputs": [
    {
     "data": {
      "text/plain": [
       "140728237671336"
      ]
     },
     "execution_count": 58,
     "metadata": {},
     "output_type": "execute_result"
    }
   ],
   "source": [
    "id(a)"
   ]
  },
  {
   "cell_type": "code",
   "execution_count": 59,
   "id": "5a40b462-8b4e-4aed-9db8-67302aca2174",
   "metadata": {},
   "outputs": [
    {
     "data": {
      "text/plain": [
       "140728237671336"
      ]
     },
     "execution_count": 59,
     "metadata": {},
     "output_type": "execute_result"
    }
   ],
   "source": [
    "id(b)"
   ]
  },
  {
   "cell_type": "code",
   "execution_count": 60,
   "id": "e2123e0d-73fa-48e8-90e2-e9c2ab876630",
   "metadata": {},
   "outputs": [
    {
     "data": {
      "text/plain": [
       "True"
      ]
     },
     "execution_count": 60,
     "metadata": {},
     "output_type": "execute_result"
    }
   ],
   "source": [
    "id(a)==id(b)"
   ]
  },
  {
   "cell_type": "code",
   "execution_count": 61,
   "id": "3275fe99-d3fb-4d6d-9919-1a9843e4b581",
   "metadata": {},
   "outputs": [
    {
     "data": {
      "text/plain": [
       "False"
      ]
     },
     "execution_count": 61,
     "metadata": {},
     "output_type": "execute_result"
    }
   ],
   "source": [
    "a = 257\n",
    "b = 257\n",
    "a is b"
   ]
  },
  {
   "cell_type": "code",
   "execution_count": 62,
   "id": "7bb9b4a8-2463-4a2a-a83c-654d69a1de66",
   "metadata": {},
   "outputs": [
    {
     "data": {
      "text/plain": [
       "False"
      ]
     },
     "execution_count": 62,
     "metadata": {},
     "output_type": "execute_result"
    }
   ],
   "source": [
    "a = -6\n",
    "b = -6\n",
    "a is b"
   ]
  },
  {
   "cell_type": "markdown",
   "id": "deeae473-7ac0-4239-a72b-9bc7496055d7",
   "metadata": {},
   "source": [
    "# Bitwise Operators"
   ]
  },
  {
   "cell_type": "markdown",
   "id": "2af212ed-fde2-427e-ad6f-fd233b3ad801",
   "metadata": {},
   "source": [
    "### Number System Conversion"
   ]
  },
  {
   "cell_type": "code",
   "execution_count": 1,
   "id": "735d3878-77de-4969-a680-04a31ce45453",
   "metadata": {},
   "outputs": [
    {
     "data": {
      "text/plain": [
       "'0b1111'"
      ]
     },
     "execution_count": 1,
     "metadata": {},
     "output_type": "execute_result"
    }
   ],
   "source": [
    "a = 15\n",
    "\n",
    "bin(a)"
   ]
  },
  {
   "cell_type": "code",
   "execution_count": 2,
   "id": "fe65234f-732d-4a24-8ee4-465ce04902c2",
   "metadata": {},
   "outputs": [
    {
     "data": {
      "text/plain": [
       "'0b100100'"
      ]
     },
     "execution_count": 2,
     "metadata": {},
     "output_type": "execute_result"
    }
   ],
   "source": [
    "bin(36)"
   ]
  },
  {
   "cell_type": "code",
   "execution_count": 3,
   "id": "325dd189-fa7b-4aff-b578-7da16fcac68f",
   "metadata": {},
   "outputs": [
    {
     "data": {
      "text/plain": [
       "'0b111000'"
      ]
     },
     "execution_count": 3,
     "metadata": {},
     "output_type": "execute_result"
    }
   ],
   "source": [
    "bin(56)"
   ]
  },
  {
   "cell_type": "code",
   "execution_count": 4,
   "id": "db4422ad-6ac8-4ee2-ab5c-6021279b4e2b",
   "metadata": {},
   "outputs": [
    {
     "data": {
      "text/plain": [
       "'0b1001000'"
      ]
     },
     "execution_count": 4,
     "metadata": {},
     "output_type": "execute_result"
    }
   ],
   "source": [
    "bin(72)"
   ]
  },
  {
   "cell_type": "markdown",
   "id": "74a3383a-a841-4758-9110-031193b9ebb4",
   "metadata": {},
   "source": [
    "#### Binary to decimal"
   ]
  },
  {
   "cell_type": "code",
   "execution_count": 6,
   "id": "2d2acf3a-ea2c-492b-8509-c5d37a089c98",
   "metadata": {},
   "outputs": [
    {
     "data": {
      "text/plain": [
       "43"
      ]
     },
     "execution_count": 6,
     "metadata": {},
     "output_type": "execute_result"
    }
   ],
   "source": [
    "int(0b101011)"
   ]
  },
  {
   "cell_type": "code",
   "execution_count": 9,
   "id": "23590a15-be8b-4642-abf5-d94e1ae564d2",
   "metadata": {},
   "outputs": [
    {
     "data": {
      "text/plain": [
       "56"
      ]
     },
     "execution_count": 9,
     "metadata": {},
     "output_type": "execute_result"
    }
   ],
   "source": [
    "int(0b111000)"
   ]
  },
  {
   "cell_type": "code",
   "execution_count": 10,
   "id": "01168198-22d5-4618-9956-f341b24f3af5",
   "metadata": {},
   "outputs": [
    {
     "data": {
      "text/plain": [
       "72"
      ]
     },
     "execution_count": 10,
     "metadata": {},
     "output_type": "execute_result"
    }
   ],
   "source": [
    "int(0b1001000)"
   ]
  },
  {
   "cell_type": "code",
   "execution_count": 11,
   "id": "4e7fe2a6-df2c-41a1-acae-4627ce1c7348",
   "metadata": {},
   "outputs": [
    {
     "data": {
      "text/plain": [
       "36"
      ]
     },
     "execution_count": 11,
     "metadata": {},
     "output_type": "execute_result"
    }
   ],
   "source": [
    "int(0b100100)"
   ]
  },
  {
   "cell_type": "code",
   "execution_count": 12,
   "id": "d375ac55-df61-4d97-b105-babc049bad65",
   "metadata": {},
   "outputs": [
    {
     "data": {
      "text/plain": [
       "171"
      ]
     },
     "execution_count": 12,
     "metadata": {},
     "output_type": "execute_result"
    }
   ],
   "source": [
    "int(0b10101011)"
   ]
  },
  {
   "cell_type": "markdown",
   "id": "99f9c696-9c07-4993-a52c-154a59ad1724",
   "metadata": {},
   "source": [
    "1.bin() --- to convert to binary number system\n",
    "2.int() --- to convert to decimal number system\n",
    "3.oct() --- to convert to octal number system\n",
    "4.hex() --- to convert to hexadecimal system"
   ]
  },
  {
   "cell_type": "code",
   "execution_count": 13,
   "id": "7916eecf-9e53-4ff0-afc0-7544fef097a7",
   "metadata": {},
   "outputs": [],
   "source": [
    "number = 10"
   ]
  },
  {
   "cell_type": "code",
   "execution_count": 14,
   "id": "f8b70d9f-5b6f-497a-8b91-3f427aa4f7eb",
   "metadata": {},
   "outputs": [
    {
     "data": {
      "text/plain": [
       "'0b1010'"
      ]
     },
     "execution_count": 14,
     "metadata": {},
     "output_type": "execute_result"
    }
   ],
   "source": [
    "bin(number)"
   ]
  },
  {
   "cell_type": "code",
   "execution_count": 15,
   "id": "5b5886d8-ecf4-4f44-bc71-4aabe84e42c3",
   "metadata": {},
   "outputs": [
    {
     "data": {
      "text/plain": [
       "'0xa'"
      ]
     },
     "execution_count": 15,
     "metadata": {},
     "output_type": "execute_result"
    }
   ],
   "source": [
    "hex(number)"
   ]
  },
  {
   "cell_type": "code",
   "execution_count": 16,
   "id": "12bdac73-7762-4dc5-a826-662de3632ceb",
   "metadata": {},
   "outputs": [
    {
     "data": {
      "text/plain": [
       "'0o12'"
      ]
     },
     "execution_count": 16,
     "metadata": {},
     "output_type": "execute_result"
    }
   ],
   "source": [
    "oct(number)"
   ]
  },
  {
   "cell_type": "code",
   "execution_count": 17,
   "id": "296cdc70-6a6c-42c6-9e3f-747db45e03e7",
   "metadata": {},
   "outputs": [],
   "source": [
    "hd = 0x45"
   ]
  },
  {
   "cell_type": "code",
   "execution_count": 18,
   "id": "6294fd57-56b4-46bf-b294-e83cc962a5de",
   "metadata": {},
   "outputs": [
    {
     "data": {
      "text/plain": [
       "'0b1000101'"
      ]
     },
     "execution_count": 18,
     "metadata": {},
     "output_type": "execute_result"
    }
   ],
   "source": [
    "bin(hd)"
   ]
  },
  {
   "cell_type": "code",
   "execution_count": 19,
   "id": "190d4a51-85db-4acf-af2e-554e1ed253f6",
   "metadata": {},
   "outputs": [
    {
     "data": {
      "text/plain": [
       "'0o105'"
      ]
     },
     "execution_count": 19,
     "metadata": {},
     "output_type": "execute_result"
    }
   ],
   "source": [
    "oct(hd)"
   ]
  },
  {
   "cell_type": "code",
   "execution_count": 20,
   "id": "75e887f2-03ec-407e-a2aa-953c13ecd153",
   "metadata": {},
   "outputs": [
    {
     "data": {
      "text/plain": [
       "69"
      ]
     },
     "execution_count": 20,
     "metadata": {},
     "output_type": "execute_result"
    }
   ],
   "source": [
    "int(hd)"
   ]
  },
  {
   "cell_type": "code",
   "execution_count": 21,
   "id": "4e488d34-d2a7-4e51-86a2-5a1329369ea1",
   "metadata": {},
   "outputs": [],
   "source": [
    "octal = 0o77"
   ]
  },
  {
   "cell_type": "code",
   "execution_count": 22,
   "id": "d1f1c6cf-21cf-49bd-a9d7-3f10c757435f",
   "metadata": {},
   "outputs": [
    {
     "data": {
      "text/plain": [
       "63"
      ]
     },
     "execution_count": 22,
     "metadata": {},
     "output_type": "execute_result"
    }
   ],
   "source": [
    "int(octal)"
   ]
  },
  {
   "cell_type": "code",
   "execution_count": 23,
   "id": "5d51ba21-6faf-43ff-9a4b-3a8984b3e148",
   "metadata": {},
   "outputs": [
    {
     "data": {
      "text/plain": [
       "'0b11001'"
      ]
     },
     "execution_count": 23,
     "metadata": {},
     "output_type": "execute_result"
    }
   ],
   "source": [
    "num = 25\n",
    "bin(num)"
   ]
  },
  {
   "cell_type": "markdown",
   "id": "d1497fe0-1709-4485-a49b-1bce06aeb9f3",
   "metadata": {},
   "source": [
    "### Bitwise AND"
   ]
  },
  {
   "cell_type": "code",
   "execution_count": 24,
   "id": "0e934a88-714c-4cd0-8fc2-6b3da8f7e4c2",
   "metadata": {},
   "outputs": [
    {
     "data": {
      "text/plain": [
       "15"
      ]
     },
     "execution_count": 24,
     "metadata": {},
     "output_type": "execute_result"
    }
   ],
   "source": [
    "10 and 15"
   ]
  },
  {
   "cell_type": "code",
   "execution_count": 25,
   "id": "23d7b5ec-329c-4644-8cf0-7adca4ca17e2",
   "metadata": {},
   "outputs": [
    {
     "data": {
      "text/plain": [
       "6"
      ]
     },
     "execution_count": 25,
     "metadata": {},
     "output_type": "execute_result"
    }
   ],
   "source": [
    "7 & 14"
   ]
  },
  {
   "cell_type": "code",
   "execution_count": 26,
   "id": "a7afd28d-22da-4590-bc69-a8233c5fb6c7",
   "metadata": {},
   "outputs": [
    {
     "data": {
      "text/plain": [
       "0"
      ]
     },
     "execution_count": 26,
     "metadata": {},
     "output_type": "execute_result"
    }
   ],
   "source": [
    "0 & 0"
   ]
  },
  {
   "cell_type": "code",
   "execution_count": 27,
   "id": "7ff06ae4-7ab4-419c-9344-4a949f2c3076",
   "metadata": {},
   "outputs": [
    {
     "data": {
      "text/plain": [
       "0"
      ]
     },
     "execution_count": 27,
     "metadata": {},
     "output_type": "execute_result"
    }
   ],
   "source": [
    "0 & 1"
   ]
  },
  {
   "cell_type": "code",
   "execution_count": 28,
   "id": "3924163d-79cc-45f2-9333-0d654e4ad7e8",
   "metadata": {},
   "outputs": [
    {
     "data": {
      "text/plain": [
       "0"
      ]
     },
     "execution_count": 28,
     "metadata": {},
     "output_type": "execute_result"
    }
   ],
   "source": [
    "1 & 0"
   ]
  },
  {
   "cell_type": "code",
   "execution_count": 29,
   "id": "2e396bcd-5b64-442d-8f39-2f31489fb4f8",
   "metadata": {},
   "outputs": [
    {
     "data": {
      "text/plain": [
       "1"
      ]
     },
     "execution_count": 29,
     "metadata": {},
     "output_type": "execute_result"
    }
   ],
   "source": [
    "1 & 1"
   ]
  },
  {
   "cell_type": "code",
   "execution_count": 30,
   "id": "f3a55076-c6fe-4a4a-bcef-9ea2555aba3e",
   "metadata": {},
   "outputs": [
    {
     "data": {
      "text/plain": [
       "10"
      ]
     },
     "execution_count": 30,
     "metadata": {},
     "output_type": "execute_result"
    }
   ],
   "source": [
    "15 & 10"
   ]
  },
  {
   "cell_type": "code",
   "execution_count": 31,
   "id": "36933afa-ef57-4381-8592-c7adfb22e27b",
   "metadata": {},
   "outputs": [
    {
     "data": {
      "text/plain": [
       "8"
      ]
     },
     "execution_count": 31,
     "metadata": {},
     "output_type": "execute_result"
    }
   ],
   "source": [
    "14 & 25"
   ]
  },
  {
   "cell_type": "code",
   "execution_count": 39,
   "id": "efb99b23-7c13-4bfe-ac73-3e9ab31b7af7",
   "metadata": {},
   "outputs": [
    {
     "data": {
      "text/plain": [
       "8"
      ]
     },
     "execution_count": 39,
     "metadata": {},
     "output_type": "execute_result"
    }
   ],
   "source": [
    "int(0b01000)"
   ]
  },
  {
   "cell_type": "markdown",
   "id": "c578e410-38f5-4eab-883f-91bf25e98aac",
   "metadata": {},
   "source": [
    "### Bitwise OR"
   ]
  },
  {
   "cell_type": "code",
   "execution_count": 38,
   "id": "3023ab4c-e8f2-4e80-b0be-17a71e724e57",
   "metadata": {},
   "outputs": [
    {
     "data": {
      "text/plain": [
       "14"
      ]
     },
     "execution_count": 38,
     "metadata": {},
     "output_type": "execute_result"
    }
   ],
   "source": [
    "14 | 8\n",
    "\n"
   ]
  },
  {
   "cell_type": "code",
   "execution_count": 40,
   "id": "2e53e92c-402b-4699-908a-743344417de6",
   "metadata": {},
   "outputs": [
    {
     "data": {
      "text/plain": [
       "25"
      ]
     },
     "execution_count": 40,
     "metadata": {},
     "output_type": "execute_result"
    }
   ],
   "source": [
    "16 | 25"
   ]
  },
  {
   "cell_type": "markdown",
   "id": "e3567231-1bfe-466e-bc43-f16711f7f018",
   "metadata": {},
   "source": [
    "### Bitwise XOR"
   ]
  },
  {
   "cell_type": "code",
   "execution_count": null,
   "id": "12b789b2-b634-47f1-a00f-ce628f588fed",
   "metadata": {},
   "outputs": [],
   "source": []
  }
 ],
 "metadata": {
  "kernelspec": {
   "display_name": "Python 3 (ipykernel)",
   "language": "python",
   "name": "python3"
  },
  "language_info": {
   "codemirror_mode": {
    "name": "ipython",
    "version": 3
   },
   "file_extension": ".py",
   "mimetype": "text/x-python",
   "name": "python",
   "nbconvert_exporter": "python",
   "pygments_lexer": "ipython3",
   "version": "3.11.7"
  }
 },
 "nbformat": 4,
 "nbformat_minor": 5
}
