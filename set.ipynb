{
 "cells": [
  {
   "cell_type": "code",
   "execution_count": 1,
   "id": "37591717-25ff-44ff-8085-253e036bb399",
   "metadata": {},
   "outputs": [
    {
     "data": {
      "text/plain": [
       "{1, 2, 3, 4, 5}"
      ]
     },
     "execution_count": 1,
     "metadata": {},
     "output_type": "execute_result"
    }
   ],
   "source": [
    "set1 = {1,2,3,4,5}\n",
    "set1"
   ]
  },
  {
   "cell_type": "code",
   "execution_count": 2,
   "id": "50e00fc0-bf05-4ff1-9af9-9045c447e1b7",
   "metadata": {},
   "outputs": [
    {
     "data": {
      "text/plain": [
       "set"
      ]
     },
     "execution_count": 2,
     "metadata": {},
     "output_type": "execute_result"
    }
   ],
   "source": [
    "type(set1)"
   ]
  },
  {
   "cell_type": "code",
   "execution_count": 3,
   "id": "1d97b859-ff89-4dc7-8379-87cc3348fdf6",
   "metadata": {},
   "outputs": [
    {
     "data": {
      "text/plain": [
       "5"
      ]
     },
     "execution_count": 3,
     "metadata": {},
     "output_type": "execute_result"
    }
   ],
   "source": [
    "len(set1)"
   ]
  },
  {
   "cell_type": "code",
   "execution_count": 4,
   "id": "059e27f7-85c3-4560-8e9b-76e9d73b1845",
   "metadata": {},
   "outputs": [
    {
     "data": {
      "text/plain": [
       "{1, 2, 'hello'}"
      ]
     },
     "execution_count": 4,
     "metadata": {},
     "output_type": "execute_result"
    }
   ],
   "source": [
    "set2 = {1,'hello',True,2}\n",
    "set2"
   ]
  },
  {
   "cell_type": "code",
   "execution_count": 5,
   "id": "08d05b49-922f-4c46-8c16-6c63144578ea",
   "metadata": {},
   "outputs": [
    {
     "data": {
      "text/plain": [
       "{2, 3, True, 'hello'}"
      ]
     },
     "execution_count": 5,
     "metadata": {},
     "output_type": "execute_result"
    }
   ],
   "source": [
    "set2 = {2,'hello',True,3}\n",
    "set2"
   ]
  },
  {
   "cell_type": "markdown",
   "id": "6f21a7cb-0895-4323-a3ea-620565ec0b53",
   "metadata": {},
   "source": [
    "#### An empty set"
   ]
  },
  {
   "cell_type": "code",
   "execution_count": 7,
   "id": "a7722152-c6ec-446d-88cb-03d46ec1efeb",
   "metadata": {},
   "outputs": [],
   "source": [
    "empty_set = {}"
   ]
  },
  {
   "cell_type": "code",
   "execution_count": 8,
   "id": "3a343ac7-4ce3-4c91-841a-644fb0540993",
   "metadata": {},
   "outputs": [
    {
     "data": {
      "text/plain": [
       "dict"
      ]
     },
     "execution_count": 8,
     "metadata": {},
     "output_type": "execute_result"
    }
   ],
   "source": [
    "type(empty_set)"
   ]
  },
  {
   "cell_type": "code",
   "execution_count": 9,
   "id": "fb267b99-9bb1-4668-b12e-6cd70f5ff3c6",
   "metadata": {},
   "outputs": [],
   "source": [
    "empty_set = set()"
   ]
  },
  {
   "cell_type": "code",
   "execution_count": 10,
   "id": "707cc84c-7cce-4e9b-aace-7c8e93c85822",
   "metadata": {},
   "outputs": [
    {
     "data": {
      "text/plain": [
       "set"
      ]
     },
     "execution_count": 10,
     "metadata": {},
     "output_type": "execute_result"
    }
   ],
   "source": [
    "type(empty_set)"
   ]
  },
  {
   "cell_type": "markdown",
   "id": "08142b56-1649-4a39-a31a-aa050bd92954",
   "metadata": {},
   "source": [
    "## Attributes"
   ]
  },
  {
   "cell_type": "code",
   "execution_count": 11,
   "id": "2d664ce3-a631-4ce9-a6ae-016dab95cfb8",
   "metadata": {},
   "outputs": [],
   "source": [
    "#Mutable\n",
    "set1 = {1,2,3,4,5}"
   ]
  },
  {
   "cell_type": "code",
   "execution_count": 12,
   "id": "fda78c7d-9ca6-478c-b597-77b95d143d9b",
   "metadata": {},
   "outputs": [
    {
     "name": "stdout",
     "output_type": "stream",
     "text": [
      "{1, 2, 3, 4, 5, 34}\n"
     ]
    }
   ],
   "source": [
    "set1.add(34)\n",
    "print(set1)"
   ]
  },
  {
   "cell_type": "code",
   "execution_count": 13,
   "id": "e0e6bf85-013d-4a9a-91e8-27ef59be8ef0",
   "metadata": {},
   "outputs": [
    {
     "data": {
      "text/plain": [
       "1"
      ]
     },
     "execution_count": 13,
     "metadata": {},
     "output_type": "execute_result"
    }
   ],
   "source": [
    "set1.pop()"
   ]
  },
  {
   "cell_type": "code",
   "execution_count": 14,
   "id": "99e4be56-c0df-4310-9e21-48782a0e7d6d",
   "metadata": {},
   "outputs": [
    {
     "data": {
      "text/plain": [
       "{2, 3, 4, 5, 34}"
      ]
     },
     "execution_count": 14,
     "metadata": {},
     "output_type": "execute_result"
    }
   ],
   "source": [
    "set1"
   ]
  },
  {
   "cell_type": "code",
   "execution_count": 15,
   "id": "619f3cef-1f40-4d99-895b-e10d902e8c1a",
   "metadata": {},
   "outputs": [
    {
     "data": {
      "text/plain": [
       "{2, 3, 4, 5, 34}"
      ]
     },
     "execution_count": 15,
     "metadata": {},
     "output_type": "execute_result"
    }
   ],
   "source": [
    "#unordered\n",
    "set1"
   ]
  },
  {
   "cell_type": "code",
   "execution_count": 16,
   "id": "21b9bf56-ec66-47f0-9cd5-a7c1fcbf78f0",
   "metadata": {},
   "outputs": [
    {
     "ename": "TypeError",
     "evalue": "'set' object is not subscriptable",
     "output_type": "error",
     "traceback": [
      "\u001b[1;31m---------------------------------------------------------------------------\u001b[0m",
      "\u001b[1;31mTypeError\u001b[0m                                 Traceback (most recent call last)",
      "Cell \u001b[1;32mIn[16], line 1\u001b[0m\n\u001b[1;32m----> 1\u001b[0m set1[\u001b[38;5;241m2\u001b[39m]\n",
      "\u001b[1;31mTypeError\u001b[0m: 'set' object is not subscriptable"
     ]
    }
   ],
   "source": [
    "set1[2]"
   ]
  },
  {
   "cell_type": "code",
   "execution_count": 17,
   "id": "2d6a5cd0-136c-4e8d-a7aa-ba2c5702f519",
   "metadata": {},
   "outputs": [
    {
     "data": {
      "text/plain": [
       "{2, 8, 9, 10, 13, 15}"
      ]
     },
     "execution_count": 17,
     "metadata": {},
     "output_type": "execute_result"
    }
   ],
   "source": [
    "set2 = {10,15,2,13,8,9}\n",
    "set2"
   ]
  },
  {
   "cell_type": "code",
   "execution_count": 18,
   "id": "68824ab9-16f6-44bf-bf19-4d488f73935e",
   "metadata": {},
   "outputs": [
    {
     "data": {
      "text/plain": [
       "{10, 13, 15, 2, 8, 9, 'Hello', 'Hi', True}"
      ]
     },
     "execution_count": 18,
     "metadata": {},
     "output_type": "execute_result"
    }
   ],
   "source": [
    "set2 = {True,10,15,2,'Hello',13,8,9,\"Hi\"}\n",
    "set2"
   ]
  },
  {
   "cell_type": "code",
   "execution_count": 19,
   "id": "2983787f-5ebf-47cd-ac7b-00a777301af9",
   "metadata": {},
   "outputs": [
    {
     "data": {
      "text/plain": [
       "3"
      ]
     },
     "execution_count": 19,
     "metadata": {},
     "output_type": "execute_result"
    }
   ],
   "source": [
    "#duplicates\n",
    "nums = {1,5,7,7,1}\n",
    "len(nums)"
   ]
  },
  {
   "cell_type": "code",
   "execution_count": 21,
   "id": "d7a2da7d-b9e4-4d76-bb81-7d7f1f31e77a",
   "metadata": {},
   "outputs": [
    {
     "data": {
      "text/plain": [
       "{'Hello', 'Hi', 'hello'}"
      ]
     },
     "execution_count": 21,
     "metadata": {},
     "output_type": "execute_result"
    }
   ],
   "source": [
    "strings = {\"Hello\",\"Hi\",\"Hello\",\"Hi\",\"hello\"}\n",
    "strings"
   ]
  },
  {
   "cell_type": "markdown",
   "id": "961174b7-3edb-458d-baa9-fb36e61bc736",
   "metadata": {},
   "source": [
    "# SET METHODS"
   ]
  },
  {
   "cell_type": "code",
   "execution_count": 22,
   "id": "b9100e1d-6e3a-4aec-94d7-2f4dee675ffd",
   "metadata": {},
   "outputs": [],
   "source": [
    "set1 = {1,2,3,4,5}\n",
    "set2 = {15,17,19,12}"
   ]
  },
  {
   "cell_type": "markdown",
   "id": "e4392eb7-a34c-4317-9495-f696a213e2be",
   "metadata": {},
   "source": [
    "### Adding the elements"
   ]
  },
  {
   "cell_type": "code",
   "execution_count": 23,
   "id": "187fe609-27ea-475a-bf59-66ff177ad3a1",
   "metadata": {},
   "outputs": [
    {
     "data": {
      "text/plain": [
       "{1, 2, 3, 4, 5}"
      ]
     },
     "execution_count": 23,
     "metadata": {},
     "output_type": "execute_result"
    }
   ],
   "source": [
    "set1"
   ]
  },
  {
   "cell_type": "code",
   "execution_count": 24,
   "id": "ba238830-ea09-4b7c-9326-eda62f6af4c1",
   "metadata": {},
   "outputs": [
    {
     "data": {
      "text/plain": [
       "{1, 2, 3, 4, 5, 6}"
      ]
     },
     "execution_count": 24,
     "metadata": {},
     "output_type": "execute_result"
    }
   ],
   "source": [
    "set1.add(6)\n",
    "set1"
   ]
  },
  {
   "cell_type": "code",
   "execution_count": 25,
   "id": "3464787f-3ae0-4ba9-b41b-675f8a1d229b",
   "metadata": {},
   "outputs": [
    {
     "data": {
      "text/plain": [
       "{0, 1, 2, 3, 4, 5, 6}"
      ]
     },
     "execution_count": 25,
     "metadata": {},
     "output_type": "execute_result"
    }
   ],
   "source": [
    "set1.add(0)\n",
    "set1"
   ]
  },
  {
   "cell_type": "code",
   "execution_count": 26,
   "id": "a20e013e-cf36-4ad6-9af1-a9483c1d59a7",
   "metadata": {},
   "outputs": [
    {
     "data": {
      "text/plain": [
       "{0, 1, 2, 3, 4, 5, 6}"
      ]
     },
     "execution_count": 26,
     "metadata": {},
     "output_type": "execute_result"
    }
   ],
   "source": [
    "set1.add(6)\n",
    "set1"
   ]
  },
  {
   "cell_type": "code",
   "execution_count": 27,
   "id": "1196128b-0948-43ea-a8a4-7c450bea2f3e",
   "metadata": {},
   "outputs": [
    {
     "ename": "TypeError",
     "evalue": "'int' object is not iterable",
     "output_type": "error",
     "traceback": [
      "\u001b[1;31m---------------------------------------------------------------------------\u001b[0m",
      "\u001b[1;31mTypeError\u001b[0m                                 Traceback (most recent call last)",
      "Cell \u001b[1;32mIn[27], line 2\u001b[0m\n\u001b[0;32m      1\u001b[0m \u001b[38;5;66;03m#adding multiple elements\u001b[39;00m\n\u001b[1;32m----> 2\u001b[0m set1\u001b[38;5;241m.\u001b[39mupdate(\u001b[38;5;241m20\u001b[39m,\u001b[38;5;241m30\u001b[39m,\u001b[38;5;241m40\u001b[39m)\n",
      "\u001b[1;31mTypeError\u001b[0m: 'int' object is not iterable"
     ]
    }
   ],
   "source": [
    "#adding multiple elements\n",
    "set1.update(20,30,40)"
   ]
  },
  {
   "cell_type": "code",
   "execution_count": 28,
   "id": "30fd7524-0963-4048-886f-231d54003e5e",
   "metadata": {},
   "outputs": [],
   "source": [
    "set1.update([20,30,40])"
   ]
  },
  {
   "cell_type": "code",
   "execution_count": 29,
   "id": "9a3d1f27-1410-4071-8dc0-b5ff08bb185c",
   "metadata": {},
   "outputs": [
    {
     "data": {
      "text/plain": [
       "{0, 1, 2, 3, 4, 5, 6, 20, 30, 40}"
      ]
     },
     "execution_count": 29,
     "metadata": {},
     "output_type": "execute_result"
    }
   ],
   "source": [
    "set1"
   ]
  },
  {
   "cell_type": "markdown",
   "id": "8890fd36-efd1-4688-b450-3001ba48d230",
   "metadata": {},
   "source": [
    "#### Removing the elements"
   ]
  },
  {
   "cell_type": "code",
   "execution_count": 35,
   "id": "9457c81e-6843-443b-baef-25ebe3e67698",
   "metadata": {},
   "outputs": [
    {
     "data": {
      "text/plain": [
       "{0, 1, 2, 3, 4, 5, 6, 20, 30}"
      ]
     },
     "execution_count": 35,
     "metadata": {},
     "output_type": "execute_result"
    }
   ],
   "source": [
    "set1 "
   ]
  },
  {
   "cell_type": "code",
   "execution_count": 36,
   "id": "ba640991-10bb-4c4d-b634-1f583dfa8787",
   "metadata": {},
   "outputs": [],
   "source": [
    "set1.remove(30)  #removes the element based on value"
   ]
  },
  {
   "cell_type": "code",
   "execution_count": 37,
   "id": "28e80cd5-ed04-4eef-9c1d-d8b09eda298e",
   "metadata": {},
   "outputs": [
    {
     "data": {
      "text/plain": [
       "{0, 1, 2, 3, 4, 5, 6, 20}"
      ]
     },
     "execution_count": 37,
     "metadata": {},
     "output_type": "execute_result"
    }
   ],
   "source": [
    "set1"
   ]
  },
  {
   "cell_type": "code",
   "execution_count": 38,
   "id": "10d6a6ca-0970-4b8c-98f7-7f73d4ff6656",
   "metadata": {},
   "outputs": [],
   "source": [
    "set1.remove(4)"
   ]
  },
  {
   "cell_type": "code",
   "execution_count": 39,
   "id": "e2321512-0db1-4ff9-afa0-0b0adb8fc96c",
   "metadata": {},
   "outputs": [
    {
     "data": {
      "text/plain": [
       "{0, 1, 2, 3, 5, 6, 20}"
      ]
     },
     "execution_count": 39,
     "metadata": {},
     "output_type": "execute_result"
    }
   ],
   "source": [
    "set1"
   ]
  },
  {
   "cell_type": "code",
   "execution_count": 40,
   "id": "2183c776-f48c-4937-bf4e-d3c3464f3ae4",
   "metadata": {},
   "outputs": [
    {
     "data": {
      "text/plain": [
       "{1, 2, 3, 5, 6, 20}"
      ]
     },
     "execution_count": 40,
     "metadata": {},
     "output_type": "execute_result"
    }
   ],
   "source": [
    "set1.pop()\n",
    "set1"
   ]
  },
  {
   "cell_type": "code",
   "execution_count": 42,
   "id": "a1fccbca-acb3-4f77-a7ff-4329131da72a",
   "metadata": {},
   "outputs": [],
   "source": [
    "set1.discard(3) #removes an element based on value"
   ]
  },
  {
   "cell_type": "code",
   "execution_count": 43,
   "id": "8331eb7b-5b54-4b32-a32c-8f6ab5f5f359",
   "metadata": {},
   "outputs": [],
   "source": [
    "set1.remove(2)"
   ]
  },
  {
   "cell_type": "code",
   "execution_count": 44,
   "id": "4d8d2d3f-14ee-4b30-b04e-d317d0f35a6a",
   "metadata": {},
   "outputs": [
    {
     "ename": "KeyError",
     "evalue": "100",
     "output_type": "error",
     "traceback": [
      "\u001b[1;31m---------------------------------------------------------------------------\u001b[0m",
      "\u001b[1;31mKeyError\u001b[0m                                  Traceback (most recent call last)",
      "Cell \u001b[1;32mIn[44], line 1\u001b[0m\n\u001b[1;32m----> 1\u001b[0m set1\u001b[38;5;241m.\u001b[39mremove(\u001b[38;5;241m100\u001b[39m)\n",
      "\u001b[1;31mKeyError\u001b[0m: 100"
     ]
    }
   ],
   "source": [
    "set1.remove(100)"
   ]
  },
  {
   "cell_type": "code",
   "execution_count": 45,
   "id": "b78f4807-ed52-47f6-832a-24ec26f44165",
   "metadata": {},
   "outputs": [],
   "source": [
    "set1.discard(100)"
   ]
  },
  {
   "cell_type": "code",
   "execution_count": 46,
   "id": "ebe13c84-e56b-448e-80d8-760662a1615e",
   "metadata": {},
   "outputs": [],
   "source": [
    "set1.clear()"
   ]
  },
  {
   "cell_type": "code",
   "execution_count": 47,
   "id": "4705f099-6d2b-49c0-a590-9e77216ca404",
   "metadata": {},
   "outputs": [
    {
     "data": {
      "text/plain": [
       "set()"
      ]
     },
     "execution_count": 47,
     "metadata": {},
     "output_type": "execute_result"
    }
   ],
   "source": [
    "set1"
   ]
  },
  {
   "cell_type": "code",
   "execution_count": 48,
   "id": "655970a2-60db-45da-b06b-b29fdf6759db",
   "metadata": {},
   "outputs": [
    {
     "data": {
      "text/plain": [
       "set()"
      ]
     },
     "execution_count": 48,
     "metadata": {},
     "output_type": "execute_result"
    }
   ],
   "source": [
    "set1"
   ]
  },
  {
   "cell_type": "code",
   "execution_count": 49,
   "id": "a1f57bf4-a881-4406-b115-f07be477bda5",
   "metadata": {},
   "outputs": [],
   "source": [
    "set2 = set1.copy()"
   ]
  },
  {
   "cell_type": "code",
   "execution_count": 50,
   "id": "de2c3037-e8c0-4d89-8b4e-2677275740fd",
   "metadata": {},
   "outputs": [],
   "source": [
    "set1 = {1,2,3,4,5,6}\n",
    "set2 = {5,6,7,8,9,10}"
   ]
  },
  {
   "cell_type": "code",
   "execution_count": 53,
   "id": "b797344c-251b-4f8b-90c8-df79d8671baa",
   "metadata": {},
   "outputs": [
    {
     "data": {
      "text/plain": [
       "{5, 6}"
      ]
     },
     "execution_count": 53,
     "metadata": {},
     "output_type": "execute_result"
    }
   ],
   "source": [
    "set1.intersection(set2) #common element in both sets"
   ]
  },
  {
   "cell_type": "code",
   "execution_count": 55,
   "id": "53137c49-0fa5-4308-a24a-0ac0a114c36d",
   "metadata": {},
   "outputs": [
    {
     "data": {
      "text/plain": [
       "{1, 2, 3, 4, 5, 6}"
      ]
     },
     "execution_count": 55,
     "metadata": {},
     "output_type": "execute_result"
    }
   ],
   "source": [
    "set1"
   ]
  },
  {
   "cell_type": "code",
   "execution_count": 56,
   "id": "372d309f-17fb-43d1-a83b-4cd9b4f776ba",
   "metadata": {},
   "outputs": [
    {
     "data": {
      "text/plain": [
       "{5, 6, 7, 8, 9, 10}"
      ]
     },
     "execution_count": 56,
     "metadata": {},
     "output_type": "execute_result"
    }
   ],
   "source": [
    "set2"
   ]
  },
  {
   "cell_type": "code",
   "execution_count": 54,
   "id": "0c7641bd-3fbe-422d-a68b-a75d7572a0ca",
   "metadata": {},
   "outputs": [
    {
     "data": {
      "text/plain": [
       "{1, 2, 3, 4, 5, 6, 7, 8, 9, 10}"
      ]
     },
     "execution_count": 54,
     "metadata": {},
     "output_type": "execute_result"
    }
   ],
   "source": [
    "set1.union(set2)  #all the unique values in both sets"
   ]
  },
  {
   "cell_type": "code",
   "execution_count": 57,
   "id": "af05a86b-a596-4329-9ab1-e3d292bb7d69",
   "metadata": {},
   "outputs": [],
   "source": [
    "set1.intersection_update(set2)"
   ]
  },
  {
   "cell_type": "code",
   "execution_count": 58,
   "id": "ebc436ff-4f43-4a01-a84e-50b9f87d5914",
   "metadata": {},
   "outputs": [
    {
     "data": {
      "text/plain": [
       "{5, 6}"
      ]
     },
     "execution_count": 58,
     "metadata": {},
     "output_type": "execute_result"
    }
   ],
   "source": [
    "set1"
   ]
  },
  {
   "cell_type": "code",
   "execution_count": 59,
   "id": "3ecb7534-b5ca-450b-81db-be58a57d24a6",
   "metadata": {},
   "outputs": [],
   "source": [
    "set2.intersection_update(set1)"
   ]
  },
  {
   "cell_type": "code",
   "execution_count": 60,
   "id": "fcf8a87f-a4b0-47c3-9d8e-c3ca8eb79bad",
   "metadata": {},
   "outputs": [
    {
     "data": {
      "text/plain": [
       "{5, 6}"
      ]
     },
     "execution_count": 60,
     "metadata": {},
     "output_type": "execute_result"
    }
   ],
   "source": [
    "set2"
   ]
  },
  {
   "cell_type": "code",
   "execution_count": 61,
   "id": "76fe8c43-c9f5-4c53-b961-181499b8063c",
   "metadata": {},
   "outputs": [
    {
     "data": {
      "text/plain": [
       "{5, 6}"
      ]
     },
     "execution_count": 61,
     "metadata": {},
     "output_type": "execute_result"
    }
   ],
   "source": [
    "set1"
   ]
  },
  {
   "cell_type": "code",
   "execution_count": 62,
   "id": "1eac096d-d98c-4be0-9ee7-c38cfd2261c4",
   "metadata": {},
   "outputs": [],
   "source": [
    "set1 = {1,2,3,4,5,6}\n",
    "set2 = {5,6,7,8,9,10}"
   ]
  },
  {
   "cell_type": "code",
   "execution_count": 63,
   "id": "0018685a-2f8d-4884-b2be-d23bdd69236e",
   "metadata": {},
   "outputs": [
    {
     "data": {
      "text/plain": [
       "{1, 2, 3, 4, 5, 6}"
      ]
     },
     "execution_count": 63,
     "metadata": {},
     "output_type": "execute_result"
    }
   ],
   "source": [
    "set1"
   ]
  },
  {
   "cell_type": "code",
   "execution_count": 64,
   "id": "f9498b7b-d765-4197-b442-f9a4de55fac6",
   "metadata": {},
   "outputs": [
    {
     "data": {
      "text/plain": [
       "{5, 6, 7, 8, 9, 10}"
      ]
     },
     "execution_count": 64,
     "metadata": {},
     "output_type": "execute_result"
    }
   ],
   "source": [
    "set2"
   ]
  },
  {
   "cell_type": "code",
   "execution_count": 66,
   "id": "2732fd22-a76c-47b0-8b18-0b0379be9e2f",
   "metadata": {},
   "outputs": [
    {
     "data": {
      "text/plain": [
       "{1, 2, 3, 4}"
      ]
     },
     "execution_count": 66,
     "metadata": {},
     "output_type": "execute_result"
    }
   ],
   "source": [
    "set1.difference(set2)  #prints all the set1 elements without common elements in set2"
   ]
  },
  {
   "cell_type": "code",
   "execution_count": 67,
   "id": "ada8f461-3a77-465a-b858-de1ae796a586",
   "metadata": {},
   "outputs": [],
   "source": [
    "set1.difference_update(set2)"
   ]
  },
  {
   "cell_type": "code",
   "execution_count": 68,
   "id": "a8dea57e-9365-48e8-a0a7-9c97e0522b6c",
   "metadata": {},
   "outputs": [
    {
     "data": {
      "text/plain": [
       "{1, 2, 3, 4}"
      ]
     },
     "execution_count": 68,
     "metadata": {},
     "output_type": "execute_result"
    }
   ],
   "source": [
    "set1"
   ]
  },
  {
   "cell_type": "code",
   "execution_count": 69,
   "id": "35710eae-27ab-4c35-827a-7cf97429d096",
   "metadata": {},
   "outputs": [],
   "source": [
    "set1 = {1,2,3,4,5,6}\n",
    "set2 = {5,6,7,8,9,10}"
   ]
  },
  {
   "cell_type": "code",
   "execution_count": 71,
   "id": "6192a9b6-a849-4079-9e1d-81e51a6d9abd",
   "metadata": {},
   "outputs": [
    {
     "data": {
      "text/plain": [
       "{1, 2, 3, 4, 7, 8, 9, 10}"
      ]
     },
     "execution_count": 71,
     "metadata": {},
     "output_type": "execute_result"
    }
   ],
   "source": [
    "set1.symmetric_difference(set2) #union with intersection"
   ]
  },
  {
   "cell_type": "code",
   "execution_count": 72,
   "id": "811351bc-3721-43e2-b95e-7f15f92a9713",
   "metadata": {},
   "outputs": [],
   "source": [
    "set1.symmetric_difference_update(set2)"
   ]
  },
  {
   "cell_type": "code",
   "execution_count": 73,
   "id": "4c58d867-f1e2-437c-b08f-5992016efbe2",
   "metadata": {},
   "outputs": [
    {
     "data": {
      "text/plain": [
       "{1, 2, 3, 4, 7, 8, 9, 10}"
      ]
     },
     "execution_count": 73,
     "metadata": {},
     "output_type": "execute_result"
    }
   ],
   "source": [
    "set1"
   ]
  },
  {
   "cell_type": "code",
   "execution_count": 77,
   "id": "e35d7d58-14ab-4aaa-aa7b-d7e14f4ee8a3",
   "metadata": {},
   "outputs": [],
   "source": [
    "set1 = {1,2,3,4}\n",
    "set2 = {5,6,7,8,9,10}"
   ]
  },
  {
   "cell_type": "code",
   "execution_count": 78,
   "id": "7b17da1d-00f8-4574-9f7d-3fe276c716c9",
   "metadata": {},
   "outputs": [
    {
     "data": {
      "text/plain": [
       "{1, 2, 3, 4}"
      ]
     },
     "execution_count": 78,
     "metadata": {},
     "output_type": "execute_result"
    }
   ],
   "source": [
    "set1"
   ]
  },
  {
   "cell_type": "code",
   "execution_count": 79,
   "id": "38887d2f-4a41-45a4-ac59-3d215d076374",
   "metadata": {},
   "outputs": [
    {
     "data": {
      "text/plain": [
       "{5, 6, 7, 8, 9, 10}"
      ]
     },
     "execution_count": 79,
     "metadata": {},
     "output_type": "execute_result"
    }
   ],
   "source": [
    "set2"
   ]
  },
  {
   "cell_type": "code",
   "execution_count": 81,
   "id": "98efb923-1f56-46e3-90ee-22f51141c5ce",
   "metadata": {},
   "outputs": [
    {
     "data": {
      "text/plain": [
       "True"
      ]
     },
     "execution_count": 81,
     "metadata": {},
     "output_type": "execute_result"
    }
   ],
   "source": [
    "set1.isdisjoint(set2) #if there are no common elements then it returns true otherwise false"
   ]
  },
  {
   "cell_type": "code",
   "execution_count": 82,
   "id": "3f99c996-6da7-45d2-9f4a-e8cf9f850d5d",
   "metadata": {},
   "outputs": [],
   "source": [
    "set1 = {1,2,3}\n",
    "set2 = {1,2,3,4,5,6}"
   ]
  },
  {
   "cell_type": "code",
   "execution_count": 83,
   "id": "cf8bf531-b61a-4123-9a5f-0b6b0e9f07a1",
   "metadata": {},
   "outputs": [
    {
     "data": {
      "text/plain": [
       "True"
      ]
     },
     "execution_count": 83,
     "metadata": {},
     "output_type": "execute_result"
    }
   ],
   "source": [
    "set1.issubset(set2)"
   ]
  },
  {
   "cell_type": "markdown",
   "id": "11e297d0-3223-419c-8113-4dc4dfd84bf4",
   "metadata": {},
   "source": [
    "##### create a list of 5 students marks then add 5 more students marks"
   ]
  },
  {
   "cell_type": "code",
   "execution_count": 88,
   "id": "3781121d-2647-4062-a9a8-e805fb7153c7",
   "metadata": {},
   "outputs": [],
   "source": [
    "marks = {20,40,50,70,45}\n",
    "marks.update([80,90,40,20,10])\n"
   ]
  },
  {
   "cell_type": "code",
   "execution_count": 89,
   "id": "968a10a2-a283-4608-8eaf-5468156af32c",
   "metadata": {},
   "outputs": [
    {
     "data": {
      "text/plain": [
       "{10, 20, 40, 45, 50, 70, 80, 90}"
      ]
     },
     "execution_count": 89,
     "metadata": {},
     "output_type": "execute_result"
    }
   ],
   "source": [
    "marks"
   ]
  },
  {
   "cell_type": "code",
   "execution_count": 90,
   "id": "3af98dfc-6d2b-419b-ba19-26148a74ece3",
   "metadata": {},
   "outputs": [
    {
     "data": {
      "text/plain": [
       "8"
      ]
     },
     "execution_count": 90,
     "metadata": {},
     "output_type": "execute_result"
    }
   ],
   "source": [
    "len(marks)"
   ]
  },
  {
   "cell_type": "code",
   "execution_count": 64,
   "id": "9d805bee-0b34-4a2f-ba78-a162a45a2eec",
   "metadata": {},
   "outputs": [],
   "source": [
    "even = {2,4,6,8,10}"
   ]
  },
  {
   "cell_type": "code",
   "execution_count": 65,
   "id": "14685c7d-d22b-4339-89fd-86d4f9d4603c",
   "metadata": {},
   "outputs": [
    {
     "data": {
      "text/plain": [
       "{2, 4, 6, 8, 10}"
      ]
     },
     "execution_count": 65,
     "metadata": {},
     "output_type": "execute_result"
    }
   ],
   "source": [
    "even"
   ]
  },
  {
   "cell_type": "markdown",
   "id": "2b2ae1f6-04b7-41b7-9905-d8450251f7fb",
   "metadata": {},
   "source": [
    "### 2.Set Operations Given two sets, write a Python program to find the union, intersection, and difference of these sets.\n",
    "s = {2,4,6,8,10,12,14,16,18,20}\n",
    "t = {3,6,9,12,15,18,21}"
   ]
  },
  {
   "cell_type": "code",
   "execution_count": 66,
   "id": "8fe7d3d7-4936-4ed5-9679-90b0e5721ab1",
   "metadata": {},
   "outputs": [],
   "source": [
    "s = {2,4,6,8,10,12,14,16,18,20} \n",
    "t = {3,6,9,12,15,18,21}"
   ]
  },
  {
   "cell_type": "markdown",
   "id": "8da3946e-0359-4f80-a466-041bc4c266f8",
   "metadata": {},
   "source": [
    "#### union"
   ]
  },
  {
   "cell_type": "code",
   "execution_count": 67,
   "id": "377e2cca-675c-4308-8737-109798957b22",
   "metadata": {},
   "outputs": [
    {
     "data": {
      "text/plain": [
       "{2, 3, 4, 6, 8, 9, 10, 12, 14, 15, 16, 18, 20, 21}"
      ]
     },
     "execution_count": 67,
     "metadata": {},
     "output_type": "execute_result"
    }
   ],
   "source": [
    "s.union(t)"
   ]
  },
  {
   "cell_type": "code",
   "execution_count": 69,
   "id": "4771d465-6a11-42d5-972c-794fd4e0ff78",
   "metadata": {},
   "outputs": [
    {
     "data": {
      "text/plain": [
       "{6, 12, 18}"
      ]
     },
     "execution_count": 69,
     "metadata": {},
     "output_type": "execute_result"
    }
   ],
   "source": [
    "s.intersection(t)"
   ]
  },
  {
   "cell_type": "code",
   "execution_count": 70,
   "id": "954005b7-f26e-4cb3-b90f-4d7b72761232",
   "metadata": {},
   "outputs": [
    {
     "data": {
      "text/plain": [
       "{2, 4, 8, 10, 14, 16, 20}"
      ]
     },
     "execution_count": 70,
     "metadata": {},
     "output_type": "execute_result"
    }
   ],
   "source": [
    "s.difference(t)"
   ]
  },
  {
   "cell_type": "markdown",
   "id": "9914f9c3-8a9a-497e-98d2-0f772babf992",
   "metadata": {},
   "source": [
    "### 3.Set Operations and Methods Write a Python program that takes a set of numbers and performs the following operations:\n",
    "Add a new number to the set.\n",
    "Remove a number from the set.\n",
    "Check if a specific number is in the set."
   ]
  },
  {
   "cell_type": "code",
   "execution_count": 74,
   "id": "dbb46d30-7f43-461a-8dc5-2ffab051c25e",
   "metadata": {},
   "outputs": [],
   "source": [
    "sets = {2,9,12,13,12,20,20,1,18,9,84,90,21}"
   ]
  },
  {
   "cell_type": "code",
   "execution_count": 75,
   "id": "b84dd5b2-55a5-4d56-9c3e-10e59028ea1a",
   "metadata": {},
   "outputs": [
    {
     "data": {
      "text/plain": [
       "set"
      ]
     },
     "execution_count": 75,
     "metadata": {},
     "output_type": "execute_result"
    }
   ],
   "source": [
    "type(sets)"
   ]
  },
  {
   "cell_type": "code",
   "execution_count": 76,
   "id": "adc0de8e-aeb3-48e9-add1-c1c443d6c943",
   "metadata": {},
   "outputs": [
    {
     "data": {
      "text/plain": [
       "{1, 2, 9, 12, 13, 18, 20, 21, 84, 90}"
      ]
     },
     "execution_count": 76,
     "metadata": {},
     "output_type": "execute_result"
    }
   ],
   "source": [
    "sets"
   ]
  },
  {
   "cell_type": "code",
   "execution_count": 77,
   "id": "18b4db29-6b5c-476f-ab45-fcbf9807e124",
   "metadata": {},
   "outputs": [],
   "source": [
    "sets.add(34)"
   ]
  },
  {
   "cell_type": "code",
   "execution_count": 78,
   "id": "f0e2252e-d1e4-4b2e-b196-8bbc49ea05bf",
   "metadata": {},
   "outputs": [
    {
     "data": {
      "text/plain": [
       "{1, 2, 9, 12, 13, 18, 20, 21, 34, 84, 90}"
      ]
     },
     "execution_count": 78,
     "metadata": {},
     "output_type": "execute_result"
    }
   ],
   "source": [
    "sets"
   ]
  },
  {
   "cell_type": "code",
   "execution_count": 79,
   "id": "1651b12f-b8e1-4187-884e-19a6dd10e27d",
   "metadata": {},
   "outputs": [],
   "source": [
    "sets.remove(12)"
   ]
  },
  {
   "cell_type": "code",
   "execution_count": 80,
   "id": "716eeaba-088f-4780-a062-83fee24eea41",
   "metadata": {},
   "outputs": [
    {
     "data": {
      "text/plain": [
       "{1, 2, 9, 13, 18, 20, 21, 34, 84, 90}"
      ]
     },
     "execution_count": 80,
     "metadata": {},
     "output_type": "execute_result"
    }
   ],
   "source": [
    "sets"
   ]
  },
  {
   "cell_type": "code",
   "execution_count": 81,
   "id": "3256598c-fa33-44f5-92e8-0715ad3399f5",
   "metadata": {},
   "outputs": [
    {
     "data": {
      "text/plain": [
       "True"
      ]
     },
     "execution_count": 81,
     "metadata": {},
     "output_type": "execute_result"
    }
   ],
   "source": [
    "18 in sets"
   ]
  },
  {
   "cell_type": "code",
   "execution_count": 82,
   "id": "ccfa0200-c182-4224-a310-274a631fba09",
   "metadata": {},
   "outputs": [],
   "source": [
    "sets = (2,9,12,13,12,20,20,1,18,9,84,90,21)"
   ]
  },
  {
   "cell_type": "markdown",
   "id": "4e393002-8be3-4fa6-a9e0-5927712cc103",
   "metadata": {},
   "source": [
    "### 4. Find the size of the set.  "
   ]
  },
  {
   "cell_type": "code",
   "execution_count": 84,
   "id": "71ed98d7-827e-4cb9-bef3-ed6f2ae9713d",
   "metadata": {},
   "outputs": [],
   "source": [
    "sets = (2,9,12,13,12,20,20,1,18,9,84,90,21)"
   ]
  },
  {
   "cell_type": "code",
   "execution_count": 85,
   "id": "02b98ef7-10ff-4913-9caa-86f81a7baec2",
   "metadata": {},
   "outputs": [
    {
     "data": {
      "text/plain": [
       "(2, 9, 12, 13, 12, 20, 20, 1, 18, 9, 84, 90, 21)"
      ]
     },
     "execution_count": 85,
     "metadata": {},
     "output_type": "execute_result"
    }
   ],
   "source": [
    "sets"
   ]
  },
  {
   "cell_type": "code",
   "execution_count": 86,
   "id": "fac1485f-f11a-426d-b62b-0ea976c07945",
   "metadata": {},
   "outputs": [
    {
     "data": {
      "text/plain": [
       "13"
      ]
     },
     "execution_count": 86,
     "metadata": {},
     "output_type": "execute_result"
    }
   ],
   "source": [
    "len(sets)"
   ]
  },
  {
   "cell_type": "markdown",
   "id": "0556ac61-1c1e-43f5-9e7f-88079703463e",
   "metadata": {},
   "source": [
    "#### 5. Set Operations with Lists Create a Python list with duplicate elements and convert it into a set to remove duplicates. Then, write a program to count how many duplicates were removed."
   ]
  },
  {
   "cell_type": "code",
   "execution_count": 1,
   "id": "8beef20d-151c-4c50-b9d6-f90458fa3758",
   "metadata": {},
   "outputs": [],
   "source": [
    "marks = [1,2,3,4,2,6,8,6,9,2,4]"
   ]
  },
  {
   "cell_type": "code",
   "execution_count": 2,
   "id": "eb03e65f-445a-49a8-a4f4-dad74cb7a8c0",
   "metadata": {},
   "outputs": [
    {
     "data": {
      "text/plain": [
       "[1, 2, 3, 4, 2, 6, 8, 6, 9, 2, 4]"
      ]
     },
     "execution_count": 2,
     "metadata": {},
     "output_type": "execute_result"
    }
   ],
   "source": [
    "marks"
   ]
  },
  {
   "cell_type": "code",
   "execution_count": 3,
   "id": "3fc789cb-c832-4091-9d89-83875a915711",
   "metadata": {},
   "outputs": [
    {
     "data": {
      "text/plain": [
       "{1, 2, 3, 4, 6, 8, 9}"
      ]
     },
     "execution_count": 3,
     "metadata": {},
     "output_type": "execute_result"
    }
   ],
   "source": [
    "marks.sort(reverse = True)\n",
    "set(marks)"
   ]
  },
  {
   "cell_type": "code",
   "execution_count": null,
   "id": "c6f41013-a4e2-4830-8e1d-2c42a051388e",
   "metadata": {},
   "outputs": [],
   "source": []
  }
 ],
 "metadata": {
  "kernelspec": {
   "display_name": "Python 3 (ipykernel)",
   "language": "python",
   "name": "python3"
  },
  "language_info": {
   "codemirror_mode": {
    "name": "ipython",
    "version": 3
   },
   "file_extension": ".py",
   "mimetype": "text/x-python",
   "name": "python",
   "nbconvert_exporter": "python",
   "pygments_lexer": "ipython3",
   "version": "3.11.7"
  }
 },
 "nbformat": 4,
 "nbformat_minor": 5
}
