{
 "cells": [
  {
   "cell_type": "code",
   "execution_count": 3,
   "id": "eedd97e1-2580-4938-aba1-5fe1879e3677",
   "metadata": {},
   "outputs": [
    {
     "data": {
      "text/plain": [
       "140729089115528"
      ]
     },
     "execution_count": 3,
     "metadata": {},
     "output_type": "execute_result"
    }
   ],
   "source": [
    "id(a)"
   ]
  },
  {
   "cell_type": "code",
   "execution_count": 4,
   "id": "3857d1be-52e8-4408-8fc9-38a1463a791a",
   "metadata": {},
   "outputs": [
    {
     "data": {
      "text/plain": [
       "int"
      ]
     },
     "execution_count": 4,
     "metadata": {},
     "output_type": "execute_result"
    }
   ],
   "source": [
    "type(a)"
   ]
  },
  {
   "cell_type": "code",
   "execution_count": 5,
   "id": "c2175b9b-0a12-4954-91bd-1fd73962c464",
   "metadata": {},
   "outputs": [
    {
     "data": {
      "text/plain": [
       "['__abs__',\n",
       " '__add__',\n",
       " '__and__',\n",
       " '__bool__',\n",
       " '__ceil__',\n",
       " '__class__',\n",
       " '__delattr__',\n",
       " '__dir__',\n",
       " '__divmod__',\n",
       " '__doc__',\n",
       " '__eq__',\n",
       " '__float__',\n",
       " '__floor__',\n",
       " '__floordiv__',\n",
       " '__format__',\n",
       " '__ge__',\n",
       " '__getattribute__',\n",
       " '__getnewargs__',\n",
       " '__getstate__',\n",
       " '__gt__',\n",
       " '__hash__',\n",
       " '__index__',\n",
       " '__init__',\n",
       " '__init_subclass__',\n",
       " '__int__',\n",
       " '__invert__',\n",
       " '__le__',\n",
       " '__lshift__',\n",
       " '__lt__',\n",
       " '__mod__',\n",
       " '__mul__',\n",
       " '__ne__',\n",
       " '__neg__',\n",
       " '__new__',\n",
       " '__or__',\n",
       " '__pos__',\n",
       " '__pow__',\n",
       " '__radd__',\n",
       " '__rand__',\n",
       " '__rdivmod__',\n",
       " '__reduce__',\n",
       " '__reduce_ex__',\n",
       " '__repr__',\n",
       " '__rfloordiv__',\n",
       " '__rlshift__',\n",
       " '__rmod__',\n",
       " '__rmul__',\n",
       " '__ror__',\n",
       " '__round__',\n",
       " '__rpow__',\n",
       " '__rrshift__',\n",
       " '__rshift__',\n",
       " '__rsub__',\n",
       " '__rtruediv__',\n",
       " '__rxor__',\n",
       " '__setattr__',\n",
       " '__sizeof__',\n",
       " '__str__',\n",
       " '__sub__',\n",
       " '__subclasshook__',\n",
       " '__truediv__',\n",
       " '__trunc__',\n",
       " '__xor__',\n",
       " 'as_integer_ratio',\n",
       " 'bit_count',\n",
       " 'bit_length',\n",
       " 'conjugate',\n",
       " 'denominator',\n",
       " 'from_bytes',\n",
       " 'imag',\n",
       " 'numerator',\n",
       " 'real',\n",
       " 'to_bytes']"
      ]
     },
     "execution_count": 5,
     "metadata": {},
     "output_type": "execute_result"
    }
   ],
   "source": [
    "dir(int)"
   ]
  },
  {
   "cell_type": "code",
   "execution_count": 6,
   "id": "4dbb44ca-9b5e-4e7b-9692-3bab74f76cc1",
   "metadata": {},
   "outputs": [
    {
     "data": {
      "text/plain": [
       "2050"
      ]
     },
     "execution_count": 6,
     "metadata": {},
     "output_type": "execute_result"
    }
   ],
   "source": [
    "a = '2050'\n",
    "int(a)"
   ]
  },
  {
   "cell_type": "code",
   "execution_count": 7,
   "id": "513b8007-d451-4510-9430-9d54fe5b50b7",
   "metadata": {},
   "outputs": [],
   "source": [
    "a = 20"
   ]
  },
  {
   "cell_type": "code",
   "execution_count": 8,
   "id": "37316c6e-94f2-4414-b164-46f3aaf24bba",
   "metadata": {},
   "outputs": [
    {
     "data": {
      "text/plain": [
       "(20, 1)"
      ]
     },
     "execution_count": 8,
     "metadata": {},
     "output_type": "execute_result"
    }
   ],
   "source": [
    "a.as_integer_ratio()"
   ]
  },
  {
   "cell_type": "code",
   "execution_count": 9,
   "id": "c97674e7-ff7b-4737-a8a8-ff0fa6345c4f",
   "metadata": {},
   "outputs": [
    {
     "data": {
      "text/plain": [
       "'0b10100'"
      ]
     },
     "execution_count": 9,
     "metadata": {},
     "output_type": "execute_result"
    }
   ],
   "source": [
    "bin(20)"
   ]
  },
  {
   "cell_type": "code",
   "execution_count": 10,
   "id": "f634a243-5eec-44be-9236-40cda0de957a",
   "metadata": {},
   "outputs": [
    {
     "data": {
      "text/plain": [
       "2"
      ]
     },
     "execution_count": 10,
     "metadata": {},
     "output_type": "execute_result"
    }
   ],
   "source": [
    "a.bit_count()  #Number of ones in the binary representation of the absolute value of self"
   ]
  },
  {
   "cell_type": "code",
   "execution_count": 11,
   "id": "aa2f0da5-ec34-4ea5-bd9c-f698561e9ba0",
   "metadata": {},
   "outputs": [
    {
     "data": {
      "text/plain": [
       "5"
      ]
     },
     "execution_count": 11,
     "metadata": {},
     "output_type": "execute_result"
    }
   ],
   "source": [
    "a.bit_length()"
   ]
  },
  {
   "cell_type": "markdown",
   "id": "b72080e9-d9c0-4a26-85ca-69c21a7a6102",
   "metadata": {},
   "source": [
    "#### FLOAT"
   ]
  },
  {
   "cell_type": "code",
   "execution_count": 12,
   "id": "41ab89b0-098b-42c0-b505-ed730a2c468a",
   "metadata": {},
   "outputs": [],
   "source": [
    "a = 20.6"
   ]
  },
  {
   "cell_type": "code",
   "execution_count": 13,
   "id": "c6854b03-56a7-4b33-b19b-b423fb417ad0",
   "metadata": {},
   "outputs": [
    {
     "data": {
      "text/plain": [
       "float"
      ]
     },
     "execution_count": 13,
     "metadata": {},
     "output_type": "execute_result"
    }
   ],
   "source": [
    "type(a)"
   ]
  },
  {
   "cell_type": "code",
   "execution_count": 14,
   "id": "0bf50120-be6b-46f3-8c7d-d5c349c69c4a",
   "metadata": {},
   "outputs": [
    {
     "data": {
      "text/plain": [
       "1000000"
      ]
     },
     "execution_count": 14,
     "metadata": {},
     "output_type": "execute_result"
    }
   ],
   "source": [
    "10 ** 6"
   ]
  },
  {
   "cell_type": "code",
   "execution_count": 15,
   "id": "d0bb2c1c-0a12-41bc-b92d-53397f22198c",
   "metadata": {},
   "outputs": [],
   "source": [
    "val = 1.0E5"
   ]
  },
  {
   "cell_type": "code",
   "execution_count": 16,
   "id": "e4781a5e-3e0f-461d-af45-5e00cdd1c9e6",
   "metadata": {},
   "outputs": [
    {
     "data": {
      "text/plain": [
       "100000.0"
      ]
     },
     "execution_count": 16,
     "metadata": {},
     "output_type": "execute_result"
    }
   ],
   "source": [
    "val"
   ]
  },
  {
   "cell_type": "code",
   "execution_count": 17,
   "id": "74db0251-cecf-4edb-af3d-d719d718bca4",
   "metadata": {},
   "outputs": [
    {
     "ename": "TypeError",
     "evalue": "'float' object is not callable",
     "output_type": "error",
     "traceback": [
      "\u001b[1;31m---------------------------------------------------------------------------\u001b[0m",
      "\u001b[1;31mTypeError\u001b[0m                                 Traceback (most recent call last)",
      "Cell \u001b[1;32mIn[17], line 1\u001b[0m\n\u001b[1;32m----> 1\u001b[0m val\u001b[38;5;241m.\u001b[39mimag()\n",
      "\u001b[1;31mTypeError\u001b[0m: 'float' object is not callable"
     ]
    }
   ],
   "source": [
    "val.imag()"
   ]
  },
  {
   "cell_type": "markdown",
   "id": "ac291e6c-5d1b-4246-8370-93048506b055",
   "metadata": {},
   "source": [
    "#### COMPLEX VALUE"
   ]
  },
  {
   "cell_type": "code",
   "execution_count": 18,
   "id": "4b4b2c9d-4691-4bfd-9489-5fbb788a5519",
   "metadata": {},
   "outputs": [],
   "source": [
    "n = 10 + 20j"
   ]
  },
  {
   "cell_type": "code",
   "execution_count": 19,
   "id": "0fcfccf5-f2eb-43f7-b114-3ef815a970fd",
   "metadata": {},
   "outputs": [
    {
     "data": {
      "text/plain": [
       "(10-20j)"
      ]
     },
     "execution_count": 19,
     "metadata": {},
     "output_type": "execute_result"
    }
   ],
   "source": [
    "n.conjugate()"
   ]
  },
  {
   "cell_type": "code",
   "execution_count": 20,
   "id": "ed0a90cb-27fa-441b-9ff3-145c939d54ef",
   "metadata": {},
   "outputs": [
    {
     "data": {
      "text/plain": [
       "10.0"
      ]
     },
     "execution_count": 20,
     "metadata": {},
     "output_type": "execute_result"
    }
   ],
   "source": [
    "n.real"
   ]
  },
  {
   "cell_type": "code",
   "execution_count": 21,
   "id": "842ea096-4bc6-4514-ae66-3ac7b7e4cfd2",
   "metadata": {},
   "outputs": [
    {
     "data": {
      "text/plain": [
       "20.0"
      ]
     },
     "execution_count": 21,
     "metadata": {},
     "output_type": "execute_result"
    }
   ],
   "source": [
    "n.imag"
   ]
  },
  {
   "cell_type": "markdown",
   "id": "87851e33-eb80-42a5-a6c1-460abd467b6a",
   "metadata": {},
   "source": [
    "## NON-NUMERICAL DATATYPES"
   ]
  },
  {
   "cell_type": "markdown",
   "id": "ccd472f3-16b6-4c88-a377-d690a7daeb99",
   "metadata": {},
   "source": [
    "#### BOOLEAN DATATYPE"
   ]
  },
  {
   "cell_type": "code",
   "execution_count": 22,
   "id": "1c1a40f1-53b5-4c9b-a501-5eaec8e1f2a3",
   "metadata": {},
   "outputs": [],
   "source": [
    "n = True"
   ]
  },
  {
   "cell_type": "code",
   "execution_count": 23,
   "id": "26e7bccf-bee7-42b8-a267-d91df8bf8394",
   "metadata": {},
   "outputs": [
    {
     "data": {
      "text/plain": [
       "(1, 1)"
      ]
     },
     "execution_count": 23,
     "metadata": {},
     "output_type": "execute_result"
    }
   ],
   "source": [
    "n.as_integer_ratio()"
   ]
  },
  {
   "cell_type": "markdown",
   "id": "e18cfea0-5bb8-4c85-bcb0-ba6ef434eace",
   "metadata": {},
   "source": [
    "#### STRING"
   ]
  },
  {
   "cell_type": "code",
   "execution_count": 24,
   "id": "e80b0422-8d7e-45f6-ac24-71d6342e4ac9",
   "metadata": {},
   "outputs": [],
   "source": [
    "a = 'Hello'"
   ]
  },
  {
   "cell_type": "code",
   "execution_count": 25,
   "id": "250cac18-d568-4956-867c-4bf3ab8dfcdb",
   "metadata": {},
   "outputs": [
    {
     "data": {
      "text/plain": [
       "str"
      ]
     },
     "execution_count": 25,
     "metadata": {},
     "output_type": "execute_result"
    }
   ],
   "source": [
    "type(a)"
   ]
  },
  {
   "cell_type": "code",
   "execution_count": 26,
   "id": "b2e96941-41ec-4114-be28-903a2ee6e828",
   "metadata": {},
   "outputs": [],
   "source": [
    "b = \"Hello\""
   ]
  },
  {
   "cell_type": "code",
   "execution_count": 27,
   "id": "6e2b4b80-cc89-4670-b700-a197ec13dea8",
   "metadata": {},
   "outputs": [
    {
     "data": {
      "text/plain": [
       "'Hello'"
      ]
     },
     "execution_count": 27,
     "metadata": {},
     "output_type": "execute_result"
    }
   ],
   "source": [
    "a"
   ]
  },
  {
   "cell_type": "code",
   "execution_count": 28,
   "id": "5c803e0f-b7fb-4ec3-b9f5-ee3a3f2ecfb8",
   "metadata": {},
   "outputs": [
    {
     "data": {
      "text/plain": [
       "'Hello'"
      ]
     },
     "execution_count": 28,
     "metadata": {},
     "output_type": "execute_result"
    }
   ],
   "source": [
    "b"
   ]
  },
  {
   "cell_type": "code",
   "execution_count": 29,
   "id": "ddbd2e50-6cd1-462f-a7d7-5f0f60336630",
   "metadata": {},
   "outputs": [],
   "source": [
    "c = '''hello'''"
   ]
  },
  {
   "cell_type": "code",
   "execution_count": 30,
   "id": "e6fe0759-61ae-4bdb-a926-7513d0110c79",
   "metadata": {},
   "outputs": [
    {
     "data": {
      "text/plain": [
       "'hello'"
      ]
     },
     "execution_count": 30,
     "metadata": {},
     "output_type": "execute_result"
    }
   ],
   "source": [
    "c"
   ]
  },
  {
   "cell_type": "code",
   "execution_count": 31,
   "id": "80c5ae39-d425-43c2-8408-8e2bb9456e9a",
   "metadata": {},
   "outputs": [
    {
     "data": {
      "text/plain": [
       "str"
      ]
     },
     "execution_count": 31,
     "metadata": {},
     "output_type": "execute_result"
    }
   ],
   "source": [
    "type(c)"
   ]
  },
  {
   "cell_type": "code",
   "execution_count": 32,
   "id": "b5506ae1-816b-427a-9f11-5e6fabb25695",
   "metadata": {},
   "outputs": [],
   "source": [
    "d = '''Hello\n",
    "i am jahnavi'''              #Triple quotes"
   ]
  },
  {
   "cell_type": "code",
   "execution_count": 33,
   "id": "328dc32c-5089-485f-a60b-1baa7460a5d1",
   "metadata": {},
   "outputs": [
    {
     "name": "stdout",
     "output_type": "stream",
     "text": [
      "Hello\n",
      "i am jahnavi\n"
     ]
    }
   ],
   "source": [
    "print(d)"
   ]
  },
  {
   "cell_type": "code",
   "execution_count": 34,
   "id": "5c121401-61b4-4d73-94d7-2ce300da9e5c",
   "metadata": {},
   "outputs": [
    {
     "ename": "SyntaxError",
     "evalue": "unterminated string literal (detected at line 1) (1209531115.py, line 1)",
     "output_type": "error",
     "traceback": [
      "\u001b[1;36m  Cell \u001b[1;32mIn[34], line 1\u001b[1;36m\u001b[0m\n\u001b[1;33m    e = 'Hello\u001b[0m\n\u001b[1;37m        ^\u001b[0m\n\u001b[1;31mSyntaxError\u001b[0m\u001b[1;31m:\u001b[0m unterminated string literal (detected at line 1)\n"
     ]
    }
   ],
   "source": [
    "e = 'Hello\n",
    "i am jahnavi'               #single quote"
   ]
  },
  {
   "cell_type": "markdown",
   "id": "2fc49048-1865-466f-9f4f-6b7c89986873",
   "metadata": {},
   "source": [
    "single quotes and double quotes are not working for continously writing to next line"
   ]
  },
  {
   "cell_type": "markdown",
   "id": "89275fd2-499d-4de1-9b9d-049bd8aac423",
   "metadata": {},
   "source": [
    "## ESCAPE CHARACTERS"
   ]
  },
  {
   "cell_type": "markdown",
   "id": "25333d56-7a4a-4ce7-8a1f-006b13560ed8",
   "metadata": {},
   "source": [
    "* Single quote\n",
    "* Double quotes"
   ]
  },
  {
   "cell_type": "code",
   "execution_count": 1,
   "id": "fb863343-8886-4a9a-b1db-fe826bf2d8e9",
   "metadata": {},
   "outputs": [
    {
     "name": "stdout",
     "output_type": "stream",
     "text": [
      "i am jahnavi\n"
     ]
    }
   ],
   "source": [
    "sent = 'i am jahnavi'\n",
    "print(sent)"
   ]
  },
  {
   "cell_type": "code",
   "execution_count": 2,
   "id": "cae153e4-f725-48b8-8b57-2de60c14f7b0",
   "metadata": {},
   "outputs": [
    {
     "ename": "SyntaxError",
     "evalue": "unterminated string literal (detected at line 1) (2309739505.py, line 1)",
     "output_type": "error",
     "traceback": [
      "\u001b[1;36m  Cell \u001b[1;32mIn[2], line 1\u001b[1;36m\u001b[0m\n\u001b[1;33m    name = 'this is someone's place'\u001b[0m\n\u001b[1;37m                                   ^\u001b[0m\n\u001b[1;31mSyntaxError\u001b[0m\u001b[1;31m:\u001b[0m unterminated string literal (detected at line 1)\n"
     ]
    }
   ],
   "source": [
    "name = 'this is someone's place'\n",
    "print(name)"
   ]
  },
  {
   "cell_type": "markdown",
   "id": "3bebd487-7939-44b3-b9d6-e6f9357abcc9",
   "metadata": {},
   "source": [
    "*In this case we use double quotes"
   ]
  },
  {
   "cell_type": "code",
   "execution_count": 3,
   "id": "41f5a42c-5431-45f1-9165-8e6e7dc2fd72",
   "metadata": {},
   "outputs": [
    {
     "name": "stdout",
     "output_type": "stream",
     "text": [
      "this is someone's place\n"
     ]
    }
   ],
   "source": [
    "name = \"this is someone's place\"\n",
    "print(name)"
   ]
  },
  {
   "cell_type": "code",
   "execution_count": 4,
   "id": "21fb9210-8b57-498e-928d-e40794191ec9",
   "metadata": {},
   "outputs": [
    {
     "name": "stdout",
     "output_type": "stream",
     "text": [
      "I love \"python\" programming\n"
     ]
    }
   ],
   "source": [
    "name2 = 'I love \"python\" programming'\n",
    "print(name2)"
   ]
  },
  {
   "cell_type": "markdown",
   "id": "a4cc32a5-a5a8-4357-9218-d7c5be6d9d41",
   "metadata": {},
   "source": [
    "## \\"
   ]
  },
  {
   "cell_type": "code",
   "execution_count": 5,
   "id": "7391071e-af61-4ac8-b4fe-34c65a6ad16a",
   "metadata": {},
   "outputs": [
    {
     "name": "stdout",
     "output_type": "stream",
     "text": [
      "This is ram's phone\n"
     ]
    }
   ],
   "source": [
    "sent = 'This is ram\\'s phone'\n",
    "print(sent)"
   ]
  },
  {
   "cell_type": "code",
   "execution_count": 6,
   "id": "8993886e-77e0-46ca-8176-67423f6428c5",
   "metadata": {},
   "outputs": [
    {
     "name": "stdout",
     "output_type": "stream",
     "text": [
      "old\n",
      "ew\n"
     ]
    }
   ],
   "source": [
    "print('old\\new')\n"
   ]
  },
  {
   "cell_type": "code",
   "execution_count": 7,
   "id": "83ca7438-04e0-45a4-9e6a-ba4e28fbd43d",
   "metadata": {},
   "outputs": [
    {
     "name": "stdout",
     "output_type": "stream",
     "text": [
      "I love \"python\" programming\n"
     ]
    }
   ],
   "source": [
    "sent = \"I love \\\"python\\\" programming\"\n",
    "print(sent)"
   ]
  },
  {
   "cell_type": "markdown",
   "id": "ed956506-8adf-4ef2-b590-b7319d0eba78",
   "metadata": {},
   "source": [
    "## \\n2"
   ]
  },
  {
   "cell_type": "code",
   "execution_count": 8,
   "id": "4a7608b1-3ac8-415d-ae45-6c1974cacfdd",
   "metadata": {},
   "outputs": [
    {
     "name": "stdout",
     "output_type": "stream",
     "text": [
      "Innomatics \n",
      "Research \n",
      "Labs\n"
     ]
    }
   ],
   "source": [
    "name = 'Innomatics \\nResearch \\nLabs'\n",
    "print(name)"
   ]
  },
  {
   "cell_type": "markdown",
   "id": "c13529bd-c726-469c-9f4f-b73fa122dcde",
   "metadata": {},
   "source": [
    "## \\t----creates whitespace between characters"
   ]
  },
  {
   "cell_type": "code",
   "execution_count": 9,
   "id": "eb7340e1-b12a-4217-bb4d-e7219cbe713b",
   "metadata": {},
   "outputs": [
    {
     "name": "stdout",
     "output_type": "stream",
     "text": [
      "I \tam \tjahnavi\n"
     ]
    }
   ],
   "source": [
    "name = 'I \\tam \\tjahnavi'\n",
    "print(name)"
   ]
  },
  {
   "cell_type": "markdown",
   "id": "0dcd0e2a-0913-4775-ae85-3b9fd6ad191c",
   "metadata": {},
   "source": [
    "## \\b----backspace removes the characters"
   ]
  },
  {
   "cell_type": "code",
   "execution_count": 10,
   "id": "d6f16b2b-0a4d-4738-9242-97ee9b6d44ba",
   "metadata": {},
   "outputs": [
    {
     "name": "stdout",
     "output_type": "stream",
     "text": [
      "Iajahnavi\n"
     ]
    }
   ],
   "source": [
    "name = 'I \\bam\\bjahnavi'\n",
    "print(name)"
   ]
  },
  {
   "cell_type": "code",
   "execution_count": 11,
   "id": "968559d4-991b-45e7-bebe-a2db0e8c63bb",
   "metadata": {},
   "outputs": [
    {
     "name": "stdout",
     "output_type": "stream",
     "text": [
      "old\n",
      "ew\n"
     ]
    }
   ],
   "source": [
    "print('old\\new')"
   ]
  },
  {
   "cell_type": "code",
   "execution_count": 12,
   "id": "966ecf9a-1990-48a8-a009-01a649d6569e",
   "metadata": {},
   "outputs": [
    {
     "name": "stdout",
     "output_type": "stream",
     "text": [
      "old\\new\n"
     ]
    }
   ],
   "source": [
    "print('old\\\\new')"
   ]
  },
  {
   "cell_type": "code",
   "execution_count": 16,
   "id": "71eb67b1-2698-4f28-970f-fd7556becc06",
   "metadata": {},
   "outputs": [
    {
     "name": "stdout",
     "output_type": "stream",
     "text": [
      "C:\\Users\n"
     ]
    }
   ],
   "source": [
    "print(\"C:\\\\Users\")"
   ]
  },
  {
   "cell_type": "code",
   "execution_count": 21,
   "id": "24ae8d3d-2c8c-4aea-a551-be47e27b36b5",
   "metadata": {},
   "outputs": [
    {
     "name": "stdout",
     "output_type": "stream",
     "text": [
      "C:\\Users\n"
     ]
    }
   ],
   "source": [
    "print(r\"C:\\Users\")"
   ]
  },
  {
   "cell_type": "code",
   "execution_count": 27,
   "id": "3cbad57b-2e4c-4ff7-9db5-b0c6bb7bc000",
   "metadata": {},
   "outputs": [
    {
     "name": "stdout",
     "output_type": "stream",
     "text": [
      "C:\n",
      "ewfolder\n"
     ]
    }
   ],
   "source": [
    "print(\"C:\\newfolder\")"
   ]
  },
  {
   "cell_type": "markdown",
   "id": "8ac1cde1-7854-49bf-8f81-e2d678984838",
   "metadata": {},
   "source": [
    "# INDEXING AND SLICING"
   ]
  },
  {
   "cell_type": "markdown",
   "id": "f9c0412f-6f2c-4bac-bc1a-f8e5eb33f8ac",
   "metadata": {},
   "source": [
    "#### INDEXING----Extracting single value"
   ]
  },
  {
   "cell_type": "code",
   "execution_count": 28,
   "id": "21d84722-90f4-423b-86a8-64af64ab2f6d",
   "metadata": {},
   "outputs": [
    {
     "name": "stdout",
     "output_type": "stream",
     "text": [
      "Hello world\n"
     ]
    }
   ],
   "source": [
    "string = 'Hello world'\n",
    "print(string)"
   ]
  },
  {
   "cell_type": "code",
   "execution_count": 29,
   "id": "3c38fd19-1465-46ee-8907-07856d94e39e",
   "metadata": {},
   "outputs": [
    {
     "data": {
      "text/plain": [
       "'e'"
      ]
     },
     "execution_count": 29,
     "metadata": {},
     "output_type": "execute_result"
    }
   ],
   "source": [
    "string[1]"
   ]
  },
  {
   "cell_type": "code",
   "execution_count": 30,
   "id": "e8136651-d004-4f5c-a14e-6c5e840a0f86",
   "metadata": {},
   "outputs": [
    {
     "data": {
      "text/plain": [
       "'e'"
      ]
     },
     "execution_count": 30,
     "metadata": {},
     "output_type": "execute_result"
    }
   ],
   "source": [
    "string[-10]"
   ]
  },
  {
   "cell_type": "code",
   "execution_count": 31,
   "id": "c22f8942-e5d6-4f68-81c0-d7e4d7b25441",
   "metadata": {},
   "outputs": [
    {
     "data": {
      "text/plain": [
       "'d'"
      ]
     },
     "execution_count": 31,
     "metadata": {},
     "output_type": "execute_result"
    }
   ],
   "source": [
    "string[-1]"
   ]
  },
  {
   "cell_type": "markdown",
   "id": "696bcd08-5bea-4bd1-9fac-fa66ab22b29c",
   "metadata": {},
   "source": [
    "#### SLICING----Extracting more than single values"
   ]
  },
  {
   "cell_type": "code",
   "execution_count": 32,
   "id": "2b18df59-7370-495b-8cdd-a6b0328583ab",
   "metadata": {},
   "outputs": [
    {
     "data": {
      "text/plain": [
       "'Hello world'"
      ]
     },
     "execution_count": 32,
     "metadata": {},
     "output_type": "execute_result"
    }
   ],
   "source": [
    "string"
   ]
  },
  {
   "cell_type": "code",
   "execution_count": 33,
   "id": "4a0234fe-9228-4ef0-ba71-f19f65f6c589",
   "metadata": {},
   "outputs": [
    {
     "data": {
      "text/plain": [
       "'ell'"
      ]
     },
     "execution_count": 33,
     "metadata": {},
     "output_type": "execute_result"
    }
   ],
   "source": [
    "string[1:4]"
   ]
  },
  {
   "cell_type": "code",
   "execution_count": 34,
   "id": "70b522c4-4823-42ee-b3bb-771ac8c43130",
   "metadata": {},
   "outputs": [
    {
     "data": {
      "text/plain": [
       "'orl'"
      ]
     },
     "execution_count": 34,
     "metadata": {},
     "output_type": "execute_result"
    }
   ],
   "source": [
    "string[7:10]"
   ]
  },
  {
   "cell_type": "code",
   "execution_count": 35,
   "id": "918bc82c-c4d2-4a31-91e6-36444131a1e2",
   "metadata": {},
   "outputs": [
    {
     "data": {
      "text/plain": [
       "'Hell'"
      ]
     },
     "execution_count": 35,
     "metadata": {},
     "output_type": "execute_result"
    }
   ],
   "source": [
    "string[0:4]"
   ]
  },
  {
   "cell_type": "code",
   "execution_count": 36,
   "id": "f1b8a0c2-33f2-4df7-a695-dda0a04ef45d",
   "metadata": {},
   "outputs": [
    {
     "data": {
      "text/plain": [
       "'Research'"
      ]
     },
     "execution_count": 36,
     "metadata": {},
     "output_type": "execute_result"
    }
   ],
   "source": [
    "edtech = 'Innomatics Research Labs'\n",
    "edtech[11:19]"
   ]
  },
  {
   "cell_type": "code",
   "execution_count": 37,
   "id": "0e432a3a-4ba6-4e7f-b8e5-be54ba185913",
   "metadata": {},
   "outputs": [
    {
     "data": {
      "text/plain": [
       "'mat'"
      ]
     },
     "execution_count": 37,
     "metadata": {},
     "output_type": "execute_result"
    }
   ],
   "source": [
    "edtech[4:7]"
   ]
  },
  {
   "cell_type": "code",
   "execution_count": 38,
   "id": "f40e2939-2f49-4597-9285-508733291231",
   "metadata": {},
   "outputs": [
    {
     "data": {
      "text/plain": [
       "'search'"
      ]
     },
     "execution_count": 38,
     "metadata": {},
     "output_type": "execute_result"
    }
   ],
   "source": [
    "edtech[13:19]"
   ]
  },
  {
   "cell_type": "code",
   "execution_count": 39,
   "id": "14928b73-c264-424b-b44f-6302240bd5f0",
   "metadata": {},
   "outputs": [
    {
     "data": {
      "text/plain": [
       "'Hello world'"
      ]
     },
     "execution_count": 39,
     "metadata": {},
     "output_type": "execute_result"
    }
   ],
   "source": [
    "string"
   ]
  },
  {
   "cell_type": "markdown",
   "id": "7f41d332-cb29-4a2b-9871-e00ccbac3271",
   "metadata": {},
   "source": [
    "#### name[start:stop:step]"
   ]
  },
  {
   "cell_type": "markdown",
   "id": "f20f8b47-f80c-45ff-be7b-99ef2d6ef9d9",
   "metadata": {},
   "source": [
    "##### Forward Indexing"
   ]
  },
  {
   "cell_type": "code",
   "execution_count": 40,
   "id": "7d62d87d-eb03-4e76-86b0-8875d00a5681",
   "metadata": {},
   "outputs": [
    {
     "data": {
      "text/plain": [
       "'lo wo'"
      ]
     },
     "execution_count": 40,
     "metadata": {},
     "output_type": "execute_result"
    }
   ],
   "source": [
    "string[3:8:1]"
   ]
  },
  {
   "cell_type": "code",
   "execution_count": 41,
   "id": "c8270861-886a-4d99-a8f7-824fa4bee631",
   "metadata": {},
   "outputs": [
    {
     "data": {
      "text/plain": [
       "'l o'"
      ]
     },
     "execution_count": 41,
     "metadata": {},
     "output_type": "execute_result"
    }
   ],
   "source": [
    "string[3:8:2]"
   ]
  },
  {
   "cell_type": "code",
   "execution_count": 42,
   "id": "eabe9ec4-0a63-4454-b8dd-f02a3752701b",
   "metadata": {},
   "outputs": [
    {
     "data": {
      "text/plain": [
       "'Hlowr'"
      ]
     },
     "execution_count": 42,
     "metadata": {},
     "output_type": "execute_result"
    }
   ],
   "source": [
    "string[:10:2]  #default value is 0 for start"
   ]
  },
  {
   "cell_type": "code",
   "execution_count": 43,
   "id": "a6f9a4fb-2b00-4536-baaa-f0f0c819d392",
   "metadata": {},
   "outputs": [
    {
     "data": {
      "text/plain": [
       "'Hlowrd'"
      ]
     },
     "execution_count": 43,
     "metadata": {},
     "output_type": "execute_result"
    }
   ],
   "source": [
    "string[0::2] #default value is last value for stop"
   ]
  },
  {
   "cell_type": "code",
   "execution_count": 44,
   "id": "4fd4fa38-feb1-4760-bcb0-0f8c2f21c4aa",
   "metadata": {},
   "outputs": [
    {
     "data": {
      "text/plain": [
       "'Hlowrd'"
      ]
     },
     "execution_count": 44,
     "metadata": {},
     "output_type": "execute_result"
    }
   ],
   "source": [
    "string[::2]"
   ]
  },
  {
   "cell_type": "markdown",
   "id": "2a76e4df-5880-4c9e-8b9c-1acd340fd0d2",
   "metadata": {},
   "source": [
    "##### Reverse Indexing"
   ]
  },
  {
   "cell_type": "code",
   "execution_count": 45,
   "id": "f8e9c086-7519-4e69-a32d-1eb166ad3e95",
   "metadata": {},
   "outputs": [
    {
     "data": {
      "text/plain": [
       "'Hello world'"
      ]
     },
     "execution_count": 45,
     "metadata": {},
     "output_type": "execute_result"
    }
   ],
   "source": [
    "string"
   ]
  },
  {
   "cell_type": "code",
   "execution_count": 46,
   "id": "6ed3bdf6-0ac7-44ee-92e8-45934d5d2dc5",
   "metadata": {},
   "outputs": [
    {
     "data": {
      "text/plain": [
       "'dlrow oll'"
      ]
     },
     "execution_count": 46,
     "metadata": {},
     "output_type": "execute_result"
    }
   ],
   "source": [
    "string[-1:-10:-1]"
   ]
  },
  {
   "cell_type": "code",
   "execution_count": 47,
   "id": "399f944e-52ce-4257-a192-4c6c08add640",
   "metadata": {},
   "outputs": [
    {
     "data": {
      "text/plain": [
       "'olleH'"
      ]
     },
     "execution_count": 47,
     "metadata": {},
     "output_type": "execute_result"
    }
   ],
   "source": [
    "string[-7:-12:-1]"
   ]
  },
  {
   "cell_type": "code",
   "execution_count": 48,
   "id": "51532bb4-8031-4dad-a741-05afd8f40182",
   "metadata": {},
   "outputs": [
    {
     "data": {
      "text/plain": [
       "'lrow'"
      ]
     },
     "execution_count": 48,
     "metadata": {},
     "output_type": "execute_result"
    }
   ],
   "source": [
    "string[-2:-6:-1]"
   ]
  },
  {
   "cell_type": "code",
   "execution_count": 49,
   "id": "47e179a9-dde0-4274-b031-ea1131d5a7f7",
   "metadata": {},
   "outputs": [
    {
     "data": {
      "text/plain": [
       "''"
      ]
     },
     "execution_count": 49,
     "metadata": {},
     "output_type": "execute_result"
    }
   ],
   "source": [
    "string[-5:-2:-1]"
   ]
  },
  {
   "cell_type": "code",
   "execution_count": 50,
   "id": "4afa7a5f-b7f3-4272-908c-203d9be7ae08",
   "metadata": {},
   "outputs": [
    {
     "data": {
      "text/plain": [
       "'wor'"
      ]
     },
     "execution_count": 50,
     "metadata": {},
     "output_type": "execute_result"
    }
   ],
   "source": [
    "string[-5:-2:1]"
   ]
  },
  {
   "cell_type": "code",
   "execution_count": 51,
   "id": "5169d712-cdf6-46d4-8015-6309f272eeaa",
   "metadata": {},
   "outputs": [
    {
     "data": {
      "text/plain": [
       "'dlrow olleH'"
      ]
     },
     "execution_count": 51,
     "metadata": {},
     "output_type": "execute_result"
    }
   ],
   "source": [
    "string[::-1]"
   ]
  },
  {
   "cell_type": "code",
   "execution_count": 52,
   "id": "b6bcb5ca-22c2-48f8-9bcc-5ee84596bfbd",
   "metadata": {},
   "outputs": [
    {
     "data": {
      "text/plain": [
       "'dlrow olleH'"
      ]
     },
     "execution_count": 52,
     "metadata": {},
     "output_type": "execute_result"
    }
   ],
   "source": [
    "string[-1:-12:-1]"
   ]
  },
  {
   "cell_type": "code",
   "execution_count": 53,
   "id": "7bf6cf10-6988-43a0-aed9-ac1671c1bedb",
   "metadata": {},
   "outputs": [
    {
     "data": {
      "text/plain": [
       "'dlrow olleH'"
      ]
     },
     "execution_count": 53,
     "metadata": {},
     "output_type": "execute_result"
    }
   ],
   "source": [
    "string[-1::-1]"
   ]
  },
  {
   "cell_type": "code",
   "execution_count": 54,
   "id": "204a1ab8-aad1-4ba2-9326-d44bf554b0fa",
   "metadata": {},
   "outputs": [
    {
     "data": {
      "text/plain": [
       "'drwolH'"
      ]
     },
     "execution_count": 54,
     "metadata": {},
     "output_type": "execute_result"
    }
   ],
   "source": [
    "string[::-2]"
   ]
  },
  {
   "cell_type": "markdown",
   "id": "af1f1037-9cf4-4477-8455-bedcd8bc7a32",
   "metadata": {},
   "source": [
    "# STRING METHODS/STRING MANIPULATION/STRING BUILT-IN FUNCTIONS"
   ]
  },
  {
   "cell_type": "code",
   "execution_count": 1,
   "id": "c3928416-31cc-482f-af28-1c9a31c36b1f",
   "metadata": {},
   "outputs": [],
   "source": [
    "Name = 'Innomatics Research Labs'"
   ]
  },
  {
   "cell_type": "code",
   "execution_count": 2,
   "id": "fe80c859-6d57-482d-9a09-94aeaeb9f51b",
   "metadata": {},
   "outputs": [
    {
     "data": {
      "text/plain": [
       "'Innomatics research labs'"
      ]
     },
     "execution_count": 2,
     "metadata": {},
     "output_type": "execute_result"
    }
   ],
   "source": [
    "Name.capitalize()"
   ]
  },
  {
   "cell_type": "code",
   "execution_count": 3,
   "id": "a7e4d070-3b08-4b71-8c58-6627f801bdf1",
   "metadata": {},
   "outputs": [
    {
     "data": {
      "text/plain": [
       "'innomatics research labs'"
      ]
     },
     "execution_count": 3,
     "metadata": {},
     "output_type": "execute_result"
    }
   ],
   "source": [
    "Name.casefold()"
   ]
  },
  {
   "cell_type": "code",
   "execution_count": 4,
   "id": "4c7bda43-0b57-48a4-89dd-deca3749fee2",
   "metadata": {},
   "outputs": [
    {
     "data": {
      "text/plain": [
       "'innomatics research labs'"
      ]
     },
     "execution_count": 4,
     "metadata": {},
     "output_type": "execute_result"
    }
   ],
   "source": [
    "Name.lower()"
   ]
  },
  {
   "cell_type": "code",
   "execution_count": 5,
   "id": "33acd6e9-dd78-4c23-94d6-a550cb6df130",
   "metadata": {},
   "outputs": [
    {
     "data": {
      "text/plain": [
       "'INNOMATICS RESEARCH LABS'"
      ]
     },
     "execution_count": 5,
     "metadata": {},
     "output_type": "execute_result"
    }
   ],
   "source": [
    "Name.upper()"
   ]
  },
  {
   "cell_type": "code",
   "execution_count": 6,
   "id": "9c6840a9-2ea7-4337-be6b-d35e40aeaebf",
   "metadata": {},
   "outputs": [
    {
     "data": {
      "text/plain": [
       "2"
      ]
     },
     "execution_count": 6,
     "metadata": {},
     "output_type": "execute_result"
    }
   ],
   "source": [
    "Name.count('e')"
   ]
  },
  {
   "cell_type": "code",
   "execution_count": 7,
   "id": "4b07d7c4-99de-48c8-95e7-ace349323807",
   "metadata": {},
   "outputs": [
    {
     "data": {
      "text/plain": [
       "2"
      ]
     },
     "execution_count": 7,
     "metadata": {},
     "output_type": "execute_result"
    }
   ],
   "source": [
    "Name.count('a',10,)"
   ]
  },
  {
   "cell_type": "code",
   "execution_count": 8,
   "id": "79c53c92-fb2a-48f5-8ade-21e6b997ba4b",
   "metadata": {},
   "outputs": [
    {
     "data": {
      "text/plain": [
       "0"
      ]
     },
     "execution_count": 8,
     "metadata": {},
     "output_type": "execute_result"
    }
   ],
   "source": [
    "Name.count('e',18,)"
   ]
  },
  {
   "cell_type": "code",
   "execution_count": 9,
   "id": "d2353866-1372-4b47-8fad-6602b6aaa827",
   "metadata": {},
   "outputs": [
    {
     "data": {
      "text/plain": [
       "2"
      ]
     },
     "execution_count": 9,
     "metadata": {},
     "output_type": "execute_result"
    }
   ],
   "source": [
    "Name.count('a',10,23)"
   ]
  },
  {
   "cell_type": "code",
   "execution_count": 10,
   "id": "ba0a5c4f-956a-4e6f-95ba-2c578a651319",
   "metadata": {},
   "outputs": [
    {
     "data": {
      "text/plain": [
       "0"
      ]
     },
     "execution_count": 10,
     "metadata": {},
     "output_type": "execute_result"
    }
   ],
   "source": [
    "Name.count('e',3,12)"
   ]
  },
  {
   "cell_type": "code",
   "execution_count": 11,
   "id": "7ff47e47-57d0-43ef-80c9-9c72aa6e9d31",
   "metadata": {},
   "outputs": [
    {
     "data": {
      "text/plain": [
       "1"
      ]
     },
     "execution_count": 11,
     "metadata": {},
     "output_type": "execute_result"
    }
   ],
   "source": [
    "Name.count('e',3,13)"
   ]
  },
  {
   "cell_type": "code",
   "execution_count": 12,
   "id": "d25447c2-443d-4cf7-8803-52f605831aaf",
   "metadata": {},
   "outputs": [
    {
     "data": {
      "text/plain": [
       "-1"
      ]
     },
     "execution_count": 12,
     "metadata": {},
     "output_type": "execute_result"
    }
   ],
   "source": [
    "Name.find('z')"
   ]
  },
  {
   "cell_type": "code",
   "execution_count": 13,
   "id": "a196992f-1fed-4032-ad7e-cc93e17cf878",
   "metadata": {},
   "outputs": [
    {
     "data": {
      "text/plain": [
       "5"
      ]
     },
     "execution_count": 13,
     "metadata": {},
     "output_type": "execute_result"
    }
   ],
   "source": [
    "Name.find('a')"
   ]
  },
  {
   "cell_type": "code",
   "execution_count": 14,
   "id": "8d61be60-e831-4978-84ca-1a82019d81f5",
   "metadata": {},
   "outputs": [
    {
     "data": {
      "text/plain": [
       "11"
      ]
     },
     "execution_count": 14,
     "metadata": {},
     "output_type": "execute_result"
    }
   ],
   "source": [
    "Name.find('R')"
   ]
  },
  {
   "cell_type": "code",
   "execution_count": 15,
   "id": "5191380a-cd54-4b19-8541-4a439c8ed9b2",
   "metadata": {},
   "outputs": [
    {
     "data": {
      "text/plain": [
       "15"
      ]
     },
     "execution_count": 15,
     "metadata": {},
     "output_type": "execute_result"
    }
   ],
   "source": [
    "Name.find('a',6)"
   ]
  },
  {
   "cell_type": "code",
   "execution_count": 16,
   "id": "25cbec50-c9c5-49a9-bff2-70f970e69e84",
   "metadata": {},
   "outputs": [
    {
     "data": {
      "text/plain": [
       "5"
      ]
     },
     "execution_count": 16,
     "metadata": {},
     "output_type": "execute_result"
    }
   ],
   "source": [
    "Name.index('a')"
   ]
  },
  {
   "cell_type": "code",
   "execution_count": 17,
   "id": "f0429214-e977-4cb0-b784-9fb80713a504",
   "metadata": {},
   "outputs": [
    {
     "data": {
      "text/plain": [
       "'Innomatics Research Labs'"
      ]
     },
     "execution_count": 17,
     "metadata": {},
     "output_type": "execute_result"
    }
   ],
   "source": [
    "Name"
   ]
  },
  {
   "cell_type": "code",
   "execution_count": 18,
   "id": "100a61b2-f1d8-452f-92d2-d8ba91bbd0d4",
   "metadata": {},
   "outputs": [
    {
     "data": {
      "text/plain": [
       "['Innomatics', 'Research', 'Labs']"
      ]
     },
     "execution_count": 18,
     "metadata": {},
     "output_type": "execute_result"
    }
   ],
   "source": [
    "Name.split()"
   ]
  },
  {
   "cell_type": "code",
   "execution_count": 19,
   "id": "3dd9a494-7935-408a-b7e9-235a5f54c492",
   "metadata": {},
   "outputs": [
    {
     "data": {
      "text/plain": [
       "['Innom', 'tics Rese', 'rch L', 'bs']"
      ]
     },
     "execution_count": 19,
     "metadata": {},
     "output_type": "execute_result"
    }
   ],
   "source": [
    "Name.split('a')"
   ]
  },
  {
   "cell_type": "code",
   "execution_count": 20,
   "id": "920a7bb4-a5ec-42f3-9e3f-8b92cb9e1e14",
   "metadata": {},
   "outputs": [],
   "source": [
    "string = 'I am data scientist,I am data analyst,I am python developer'"
   ]
  },
  {
   "cell_type": "code",
   "execution_count": 21,
   "id": "ceefbd59-42d7-4788-b240-ac6283bd1c36",
   "metadata": {},
   "outputs": [
    {
     "data": {
      "text/plain": [
       "['I',\n",
       " 'am',\n",
       " 'data',\n",
       " 'scientist,I',\n",
       " 'am',\n",
       " 'data',\n",
       " 'analyst,I',\n",
       " 'am',\n",
       " 'python',\n",
       " 'developer']"
      ]
     },
     "execution_count": 21,
     "metadata": {},
     "output_type": "execute_result"
    }
   ],
   "source": [
    "string.split()"
   ]
  },
  {
   "cell_type": "code",
   "execution_count": 22,
   "id": "aff0959b-1aad-49b8-aece-60e743af270b",
   "metadata": {},
   "outputs": [
    {
     "data": {
      "text/plain": [
       "['I am data scientist', 'I am data analyst', 'I am python developer']"
      ]
     },
     "execution_count": 22,
     "metadata": {},
     "output_type": "execute_result"
    }
   ],
   "source": [
    "string.split(',')"
   ]
  },
  {
   "cell_type": "code",
   "execution_count": 23,
   "id": "9c494827-7cb4-47ed-9ad8-990c5cd5a8c0",
   "metadata": {},
   "outputs": [
    {
     "data": {
      "text/plain": [
       "['I am ', ' scientist,I am ', ' analyst,I am python developer']"
      ]
     },
     "execution_count": 23,
     "metadata": {},
     "output_type": "execute_result"
    }
   ],
   "source": [
    "string.split('data')"
   ]
  },
  {
   "cell_type": "code",
   "execution_count": 24,
   "id": "f6178e46-c48d-40a3-8e0e-17c675849fd9",
   "metadata": {},
   "outputs": [],
   "source": [
    "string2 = 'Innomatics'"
   ]
  },
  {
   "cell_type": "code",
   "execution_count": 25,
   "id": "cfd01e55-1f4e-4327-ac53-45691acd9590",
   "metadata": {},
   "outputs": [
    {
     "data": {
      "text/plain": [
       "['Innomatics']"
      ]
     },
     "execution_count": 25,
     "metadata": {},
     "output_type": "execute_result"
    }
   ],
   "source": [
    "string2.split()"
   ]
  },
  {
   "cell_type": "code",
   "execution_count": 26,
   "id": "2f4b77e8-a87c-4682-84ad-a0d4769d1308",
   "metadata": {},
   "outputs": [
    {
     "data": {
      "text/plain": [
       "'Innomatics Research Labs'"
      ]
     },
     "execution_count": 26,
     "metadata": {},
     "output_type": "execute_result"
    }
   ],
   "source": [
    "Name"
   ]
  },
  {
   "cell_type": "code",
   "execution_count": 28,
   "id": "88a23a7a-ab0b-4e37-b362-b984f529b90a",
   "metadata": {},
   "outputs": [],
   "source": [
    "name = '  Hello world '"
   ]
  },
  {
   "cell_type": "code",
   "execution_count": 29,
   "id": "22b65c6f-935e-46be-91e6-cdc8ef621c2d",
   "metadata": {},
   "outputs": [
    {
     "data": {
      "text/plain": [
       "'Hello world'"
      ]
     },
     "execution_count": 29,
     "metadata": {},
     "output_type": "execute_result"
    }
   ],
   "source": [
    "name.strip()"
   ]
  },
  {
   "cell_type": "code",
   "execution_count": 30,
   "id": "603b6dc0-9eee-493f-a591-fc0011e22e73",
   "metadata": {},
   "outputs": [
    {
     "data": {
      "text/plain": [
       "'  Hello world'"
      ]
     },
     "execution_count": 30,
     "metadata": {},
     "output_type": "execute_result"
    }
   ],
   "source": [
    "name.rstrip()"
   ]
  },
  {
   "cell_type": "code",
   "execution_count": 31,
   "id": "e7f36679-2a54-4627-a86c-8af2bc5ed6c5",
   "metadata": {},
   "outputs": [
    {
     "data": {
      "text/plain": [
       "'Hello world '"
      ]
     },
     "execution_count": 31,
     "metadata": {},
     "output_type": "execute_result"
    }
   ],
   "source": [
    "name.lstrip()"
   ]
  },
  {
   "cell_type": "code",
   "execution_count": 32,
   "id": "5ca6d88f-67e4-4e2f-a6f0-d0e9b2d126da",
   "metadata": {},
   "outputs": [
    {
     "data": {
      "text/plain": [
       "b'\\xff\\xfe \\x00 \\x00H\\x00e\\x00l\\x00l\\x00o\\x00 \\x00w\\x00o\\x00r\\x00l\\x00d\\x00 \\x00'"
      ]
     },
     "execution_count": 32,
     "metadata": {},
     "output_type": "execute_result"
    }
   ],
   "source": [
    "name.encode('utf16')"
   ]
  },
  {
   "cell_type": "code",
   "execution_count": 33,
   "id": "8d3e9738-2410-491b-86ae-50dcd09d0168",
   "metadata": {},
   "outputs": [
    {
     "data": {
      "text/plain": [
       "'  Hello world '"
      ]
     },
     "execution_count": 33,
     "metadata": {},
     "output_type": "execute_result"
    }
   ],
   "source": [
    "name"
   ]
  },
  {
   "cell_type": "code",
   "execution_count": 34,
   "id": "98b6a59c-da32-4316-b59c-c0f478aedddc",
   "metadata": {},
   "outputs": [
    {
     "data": {
      "text/plain": [
       "'Hello world '"
      ]
     },
     "execution_count": 34,
     "metadata": {},
     "output_type": "execute_result"
    }
   ],
   "source": [
    "name.removeprefix('  ')"
   ]
  },
  {
   "cell_type": "code",
   "execution_count": 38,
   "id": "1ed1b944-4ff3-4932-bff1-7a716ad58232",
   "metadata": {},
   "outputs": [
    {
     "data": {
      "text/plain": [
       "'  Hello world '"
      ]
     },
     "execution_count": 38,
     "metadata": {},
     "output_type": "execute_result"
    }
   ],
   "source": [
    "name.removesuffix('  ' )"
   ]
  },
  {
   "cell_type": "code",
   "execution_count": 37,
   "id": "3e1b6087-def2-41cb-a5b1-32462cf80aee",
   "metadata": {},
   "outputs": [
    {
     "data": {
      "text/plain": [
       "'  Hello world '"
      ]
     },
     "execution_count": 37,
     "metadata": {},
     "output_type": "execute_result"
    }
   ],
   "source": [
    "name.removesuffix('   ' )"
   ]
  },
  {
   "cell_type": "code",
   "execution_count": 39,
   "id": "2045e3e7-ef02-4a56-9270-af7266623e92",
   "metadata": {},
   "outputs": [
    {
     "data": {
      "text/plain": [
       "'  Hello world'"
      ]
     },
     "execution_count": 39,
     "metadata": {},
     "output_type": "execute_result"
    }
   ],
   "source": [
    "name.removesuffix(' ' )"
   ]
  },
  {
   "cell_type": "code",
   "execution_count": 42,
   "id": "28c4e215-b077-4c93-a05c-75a118442a1c",
   "metadata": {},
   "outputs": [
    {
     "data": {
      "text/plain": [
       "'llo world '"
      ]
     },
     "execution_count": 42,
     "metadata": {},
     "output_type": "execute_result"
    }
   ],
   "source": [
    "name.removeprefix('  He')"
   ]
  },
  {
   "cell_type": "code",
   "execution_count": 43,
   "id": "5c65e857-8e7a-4d07-90b1-26613716f94d",
   "metadata": {},
   "outputs": [],
   "source": [
    "name = 'I, am data, analyst.I am ,data scientist,,'"
   ]
  },
  {
   "cell_type": "code",
   "execution_count": 44,
   "id": "a44cb672-9c44-4a7f-aa24-66777aa6247c",
   "metadata": {},
   "outputs": [
    {
     "data": {
      "text/plain": [
       "'I am data analyst.I am data scientist'"
      ]
     },
     "execution_count": 44,
     "metadata": {},
     "output_type": "execute_result"
    }
   ],
   "source": [
    "name.replace(',','')"
   ]
  },
  {
   "cell_type": "code",
   "execution_count": 45,
   "id": "549586bb-1bec-4e87-a347-81ba7f1db787",
   "metadata": {},
   "outputs": [],
   "source": [
    "string = 'Python is very difficult to learn'"
   ]
  },
  {
   "cell_type": "code",
   "execution_count": 46,
   "id": "6bd4925b-4eee-4dc4-8f76-b806c78ad4db",
   "metadata": {},
   "outputs": [
    {
     "data": {
      "text/plain": [
       "'Python is very easy to learn'"
      ]
     },
     "execution_count": 46,
     "metadata": {},
     "output_type": "execute_result"
    }
   ],
   "source": [
    "string.replace('difficult','easy')"
   ]
  },
  {
   "cell_type": "code",
   "execution_count": 47,
   "id": "cf9b618b-3926-442f-aa47-45603f6a8a2d",
   "metadata": {},
   "outputs": [
    {
     "data": {
      "text/plain": [
       "'Java is very difficult to learn'"
      ]
     },
     "execution_count": 47,
     "metadata": {},
     "output_type": "execute_result"
    }
   ],
   "source": [
    "string.replace('Python','Java')"
   ]
  },
  {
   "cell_type": "code",
   "execution_count": 48,
   "id": "46b18ff5-77b1-4d99-9500-f2a05374cbc1",
   "metadata": {},
   "outputs": [
    {
     "data": {
      "text/plain": [
       "'Our Database name is Innomatics and password is ********'"
      ]
     },
     "execution_count": 48,
     "metadata": {},
     "output_type": "execute_result"
    }
   ],
   "source": [
    "statement = 'Our Database name is Innomatics and password is Innoma@132'\n",
    "statement.replace('Innoma@132',\"********\")"
   ]
  },
  {
   "cell_type": "code",
   "execution_count": 49,
   "id": "cefa25e4-adde-43c9-a4ae-0b75f72f1b7e",
   "metadata": {},
   "outputs": [
    {
     "data": {
      "text/plain": [
       "'Python is dynamic programming language'"
      ]
     },
     "execution_count": 49,
     "metadata": {},
     "output_type": "execute_result"
    }
   ],
   "source": [
    "wrong = 'Python is static programming language'\n",
    "wrong.replace('static','dynamic')"
   ]
  },
  {
   "cell_type": "code",
   "execution_count": 50,
   "id": "d9e14072-6f3a-4a23-ab94-8a468ff67b8b",
   "metadata": {},
   "outputs": [
    {
     "data": {
      "text/plain": [
       "'Our Database name is Innomatics and password is Innoma@132'"
      ]
     },
     "execution_count": 50,
     "metadata": {},
     "output_type": "execute_result"
    }
   ],
   "source": [
    "statement"
   ]
  },
  {
   "cell_type": "code",
   "execution_count": 51,
   "id": "d865fd79-e159-4911-9566-f1027eb5b31b",
   "metadata": {},
   "outputs": [],
   "source": [
    "string2 = 'Hello world'"
   ]
  },
  {
   "cell_type": "code",
   "execution_count": 52,
   "id": "824b45bd-21ec-4c33-868c-39e63f9b026a",
   "metadata": {},
   "outputs": [
    {
     "data": {
      "text/plain": [
       "True"
      ]
     },
     "execution_count": 52,
     "metadata": {},
     "output_type": "execute_result"
    }
   ],
   "source": [
    "string2.startswith('He')"
   ]
  },
  {
   "cell_type": "code",
   "execution_count": 53,
   "id": "964bbac2-1be6-442e-bc65-61c1c9920e27",
   "metadata": {},
   "outputs": [
    {
     "data": {
      "text/plain": [
       "False"
      ]
     },
     "execution_count": 53,
     "metadata": {},
     "output_type": "execute_result"
    }
   ],
   "source": [
    "string2.startswith('ll')"
   ]
  },
  {
   "cell_type": "code",
   "execution_count": 54,
   "id": "562afcef-d110-4962-9bb4-2953246a1bff",
   "metadata": {},
   "outputs": [
    {
     "name": "stdin",
     "output_type": "stream",
     "text": [
      "Enter the website::   https::instagram.com\n"
     ]
    },
    {
     "data": {
      "text/plain": [
       "True"
      ]
     },
     "execution_count": 54,
     "metadata": {},
     "output_type": "execute_result"
    }
   ],
   "source": [
    "website = input(\"Enter the website::  \")\n",
    "website.startswith('https::')"
   ]
  },
  {
   "cell_type": "code",
   "execution_count": 55,
   "id": "f8832b50-bddf-4a36-941d-f21471f1b5bc",
   "metadata": {},
   "outputs": [
    {
     "name": "stdin",
     "output_type": "stream",
     "text": [
      "Enter the website::   www.facebook.com\n"
     ]
    },
    {
     "data": {
      "text/plain": [
       "True"
      ]
     },
     "execution_count": 55,
     "metadata": {},
     "output_type": "execute_result"
    }
   ],
   "source": [
    "website = input(\"Enter the website::  \")\n",
    "website.startswith(('https::','www'))"
   ]
  },
  {
   "cell_type": "code",
   "execution_count": 56,
   "id": "f453786f-2abd-411a-b1fc-943c91b01f3b",
   "metadata": {},
   "outputs": [
    {
     "data": {
      "text/plain": [
       "True"
      ]
     },
     "execution_count": 56,
     "metadata": {},
     "output_type": "execute_result"
    }
   ],
   "source": [
    "string2.endswith('world')"
   ]
  },
  {
   "cell_type": "code",
   "execution_count": 57,
   "id": "3c08c86b-fe68-40ad-b008-c8095af77c50",
   "metadata": {},
   "outputs": [
    {
     "data": {
      "text/plain": [
       "True"
      ]
     },
     "execution_count": 57,
     "metadata": {},
     "output_type": "execute_result"
    }
   ],
   "source": [
    "string2.endswith('d')"
   ]
  },
  {
   "cell_type": "code",
   "execution_count": 58,
   "id": "4b1f2dbd-2357-46d4-a848-338e58f476b1",
   "metadata": {},
   "outputs": [
    {
     "name": "stdin",
     "output_type": "stream",
     "text": [
      "Enter a valid email Id::  jahnavi1224@gmail.com\n"
     ]
    },
    {
     "data": {
      "text/plain": [
       "True"
      ]
     },
     "execution_count": 58,
     "metadata": {},
     "output_type": "execute_result"
    }
   ],
   "source": [
    "email = input(\"Enter a valid email Id:: \")\n",
    "email.endswith('@gmail.com')"
   ]
  },
  {
   "cell_type": "code",
   "execution_count": 59,
   "id": "57165e5d-3963-4c42-8ca2-d5de64aadd02",
   "metadata": {},
   "outputs": [
    {
     "name": "stdin",
     "output_type": "stream",
     "text": [
      "Enter a valid email Id::  jahnavi@yahoo.com\n"
     ]
    },
    {
     "data": {
      "text/plain": [
       "True"
      ]
     },
     "execution_count": 59,
     "metadata": {},
     "output_type": "execute_result"
    }
   ],
   "source": [
    "email = input(\"Enter a valid email Id:: \")\n",
    "email.endswith(('@gmail.com','@yahoo.com',\"@outlook.com\"))"
   ]
  },
  {
   "cell_type": "code",
   "execution_count": 60,
   "id": "03a3fc12-3485-4e5d-a8e7-ae003d9cd5cb",
   "metadata": {},
   "outputs": [
    {
     "name": "stdin",
     "output_type": "stream",
     "text": [
      "Enter the website::   www.inst\n"
     ]
    },
    {
     "data": {
      "text/plain": [
       "True"
      ]
     },
     "execution_count": 60,
     "metadata": {},
     "output_type": "execute_result"
    }
   ],
   "source": [
    "website = input(\"Enter the website::  \")\n",
    "website.startswith(('https::','www'))"
   ]
  },
  {
   "cell_type": "code",
   "execution_count": 61,
   "id": "08606905-7d68-4162-9d85-7e8f409a4223",
   "metadata": {},
   "outputs": [
    {
     "name": "stdin",
     "output_type": "stream",
     "text": [
      "Enter the website::   www.instagram.com\n"
     ]
    },
    {
     "data": {
      "text/plain": [
       "True"
      ]
     },
     "execution_count": 61,
     "metadata": {},
     "output_type": "execute_result"
    }
   ],
   "source": [
    "website = input(\"Enter the website::  \")\n",
    "website.startswith(('https::','www')) and website.endswith(('.com','.in','.org'))"
   ]
  },
  {
   "cell_type": "code",
   "execution_count": 62,
   "id": "7c68adf8-4673-4c9d-baa7-0bd141cb2072",
   "metadata": {},
   "outputs": [
    {
     "name": "stdin",
     "output_type": "stream",
     "text": [
      "Enter the website::   www.tspsc.gov.in\n"
     ]
    },
    {
     "data": {
      "text/plain": [
       "True"
      ]
     },
     "execution_count": 62,
     "metadata": {},
     "output_type": "execute_result"
    }
   ],
   "source": [
    "website = input(\"Enter the website::  \")\n",
    "website.startswith(('https::','www')) and website.endswith(('.com','.in','.org'))"
   ]
  },
  {
   "cell_type": "code",
   "execution_count": 63,
   "id": "aa753b02-7dac-4b92-b382-21d64ab71f33",
   "metadata": {},
   "outputs": [
    {
     "name": "stdin",
     "output_type": "stream",
     "text": [
      "Enter the website::   www.insta\n"
     ]
    },
    {
     "data": {
      "text/plain": [
       "False"
      ]
     },
     "execution_count": 63,
     "metadata": {},
     "output_type": "execute_result"
    }
   ],
   "source": [
    "website = input(\"Enter the website::  \")\n",
    "website.startswith(('https::','www')) and website.endswith(('.com','.in','.org'))"
   ]
  },
  {
   "cell_type": "code",
   "execution_count": 64,
   "id": "d258d19d-44eb-483f-a83b-334c6b60cfc4",
   "metadata": {},
   "outputs": [
    {
     "name": "stdin",
     "output_type": "stream",
     "text": [
      "Enter the website::   www.insta\n"
     ]
    },
    {
     "data": {
      "text/plain": [
       "True"
      ]
     },
     "execution_count": 64,
     "metadata": {},
     "output_type": "execute_result"
    }
   ],
   "source": [
    "website = input(\"Enter the website::  \")\n",
    "website.startswith(('https::','www')) or website.endswith(('.com','.in','.org'))"
   ]
  },
  {
   "cell_type": "markdown",
   "id": "96fff2a8-529e-4061-a771-262fb9779345",
   "metadata": {},
   "source": [
    "# CHECKING CONDITIONS"
   ]
  },
  {
   "cell_type": "code",
   "execution_count": 67,
   "id": "8801d55b-a525-4d1e-aa86-1ff3fb811a24",
   "metadata": {},
   "outputs": [],
   "source": [
    "Name = 'Hello1world'"
   ]
  },
  {
   "cell_type": "code",
   "execution_count": 68,
   "id": "4fe4c43d-5123-4036-915f-e0b5d7cc08ad",
   "metadata": {},
   "outputs": [
    {
     "data": {
      "text/plain": [
       "True"
      ]
     },
     "execution_count": 68,
     "metadata": {},
     "output_type": "execute_result"
    }
   ],
   "source": [
    "Name.isalnum()  #checks alphabets and digits"
   ]
  },
  {
   "cell_type": "code",
   "execution_count": 70,
   "id": "3bd0d745-4250-4f81-81e6-a486c48561b7",
   "metadata": {},
   "outputs": [
    {
     "data": {
      "text/plain": [
       "False"
      ]
     },
     "execution_count": 70,
     "metadata": {},
     "output_type": "execute_result"
    }
   ],
   "source": [
    "Name.isalpha() #checks only alphabets"
   ]
  },
  {
   "cell_type": "code",
   "execution_count": 71,
   "id": "9467c427-f0c1-44b1-b0ce-8483fc3c5f74",
   "metadata": {},
   "outputs": [
    {
     "data": {
      "text/plain": [
       "True"
      ]
     },
     "execution_count": 71,
     "metadata": {},
     "output_type": "execute_result"
    }
   ],
   "source": [
    "Name.isascii()"
   ]
  },
  {
   "cell_type": "code",
   "execution_count": 72,
   "id": "a476a3b7-0d7a-4ad7-89cc-fb7fe6025258",
   "metadata": {},
   "outputs": [
    {
     "data": {
      "text/plain": [
       "111"
      ]
     },
     "execution_count": 72,
     "metadata": {},
     "output_type": "execute_result"
    }
   ],
   "source": [
    "ord('o')"
   ]
  },
  {
   "cell_type": "code",
   "execution_count": 78,
   "id": "9bec119a-d99d-4f5d-a294-d36abae1ae0d",
   "metadata": {},
   "outputs": [],
   "source": [
    "num = '20'"
   ]
  },
  {
   "cell_type": "code",
   "execution_count": 79,
   "id": "1398d8c0-fdb2-4eca-a691-414f7c9ff4a1",
   "metadata": {},
   "outputs": [
    {
     "data": {
      "text/plain": [
       "True"
      ]
     },
     "execution_count": 79,
     "metadata": {},
     "output_type": "execute_result"
    }
   ],
   "source": [
    "num.isdecimal()"
   ]
  },
  {
   "cell_type": "code",
   "execution_count": 80,
   "id": "66596d1c-01e0-4938-a7f9-895bcbb114ef",
   "metadata": {},
   "outputs": [
    {
     "data": {
      "text/plain": [
       "True"
      ]
     },
     "execution_count": 80,
     "metadata": {},
     "output_type": "execute_result"
    }
   ],
   "source": [
    "num.isdigit()"
   ]
  },
  {
   "cell_type": "code",
   "execution_count": 81,
   "id": "3bb96b05-3b6b-45f8-a8b9-7bab21ba6bd9",
   "metadata": {},
   "outputs": [
    {
     "data": {
      "text/plain": [
       "True"
      ]
     },
     "execution_count": 81,
     "metadata": {},
     "output_type": "execute_result"
    }
   ],
   "source": [
    "num.isnumeric()"
   ]
  },
  {
   "cell_type": "code",
   "execution_count": 82,
   "id": "82799d58-609e-46c8-a28f-f33d830d861a",
   "metadata": {},
   "outputs": [
    {
     "data": {
      "text/plain": [
       "'5⁶'"
      ]
     },
     "execution_count": 82,
     "metadata": {},
     "output_type": "execute_result"
    }
   ],
   "source": [
    "num2 = '5' + '\\u2076'\n",
    "num2    #super scripts"
   ]
  },
  {
   "cell_type": "code",
   "execution_count": 83,
   "id": "ec5453df-3dcc-4079-96df-8eb500238d30",
   "metadata": {},
   "outputs": [
    {
     "data": {
      "text/plain": [
       "False"
      ]
     },
     "execution_count": 83,
     "metadata": {},
     "output_type": "execute_result"
    }
   ],
   "source": [
    "num2.isdecimal()"
   ]
  },
  {
   "cell_type": "code",
   "execution_count": 84,
   "id": "35e3746d-0b73-4af4-8cfc-da3eee844793",
   "metadata": {},
   "outputs": [
    {
     "data": {
      "text/plain": [
       "True"
      ]
     },
     "execution_count": 84,
     "metadata": {},
     "output_type": "execute_result"
    }
   ],
   "source": [
    "num2.isdigit()"
   ]
  },
  {
   "cell_type": "code",
   "execution_count": 85,
   "id": "e280785c-93a1-4dd2-b4d7-6aee557cf064",
   "metadata": {},
   "outputs": [
    {
     "data": {
      "text/plain": [
       "True"
      ]
     },
     "execution_count": 85,
     "metadata": {},
     "output_type": "execute_result"
    }
   ],
   "source": [
    "num2.isnumeric()"
   ]
  },
  {
   "cell_type": "code",
   "execution_count": 90,
   "id": "075a900c-83cb-4656-b08b-ce8a812d65ac",
   "metadata": {},
   "outputs": [],
   "source": [
    "roman = 'Ⅳ'"
   ]
  },
  {
   "cell_type": "code",
   "execution_count": 94,
   "id": "724ff056-5549-4b72-9d05-6895b11963a7",
   "metadata": {},
   "outputs": [
    {
     "data": {
      "text/plain": [
       "False"
      ]
     },
     "execution_count": 94,
     "metadata": {},
     "output_type": "execute_result"
    }
   ],
   "source": [
    "roman.isdecimal() #only for english numbers"
   ]
  },
  {
   "cell_type": "code",
   "execution_count": 95,
   "id": "46b9efdf-c129-47fa-bf5f-ac76f0952aaa",
   "metadata": {},
   "outputs": [
    {
     "data": {
      "text/plain": [
       "False"
      ]
     },
     "execution_count": 95,
     "metadata": {},
     "output_type": "execute_result"
    }
   ],
   "source": [
    "roman.isdigit()  #english numbers and superscripts"
   ]
  },
  {
   "cell_type": "code",
   "execution_count": 96,
   "id": "a3718564-f2f0-4f63-b327-6ec2d8714c20",
   "metadata": {},
   "outputs": [
    {
     "data": {
      "text/plain": [
       "True"
      ]
     },
     "execution_count": 96,
     "metadata": {},
     "output_type": "execute_result"
    }
   ],
   "source": [
    "roman.isnumeric()  #Any language numbers and superscripts"
   ]
  },
  {
   "cell_type": "code",
   "execution_count": 97,
   "id": "4216afea-4271-4426-a525-b983bcd88668",
   "metadata": {},
   "outputs": [],
   "source": [
    "name = 'Hello'"
   ]
  },
  {
   "cell_type": "code",
   "execution_count": 98,
   "id": "b711a2e7-66cc-4b14-9617-5e7963474f91",
   "metadata": {},
   "outputs": [
    {
     "data": {
      "text/plain": [
       "True"
      ]
     },
     "execution_count": 98,
     "metadata": {},
     "output_type": "execute_result"
    }
   ],
   "source": [
    "name.isidentifier()"
   ]
  },
  {
   "cell_type": "code",
   "execution_count": 99,
   "id": "f08e6bef-1c73-471e-ae0b-73a9a45dfdfd",
   "metadata": {},
   "outputs": [
    {
     "data": {
      "text/plain": [
       "False"
      ]
     },
     "execution_count": 99,
     "metadata": {},
     "output_type": "execute_result"
    }
   ],
   "source": [
    "name.islower()"
   ]
  },
  {
   "cell_type": "code",
   "execution_count": 100,
   "id": "88a1ba8c-20a9-49ba-802c-f6ad04d4a36a",
   "metadata": {},
   "outputs": [],
   "source": [
    "name2 = 'hello'"
   ]
  },
  {
   "cell_type": "code",
   "execution_count": 101,
   "id": "15e4022e-591c-44cd-b535-33511e665465",
   "metadata": {},
   "outputs": [
    {
     "data": {
      "text/plain": [
       "True"
      ]
     },
     "execution_count": 101,
     "metadata": {},
     "output_type": "execute_result"
    }
   ],
   "source": [
    "name2.islower()"
   ]
  },
  {
   "cell_type": "code",
   "execution_count": 102,
   "id": "f30c2d7d-484d-4502-ab72-e39dbcc69a7c",
   "metadata": {},
   "outputs": [
    {
     "data": {
      "text/plain": [
       "False"
      ]
     },
     "execution_count": 102,
     "metadata": {},
     "output_type": "execute_result"
    }
   ],
   "source": [
    "name2.isupper()"
   ]
  },
  {
   "cell_type": "code",
   "execution_count": 103,
   "id": "aab0bba9-463b-4ed9-b3bd-11e92d22e126",
   "metadata": {},
   "outputs": [
    {
     "data": {
      "text/plain": [
       "False"
      ]
     },
     "execution_count": 103,
     "metadata": {},
     "output_type": "execute_result"
    }
   ],
   "source": [
    "name.isupper()"
   ]
  },
  {
   "cell_type": "code",
   "execution_count": 104,
   "id": "7ab68a2f-8d39-4139-8ada-07b6404f2c1d",
   "metadata": {},
   "outputs": [],
   "source": [
    "name3 = 'HELLO'"
   ]
  },
  {
   "cell_type": "code",
   "execution_count": 105,
   "id": "d5e4624e-a379-4387-900c-363a7457de9f",
   "metadata": {},
   "outputs": [
    {
     "data": {
      "text/plain": [
       "True"
      ]
     },
     "execution_count": 105,
     "metadata": {},
     "output_type": "execute_result"
    }
   ],
   "source": [
    "name3.isupper()"
   ]
  },
  {
   "cell_type": "code",
   "execution_count": 108,
   "id": "1ead1d57-17f4-43ed-b074-16bc6dff39ff",
   "metadata": {},
   "outputs": [],
   "source": [
    "Name = ' Hello world I am data scientist '"
   ]
  },
  {
   "cell_type": "code",
   "execution_count": 109,
   "id": "fdecb478-e1c7-498e-bcbe-230e63944ffa",
   "metadata": {},
   "outputs": [
    {
     "data": {
      "text/plain": [
       "['Hello', 'world', 'I', 'am', 'data', 'scientist']"
      ]
     },
     "execution_count": 109,
     "metadata": {},
     "output_type": "execute_result"
    }
   ],
   "source": [
    "Name.rsplit()"
   ]
  },
  {
   "cell_type": "code",
   "execution_count": 1,
   "id": "df5ad0b4-631d-4f58-bf98-4f25802f1bc0",
   "metadata": {},
   "outputs": [],
   "source": [
    "name = 'Hello'"
   ]
  },
  {
   "cell_type": "code",
   "execution_count": 3,
   "id": "053c362c-bce0-43d0-afe7-1a3a6d8ce4a8",
   "metadata": {},
   "outputs": [
    {
     "data": {
      "text/plain": [
       "'Hello'"
      ]
     },
     "execution_count": 3,
     "metadata": {},
     "output_type": "execute_result"
    }
   ],
   "source": [
    "name.center(5)"
   ]
  },
  {
   "cell_type": "code",
   "execution_count": 4,
   "id": "381c19f1-eae0-48e6-a7f2-01011efa3aaa",
   "metadata": {},
   "outputs": [
    {
     "data": {
      "text/plain": [
       "'Hello '"
      ]
     },
     "execution_count": 4,
     "metadata": {},
     "output_type": "execute_result"
    }
   ],
   "source": [
    "name.center(6)"
   ]
  },
  {
   "cell_type": "code",
   "execution_count": 5,
   "id": "0d03785a-f564-4690-999c-5068d1497316",
   "metadata": {},
   "outputs": [
    {
     "data": {
      "text/plain": [
       "'*Hello**'"
      ]
     },
     "execution_count": 5,
     "metadata": {},
     "output_type": "execute_result"
    }
   ],
   "source": [
    "name.center(8,'*')"
   ]
  },
  {
   "cell_type": "code",
   "execution_count": 6,
   "id": "8f37c6d9-ecc6-4cfd-8ee1-c5cede68d4a1",
   "metadata": {},
   "outputs": [
    {
     "data": {
      "text/plain": [
       "'0000Hello'"
      ]
     },
     "execution_count": 6,
     "metadata": {},
     "output_type": "execute_result"
    }
   ],
   "source": [
    "name.zfill(9)"
   ]
  },
  {
   "cell_type": "code",
   "execution_count": 7,
   "id": "6745d3a2-2e69-41c2-842b-cc5827a73c01",
   "metadata": {},
   "outputs": [],
   "source": [
    "name = 'Hello\\tworld'"
   ]
  },
  {
   "cell_type": "code",
   "execution_count": 8,
   "id": "060cef10-52fb-4123-be2e-1f13c1b27fd4",
   "metadata": {},
   "outputs": [
    {
     "data": {
      "text/plain": [
       "'Hello   world'"
      ]
     },
     "execution_count": 8,
     "metadata": {},
     "output_type": "execute_result"
    }
   ],
   "source": [
    "name.expandtabs()"
   ]
  },
  {
   "cell_type": "code",
   "execution_count": 9,
   "id": "51d32c98-af56-4fbc-b9ef-44e1dfe3044a",
   "metadata": {},
   "outputs": [
    {
     "data": {
      "text/plain": [
       "'Hello     world'"
      ]
     },
     "execution_count": 9,
     "metadata": {},
     "output_type": "execute_result"
    }
   ],
   "source": [
    "name.expandtabs(10)"
   ]
  },
  {
   "cell_type": "code",
   "execution_count": 10,
   "id": "e2d2075d-94de-4977-b200-a602722fbdaf",
   "metadata": {},
   "outputs": [
    {
     "data": {
      "text/plain": [
       "'Hello      world'"
      ]
     },
     "execution_count": 10,
     "metadata": {},
     "output_type": "execute_result"
    }
   ],
   "source": [
    "name.expandtabs(11)"
   ]
  },
  {
   "cell_type": "code",
   "execution_count": 11,
   "id": "b6f0f10b-b325-4408-acda-50afd01e3728",
   "metadata": {},
   "outputs": [],
   "source": [
    "list1 = ['I am','from','Hyderabad']"
   ]
  },
  {
   "cell_type": "code",
   "execution_count": 12,
   "id": "0f3b0716-71ea-4289-9d0a-e2d71a3c7549",
   "metadata": {},
   "outputs": [
    {
     "data": {
      "text/plain": [
       "'I am from Hyderabad'"
      ]
     },
     "execution_count": 12,
     "metadata": {},
     "output_type": "execute_result"
    }
   ],
   "source": [
    "' '.join(list1)"
   ]
  },
  {
   "cell_type": "code",
   "execution_count": 13,
   "id": "21d763f6-2ddc-4e05-8183-9d358e55bb2a",
   "metadata": {},
   "outputs": [
    {
     "data": {
      "text/plain": [
       "'I amHello\\tworldfromHello\\tworldHyderabad'"
      ]
     },
     "execution_count": 13,
     "metadata": {},
     "output_type": "execute_result"
    }
   ],
   "source": [
    "name.join(list1)"
   ]
  },
  {
   "cell_type": "code",
   "execution_count": 14,
   "id": "741c2e5d-cd7e-4a57-8066-c49d55609707",
   "metadata": {},
   "outputs": [],
   "source": [
    "name1 = 'hello world'"
   ]
  },
  {
   "cell_type": "code",
   "execution_count": 15,
   "id": "fd9e0fef-753c-4962-b851-1530ab9e4e0e",
   "metadata": {},
   "outputs": [
    {
     "data": {
      "text/plain": [
       "'I amhello worldfromhello worldHyderabad'"
      ]
     },
     "execution_count": 15,
     "metadata": {},
     "output_type": "execute_result"
    }
   ],
   "source": [
    "name1.join(list1)"
   ]
  },
  {
   "cell_type": "code",
   "execution_count": 16,
   "id": "6cbac2cd-38ad-40c1-a808-063eea722aa4",
   "metadata": {},
   "outputs": [],
   "source": [
    "python = ['I',\n",
    " 'am',\n",
    " 'data',\n",
    " 'scientist,I',\n",
    " 'am',\n",
    " 'data',\n",
    " 'analyst,I',\n",
    " 'am',\n",
    " 'python',\n",
    " 'developer']"
   ]
  },
  {
   "cell_type": "code",
   "execution_count": 17,
   "id": "f6ecc808-aa05-4fac-8d92-f27788b5c83a",
   "metadata": {},
   "outputs": [
    {
     "data": {
      "text/plain": [
       "'I am data scientist,I am data analyst,I am python developer'"
      ]
     },
     "execution_count": 17,
     "metadata": {},
     "output_type": "execute_result"
    }
   ],
   "source": [
    "' '.join(python)"
   ]
  },
  {
   "cell_type": "code",
   "execution_count": 18,
   "id": "05926d51-ef0f-411e-8bf0-f087ea65a586",
   "metadata": {},
   "outputs": [],
   "source": [
    "string = 'abcabc'"
   ]
  },
  {
   "cell_type": "code",
   "execution_count": 20,
   "id": "a8cdd888-edde-4922-a877-08b003e8a56b",
   "metadata": {},
   "outputs": [
    {
     "data": {
      "text/plain": [
       "'123123'"
      ]
     },
     "execution_count": 20,
     "metadata": {},
     "output_type": "execute_result"
    }
   ],
   "source": [
    "table = str.maketrans({'a' : '1', 'b' : '2', 'c' : '3'})\n",
    "\n",
    "string.translate(table)"
   ]
  },
  {
   "cell_type": "code",
   "execution_count": 21,
   "id": "6b3497ea-37a7-4027-ac56-ee018dd1fb79",
   "metadata": {},
   "outputs": [],
   "source": [
    "name = 'innomatics','research','labs'"
   ]
  },
  {
   "cell_type": "code",
   "execution_count": 22,
   "id": "21f95482-0242-4996-8176-20404ac8abb8",
   "metadata": {},
   "outputs": [
    {
     "data": {
      "text/plain": [
       "'innomatics research labs'"
      ]
     },
     "execution_count": 22,
     "metadata": {},
     "output_type": "execute_result"
    }
   ],
   "source": [
    "' '.join(name)"
   ]
  },
  {
   "cell_type": "code",
   "execution_count": 23,
   "id": "153c792b-7881-4b29-abbc-719ebb824f9f",
   "metadata": {},
   "outputs": [],
   "source": [
    "name = 'Iam\\njahnavi\\nfromHyderabad'"
   ]
  },
  {
   "cell_type": "code",
   "execution_count": 24,
   "id": "e0d8e48f-7a68-43fa-a4e7-8cc5de3a30e5",
   "metadata": {},
   "outputs": [
    {
     "data": {
      "text/plain": [
       "['Iam', 'jahnavi', 'fromHyderabad']"
      ]
     },
     "execution_count": 24,
     "metadata": {},
     "output_type": "execute_result"
    }
   ],
   "source": [
    "name.splitlines()"
   ]
  },
  {
   "cell_type": "code",
   "execution_count": 3,
   "id": "163f285d-0d86-4b98-b2da-9393efe9b3c8",
   "metadata": {},
   "outputs": [],
   "source": [
    "S = \" $python is fun, python is easy, but python is tough when you don't practice it revise it@ \""
   ]
  },
  {
   "cell_type": "code",
   "execution_count": 5,
   "id": "f131a4f5-308f-4bbc-869f-2c2e822a7b55",
   "metadata": {},
   "outputs": [
    {
     "data": {
      "text/plain": [
       "['$python',\n",
       " 'is',\n",
       " 'fun,',\n",
       " 'python',\n",
       " 'is',\n",
       " 'easy,',\n",
       " 'but',\n",
       " 'python',\n",
       " 'is',\n",
       " 'tough',\n",
       " 'when',\n",
       " 'you',\n",
       " \"don't\",\n",
       " 'practice',\n",
       " 'it',\n",
       " 'revise',\n",
       " 'it@']"
      ]
     },
     "execution_count": 5,
     "metadata": {},
     "output_type": "execute_result"
    }
   ],
   "source": [
    "S.rsplit()"
   ]
  },
  {
   "cell_type": "code",
   "execution_count": 7,
   "id": "7e18b415-e9ea-4be9-9402-f8d0f684aedb",
   "metadata": {},
   "outputs": [
    {
     "data": {
      "text/plain": [
       "3"
      ]
     },
     "execution_count": 7,
     "metadata": {},
     "output_type": "execute_result"
    }
   ],
   "source": [
    "S.count(\"python\")"
   ]
  },
  {
   "cell_type": "code",
   "execution_count": 8,
   "id": "d4029807-732e-478a-9aaa-da5fc473bb84",
   "metadata": {},
   "outputs": [
    {
     "data": {
      "text/plain": [
       "\" $python is fun, python is easy, but python is tough if and only if you don't practice it revise it@ \""
      ]
     },
     "execution_count": 8,
     "metadata": {},
     "output_type": "execute_result"
    }
   ],
   "source": [
    "S.replace('when','if and only if')"
   ]
  },
  {
   "cell_type": "markdown",
   "id": "940ee1bb-350d-4692-a741-c5a14cb9a53a",
   "metadata": {},
   "source": [
    "## Different ways to print"
   ]
  },
  {
   "cell_type": "code",
   "execution_count": 25,
   "id": "829f769e-ff21-4150-a3b6-419425bb7f4b",
   "metadata": {},
   "outputs": [
    {
     "data": {
      "text/plain": [
       "'Hello I am jahnavi.My age is 28 and I am from Hyderabad'"
      ]
     },
     "execution_count": 25,
     "metadata": {},
     "output_type": "execute_result"
    }
   ],
   "source": [
    "\"Hello I am jahnavi.My age is 28 and I am from Hyderabad\""
   ]
  },
  {
   "cell_type": "code",
   "execution_count": 26,
   "id": "42f46f69-8713-466d-b085-b9ca374c127a",
   "metadata": {},
   "outputs": [
    {
     "name": "stdin",
     "output_type": "stream",
     "text": [
      "Enter the name::  Jahnavi\n",
      "Enter the age::  28\n",
      "Enter the city name::  Hyderabad\n"
     ]
    }
   ],
   "source": [
    "name = input(\"Enter the name:: \")\n",
    "age = input(\"Enter the age:: \")\n",
    "city = input(\"Enter the city name:: \")"
   ]
  },
  {
   "cell_type": "code",
   "execution_count": 27,
   "id": "f10dbcf4-4dbe-4c65-a9e5-576c04ae5dd2",
   "metadata": {},
   "outputs": [
    {
     "data": {
      "text/plain": [
       "'Hello I am Jahnavi.My age is 28 and I am from Hyderabad'"
      ]
     },
     "execution_count": 27,
     "metadata": {},
     "output_type": "execute_result"
    }
   ],
   "source": [
    "#format method\n",
    "'Hello I am {}.My age is {} and I am from {}'.format(name,age,city)"
   ]
  },
  {
   "cell_type": "code",
   "execution_count": 29,
   "id": "4a4efd94-e262-41a8-95b0-141df5e8b07b",
   "metadata": {},
   "outputs": [
    {
     "data": {
      "text/plain": [
       "'Hello I am Jahnavi.My age is 28 and I am from Hyderabad'"
      ]
     },
     "execution_count": 29,
     "metadata": {},
     "output_type": "execute_result"
    }
   ],
   "source": [
    "#f-string\n",
    "f'Hello I am {name}.My age is {age} and I am from {city}'"
   ]
  },
  {
   "cell_type": "code",
   "execution_count": 30,
   "id": "ce90ca40-da24-4c6c-b40b-ad4ec5c50664",
   "metadata": {},
   "outputs": [
    {
     "data": {
      "text/plain": [
       "'Hello I am Jahnavi.My age is 28 I am from Hyderabad'"
      ]
     },
     "execution_count": 30,
     "metadata": {},
     "output_type": "execute_result"
    }
   ],
   "source": [
    "#concatenation\n",
    "\"Hello I am \" + name +'.My age is '+age+' I am from '+city"
   ]
  },
  {
   "cell_type": "code",
   "execution_count": 32,
   "id": "e54612ed-60c2-4b9e-b93c-499448eed7cf",
   "metadata": {},
   "outputs": [
    {
     "name": "stdout",
     "output_type": "stream",
     "text": [
      "Hello I am  Jahnavi .My age is  28  I am from  Hyderabad\n"
     ]
    }
   ],
   "source": [
    "#commas\n",
    "print(\"Hello I am \" , name ,'.My age is ',age,' I am from ',city)\n"
   ]
  },
  {
   "cell_type": "code",
   "execution_count": 33,
   "id": "060fd26b-c611-4d99-b18e-2ac9af756a87",
   "metadata": {},
   "outputs": [
    {
     "name": "stdout",
     "output_type": "stream",
     "text": [
      "Hi Iam Jahnavi\n"
     ]
    }
   ],
   "source": [
    "print('Hi Iam',name)"
   ]
  },
  {
   "cell_type": "code",
   "execution_count": 34,
   "id": "b29dda5d-f4ce-4c09-8157-1e16ce24d2da",
   "metadata": {},
   "outputs": [
    {
     "name": "stdout",
     "output_type": "stream",
     "text": [
      "Hello I am Jahnavi.My age is 28 and I am from Hyderabad\n"
     ]
    }
   ],
   "source": [
    "#format method&indexbased\n",
    "print('Hello I am {1}.My age is {0} and I am from {2}'.format(age,name,city))"
   ]
  },
  {
   "cell_type": "markdown",
   "id": "1c2c3c4b-a950-4d73-a663-852c74e741e7",
   "metadata": {},
   "source": [
    "1. How can concatenate both string and integer ?                                 \n",
    "2. checking the length of a integer ?"
   ]
  },
  {
   "cell_type": "markdown",
   "id": "ca6e1c99-cee7-4556-8675-1481ebea5adf",
   "metadata": {},
   "source": [
    "#### Type Casting"
   ]
  },
  {
   "cell_type": "markdown",
   "id": "755e79ec-2698-4bbf-a617-7deae148d93c",
   "metadata": {},
   "source": [
    "* converting one data type to other data type"
   ]
  },
  {
   "cell_type": "markdown",
   "id": "2f4b1f99-97a7-4a79-92c9-d79e84efba0d",
   "metadata": {},
   "source": [
    "##### To Integer"
   ]
  },
  {
   "cell_type": "code",
   "execution_count": 38,
   "id": "76921274-91c2-41c1-b627-0148022d8506",
   "metadata": {},
   "outputs": [],
   "source": [
    "a = 12.6\n",
    "b = '10'\n",
    "c = True\n",
    "d = 10 + 30j"
   ]
  },
  {
   "cell_type": "code",
   "execution_count": 36,
   "id": "102bb3bf-be35-478a-88f2-c61fa54a8d03",
   "metadata": {},
   "outputs": [
    {
     "data": {
      "text/plain": [
       "12"
      ]
     },
     "execution_count": 36,
     "metadata": {},
     "output_type": "execute_result"
    }
   ],
   "source": [
    "int(a)"
   ]
  },
  {
   "cell_type": "code",
   "execution_count": 39,
   "id": "b0c2b82b-0a84-421f-88f1-ca8dceae584f",
   "metadata": {},
   "outputs": [
    {
     "data": {
      "text/plain": [
       "10"
      ]
     },
     "execution_count": 39,
     "metadata": {},
     "output_type": "execute_result"
    }
   ],
   "source": [
    "int(b)"
   ]
  },
  {
   "cell_type": "code",
   "execution_count": 40,
   "id": "a7f5217c-8ee7-420e-9866-405590a5144d",
   "metadata": {},
   "outputs": [
    {
     "data": {
      "text/plain": [
       "1"
      ]
     },
     "execution_count": 40,
     "metadata": {},
     "output_type": "execute_result"
    }
   ],
   "source": [
    "int(c)"
   ]
  },
  {
   "cell_type": "code",
   "execution_count": 41,
   "id": "450f2c3b-c624-420f-97a3-72959a8b0018",
   "metadata": {},
   "outputs": [
    {
     "ename": "TypeError",
     "evalue": "int() argument must be a string, a bytes-like object or a real number, not 'complex'",
     "output_type": "error",
     "traceback": [
      "\u001b[1;31m---------------------------------------------------------------------------\u001b[0m",
      "\u001b[1;31mTypeError\u001b[0m                                 Traceback (most recent call last)",
      "Cell \u001b[1;32mIn[41], line 1\u001b[0m\n\u001b[1;32m----> 1\u001b[0m \u001b[38;5;28mint\u001b[39m(d)\n",
      "\u001b[1;31mTypeError\u001b[0m: int() argument must be a string, a bytes-like object or a real number, not 'complex'"
     ]
    }
   ],
   "source": [
    "int(d)"
   ]
  },
  {
   "cell_type": "markdown",
   "id": "c32dfa61-f173-4bee-a170-d741d1df11fd",
   "metadata": {},
   "source": [
    "##### To Float"
   ]
  },
  {
   "cell_type": "code",
   "execution_count": 42,
   "id": "a7f0d248-8593-47d1-a155-1a1d570e6877",
   "metadata": {},
   "outputs": [],
   "source": [
    "a = 13\n",
    "b = '10'\n",
    "c = False\n",
    "d = 10+30j"
   ]
  },
  {
   "cell_type": "code",
   "execution_count": 43,
   "id": "885ddd06-2751-4b72-a43e-146748a4384a",
   "metadata": {},
   "outputs": [
    {
     "data": {
      "text/plain": [
       "13.0"
      ]
     },
     "execution_count": 43,
     "metadata": {},
     "output_type": "execute_result"
    }
   ],
   "source": [
    "float(a)"
   ]
  },
  {
   "cell_type": "code",
   "execution_count": 44,
   "id": "31550882-b00b-4c6a-9287-8fc2d32285ae",
   "metadata": {},
   "outputs": [
    {
     "data": {
      "text/plain": [
       "10.0"
      ]
     },
     "execution_count": 44,
     "metadata": {},
     "output_type": "execute_result"
    }
   ],
   "source": [
    "float(b)"
   ]
  },
  {
   "cell_type": "code",
   "execution_count": 45,
   "id": "7ffb8bd6-62af-464a-9200-8d4b42ef6b23",
   "metadata": {},
   "outputs": [
    {
     "data": {
      "text/plain": [
       "0.0"
      ]
     },
     "execution_count": 45,
     "metadata": {},
     "output_type": "execute_result"
    }
   ],
   "source": [
    "float(c)"
   ]
  },
  {
   "cell_type": "code",
   "execution_count": 46,
   "id": "32d0cb66-6c04-409e-ba4a-e90f31b9c203",
   "metadata": {},
   "outputs": [
    {
     "ename": "TypeError",
     "evalue": "float() argument must be a string or a real number, not 'complex'",
     "output_type": "error",
     "traceback": [
      "\u001b[1;31m---------------------------------------------------------------------------\u001b[0m",
      "\u001b[1;31mTypeError\u001b[0m                                 Traceback (most recent call last)",
      "Cell \u001b[1;32mIn[46], line 1\u001b[0m\n\u001b[1;32m----> 1\u001b[0m \u001b[38;5;28mfloat\u001b[39m(d)\n",
      "\u001b[1;31mTypeError\u001b[0m: float() argument must be a string or a real number, not 'complex'"
     ]
    }
   ],
   "source": [
    "float(d)"
   ]
  },
  {
   "cell_type": "markdown",
   "id": "2279ae62-fc4c-4a4a-8087-2a4b52de3ed6",
   "metadata": {},
   "source": [
    "##### To bool"
   ]
  },
  {
   "cell_type": "code",
   "execution_count": 53,
   "id": "3df09c92-e89e-4a21-bbae-408f7b87d857",
   "metadata": {},
   "outputs": [],
   "source": [
    "a = 13\n",
    "b = '10'\n",
    "c = 12.5\n",
    "d = 10+30j"
   ]
  },
  {
   "cell_type": "code",
   "execution_count": 48,
   "id": "7a25a28b-9a8e-409a-9999-27664c2a85a8",
   "metadata": {},
   "outputs": [
    {
     "data": {
      "text/plain": [
       "True"
      ]
     },
     "execution_count": 48,
     "metadata": {},
     "output_type": "execute_result"
    }
   ],
   "source": [
    "bool(a)"
   ]
  },
  {
   "cell_type": "code",
   "execution_count": 49,
   "id": "0d954daa-3c51-4a8e-8740-6d34701e082a",
   "metadata": {},
   "outputs": [
    {
     "data": {
      "text/plain": [
       "True"
      ]
     },
     "execution_count": 49,
     "metadata": {},
     "output_type": "execute_result"
    }
   ],
   "source": [
    "bool(b)"
   ]
  },
  {
   "cell_type": "code",
   "execution_count": 54,
   "id": "53d6a0a4-1785-4d37-86a3-6974222076dc",
   "metadata": {},
   "outputs": [
    {
     "data": {
      "text/plain": [
       "True"
      ]
     },
     "execution_count": 54,
     "metadata": {},
     "output_type": "execute_result"
    }
   ],
   "source": [
    "bool(c)"
   ]
  },
  {
   "cell_type": "code",
   "execution_count": 51,
   "id": "9979d0e4-700b-4358-a7dd-8af24ceaa523",
   "metadata": {},
   "outputs": [
    {
     "data": {
      "text/plain": [
       "True"
      ]
     },
     "execution_count": 51,
     "metadata": {},
     "output_type": "execute_result"
    }
   ],
   "source": [
    "bool(d)"
   ]
  },
  {
   "cell_type": "code",
   "execution_count": 55,
   "id": "bd4259a3-64d3-427f-bc35-ffb9cabf2b8d",
   "metadata": {},
   "outputs": [],
   "source": [
    "a = 13\n",
    "b = True\n",
    "c = 12.5\n",
    "d = 10+30j"
   ]
  },
  {
   "cell_type": "code",
   "execution_count": 56,
   "id": "5a5561df-7053-4948-81fc-45167fd5e40b",
   "metadata": {},
   "outputs": [
    {
     "data": {
      "text/plain": [
       "'13'"
      ]
     },
     "execution_count": 56,
     "metadata": {},
     "output_type": "execute_result"
    }
   ],
   "source": [
    "str(a)"
   ]
  },
  {
   "cell_type": "code",
   "execution_count": 57,
   "id": "4e79d7b1-7f8a-433d-8263-869d9f29eec6",
   "metadata": {},
   "outputs": [
    {
     "data": {
      "text/plain": [
       "'True'"
      ]
     },
     "execution_count": 57,
     "metadata": {},
     "output_type": "execute_result"
    }
   ],
   "source": [
    "str(b)"
   ]
  },
  {
   "cell_type": "code",
   "execution_count": 58,
   "id": "3348770c-d6f8-4a69-9e90-1186c6e4968a",
   "metadata": {},
   "outputs": [
    {
     "data": {
      "text/plain": [
       "'12.5'"
      ]
     },
     "execution_count": 58,
     "metadata": {},
     "output_type": "execute_result"
    }
   ],
   "source": [
    "str(c)"
   ]
  },
  {
   "cell_type": "code",
   "execution_count": 59,
   "id": "a5241e08-ac20-4c2b-bc79-6cc7606619b8",
   "metadata": {},
   "outputs": [
    {
     "data": {
      "text/plain": [
       "'(10+30j)'"
      ]
     },
     "execution_count": 59,
     "metadata": {},
     "output_type": "execute_result"
    }
   ],
   "source": [
    "str(d)"
   ]
  },
  {
   "cell_type": "code",
   "execution_count": 60,
   "id": "09852415-3e3a-4834-98a9-7b934f74eaff",
   "metadata": {},
   "outputs": [
    {
     "name": "stdin",
     "output_type": "stream",
     "text": [
      "Enter a number::  4\n",
      "Enter second number::  5\n"
     ]
    },
    {
     "name": "stdout",
     "output_type": "stream",
     "text": [
      "45\n"
     ]
    }
   ],
   "source": [
    "a = input('Enter a number:: ')\n",
    "b = input(\"Enter second number:: \")\n",
    "print(a + b)"
   ]
  },
  {
   "cell_type": "code",
   "execution_count": 61,
   "id": "49c1fc80-30e3-48fb-8d2c-148875229e71",
   "metadata": {},
   "outputs": [
    {
     "name": "stdin",
     "output_type": "stream",
     "text": [
      "Enter a number::  4\n",
      "Enter second number::  5\n"
     ]
    },
    {
     "name": "stdout",
     "output_type": "stream",
     "text": [
      "9\n"
     ]
    }
   ],
   "source": [
    "a = input('Enter a number:: ')\n",
    "b = input(\"Enter second number:: \")\n",
    "print(int(a) + int(b))"
   ]
  },
  {
   "cell_type": "code",
   "execution_count": 62,
   "id": "8045e819-ec04-404f-b773-8e541dfc91ef",
   "metadata": {},
   "outputs": [
    {
     "name": "stdin",
     "output_type": "stream",
     "text": [
      "Enter a number::  4\n",
      "Enter second number::  5\n"
     ]
    },
    {
     "name": "stdout",
     "output_type": "stream",
     "text": [
      "9\n"
     ]
    }
   ],
   "source": [
    "a = int(input('Enter a number:: '))\n",
    "b = int(input(\"Enter second number:: \"))\n",
    "print( a + b)"
   ]
  },
  {
   "cell_type": "markdown",
   "id": "e913c395-ed7c-460f-ae0f-c333f138618d",
   "metadata": {},
   "source": [
    "#####"
   ]
  },
  {
   "cell_type": "markdown",
   "id": "2dd02e2e-3445-4b70-b64b-b6a924844ae9",
   "metadata": {},
   "source": [
    "ask user to enter mobile number.check whether it is valid indian phone number or not"
   ]
  },
  {
   "cell_type": "code",
   "execution_count": 1,
   "id": "c33abcf3-86f0-4e82-94b8-40970db49d02",
   "metadata": {},
   "outputs": [
    {
     "name": "stdin",
     "output_type": "stream",
     "text": [
      "Enter the Mobile number::  9985598604\n"
     ]
    },
    {
     "data": {
      "text/plain": [
       "True"
      ]
     },
     "execution_count": 1,
     "metadata": {},
     "output_type": "execute_result"
    }
   ],
   "source": [
    "phone = input(\"Enter the Mobile number:: \")\n",
    "\n",
    "(len(phone) == 10 or 13) and phone.startswith((\"+91\",'9','8','7','6'))"
   ]
  },
  {
   "cell_type": "code",
   "execution_count": 1,
   "id": "ed7e9b7c-2b47-4292-9b6d-d8bea8f40a6b",
   "metadata": {},
   "outputs": [],
   "source": [
    "text = \"\"\"The University of Hawaii began using radio to send digital information as early as 1971,using ALOHAnet. \n",
    "Friedhelm Hillebrand conceptualised SMS in 1984 while working for Deutsche Telekom. Sitting at a typewriter at home, \n",
    "Hillebrand typed out random sentences and counted every letter, number, punctuation, and space. \n",
    "Almost every time, the messages contained fewer than 160 characters, thus giving the basis for the \n",
    "limit one could type via text messaging. With Bernard Ghillebaert of France Télécom, he developed \n",
    "a proposal for the GSM (Groupe Spécial Mobile) meeting in February 1985 in Oslo. \n",
    "The first technical solution evolved in a GSM subgroup under the leadership of Finn Trosby. \n",
    "It was further developed under the leadership of Kevin Holley and Ian Harris (see Short Message Service). \n",
    "SMS forms an integral part of SS7 (Signalling System No. 7). Under SS7, it is a \"state\" with a 160 character data, \n",
    "coded in the ITU-T \"T.56\" text format, that has a \"sequence lead in\" to determine different language codes, \n",
    "and may have special character codes that permits, for example, sending simple graphs as text. \n",
    "This was part of ISDN (Integrated Services Digital Network) and since GSM is based on this, \n",
    "made its way to the mobile phone. Messages could be sent and received on ISDN phones, \n",
    "and these can send SMS to any GSM phone. The possibility of doing something is one thing, \n",
    "implementing it another, but systems existed from 1988 that sent SMS messages to mobile phones (compare ND-NOTIS).\"\"\""
   ]
  },
  {
   "cell_type": "code",
   "execution_count": 6,
   "id": "3776ff9b-5e4e-4646-a232-ddc2a0f38feb",
   "metadata": {},
   "outputs": [
    {
     "name": "stdout",
     "output_type": "stream",
     "text": [
      "244\n"
     ]
    }
   ],
   "source": [
    "words = len(text.split())\n",
    "print(words)\n"
   ]
  },
  {
   "cell_type": "code",
   "execution_count": 10,
   "id": "2e893bb8-bfc6-4211-85c1-e1e24b251edc",
   "metadata": {},
   "outputs": [
    {
     "name": "stdout",
     "output_type": "stream",
     "text": [
      "174\n"
     ]
    }
   ],
   "source": [
    "words1 = text.split()\n",
    "unique = set(words1)\n",
    "a = len(unique)\n",
    "print(a)"
   ]
  },
  {
   "cell_type": "code",
   "execution_count": 12,
   "id": "e8f64ca0-830f-4752-bd44-11de3c3e183a",
   "metadata": {},
   "outputs": [],
   "source": [
    "lexicaldiversity = words/a"
   ]
  },
  {
   "cell_type": "code",
   "execution_count": 13,
   "id": "ec3c726c-5235-4f63-8c26-f24c18e3d79e",
   "metadata": {},
   "outputs": [
    {
     "name": "stdout",
     "output_type": "stream",
     "text": [
      "1.4022988505747127\n"
     ]
    }
   ],
   "source": [
    "print(lexicaldiversity)"
   ]
  },
  {
   "cell_type": "code",
   "execution_count": 16,
   "id": "d5401248-59a6-42b7-8cae-c26f28f7e78f",
   "metadata": {},
   "outputs": [
    {
     "data": {
      "text/plain": [
       "14"
      ]
     },
     "execution_count": 16,
     "metadata": {},
     "output_type": "execute_result"
    }
   ],
   "source": [
    "a = text.lower()\n",
    "a.count(\"the\")"
   ]
  },
  {
   "cell_type": "code",
   "execution_count": 17,
   "id": "b80cf215-c2ef-4314-a80f-d5a629b7e919",
   "metadata": {},
   "outputs": [
    {
     "ename": "TypeError",
     "evalue": "must be str, not int",
     "output_type": "error",
     "traceback": [
      "\u001b[1;31m---------------------------------------------------------------------------\u001b[0m",
      "\u001b[1;31mTypeError\u001b[0m                                 Traceback (most recent call last)",
      "Cell \u001b[1;32mIn[17], line 1\u001b[0m\n\u001b[1;32m----> 1\u001b[0m text\u001b[38;5;241m.\u001b[39mcount(\u001b[38;5;241m0\u001b[39m,\u001b[38;5;241m10\u001b[39m)\n",
      "\u001b[1;31mTypeError\u001b[0m: must be str, not int"
     ]
    }
   ],
   "source": [
    "text.count(0,10)"
   ]
  },
  {
   "cell_type": "code",
   "execution_count": 36,
   "id": "f7537209-ac95-4a83-9698-a967a11c62b8",
   "metadata": {},
   "outputs": [],
   "source": [
    "ab = text.split()[:10]\n",
    "#ab[]"
   ]
  },
  {
   "cell_type": "code",
   "execution_count": 37,
   "id": "6330f19d-3d70-4784-b1b3-669460e0ad51",
   "metadata": {},
   "outputs": [
    {
     "name": "stdout",
     "output_type": "stream",
     "text": [
      "['The', 'University', 'of', 'Hawaii', 'began', 'using', 'radio', 'to', 'send', 'digital']\n"
     ]
    }
   ],
   "source": [
    "print(ab)"
   ]
  },
  {
   "cell_type": "code",
   "execution_count": 48,
   "id": "556ae729-7748-4c40-bda7-3a59d0886a03",
   "metadata": {},
   "outputs": [
    {
     "data": {
      "text/plain": [
       "'The University of Hawaii began using radio to send digital'"
      ]
     },
     "execution_count": 48,
     "metadata": {},
     "output_type": "execute_result"
    }
   ],
   "source": [
    "text[0:58]\n"
   ]
  },
  {
   "cell_type": "code",
   "execution_count": 41,
   "id": "976b0618-87dc-4b8d-bb22-7df87a9c0f86",
   "metadata": {},
   "outputs": [],
   "source": [
    "splitted = text.split()\n",
    "\n",
    "first = splitted[:10]"
   ]
  },
  {
   "cell_type": "code",
   "execution_count": 64,
   "id": "2782478b-a92f-4cf3-9144-5e31ef325160",
   "metadata": {},
   "outputs": [
    {
     "data": {
      "text/plain": [
       "'The University of Hawaii began using radio to send digital'"
      ]
     },
     "execution_count": 64,
     "metadata": {},
     "output_type": "execute_result"
    }
   ],
   "source": [
    "' '.join(first)"
   ]
  },
  {
   "cell_type": "code",
   "execution_count": 53,
   "id": "bfab1764-1385-4861-b95d-edd93a33e308",
   "metadata": {},
   "outputs": [
    {
     "data": {
      "text/plain": [
       "'The University of Hawaii began using radio to send digital innomatics research labs'"
      ]
     },
     "execution_count": 53,
     "metadata": {},
     "output_type": "execute_result"
    }
   ],
   "source": [
    "string = \" innomatics research labs\"\n",
    "text[0:58] + string"
   ]
  },
  {
   "cell_type": "code",
   "execution_count": 52,
   "id": "26d11d07-fe8a-404e-99b3-856c8f95151e",
   "metadata": {},
   "outputs": [
    {
     "name": "stdout",
     "output_type": "stream",
     "text": [
      "The University of Hawaii began using radio to send digital innomatics research labs\n"
     ]
    }
   ],
   "source": [
    "print(ab)"
   ]
  },
  {
   "cell_type": "code",
   "execution_count": 54,
   "id": "6fd6d62c-e152-494c-94a0-08c60635b701",
   "metadata": {},
   "outputs": [
    {
     "data": {
      "text/plain": [
       "'The University'"
      ]
     },
     "execution_count": 54,
     "metadata": {},
     "output_type": "execute_result"
    }
   ],
   "source": [
    "text[0:14]"
   ]
  },
  {
   "cell_type": "code",
   "execution_count": 60,
   "id": "7d60b505-1cd6-4952-b12f-7f8af1a5f72b",
   "metadata": {},
   "outputs": [
    {
     "ename": "TypeError",
     "evalue": "strip arg must be None or str",
     "output_type": "error",
     "traceback": [
      "\u001b[1;31m---------------------------------------------------------------------------\u001b[0m",
      "\u001b[1;31mTypeError\u001b[0m                                 Traceback (most recent call last)",
      "Cell \u001b[1;32mIn[60], line 1\u001b[0m\n\u001b[1;32m----> 1\u001b[0m ab \u001b[38;5;241m=\u001b[39m text\u001b[38;5;241m.\u001b[39mstrip(\u001b[38;5;241m14\u001b[39m)\n\u001b[0;32m      2\u001b[0m \u001b[38;5;28mprint\u001b[39m(ab)\n",
      "\u001b[1;31mTypeError\u001b[0m: strip arg must be None or str"
     ]
    }
   ],
   "source": [
    "ab = text.strip(14)\n",
    "print(ab)"
   ]
  },
  {
   "cell_type": "code",
   "execution_count": 63,
   "id": "53b139c5-8a1b-486a-9f91-ce6c98f9e9ee",
   "metadata": {},
   "outputs": [
    {
     "data": {
      "text/plain": [
       "'The University of Hawaii began using radio to send digital information as early as '"
      ]
     },
     "execution_count": 63,
     "metadata": {},
     "output_type": "execute_result"
    }
   ],
   "source": [
    "text[:83]"
   ]
  },
  {
   "cell_type": "code",
   "execution_count": 72,
   "id": "3532fc46-5dc9-43f7-9849-baf1019457d7",
   "metadata": {},
   "outputs": [
    {
     "data": {
      "text/plain": [
       "'the university of hawaii began using radio to send digital information as early as 1971,using alohanet. \\nfriedhelm hillebrand conceptualised sms in 1984 while working for deutsche telekom. sitting at a typewriter at home, \\nhillebrand typed out random sentences and counted every letter, number, punctuation, and space. \\nalmost every time, the messages contained fewer than 160 characters, thus giving the basis for the \\nlimit one could type via text messaging. with bernard ghillebaert of france télécom, he developed \\na proposal for the gsm (groupe spécial mobile) meeting in february 1985 in oslo. \\nthe first technical solution evolved in a gsm subgroup under the leadership of finn trosby. \\nit was further developed under the leadership of kevin holley and ian harris (see short message service). \\nsms forms an integral part of ss7 (signalling system no. 7). under ss7, it is a \"state\" with a 160 character data, \\ncoded in the itu-t \"t.56\" text format, that has a \"sequence lead in\" to determine different language codes, \\nand may have special character codes that permits, for example, sending simple graphs as text. \\nthis was part of isdn (integrated services digital network) and since gsm is based on this, \\nmade its way to the mobile phone. messages could be sent and received on isdn phones, \\nand these can send sms to any gsm phone. the possibility of doing something is one thing, \\nimplementing it another, but systems existed from 1988 that sent sms messages to mobile phones (compare nd-notis).'"
      ]
     },
     "execution_count": 72,
     "metadata": {},
     "output_type": "execute_result"
    }
   ],
   "source": [
    "text.lower()"
   ]
  },
  {
   "cell_type": "code",
   "execution_count": 75,
   "id": "e43c7c26-d0ce-4427-b725-0443627d850e",
   "metadata": {},
   "outputs": [
    {
     "data": {
      "text/plain": [
       "['The',\n",
       " 'University',\n",
       " 'of',\n",
       " 'Hawaii',\n",
       " 'began',\n",
       " 'using',\n",
       " 'radio',\n",
       " 'to',\n",
       " 'send',\n",
       " 'digital',\n",
       " 'information',\n",
       " 'as',\n",
       " 'early',\n",
       " 'as',\n",
       " '1971,using',\n",
       " 'ALOHAnet.',\n",
       " 'Friedhelm',\n",
       " 'Hillebrand',\n",
       " 'conceptualised',\n",
       " 'SMS',\n",
       " 'in',\n",
       " '1984',\n",
       " 'while',\n",
       " 'working',\n",
       " 'for',\n",
       " 'Deutsche',\n",
       " 'Telekom.',\n",
       " 'Sitting',\n",
       " 'at',\n",
       " 'a',\n",
       " 'typewriter',\n",
       " 'at',\n",
       " 'home,',\n",
       " 'Hillebrand',\n",
       " 'typed',\n",
       " 'out',\n",
       " 'random',\n",
       " 'sentences',\n",
       " 'and',\n",
       " 'counted',\n",
       " 'every',\n",
       " 'letter,',\n",
       " 'number,',\n",
       " 'punctuation,',\n",
       " 'and',\n",
       " 'space.',\n",
       " 'Almost',\n",
       " 'every',\n",
       " 'time,',\n",
       " 'the',\n",
       " 'messages',\n",
       " 'contained',\n",
       " 'fewer',\n",
       " 'than',\n",
       " '160',\n",
       " 'characters,',\n",
       " 'thus',\n",
       " 'giving',\n",
       " 'the',\n",
       " 'basis',\n",
       " 'for',\n",
       " 'the',\n",
       " 'limit',\n",
       " 'one',\n",
       " 'could',\n",
       " 'type',\n",
       " 'via',\n",
       " 'text',\n",
       " 'messaging.',\n",
       " 'With',\n",
       " 'Bernard',\n",
       " 'Ghillebaert',\n",
       " 'of',\n",
       " 'France',\n",
       " 'Télécom,',\n",
       " 'he',\n",
       " 'developed',\n",
       " 'a',\n",
       " 'proposal',\n",
       " 'for',\n",
       " 'the',\n",
       " 'GSM',\n",
       " '(Groupe',\n",
       " 'Spécial',\n",
       " 'Mobile)',\n",
       " 'meeting',\n",
       " 'in',\n",
       " 'February',\n",
       " '1985',\n",
       " 'in',\n",
       " 'Oslo.',\n",
       " 'The',\n",
       " 'first',\n",
       " 'technical',\n",
       " 'solution',\n",
       " 'evolved',\n",
       " 'in',\n",
       " 'a',\n",
       " 'GSM',\n",
       " 'subgroup',\n",
       " 'under',\n",
       " 'the',\n",
       " 'leadership',\n",
       " 'of',\n",
       " 'Finn',\n",
       " 'Trosby.',\n",
       " 'It',\n",
       " 'was',\n",
       " 'further',\n",
       " 'developed',\n",
       " 'under',\n",
       " 'the',\n",
       " 'leadership',\n",
       " 'of',\n",
       " 'Kevin',\n",
       " 'Holley',\n",
       " 'and',\n",
       " 'Ian',\n",
       " 'Harris',\n",
       " '(see',\n",
       " 'Short',\n",
       " 'Message',\n",
       " 'Service).',\n",
       " 'SMS',\n",
       " 'forms',\n",
       " 'an',\n",
       " 'integral',\n",
       " 'part',\n",
       " 'of',\n",
       " 'SS7',\n",
       " '(Signalling',\n",
       " 'System',\n",
       " 'No.',\n",
       " '7).',\n",
       " 'Under',\n",
       " 'SS7,',\n",
       " 'it',\n",
       " 'is',\n",
       " 'a',\n",
       " '\"state\"',\n",
       " 'with',\n",
       " 'a',\n",
       " '160',\n",
       " 'character',\n",
       " 'data,',\n",
       " 'coded',\n",
       " 'in',\n",
       " 'the',\n",
       " 'ITU-T',\n",
       " '\"T.56\"',\n",
       " 'text',\n",
       " 'format,',\n",
       " 'that',\n",
       " 'has',\n",
       " 'a',\n",
       " '\"sequence',\n",
       " 'lead',\n",
       " 'in\"',\n",
       " 'to',\n",
       " 'determine',\n",
       " 'different',\n",
       " 'language',\n",
       " 'codes,',\n",
       " 'and',\n",
       " 'may',\n",
       " 'have',\n",
       " 'special',\n",
       " 'character',\n",
       " 'codes',\n",
       " 'that',\n",
       " 'permits,',\n",
       " 'for',\n",
       " 'example,',\n",
       " 'sending',\n",
       " 'simple',\n",
       " 'graphs',\n",
       " 'as',\n",
       " 'text.',\n",
       " 'This',\n",
       " 'was',\n",
       " 'part',\n",
       " 'of',\n",
       " 'ISDN',\n",
       " '(Integrated',\n",
       " 'Services',\n",
       " 'Digital',\n",
       " 'Network)',\n",
       " 'and',\n",
       " 'since',\n",
       " 'GSM',\n",
       " 'is',\n",
       " 'based',\n",
       " 'on',\n",
       " 'this,',\n",
       " 'made',\n",
       " 'its',\n",
       " 'way',\n",
       " 'to',\n",
       " 'the',\n",
       " 'mobile',\n",
       " 'phone.',\n",
       " 'Messages',\n",
       " 'could',\n",
       " 'be',\n",
       " 'sent',\n",
       " 'and',\n",
       " 'received',\n",
       " 'on',\n",
       " 'ISDN',\n",
       " 'phones,',\n",
       " 'and',\n",
       " 'these',\n",
       " 'can',\n",
       " 'send',\n",
       " 'SMS',\n",
       " 'to',\n",
       " 'any',\n",
       " 'GSM',\n",
       " 'phone.',\n",
       " 'The',\n",
       " 'possibility',\n",
       " 'of',\n",
       " 'doing',\n",
       " 'something',\n",
       " 'is',\n",
       " 'one',\n",
       " 'thing,',\n",
       " 'implementing',\n",
       " 'it',\n",
       " 'another,',\n",
       " 'but',\n",
       " 'systems',\n",
       " 'existed',\n",
       " 'from',\n",
       " '1988',\n",
       " 'that',\n",
       " 'sent',\n",
       " 'SMS',\n",
       " 'messages',\n",
       " 'to',\n",
       " 'mobile',\n",
       " 'phones',\n",
       " '(compare',\n",
       " 'ND-NOTIS).']"
      ]
     },
     "execution_count": 75,
     "metadata": {},
     "output_type": "execute_result"
    }
   ],
   "source": [
    "text.split()"
   ]
  },
  {
   "cell_type": "code",
   "execution_count": 76,
   "id": "a1c90fe7-5104-4d7d-9048-f36d34f55aec",
   "metadata": {},
   "outputs": [
    {
     "name": "stdout",
     "output_type": "stream",
     "text": [
      "using\n",
      "under\n",
      "under\n"
     ]
    }
   ],
   "source": [
    "for i in text.split():\n",
    "    if i.startswith(\"u\"):\n",
    "        print(i)"
   ]
  },
  {
   "cell_type": "code",
   "execution_count": 108,
   "id": "b4fba791-f992-434c-a66d-08a8c43eb0a2",
   "metadata": {},
   "outputs": [
    {
     "name": "stdout",
     "output_type": "stream",
     "text": [
      "dict['University']\n",
      "dict['using']\n",
      "dict['under']\n",
      "dict['under']\n",
      "dict['Under']\n"
     ]
    }
   ],
   "source": [
    "letter = (\"u\",\"U\")\n",
    "set1\n",
    "for i in text.split():\n",
    "    if i.startswith(letter):\n",
    "        print(dict[i])\n",
    "        #print(\"List of words starting with u is \\n\" ,{i})"
   ]
  },
  {
   "cell_type": "code",
   "execution_count": null,
   "id": "c5928049-caf5-48ba-9eb7-f22a3ecbae71",
   "metadata": {},
   "outputs": [],
   "source": []
  }
 ],
 "metadata": {
  "kernelspec": {
   "display_name": "Python 3 (ipykernel)",
   "language": "python",
   "name": "python3"
  },
  "language_info": {
   "codemirror_mode": {
    "name": "ipython",
    "version": 3
   },
   "file_extension": ".py",
   "mimetype": "text/x-python",
   "name": "python",
   "nbconvert_exporter": "python",
   "pygments_lexer": "ipython3",
   "version": "3.11.7"
  }
 },
 "nbformat": 4,
 "nbformat_minor": 5
}
