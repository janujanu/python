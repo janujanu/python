{
 "cells": [
  {
   "cell_type": "markdown",
   "id": "d20fb085-999d-4841-ae6d-373ffd4f220a",
   "metadata": {},
   "source": [
    "* To store multiple values"
   ]
  },
  {
   "cell_type": "markdown",
   "id": "bc8102f2-62fc-493b-9444-a663e2910dec",
   "metadata": {},
   "source": [
    "### Representatiom"
   ]
  },
  {
   "cell_type": "code",
   "execution_count": 3,
   "id": "9db13509-0e31-4bc1-89c3-309491792ec3",
   "metadata": {},
   "outputs": [],
   "source": [
    "ages = [18,14,12,14,15,16,17,23,67]"
   ]
  },
  {
   "cell_type": "code",
   "execution_count": 4,
   "id": "3fca2469-d838-4221-9e21-9e3e396d1f37",
   "metadata": {},
   "outputs": [
    {
     "data": {
      "text/plain": [
       "list"
      ]
     },
     "execution_count": 4,
     "metadata": {},
     "output_type": "execute_result"
    }
   ],
   "source": [
    "type(ages)"
   ]
  },
  {
   "cell_type": "code",
   "execution_count": 5,
   "id": "6afa1bb8-6783-49d4-8eb7-f4c4cc6c0a90",
   "metadata": {},
   "outputs": [],
   "source": [
    "cities = [] #empty list"
   ]
  },
  {
   "cell_type": "code",
   "execution_count": 6,
   "id": "b39a0e73-13d2-4f69-b284-71bdc50d40cf",
   "metadata": {},
   "outputs": [],
   "source": [
    "cities = list() #empty list"
   ]
  },
  {
   "cell_type": "code",
   "execution_count": 7,
   "id": "bdffe61b-75b4-4060-992d-8dc02dcf28de",
   "metadata": {},
   "outputs": [],
   "source": [
    "marks = list((23,21,15,17))"
   ]
  },
  {
   "cell_type": "code",
   "execution_count": 8,
   "id": "203c7cfe-2c8e-4c61-86bb-0403ae9f1045",
   "metadata": {},
   "outputs": [
    {
     "data": {
      "text/plain": [
       "[23, 21, 15, 17]"
      ]
     },
     "execution_count": 8,
     "metadata": {},
     "output_type": "execute_result"
    }
   ],
   "source": [
    "marks"
   ]
  },
  {
   "cell_type": "code",
   "execution_count": 9,
   "id": "407d2fd8-4aa5-41e4-bb8d-242ce32e26d0",
   "metadata": {},
   "outputs": [],
   "source": [
    "diff = [1,1.6,True,'hello']"
   ]
  },
  {
   "cell_type": "code",
   "execution_count": 10,
   "id": "b0563640-e632-4140-b65d-7ff848f36ef7",
   "metadata": {},
   "outputs": [
    {
     "data": {
      "text/plain": [
       "list"
      ]
     },
     "execution_count": 10,
     "metadata": {},
     "output_type": "execute_result"
    }
   ],
   "source": [
    "type(diff)"
   ]
  },
  {
   "cell_type": "code",
   "execution_count": 11,
   "id": "ec79d61e-0821-400c-8b21-46c10408fa47",
   "metadata": {},
   "outputs": [
    {
     "data": {
      "text/plain": [
       "9"
      ]
     },
     "execution_count": 11,
     "metadata": {},
     "output_type": "execute_result"
    }
   ],
   "source": [
    "len(ages)"
   ]
  },
  {
   "cell_type": "code",
   "execution_count": 12,
   "id": "ad94d470-740f-4f89-b56b-989bdef70612",
   "metadata": {},
   "outputs": [
    {
     "data": {
      "text/plain": [
       "4"
      ]
     },
     "execution_count": 12,
     "metadata": {},
     "output_type": "execute_result"
    }
   ],
   "source": [
    "len(diff)"
   ]
  },
  {
   "cell_type": "code",
   "execution_count": 13,
   "id": "189363f8-dfcc-4be3-b6d5-ff75d3c31ca6",
   "metadata": {},
   "outputs": [
    {
     "data": {
      "text/plain": [
       "1611690854592"
      ]
     },
     "execution_count": 13,
     "metadata": {},
     "output_type": "execute_result"
    }
   ],
   "source": [
    "id(ages)"
   ]
  },
  {
   "cell_type": "markdown",
   "id": "2a39deb1-37ca-4836-be7f-848d6ce7828f",
   "metadata": {},
   "source": [
    "### Attributes"
   ]
  },
  {
   "cell_type": "markdown",
   "id": "b0ba4d4e-0f21-45e5-b934-26abb3d55719",
   "metadata": {},
   "source": [
    "1. Mutable\n",
    "2. ordered\n",
    "3. Duplicates\n",
    "4. Index"
   ]
  },
  {
   "cell_type": "code",
   "execution_count": 15,
   "id": "f23a79e2-e8f1-4e98-8584-016babc1d93f",
   "metadata": {},
   "outputs": [],
   "source": [
    "#Mutable\n",
    "list1 = [10,15,16,17]"
   ]
  },
  {
   "cell_type": "code",
   "execution_count": 16,
   "id": "38a352cc-146f-4c20-8f78-76cff5c81711",
   "metadata": {},
   "outputs": [],
   "source": [
    "list1.append(2000)"
   ]
  },
  {
   "cell_type": "code",
   "execution_count": 17,
   "id": "cdd3b12d-04d2-4434-9a1c-3352669fc478",
   "metadata": {},
   "outputs": [
    {
     "data": {
      "text/plain": [
       "[10, 15, 16, 17, 2000]"
      ]
     },
     "execution_count": 17,
     "metadata": {},
     "output_type": "execute_result"
    }
   ],
   "source": [
    "list1"
   ]
  },
  {
   "cell_type": "markdown",
   "id": "241079eb-2501-4242-9fce-afc4967295c7",
   "metadata": {},
   "source": [
    "* All basic data types are immutable"
   ]
  },
  {
   "cell_type": "code",
   "execution_count": 19,
   "id": "45c3991e-cc71-44e8-ab15-234c47d5d2ca",
   "metadata": {},
   "outputs": [],
   "source": [
    "num1 = 23\n",
    "num2 = 10"
   ]
  },
  {
   "cell_type": "code",
   "execution_count": 20,
   "id": "969d4d7e-4260-4c92-9dc6-6e66158551ed",
   "metadata": {},
   "outputs": [
    {
     "data": {
      "text/plain": [
       "33"
      ]
     },
     "execution_count": 20,
     "metadata": {},
     "output_type": "execute_result"
    }
   ],
   "source": [
    "num1 + num2"
   ]
  },
  {
   "cell_type": "code",
   "execution_count": 22,
   "id": "b90be3c1-e968-4653-bb89-7c5b74a9c06b",
   "metadata": {},
   "outputs": [
    {
     "data": {
      "text/plain": [
       "529"
      ]
     },
     "execution_count": 22,
     "metadata": {},
     "output_type": "execute_result"
    }
   ],
   "source": [
    "num1 ** 2"
   ]
  },
  {
   "cell_type": "code",
   "execution_count": 23,
   "id": "bd97bba3-1bab-4816-9ac5-5356b1feb0bf",
   "metadata": {},
   "outputs": [
    {
     "data": {
      "text/plain": [
       "23"
      ]
     },
     "execution_count": 23,
     "metadata": {},
     "output_type": "execute_result"
    }
   ],
   "source": [
    "num1"
   ]
  },
  {
   "cell_type": "code",
   "execution_count": 24,
   "id": "a2ba73ea-f75a-4551-9a51-e12941253e8f",
   "metadata": {},
   "outputs": [],
   "source": [
    "num = num1 - num2"
   ]
  },
  {
   "cell_type": "code",
   "execution_count": 25,
   "id": "37232c4f-786e-4f88-80a3-20e1765aac52",
   "metadata": {},
   "outputs": [
    {
     "data": {
      "text/plain": [
       "13"
      ]
     },
     "execution_count": 25,
     "metadata": {},
     "output_type": "execute_result"
    }
   ],
   "source": [
    "num"
   ]
  },
  {
   "cell_type": "code",
   "execution_count": 26,
   "id": "9d80a4d2-f04e-4512-a0e1-a3d58b95ee45",
   "metadata": {},
   "outputs": [
    {
     "data": {
      "text/plain": [
       "23"
      ]
     },
     "execution_count": 26,
     "metadata": {},
     "output_type": "execute_result"
    }
   ],
   "source": [
    "num1"
   ]
  },
  {
   "cell_type": "code",
   "execution_count": 27,
   "id": "64cd9408-5379-47c3-b770-d561bc0c210a",
   "metadata": {},
   "outputs": [],
   "source": [
    "name = 'Hello'\n",
    "name2 =  ' World'"
   ]
  },
  {
   "cell_type": "code",
   "execution_count": 28,
   "id": "1d8aa9d3-4025-408e-a45f-17376d1fa239",
   "metadata": {},
   "outputs": [
    {
     "data": {
      "text/plain": [
       "'Hello World'"
      ]
     },
     "execution_count": 28,
     "metadata": {},
     "output_type": "execute_result"
    }
   ],
   "source": [
    "name + name2"
   ]
  },
  {
   "cell_type": "code",
   "execution_count": 29,
   "id": "13c8f4c2-0a92-4643-9619-ae0968c7b63f",
   "metadata": {},
   "outputs": [
    {
     "data": {
      "text/plain": [
       "' World'"
      ]
     },
     "execution_count": 29,
     "metadata": {},
     "output_type": "execute_result"
    }
   ],
   "source": [
    "name2"
   ]
  },
  {
   "cell_type": "code",
   "execution_count": 30,
   "id": "b87c5260-e1b5-4646-a5fa-2598d63971ee",
   "metadata": {},
   "outputs": [
    {
     "data": {
      "text/plain": [
       "'Hello'"
      ]
     },
     "execution_count": 30,
     "metadata": {},
     "output_type": "execute_result"
    }
   ],
   "source": [
    "name"
   ]
  },
  {
   "cell_type": "code",
   "execution_count": 32,
   "id": "120fba4e-3b9d-499a-915a-8aa666d24e20",
   "metadata": {},
   "outputs": [
    {
     "data": {
      "text/plain": [
       "'HelloHelloHelloHelloHello'"
      ]
     },
     "execution_count": 32,
     "metadata": {},
     "output_type": "execute_result"
    }
   ],
   "source": [
    "name * 5"
   ]
  },
  {
   "cell_type": "code",
   "execution_count": 33,
   "id": "869d65ef-8cfd-477c-a3b3-8f933537a0dc",
   "metadata": {},
   "outputs": [
    {
     "data": {
      "text/plain": [
       "' World World'"
      ]
     },
     "execution_count": 33,
     "metadata": {},
     "output_type": "execute_result"
    }
   ],
   "source": [
    "name2 * 2"
   ]
  },
  {
   "cell_type": "markdown",
   "id": "4c037a70-8193-4a17-8dc0-5ef9a5ff2240",
   "metadata": {},
   "source": [
    "### Ordered"
   ]
  },
  {
   "cell_type": "code",
   "execution_count": 34,
   "id": "06e8a1ac-5fac-48bb-bf79-d260c13cf02a",
   "metadata": {},
   "outputs": [
    {
     "data": {
      "text/plain": [
       "[10, 15, 16, 17, 2000]"
      ]
     },
     "execution_count": 34,
     "metadata": {},
     "output_type": "execute_result"
    }
   ],
   "source": [
    "list1"
   ]
  },
  {
   "cell_type": "code",
   "execution_count": 35,
   "id": "d9d604ea-6c02-4999-852c-14342e803c6b",
   "metadata": {},
   "outputs": [
    {
     "data": {
      "text/plain": [
       "10"
      ]
     },
     "execution_count": 35,
     "metadata": {},
     "output_type": "execute_result"
    }
   ],
   "source": [
    "list1[0]"
   ]
  },
  {
   "cell_type": "code",
   "execution_count": 36,
   "id": "19d64f79-c8b6-4f33-a492-0b9c38690b54",
   "metadata": {},
   "outputs": [
    {
     "data": {
      "text/plain": [
       "2000"
      ]
     },
     "execution_count": 36,
     "metadata": {},
     "output_type": "execute_result"
    }
   ],
   "source": [
    "list1[-1]"
   ]
  },
  {
   "cell_type": "code",
   "execution_count": 37,
   "id": "1f0edb30-66df-42cd-92fb-61f6ec278cbc",
   "metadata": {},
   "outputs": [
    {
     "data": {
      "text/plain": [
       "[15, 16]"
      ]
     },
     "execution_count": 37,
     "metadata": {},
     "output_type": "execute_result"
    }
   ],
   "source": [
    "list1[1:3]"
   ]
  },
  {
   "cell_type": "code",
   "execution_count": 45,
   "id": "ffc871de-115b-4d71-bdc1-9b93b1691d5d",
   "metadata": {},
   "outputs": [],
   "source": [
    "marks = [23,56,78,12,14]"
   ]
  },
  {
   "cell_type": "code",
   "execution_count": 47,
   "id": "6af59409-0659-4c14-a08d-4d9a852005c7",
   "metadata": {},
   "outputs": [],
   "source": [
    "marks.sort()"
   ]
  },
  {
   "cell_type": "code",
   "execution_count": null,
   "id": "8cc060b2-506a-4fcd-832d-74547c34a07d",
   "metadata": {},
   "outputs": [],
   "source": []
  },
  {
   "cell_type": "markdown",
   "id": "0c81900b-4b39-4276-97fd-454a640388fe",
   "metadata": {},
   "source": [
    "### duplicates"
   ]
  },
  {
   "cell_type": "code",
   "execution_count": 38,
   "id": "c3c166d2-21ad-4da0-9261-bdadda0690c4",
   "metadata": {},
   "outputs": [],
   "source": [
    "list1 = [1,1,2,24,4,4,4,4,4100]"
   ]
  },
  {
   "cell_type": "code",
   "execution_count": 39,
   "id": "e61b37c4-3549-45ff-96f7-c5140ef6c685",
   "metadata": {},
   "outputs": [
    {
     "data": {
      "text/plain": [
       "[1, 1, 2, 24, 4, 4, 4, 4, 4100]"
      ]
     },
     "execution_count": 39,
     "metadata": {},
     "output_type": "execute_result"
    }
   ],
   "source": [
    "list1"
   ]
  },
  {
   "cell_type": "markdown",
   "id": "97c63bac-309f-42d4-ab62-0dd0518dd743",
   "metadata": {},
   "source": [
    "## List Methods"
   ]
  },
  {
   "cell_type": "code",
   "execution_count": 1,
   "id": "e1e1f406-ef3a-439d-85c2-a2370b7d5c2c",
   "metadata": {},
   "outputs": [],
   "source": [
    "fruits = ['apple',\"orange\",\"Mango\",\"pineapple\",\"Grapes\"] #list datatype"
   ]
  },
  {
   "cell_type": "code",
   "execution_count": 2,
   "id": "994e7260-cacc-4d4c-b422-e002d07c80f0",
   "metadata": {},
   "outputs": [
    {
     "data": {
      "text/plain": [
       "list"
      ]
     },
     "execution_count": 2,
     "metadata": {},
     "output_type": "execute_result"
    }
   ],
   "source": [
    "type(fruits)"
   ]
  },
  {
   "cell_type": "markdown",
   "id": "4339cd41-43a6-4295-9e29-08d2d8d54e0d",
   "metadata": {},
   "source": [
    "##### Adding elements"
   ]
  },
  {
   "cell_type": "code",
   "execution_count": 7,
   "id": "385f8d45-acc9-4656-a4da-9e29ce3e6647",
   "metadata": {},
   "outputs": [],
   "source": [
    "fruits.append(\"Kiwi\") #add the element at the end of the list"
   ]
  },
  {
   "cell_type": "code",
   "execution_count": 8,
   "id": "bf805f4f-157f-49fb-b7a3-92d9894b6e25",
   "metadata": {},
   "outputs": [
    {
     "data": {
      "text/plain": [
       "['apple', 'orange', 'Mango', 'pineapple', 'Grapes', 'Kiwi', 'Kiwi']"
      ]
     },
     "execution_count": 8,
     "metadata": {},
     "output_type": "execute_result"
    }
   ],
   "source": [
    "fruits"
   ]
  },
  {
   "cell_type": "code",
   "execution_count": 14,
   "id": "f9c9a449-5bd0-4561-b14d-6230cb782344",
   "metadata": {},
   "outputs": [],
   "source": [
    "fruits.append(\"Dragon fruit\")"
   ]
  },
  {
   "cell_type": "code",
   "execution_count": 15,
   "id": "28b7062f-f7fa-4154-8517-e89fb66f539c",
   "metadata": {},
   "outputs": [
    {
     "data": {
      "text/plain": [
       "['apple',\n",
       " 'orange',\n",
       " 'Mango',\n",
       " 'pineapple',\n",
       " 'Grapes',\n",
       " 'Kiwi',\n",
       " 'Kiwi',\n",
       " 'Dragon fruit',\n",
       " 'Dragon fruit',\n",
       " 'Dragon fruit']"
      ]
     },
     "execution_count": 15,
     "metadata": {},
     "output_type": "execute_result"
    }
   ],
   "source": [
    "fruits"
   ]
  },
  {
   "cell_type": "code",
   "execution_count": 9,
   "id": "18aa3791-8f2b-4d89-af78-0da083bb9528",
   "metadata": {},
   "outputs": [
    {
     "ename": "TypeError",
     "evalue": "list.append() takes exactly one argument (2 given)",
     "output_type": "error",
     "traceback": [
      "\u001b[1;31m---------------------------------------------------------------------------\u001b[0m",
      "\u001b[1;31mTypeError\u001b[0m                                 Traceback (most recent call last)",
      "Cell \u001b[1;32mIn[9], line 1\u001b[0m\n\u001b[1;32m----> 1\u001b[0m fruits\u001b[38;5;241m.\u001b[39mappend(\u001b[38;5;124m\"\u001b[39m\u001b[38;5;124mcustard\u001b[39m\u001b[38;5;124m\"\u001b[39m,\u001b[38;5;124m\"\u001b[39m\u001b[38;5;124mpinkdragon\u001b[39m\u001b[38;5;124m\"\u001b[39m)\n",
      "\u001b[1;31mTypeError\u001b[0m: list.append() takes exactly one argument (2 given)"
     ]
    }
   ],
   "source": [
    "fruits.append(\"custard\",\"pinkdragon\")  #adds only one element at a time"
   ]
  },
  {
   "cell_type": "code",
   "execution_count": 10,
   "id": "dadbf19e-d790-4c9c-9e9d-3aaaa3324610",
   "metadata": {},
   "outputs": [],
   "source": [
    "fruits.insert(2,'papaya')"
   ]
  },
  {
   "cell_type": "code",
   "execution_count": 11,
   "id": "90866cc3-f3cd-41f0-99c5-be6739d1032f",
   "metadata": {},
   "outputs": [
    {
     "data": {
      "text/plain": [
       "['apple',\n",
       " 'orange',\n",
       " 'papaya',\n",
       " 'Mango',\n",
       " 'pineapple',\n",
       " 'Grapes',\n",
       " 'Kiwi',\n",
       " 'Dragon fruit']"
      ]
     },
     "execution_count": 11,
     "metadata": {},
     "output_type": "execute_result"
    }
   ],
   "source": [
    "fruits"
   ]
  },
  {
   "cell_type": "code",
   "execution_count": 16,
   "id": "929f2055-7bc0-445b-ab5b-42b17a42a241",
   "metadata": {},
   "outputs": [],
   "source": [
    "fruits.insert(6,'guava') #adds the element at particular location/index"
   ]
  },
  {
   "cell_type": "code",
   "execution_count": 17,
   "id": "6965ce1c-29a2-4883-83ef-392381a61032",
   "metadata": {},
   "outputs": [
    {
     "data": {
      "text/plain": [
       "['apple',\n",
       " 'orange',\n",
       " 'Mango',\n",
       " 'pineapple',\n",
       " 'Grapes',\n",
       " 'Kiwi',\n",
       " 'guava',\n",
       " 'Kiwi',\n",
       " 'Dragon fruit',\n",
       " 'Dragon fruit',\n",
       " 'Dragon fruit']"
      ]
     },
     "execution_count": 17,
     "metadata": {},
     "output_type": "execute_result"
    }
   ],
   "source": [
    "fruits"
   ]
  },
  {
   "cell_type": "code",
   "execution_count": 18,
   "id": "c15814bf-6e6b-40d6-9d14-8aee71b5f069",
   "metadata": {},
   "outputs": [],
   "source": [
    "fruits.extend([\"Ramesh\",\"suresh\",\"prakash\"]) #to add multiple elements at a time"
   ]
  },
  {
   "cell_type": "code",
   "execution_count": 19,
   "id": "b559d944-2247-4247-9a54-87b93e9c6fb0",
   "metadata": {},
   "outputs": [
    {
     "data": {
      "text/plain": [
       "['apple',\n",
       " 'orange',\n",
       " 'Mango',\n",
       " 'pineapple',\n",
       " 'Grapes',\n",
       " 'Kiwi',\n",
       " 'guava',\n",
       " 'Kiwi',\n",
       " 'Dragon fruit',\n",
       " 'Dragon fruit',\n",
       " 'Dragon fruit',\n",
       " 'Ramesh',\n",
       " 'suresh',\n",
       " 'prakash']"
      ]
     },
     "execution_count": 19,
     "metadata": {},
     "output_type": "execute_result"
    }
   ],
   "source": [
    "fruits"
   ]
  },
  {
   "cell_type": "markdown",
   "id": "8dd1aa3e-e708-4719-aee3-3261722af0f8",
   "metadata": {},
   "source": [
    "* append---Adding the element at time at the end of the list\n",
    "* insert---Adding the element at a time at a particular index\n",
    "* extend---adding multiple elements"
   ]
  },
  {
   "cell_type": "markdown",
   "id": "3119859a-696e-4fa1-842c-f1650a23efd0",
   "metadata": {},
   "source": [
    "### Removing the elements"
   ]
  },
  {
   "cell_type": "code",
   "execution_count": 20,
   "id": "8781e5f2-0473-4777-9cb6-5b30fe1079d7",
   "metadata": {},
   "outputs": [],
   "source": [
    "fruits.remove('Grapes') #removes the element based on value"
   ]
  },
  {
   "cell_type": "code",
   "execution_count": 21,
   "id": "52f50861-d646-4601-abcb-9e156f0e7036",
   "metadata": {},
   "outputs": [
    {
     "data": {
      "text/plain": [
       "['apple',\n",
       " 'orange',\n",
       " 'Mango',\n",
       " 'pineapple',\n",
       " 'Kiwi',\n",
       " 'guava',\n",
       " 'Kiwi',\n",
       " 'Dragon fruit',\n",
       " 'Dragon fruit',\n",
       " 'Dragon fruit',\n",
       " 'Ramesh',\n",
       " 'suresh',\n",
       " 'prakash']"
      ]
     },
     "execution_count": 21,
     "metadata": {},
     "output_type": "execute_result"
    }
   ],
   "source": [
    "fruits"
   ]
  },
  {
   "cell_type": "code",
   "execution_count": 22,
   "id": "2b1c7faa-2b65-47f1-aab1-54f07d80d2aa",
   "metadata": {},
   "outputs": [
    {
     "data": {
      "text/plain": [
       "'prakash'"
      ]
     },
     "execution_count": 22,
     "metadata": {},
     "output_type": "execute_result"
    }
   ],
   "source": [
    "fruits.pop() #removes the element based on index number"
   ]
  },
  {
   "cell_type": "code",
   "execution_count": 23,
   "id": "aa87e184-c7f8-43eb-b53d-aec9b0712fff",
   "metadata": {},
   "outputs": [
    {
     "data": {
      "text/plain": [
       "['apple',\n",
       " 'orange',\n",
       " 'Mango',\n",
       " 'pineapple',\n",
       " 'Kiwi',\n",
       " 'guava',\n",
       " 'Dragon fruit',\n",
       " 'Dragon fruit',\n",
       " 'Dragon fruit',\n",
       " 'Ramesh',\n",
       " 'suresh']"
      ]
     },
     "execution_count": 23,
     "metadata": {},
     "output_type": "execute_result"
    }
   ],
   "source": [
    "fruits.pop(-6)\n",
    "fruits"
   ]
  },
  {
   "cell_type": "markdown",
   "id": "69d323e0-8d67-43b8-8acf-1fffb2c016db",
   "metadata": {},
   "source": [
    "* remove()---removes the element based on value\n",
    "* pop()---removes the element based on index number\n",
    "* clear()---removes all the elements"
   ]
  },
  {
   "cell_type": "code",
   "execution_count": 24,
   "id": "f9f8cc3c-15c0-46dc-9d3e-26e5b6756331",
   "metadata": {},
   "outputs": [],
   "source": [
    "fruits.clear()"
   ]
  },
  {
   "cell_type": "code",
   "execution_count": 25,
   "id": "1cdb51bf-a167-462d-abed-6304fa597b01",
   "metadata": {},
   "outputs": [
    {
     "data": {
      "text/plain": [
       "[]"
      ]
     },
     "execution_count": 25,
     "metadata": {},
     "output_type": "execute_result"
    }
   ],
   "source": [
    "fruits"
   ]
  },
  {
   "cell_type": "code",
   "execution_count": 41,
   "id": "eeef99d5-3b37-43c5-b152-b31ccd5ac08d",
   "metadata": {},
   "outputs": [],
   "source": [
    "marks = [10,12,32,14,12,17,13,19,12,29,15,19]"
   ]
  },
  {
   "cell_type": "code",
   "execution_count": 42,
   "id": "1ce361cd-6330-419d-9c99-6627399341dc",
   "metadata": {},
   "outputs": [
    {
     "data": {
      "text/plain": [
       "3"
      ]
     },
     "execution_count": 42,
     "metadata": {},
     "output_type": "execute_result"
    }
   ],
   "source": [
    "marks.count(12)"
   ]
  },
  {
   "cell_type": "code",
   "execution_count": 32,
   "id": "2e3646ce-f9fe-4307-9324-773c7e01e609",
   "metadata": {},
   "outputs": [
    {
     "data": {
      "text/plain": [
       "4"
      ]
     },
     "execution_count": 32,
     "metadata": {},
     "output_type": "execute_result"
    }
   ],
   "source": [
    "marks.count(19)  #No.of occurrences of given element"
   ]
  },
  {
   "cell_type": "code",
   "execution_count": 34,
   "id": "cecc5107-5bef-4bfe-8a6e-3186aa08392e",
   "metadata": {},
   "outputs": [
    {
     "data": {
      "text/plain": [
       "3"
      ]
     },
     "execution_count": 34,
     "metadata": {},
     "output_type": "execute_result"
    }
   ],
   "source": [
    "marks.index(14)"
   ]
  },
  {
   "cell_type": "code",
   "execution_count": 35,
   "id": "cbdda8e9-01b3-41d1-bf61-8db4ec67eb11",
   "metadata": {},
   "outputs": [
    {
     "data": {
      "text/plain": [
       "5"
      ]
     },
     "execution_count": 35,
     "metadata": {},
     "output_type": "execute_result"
    }
   ],
   "source": [
    "marks.index(17)"
   ]
  },
  {
   "cell_type": "code",
   "execution_count": 36,
   "id": "9ca72f0a-7edf-419a-8860-e766bd3a5192",
   "metadata": {},
   "outputs": [
    {
     "data": {
      "text/plain": [
       "1"
      ]
     },
     "execution_count": 36,
     "metadata": {},
     "output_type": "execute_result"
    }
   ],
   "source": [
    "marks.index(12)"
   ]
  },
  {
   "cell_type": "code",
   "execution_count": 37,
   "id": "135e88ed-7950-4edc-888c-65715ed0bd98",
   "metadata": {},
   "outputs": [
    {
     "data": {
      "text/plain": [
       "4"
      ]
     },
     "execution_count": 37,
     "metadata": {},
     "output_type": "execute_result"
    }
   ],
   "source": [
    "marks.index(12,2,)"
   ]
  },
  {
   "cell_type": "code",
   "execution_count": 39,
   "id": "820f2d59-7a78-42c7-8dc6-267dfa36ac8b",
   "metadata": {},
   "outputs": [
    {
     "data": {
      "text/plain": [
       "7"
      ]
     },
     "execution_count": 39,
     "metadata": {},
     "output_type": "execute_result"
    }
   ],
   "source": [
    "marks.index(19)"
   ]
  },
  {
   "cell_type": "code",
   "execution_count": 40,
   "id": "2b7d29ec-d5cd-4770-9f65-6ff57b920da7",
   "metadata": {},
   "outputs": [
    {
     "data": {
      "text/plain": [
       "10"
      ]
     },
     "execution_count": 40,
     "metadata": {},
     "output_type": "execute_result"
    }
   ],
   "source": [
    "marks.index(19,8,)"
   ]
  },
  {
   "cell_type": "code",
   "execution_count": 43,
   "id": "6c998bd7-919b-482a-b370-9e4c00785a6a",
   "metadata": {},
   "outputs": [
    {
     "data": {
      "text/plain": [
       "4"
      ]
     },
     "execution_count": 43,
     "metadata": {},
     "output_type": "execute_result"
    }
   ],
   "source": [
    "marks.index(12,2,8)"
   ]
  },
  {
   "cell_type": "code",
   "execution_count": 49,
   "id": "8d42f0db-312b-485f-bbdc-5f6f4c02c743",
   "metadata": {},
   "outputs": [
    {
     "data": {
      "text/plain": [
       "[10, 12, 32, 14, 12, 17, 13, 19, 12, 29, 15, 19]"
      ]
     },
     "execution_count": 49,
     "metadata": {},
     "output_type": "execute_result"
    }
   ],
   "source": [
    "marks"
   ]
  },
  {
   "cell_type": "code",
   "execution_count": 50,
   "id": "47f30825-1ecb-45b6-b9f6-e08a5013c3b9",
   "metadata": {},
   "outputs": [],
   "source": [
    "marks.reverse()"
   ]
  },
  {
   "cell_type": "code",
   "execution_count": 51,
   "id": "7071af60-b983-4ca3-a19e-334f8d606dbf",
   "metadata": {},
   "outputs": [
    {
     "data": {
      "text/plain": [
       "[19, 15, 29, 12, 19, 13, 17, 12, 14, 32, 12, 10]"
      ]
     },
     "execution_count": 51,
     "metadata": {},
     "output_type": "execute_result"
    }
   ],
   "source": [
    "marks"
   ]
  },
  {
   "cell_type": "code",
   "execution_count": 52,
   "id": "a8890cd8-0624-4bbc-91f9-a471a9ec9011",
   "metadata": {},
   "outputs": [],
   "source": [
    "marks.sort()"
   ]
  },
  {
   "cell_type": "code",
   "execution_count": 53,
   "id": "b66a802e-43d1-4b9f-a090-91a02fbecf05",
   "metadata": {},
   "outputs": [
    {
     "data": {
      "text/plain": [
       "[10, 12, 12, 12, 13, 14, 15, 17, 19, 19, 29, 32]"
      ]
     },
     "execution_count": 53,
     "metadata": {},
     "output_type": "execute_result"
    }
   ],
   "source": [
    "marks"
   ]
  },
  {
   "cell_type": "code",
   "execution_count": 54,
   "id": "2af9840c-4fd6-4d36-9721-07acd85a8c52",
   "metadata": {},
   "outputs": [
    {
     "data": {
      "text/plain": [
       "[32, 29, 19, 19, 17, 15, 14, 13, 12, 12, 12, 10]"
      ]
     },
     "execution_count": 54,
     "metadata": {},
     "output_type": "execute_result"
    }
   ],
   "source": [
    "marks.sort(reverse = True)\n",
    "marks"
   ]
  },
  {
   "cell_type": "code",
   "execution_count": 55,
   "id": "22481e4f-110a-49ca-9488-0fc2c6231f54",
   "metadata": {},
   "outputs": [
    {
     "data": {
      "text/plain": [
       "{10, 12, 13, 14, 15, 17, 19, 29, 32}"
      ]
     },
     "execution_count": 55,
     "metadata": {},
     "output_type": "execute_result"
    }
   ],
   "source": [
    "marks.sort(reverse = True)  #removes the duplicate elements\n",
    "set(marks)"
   ]
  },
  {
   "cell_type": "code",
   "execution_count": 61,
   "id": "9de15f06-af90-4263-834c-441f097fe727",
   "metadata": {},
   "outputs": [
    {
     "data": {
      "text/plain": [
       "[32, 29, 19, 19, 17, 15, 14, 13, 10]"
      ]
     },
     "execution_count": 61,
     "metadata": {},
     "output_type": "execute_result"
    }
   ],
   "source": [
    "marks"
   ]
  },
  {
   "cell_type": "code",
   "execution_count": 63,
   "id": "01e24e6b-3c46-4c8d-8c7c-3bcf34a8ae9b",
   "metadata": {},
   "outputs": [],
   "source": [
    "marks.sort(reverse = True)\n",
    "marks.remove(19)"
   ]
  },
  {
   "cell_type": "code",
   "execution_count": 64,
   "id": "6555cf9e-9ef0-4d88-8727-b17016532654",
   "metadata": {},
   "outputs": [
    {
     "data": {
      "text/plain": [
       "[32, 29, 17, 15, 14, 13, 10]"
      ]
     },
     "execution_count": 64,
     "metadata": {},
     "output_type": "execute_result"
    }
   ],
   "source": [
    "marks"
   ]
  },
  {
   "cell_type": "code",
   "execution_count": 65,
   "id": "3a1f177f-2521-400d-8083-e7cb666f09d4",
   "metadata": {},
   "outputs": [],
   "source": [
    "marks = [32,29,19,19,17,15,14,13,10]"
   ]
  },
  {
   "cell_type": "code",
   "execution_count": 66,
   "id": "db9c0c56-b462-4eb6-8d25-ec41ffbd24a2",
   "metadata": {},
   "outputs": [],
   "source": [
    "marks.append(34)"
   ]
  },
  {
   "cell_type": "code",
   "execution_count": 78,
   "id": "26c360a3-8145-4c5a-bc12-de5c398be6ba",
   "metadata": {},
   "outputs": [
    {
     "data": {
      "text/plain": [
       "[32, 29, 19, 19, 17, 15, 14, 13, 10, 34]"
      ]
     },
     "execution_count": 78,
     "metadata": {},
     "output_type": "execute_result"
    }
   ],
   "source": [
    "marks"
   ]
  },
  {
   "cell_type": "code",
   "execution_count": 88,
   "id": "e811c4e3-0c56-4774-8190-4241ef2dec15",
   "metadata": {},
   "outputs": [],
   "source": [
    "marks1 = marks.copy()"
   ]
  },
  {
   "cell_type": "code",
   "execution_count": 89,
   "id": "eaddcb6b-9dd0-4fd1-be14-63407cb3ffea",
   "metadata": {},
   "outputs": [
    {
     "data": {
      "text/plain": [
       "[32, 29, 19, 19, 17, 15, 14, 13, 10, 34, 64, 100]"
      ]
     },
     "execution_count": 89,
     "metadata": {},
     "output_type": "execute_result"
    }
   ],
   "source": [
    "marks1.append(100)\n",
    "marks1"
   ]
  },
  {
   "cell_type": "code",
   "execution_count": 90,
   "id": "97c850d9-cedc-4034-8efe-07c6d7300ce9",
   "metadata": {},
   "outputs": [
    {
     "data": {
      "text/plain": [
       "[32, 29, 19, 19, 17, 15, 14, 13, 10, 34, 64]"
      ]
     },
     "execution_count": 90,
     "metadata": {},
     "output_type": "execute_result"
    }
   ],
   "source": [
    "marks"
   ]
  },
  {
   "cell_type": "markdown",
   "id": "ffe17db8-ba50-4d99-9e45-a3f32f7dba15",
   "metadata": {},
   "source": [
    "### Nested Lists"
   ]
  },
  {
   "cell_type": "markdown",
   "id": "5e368cf5-23c8-44c1-a5c2-4d1198816209",
   "metadata": {},
   "source": [
    "#### * List in the list"
   ]
  },
  {
   "cell_type": "code",
   "execution_count": 91,
   "id": "5a657a2d-9491-4917-9fa3-a4764b6cdf47",
   "metadata": {},
   "outputs": [],
   "source": [
    "list2 = [['Grapes','Banana','Apple'],[23,45,67,34],[2,5,1,5,5,2]]"
   ]
  },
  {
   "cell_type": "code",
   "execution_count": 92,
   "id": "18a9d5c7-b8e8-4749-a1c5-3c11b4646893",
   "metadata": {},
   "outputs": [
    {
     "data": {
      "text/plain": [
       "[['Grapes', 'Banana', 'Apple'], [23, 45, 67, 34], [2, 5, 1, 5, 5, 2]]"
      ]
     },
     "execution_count": 92,
     "metadata": {},
     "output_type": "execute_result"
    }
   ],
   "source": [
    "list2"
   ]
  },
  {
   "cell_type": "code",
   "execution_count": 93,
   "id": "b25d7105-d656-49ad-b885-916391025176",
   "metadata": {},
   "outputs": [
    {
     "data": {
      "text/plain": [
       "[2, 5, 1, 5, 5, 2]"
      ]
     },
     "execution_count": 93,
     "metadata": {},
     "output_type": "execute_result"
    }
   ],
   "source": [
    "list2[2]"
   ]
  },
  {
   "cell_type": "code",
   "execution_count": 94,
   "id": "c3231ac0-3050-44b7-bd1f-771534fa2707",
   "metadata": {},
   "outputs": [
    {
     "data": {
      "text/plain": [
       "'Apple'"
      ]
     },
     "execution_count": 94,
     "metadata": {},
     "output_type": "execute_result"
    }
   ],
   "source": [
    "list2[0][2]"
   ]
  },
  {
   "cell_type": "markdown",
   "id": "ded2c3e8-7604-43dc-93f2-9e1995fbf4b3",
   "metadata": {},
   "source": [
    "#### Operators on list data type"
   ]
  },
  {
   "cell_type": "code",
   "execution_count": 95,
   "id": "17c6458b-d8d8-4601-a6d3-0e62bbf1745a",
   "metadata": {},
   "outputs": [],
   "source": [
    "list1 = [1,2,3,5,6]\n",
    "list2 = [10,13,15,17]"
   ]
  },
  {
   "cell_type": "code",
   "execution_count": 96,
   "id": "bc531af9-bf5a-4e3d-bb5e-ae1ed89dcc3c",
   "metadata": {},
   "outputs": [
    {
     "data": {
      "text/plain": [
       "[1, 2, 3, 5, 6, 10, 13, 15, 17]"
      ]
     },
     "execution_count": 96,
     "metadata": {},
     "output_type": "execute_result"
    }
   ],
   "source": [
    "list1 + list2"
   ]
  },
  {
   "cell_type": "code",
   "execution_count": 97,
   "id": "a612225d-8946-4a13-9ec0-4d031a2d534f",
   "metadata": {},
   "outputs": [
    {
     "data": {
      "text/plain": [
       "[1, 2, 3, 5, 6]"
      ]
     },
     "execution_count": 97,
     "metadata": {},
     "output_type": "execute_result"
    }
   ],
   "source": [
    "list1"
   ]
  },
  {
   "cell_type": "code",
   "execution_count": 98,
   "id": "bc9e79fe-e780-460d-8eac-8d8a4160b90a",
   "metadata": {},
   "outputs": [
    {
     "data": {
      "text/plain": [
       "[10, 13, 15, 17]"
      ]
     },
     "execution_count": 98,
     "metadata": {},
     "output_type": "execute_result"
    }
   ],
   "source": [
    "list2"
   ]
  },
  {
   "cell_type": "code",
   "execution_count": 99,
   "id": "42c4c592-302e-4781-89aa-ad803d3c27aa",
   "metadata": {},
   "outputs": [],
   "source": [
    "list1.extend(list2)"
   ]
  },
  {
   "cell_type": "code",
   "execution_count": 100,
   "id": "c08bbf3f-297e-42f6-bbb9-751c0752fbb7",
   "metadata": {},
   "outputs": [
    {
     "data": {
      "text/plain": [
       "[1, 2, 3, 5, 6, 10, 13, 15, 17]"
      ]
     },
     "execution_count": 100,
     "metadata": {},
     "output_type": "execute_result"
    }
   ],
   "source": [
    "list1"
   ]
  },
  {
   "cell_type": "code",
   "execution_count": 101,
   "id": "40133d4b-590e-43f6-bc24-cddccd5fdb6b",
   "metadata": {},
   "outputs": [
    {
     "data": {
      "text/plain": [
       "[1, 2, 3, 5, 6, 10, 13, 15, 17, 1, 2, 3, 5, 6, 10, 13, 15, 17]"
      ]
     },
     "execution_count": 101,
     "metadata": {},
     "output_type": "execute_result"
    }
   ],
   "source": [
    "list1 * 2"
   ]
  },
  {
   "cell_type": "code",
   "execution_count": 102,
   "id": "871fccc5-fd77-4de2-8413-4de51bf8f61a",
   "metadata": {},
   "outputs": [
    {
     "data": {
      "text/plain": [
       "[1,\n",
       " 2,\n",
       " 3,\n",
       " 5,\n",
       " 6,\n",
       " 10,\n",
       " 13,\n",
       " 15,\n",
       " 17,\n",
       " 1,\n",
       " 2,\n",
       " 3,\n",
       " 5,\n",
       " 6,\n",
       " 10,\n",
       " 13,\n",
       " 15,\n",
       " 17,\n",
       " 1,\n",
       " 2,\n",
       " 3,\n",
       " 5,\n",
       " 6,\n",
       " 10,\n",
       " 13,\n",
       " 15,\n",
       " 17]"
      ]
     },
     "execution_count": 102,
     "metadata": {},
     "output_type": "execute_result"
    }
   ],
   "source": [
    "list1 * 3"
   ]
  },
  {
   "cell_type": "code",
   "execution_count": 103,
   "id": "f91a58fa-d61b-4ba2-914d-6c91d3a17bf8",
   "metadata": {},
   "outputs": [
    {
     "data": {
      "text/plain": [
       "True"
      ]
     },
     "execution_count": 103,
     "metadata": {},
     "output_type": "execute_result"
    }
   ],
   "source": [
    "3 in list1"
   ]
  },
  {
   "cell_type": "code",
   "execution_count": 104,
   "id": "43f4c251-4999-4be0-b349-1feef94894e1",
   "metadata": {},
   "outputs": [
    {
     "data": {
      "text/plain": [
       "False"
      ]
     },
     "execution_count": 104,
     "metadata": {},
     "output_type": "execute_result"
    }
   ],
   "source": [
    "16 in list1"
   ]
  },
  {
   "cell_type": "code",
   "execution_count": null,
   "id": "ed62a392-4607-4467-aa31-f5f62cff650c",
   "metadata": {},
   "outputs": [],
   "source": []
  }
 ],
 "metadata": {
  "kernelspec": {
   "display_name": "Python 3 (ipykernel)",
   "language": "python",
   "name": "python3"
  },
  "language_info": {
   "codemirror_mode": {
    "name": "ipython",
    "version": 3
   },
   "file_extension": ".py",
   "mimetype": "text/x-python",
   "name": "python",
   "nbconvert_exporter": "python",
   "pygments_lexer": "ipython3",
   "version": "3.11.7"
  }
 },
 "nbformat": 4,
 "nbformat_minor": 5
}
