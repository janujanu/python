{
 "cells": [
  {
   "cell_type": "markdown",
   "id": "f12cbf68-ab02-4623-a9cf-c54c560c640a",
   "metadata": {},
   "source": [
    "# For loop"
   ]
  },
  {
   "cell_type": "code",
   "execution_count": 2,
   "id": "77bfd636-db77-45c3-b609-f332f92349cb",
   "metadata": {},
   "outputs": [
    {
     "name": "stdout",
     "output_type": "stream",
     "text": [
      "10\n",
      "14\n",
      "16\n",
      "17\n"
     ]
    }
   ],
   "source": [
    "list1 = [10,14,16,17]\n",
    "for i in list1:\n",
    "    print(i)"
   ]
  },
  {
   "cell_type": "code",
   "execution_count": 3,
   "id": "3f52d262-6832-47b9-a8fa-6ce9bfdf1ba2",
   "metadata": {},
   "outputs": [],
   "source": [
    "import time"
   ]
  },
  {
   "cell_type": "code",
   "execution_count": 4,
   "id": "fa02ecf2-cf4d-4573-98e6-b8a6cb690497",
   "metadata": {},
   "outputs": [
    {
     "name": "stdout",
     "output_type": "stream",
     "text": [
      "10\n",
      "14\n",
      "16\n",
      "17\n"
     ]
    }
   ],
   "source": [
    "list1 = [10,14,16,17]\n",
    "for i in list1:\n",
    "    print(i)\n",
    "    time.sleep(4)"
   ]
  },
  {
   "cell_type": "markdown",
   "id": "83d8b24a-a3d5-4b09-955f-89b80c7c61bc",
   "metadata": {},
   "source": [
    "## Range() "
   ]
  },
  {
   "cell_type": "markdown",
   "id": "356176bc-766e-4b34-b7cc-cd8b03c28073",
   "metadata": {},
   "source": [
    "It is a data type"
   ]
  },
  {
   "cell_type": "code",
   "execution_count": 5,
   "id": "a0457939-7c2c-47b3-aa1c-5249a917ea3f",
   "metadata": {},
   "outputs": [],
   "source": [
    "list1 = [1,2,3,4,5,6,7,8,9,10]"
   ]
  },
  {
   "cell_type": "code",
   "execution_count": 6,
   "id": "1b28e3b4-06c7-474a-8491-48c1be98e7f2",
   "metadata": {},
   "outputs": [
    {
     "data": {
      "text/plain": [
       "[1, 2, 3, 4, 5, 6, 7, 8, 9, 10, 11, 12, 13, 14, 15, 16, 17, 18, 19, 20]"
      ]
     },
     "execution_count": 6,
     "metadata": {},
     "output_type": "execute_result"
    }
   ],
   "source": [
    "list2 = list(range(1,21))\n",
    "list2"
   ]
  },
  {
   "cell_type": "code",
   "execution_count": 7,
   "id": "15bb7a8f-b76e-4415-85f9-92498fd98afd",
   "metadata": {},
   "outputs": [
    {
     "data": {
      "text/plain": [
       "[1, 3, 5, 7, 9, 11, 13, 15, 17, 19]"
      ]
     },
     "execution_count": 7,
     "metadata": {},
     "output_type": "execute_result"
    }
   ],
   "source": [
    "list2 = list(range(1,21,2))\n",
    "list2"
   ]
  },
  {
   "cell_type": "code",
   "execution_count": 8,
   "id": "10a65064-9620-4f1a-802d-9826744d90fa",
   "metadata": {},
   "outputs": [
    {
     "data": {
      "text/plain": [
       "[0, 1, 2, 3, 4, 5, 6, 7, 8, 9, 10, 11, 12, 13, 14, 15, 16, 17, 18, 19, 20]"
      ]
     },
     "execution_count": 8,
     "metadata": {},
     "output_type": "execute_result"
    }
   ],
   "source": [
    "list2 = list(range(21))\n",
    "list2"
   ]
  },
  {
   "cell_type": "code",
   "execution_count": 9,
   "id": "1f88ac22-a350-436c-8be4-5bf6ff8079a5",
   "metadata": {},
   "outputs": [
    {
     "data": {
      "text/plain": [
       "[20, 19, 18, 17, 16, 15, 14, 13, 12, 11, 10, 9, 8, 7, 6, 5, 4, 3, 2, 1]"
      ]
     },
     "execution_count": 9,
     "metadata": {},
     "output_type": "execute_result"
    }
   ],
   "source": [
    "list(range(20,0,-1))"
   ]
  },
  {
   "cell_type": "code",
   "execution_count": 10,
   "id": "4d486a0b-3173-485d-b001-5459dadcb6e4",
   "metadata": {},
   "outputs": [
    {
     "name": "stdout",
     "output_type": "stream",
     "text": [
      "5\n",
      "6\n",
      "7\n",
      "8\n"
     ]
    }
   ],
   "source": [
    "for i in range(1,5):\n",
    "    print(i+4)\n"
   ]
  },
  {
   "cell_type": "code",
   "execution_count": 11,
   "id": "ce830e6e-cc09-4d6f-8719-bbf5d0cd96c6",
   "metadata": {},
   "outputs": [
    {
     "name": "stdout",
     "output_type": "stream",
     "text": [
      "0\n",
      "1\n",
      "4\n",
      "9\n",
      "16\n"
     ]
    }
   ],
   "source": [
    "for i in range(0,5):\n",
    "    print(i**2)"
   ]
  },
  {
   "cell_type": "code",
   "execution_count": 12,
   "id": "f0b873f6-095a-46c7-afaa-cfaa8263fd31",
   "metadata": {},
   "outputs": [
    {
     "name": "stdout",
     "output_type": "stream",
     "text": [
      "1\n",
      "0\n",
      "1\n",
      "0\n",
      "1\n"
     ]
    }
   ],
   "source": [
    "for i in range(1,6):\n",
    "    print(i % 2)"
   ]
  },
  {
   "cell_type": "code",
   "execution_count": 1,
   "id": "7ebc773c-8bae-4350-8e10-4c8098d68d4e",
   "metadata": {},
   "outputs": [
    {
     "name": "stdout",
     "output_type": "stream",
     "text": [
      "[3, 6, 9, 12, 15, 18, 21, 24, 27]\n"
     ]
    }
   ],
   "source": [
    "list2 = []\n",
    "for i in range(1,10):\n",
    "    list2.append(i*3)\n",
    "print(list2)"
   ]
  },
  {
   "cell_type": "code",
   "execution_count": 13,
   "id": "ae99bb91-9245-4acd-aac7-cc576c015fac",
   "metadata": {},
   "outputs": [
    {
     "name": "stdout",
     "output_type": "stream",
     "text": [
      "24\n"
     ]
    }
   ],
   "source": [
    "list2 = []\n",
    "for i in range(1,10):\n",
    "    j = 10\n",
    "    i = j + 2\n",
    "print(i*2)"
   ]
  },
  {
   "cell_type": "code",
   "execution_count": 14,
   "id": "5a0b644e-8e29-4d9b-b93a-fc65a6af642c",
   "metadata": {},
   "outputs": [
    {
     "name": "stdout",
     "output_type": "stream",
     "text": [
      "I\n",
      "n\n",
      "n\n",
      "o\n",
      "m\n",
      "a\n",
      "t\n",
      "i\n",
      "c\n",
      "s\n"
     ]
    }
   ],
   "source": [
    "name = 'Innomatics'\n",
    "for i in name:\n",
    "    print(i)"
   ]
  },
  {
   "cell_type": "code",
   "execution_count": 15,
   "id": "47b705c8-0889-4eae-a285-8e3d6e2adfcb",
   "metadata": {},
   "outputs": [
    {
     "name": "stdout",
     "output_type": "stream",
     "text": [
      "HH\n",
      "ee\n",
      "ll\n",
      "ll\n",
      "oo\n"
     ]
    }
   ],
   "source": [
    "string = 'Hello'\n",
    "for i in string:\n",
    "    print(i*2)"
   ]
  },
  {
   "cell_type": "code",
   "execution_count": 16,
   "id": "f9300972-7239-47ea-8586-624d5e320af9",
   "metadata": {},
   "outputs": [
    {
     "name": "stdout",
     "output_type": "stream",
     "text": [
      "Iteration\n",
      "Celbration\n",
      "Nation\n",
      "Creation\n"
     ]
    }
   ],
   "source": [
    "names = [\"Itera\",\"Celbra\",\"Na\",\"Crea\"]\n",
    "\n",
    "for i in names:\n",
    "    print(i+'tion')"
   ]
  },
  {
   "cell_type": "code",
   "execution_count": 17,
   "id": "fc7a3a57-83f3-41b6-a852-31ce1e1e0590",
   "metadata": {},
   "outputs": [
    {
     "name": "stdout",
     "output_type": "stream",
     "text": [
      "2\n",
      "4\n",
      "6\n"
     ]
    }
   ],
   "source": [
    "num = [1,2,3,4,5,6,7]\n",
    "\n",
    "for i in num:\n",
    "    if i%2 == 0:\n",
    "        print(i)"
   ]
  },
  {
   "cell_type": "code",
   "execution_count": 18,
   "id": "ddd9d2fa-b173-4d82-a9fc-e4df57f7a2bc",
   "metadata": {},
   "outputs": [],
   "source": [
    "num = 6,8,9,10,12,14,15"
   ]
  },
  {
   "cell_type": "code",
   "execution_count": 19,
   "id": "4a5331a9-2813-4daf-bff0-338ee17845cc",
   "metadata": {},
   "outputs": [
    {
     "name": "stdout",
     "output_type": "stream",
     "text": [
      "10\n",
      "16\n"
     ]
    }
   ],
   "source": [
    "for i in num:\n",
    "    if i%2 == 1:\n",
    "        print(i+1)"
   ]
  },
  {
   "cell_type": "code",
   "execution_count": 2,
   "id": "3041e054-8edc-4fea-87b5-87cc951311a9",
   "metadata": {},
   "outputs": [
    {
     "name": "stdout",
     "output_type": "stream",
     "text": [
      "9\n"
     ]
    }
   ],
   "source": [
    "print(i)"
   ]
  },
  {
   "cell_type": "code",
   "execution_count": 3,
   "id": "521b14d3-5210-42a9-8eae-e9ab15869025",
   "metadata": {},
   "outputs": [],
   "source": [
    "fruits = [\"Apple\",\"Banana\",\"Orange\",\"Grapes\"]"
   ]
  },
  {
   "cell_type": "markdown",
   "id": "24c3fac4-756f-4d1a-9ea5-6d8cf54ca1a9",
   "metadata": {},
   "source": [
    "1. How many fruits are getting started with vowel?"
   ]
  },
  {
   "cell_type": "code",
   "execution_count": 4,
   "id": "1fd13af4-c4c9-476c-8196-94224faa0a8b",
   "metadata": {},
   "outputs": [
    {
     "name": "stdout",
     "output_type": "stream",
     "text": [
      "Apple\n",
      "Orange\n"
     ]
    }
   ],
   "source": [
    "vowels = (\"A\",\"E\",\"I\",\"O\",\"U\")\n",
    "for i in fruits:\n",
    "    if i.startswith(vowels):\n",
    "        print(i)"
   ]
  },
  {
   "cell_type": "code",
   "execution_count": 5,
   "id": "7beae4b4-13ed-45f8-a380-db266c1d426e",
   "metadata": {},
   "outputs": [],
   "source": [
    "vowels = (\"A\",\"E\",\"I\",\"O\",\"U\")\n",
    "fru_vowel = []\n",
    "for i in fruits:\n",
    "    if i.startswith(vowels):\n",
    "        fru_vowel.append(i)"
   ]
  },
  {
   "cell_type": "code",
   "execution_count": 6,
   "id": "ff963ea8-6106-4ee8-bc42-2b2e66bdf05e",
   "metadata": {},
   "outputs": [
    {
     "data": {
      "text/plain": [
       "2"
      ]
     },
     "execution_count": 6,
     "metadata": {},
     "output_type": "execute_result"
    }
   ],
   "source": [
    "len(fru_vowel)"
   ]
  },
  {
   "cell_type": "code",
   "execution_count": 7,
   "id": "ac60c276-af5a-4f8a-b40b-215791c99f20",
   "metadata": {},
   "outputs": [
    {
     "data": {
      "text/plain": [
       "['Apple', 'Orange']"
      ]
     },
     "execution_count": 7,
     "metadata": {},
     "output_type": "execute_result"
    }
   ],
   "source": [
    "fru_vowel"
   ]
  },
  {
   "cell_type": "code",
   "execution_count": 8,
   "id": "bcab0f13-232d-4ad9-bdfe-1d78b9972f7a",
   "metadata": {},
   "outputs": [],
   "source": [
    "vowels = (\"A\",\"E\",\"I\",\"O\",\"U\")\n",
    "count = 0\n",
    "for i in fruits:\n",
    "    if i.startswith(vowels):\n",
    "        count = count + 1"
   ]
  },
  {
   "cell_type": "code",
   "execution_count": 9,
   "id": "27796b67-8d93-4069-a719-42b812170cf2",
   "metadata": {},
   "outputs": [
    {
     "data": {
      "text/plain": [
       "2"
      ]
     },
     "execution_count": 9,
     "metadata": {},
     "output_type": "execute_result"
    }
   ],
   "source": [
    "count"
   ]
  },
  {
   "cell_type": "code",
   "execution_count": 10,
   "id": "1743af79-a38c-4606-9b33-d5869d518070",
   "metadata": {},
   "outputs": [],
   "source": [
    "numbers = [10,14,15,17,19,31]"
   ]
  },
  {
   "cell_type": "markdown",
   "id": "76c6c97f-89ec-4c31-a758-63ce23eeb5d6",
   "metadata": {},
   "source": [
    "Find the sum of all given numbers in the list?"
   ]
  },
  {
   "cell_type": "code",
   "execution_count": 11,
   "id": "8c830436-b202-4f05-a7c7-5d65d001c2db",
   "metadata": {},
   "outputs": [
    {
     "name": "stdout",
     "output_type": "stream",
     "text": [
      "106\n"
     ]
    }
   ],
   "source": [
    "numbers = [10,14,15,17,19,31]\n",
    "Total = 0\n",
    "for i in numbers:\n",
    "    Total = Total + i\n",
    "print(Total)"
   ]
  },
  {
   "cell_type": "code",
   "execution_count": 12,
   "id": "b376554e-4767-41b2-becc-31c64080a5ca",
   "metadata": {},
   "outputs": [
    {
     "data": {
      "text/plain": [
       "106"
      ]
     },
     "execution_count": 12,
     "metadata": {},
     "output_type": "execute_result"
    }
   ],
   "source": [
    "sum(numbers)"
   ]
  },
  {
   "cell_type": "code",
   "execution_count": 13,
   "id": "30ac7138-2c68-4c8d-a53c-36d3c8356e2c",
   "metadata": {},
   "outputs": [],
   "source": [
    "string = 'ysHttXoQWkfFLwbXaOOxxRKpXvMaOuwMJItRCGuiJNhRHgAxEv'"
   ]
  },
  {
   "cell_type": "markdown",
   "id": "2937d758-3337-4fd8-bff9-53d34781e211",
   "metadata": {},
   "source": [
    "How many vowels are there and how many consonants are there?"
   ]
  },
  {
   "cell_type": "code",
   "execution_count": 18,
   "id": "8c975af6-a102-41a0-84e1-64a7584edcfa",
   "metadata": {},
   "outputs": [],
   "source": [
    "vowels = ['a','e','i','o','u']\n",
    "vow_count = 0\n",
    "cons_count = 0\n",
    "for i in string:\n",
    "    if i.lower() in vowels:\n",
    "        vow_count = vow_count+1\n",
    "    else:\n",
    "        cons_count = cons_count+1\n",
    "    \n",
    "    \n"
   ]
  },
  {
   "cell_type": "code",
   "execution_count": 19,
   "id": "94fb4356-5e2c-433e-82b4-fc34da484cbc",
   "metadata": {},
   "outputs": [
    {
     "data": {
      "text/plain": [
       "12"
      ]
     },
     "execution_count": 19,
     "metadata": {},
     "output_type": "execute_result"
    }
   ],
   "source": [
    "vow_count"
   ]
  },
  {
   "cell_type": "code",
   "execution_count": 20,
   "id": "f71f95c4-2056-4788-b410-25c5d8e5a30c",
   "metadata": {},
   "outputs": [
    {
     "data": {
      "text/plain": [
       "38"
      ]
     },
     "execution_count": 20,
     "metadata": {},
     "output_type": "execute_result"
    }
   ],
   "source": [
    "cons_count"
   ]
  },
  {
   "cell_type": "code",
   "execution_count": 21,
   "id": "3325d8c4-6148-4f98-8930-c9a2188b4689",
   "metadata": {},
   "outputs": [
    {
     "data": {
      "text/plain": [
       "[21,\n",
       " 22,\n",
       " 23,\n",
       " 24,\n",
       " 25,\n",
       " 26,\n",
       " 27,\n",
       " 28,\n",
       " 29,\n",
       " 30,\n",
       " 31,\n",
       " 32,\n",
       " 33,\n",
       " 34,\n",
       " 35,\n",
       " 36,\n",
       " 37,\n",
       " 38,\n",
       " 39,\n",
       " 40,\n",
       " 41,\n",
       " 42,\n",
       " 43,\n",
       " 44]"
      ]
     },
     "execution_count": 21,
     "metadata": {},
     "output_type": "execute_result"
    }
   ],
   "source": [
    "num = list(range(21,45))\n",
    "num"
   ]
  },
  {
   "cell_type": "markdown",
   "id": "de4b5448-d763-480b-aee2-b7e331ba0be1",
   "metadata": {},
   "source": [
    "seperate the odd and even numbers? and sum of all odd numbers and sum of all even numbers"
   ]
  },
  {
   "cell_type": "code",
   "execution_count": 25,
   "id": "bc16a64f-0c38-4c9f-bd5d-c14519935491",
   "metadata": {},
   "outputs": [],
   "source": [
    "num = list(range(21,45))\n",
    "even = []\n",
    "odd = []\n",
    "for i in num:\n",
    "    if i%2 == 0:\n",
    "        even.append(i)\n",
    "    else:\n",
    "        odd.append(i)\n",
    "        "
   ]
  },
  {
   "cell_type": "code",
   "execution_count": 26,
   "id": "ccc401c9-f6f3-4753-85b8-d14a99267142",
   "metadata": {},
   "outputs": [
    {
     "data": {
      "text/plain": [
       "[22, 24, 26, 28, 30, 32, 34, 36, 38, 40, 42, 44]"
      ]
     },
     "execution_count": 26,
     "metadata": {},
     "output_type": "execute_result"
    }
   ],
   "source": [
    "even"
   ]
  },
  {
   "cell_type": "code",
   "execution_count": 27,
   "id": "c9288b6b-df7f-4817-8b33-b212ddb14f3d",
   "metadata": {},
   "outputs": [
    {
     "data": {
      "text/plain": [
       "[21, 23, 25, 27, 29, 31, 33, 35, 37, 39, 41, 43]"
      ]
     },
     "execution_count": 27,
     "metadata": {},
     "output_type": "execute_result"
    }
   ],
   "source": [
    "odd"
   ]
  },
  {
   "cell_type": "code",
   "execution_count": 28,
   "id": "40024ea2-6f6b-4bda-9025-23fd1a62b25a",
   "metadata": {},
   "outputs": [
    {
     "data": {
      "text/plain": [
       "396"
      ]
     },
     "execution_count": 28,
     "metadata": {},
     "output_type": "execute_result"
    }
   ],
   "source": [
    "sum(even)"
   ]
  },
  {
   "cell_type": "code",
   "execution_count": 29,
   "id": "e6ca6013-0573-43bb-9328-b327afcd14a1",
   "metadata": {},
   "outputs": [
    {
     "data": {
      "text/plain": [
       "384"
      ]
     },
     "execution_count": 29,
     "metadata": {},
     "output_type": "execute_result"
    }
   ],
   "source": [
    "sum(odd)"
   ]
  },
  {
   "cell_type": "code",
   "execution_count": 30,
   "id": "87bd9745-aa5a-4015-9417-a606d5283152",
   "metadata": {},
   "outputs": [
    {
     "data": {
      "text/plain": [
       "44"
      ]
     },
     "execution_count": 30,
     "metadata": {},
     "output_type": "execute_result"
    }
   ],
   "source": [
    "max(even)"
   ]
  },
  {
   "cell_type": "code",
   "execution_count": 31,
   "id": "0a30d726-8bde-44ad-bad0-7f5560fc4e50",
   "metadata": {},
   "outputs": [
    {
     "data": {
      "text/plain": [
       "22"
      ]
     },
     "execution_count": 31,
     "metadata": {},
     "output_type": "execute_result"
    }
   ],
   "source": [
    "min(even)"
   ]
  },
  {
   "cell_type": "code",
   "execution_count": 32,
   "id": "b1ca469f-71b2-4de1-bb80-8b92c13fc7df",
   "metadata": {},
   "outputs": [
    {
     "data": {
      "text/plain": [
       "43"
      ]
     },
     "execution_count": 32,
     "metadata": {},
     "output_type": "execute_result"
    }
   ],
   "source": [
    "max(odd)"
   ]
  },
  {
   "cell_type": "code",
   "execution_count": 33,
   "id": "c86de1a4-154b-485e-9fe3-8f153e408744",
   "metadata": {},
   "outputs": [
    {
     "data": {
      "text/plain": [
       "21"
      ]
     },
     "execution_count": 33,
     "metadata": {},
     "output_type": "execute_result"
    }
   ],
   "source": [
    "min(odd)"
   ]
  },
  {
   "cell_type": "code",
   "execution_count": 34,
   "id": "812be381-b0ea-4109-bea9-7f344b7eac5d",
   "metadata": {},
   "outputs": [
    {
     "name": "stdout",
     "output_type": "stream",
     "text": [
      "[1, 2, 3, 4, 5, 6, 7, 8, 9, 10]\n"
     ]
    }
   ],
   "source": [
    "list2 = []\n",
    "for i in range(1,11):\n",
    "    list2.append(i)\n",
    "\n",
    "print(list2)"
   ]
  },
  {
   "cell_type": "code",
   "execution_count": 35,
   "id": "62ed8419-0446-45fe-acd6-8890f0a04981",
   "metadata": {},
   "outputs": [
    {
     "data": {
      "text/plain": [
       "[1, 2, 3, 4, 5, 6, 7, 8, 9, 10]"
      ]
     },
     "execution_count": 35,
     "metadata": {},
     "output_type": "execute_result"
    }
   ],
   "source": [
    "[i for i in range(1,11)]"
   ]
  },
  {
   "cell_type": "code",
   "execution_count": 38,
   "id": "879a5ce7-2f69-411b-b711-da857ca22a0e",
   "metadata": {},
   "outputs": [
    {
     "data": {
      "text/plain": [
       "'Z'"
      ]
     },
     "execution_count": 38,
     "metadata": {},
     "output_type": "execute_result"
    }
   ],
   "source": [
    "chr(90)"
   ]
  },
  {
   "cell_type": "code",
   "execution_count": 39,
   "id": "78a0c457-b48d-43c7-b907-41431d3828f4",
   "metadata": {},
   "outputs": [
    {
     "data": {
      "text/plain": [
       "['A',\n",
       " 'B',\n",
       " 'C',\n",
       " 'D',\n",
       " 'E',\n",
       " 'F',\n",
       " 'G',\n",
       " 'H',\n",
       " 'I',\n",
       " 'J',\n",
       " 'K',\n",
       " 'L',\n",
       " 'M',\n",
       " 'N',\n",
       " 'O',\n",
       " 'P',\n",
       " 'Q',\n",
       " 'R',\n",
       " 'S',\n",
       " 'T',\n",
       " 'U',\n",
       " 'V',\n",
       " 'W',\n",
       " 'X',\n",
       " 'Y',\n",
       " 'Z']"
      ]
     },
     "execution_count": 39,
     "metadata": {},
     "output_type": "execute_result"
    }
   ],
   "source": [
    "[chr(i) for i in range(65,91)]"
   ]
  },
  {
   "cell_type": "code",
   "execution_count": 40,
   "id": "45bea8d7-0548-4cdf-bf5e-e81aaaafc0b2",
   "metadata": {},
   "outputs": [
    {
     "data": {
      "text/plain": [
       "['a',\n",
       " 'b',\n",
       " 'c',\n",
       " 'd',\n",
       " 'e',\n",
       " 'f',\n",
       " 'g',\n",
       " 'h',\n",
       " 'i',\n",
       " 'j',\n",
       " 'k',\n",
       " 'l',\n",
       " 'm',\n",
       " 'n',\n",
       " 'o',\n",
       " 'p',\n",
       " 'q',\n",
       " 'r',\n",
       " 's',\n",
       " 't',\n",
       " 'u',\n",
       " 'v',\n",
       " 'w',\n",
       " 'x',\n",
       " 'y']"
      ]
     },
     "execution_count": 40,
     "metadata": {},
     "output_type": "execute_result"
    }
   ],
   "source": [
    "[chr(i) for i in range(97,122)]"
   ]
  },
  {
   "cell_type": "code",
   "execution_count": 41,
   "id": "916e0fbb-9107-4ea4-8f22-cdee1a9bbc76",
   "metadata": {},
   "outputs": [],
   "source": [
    "list1 = list(range(1,10))"
   ]
  },
  {
   "cell_type": "code",
   "execution_count": 42,
   "id": "d5c71b0d-e991-4efd-a5e6-5fd19a0eaf75",
   "metadata": {},
   "outputs": [
    {
     "data": {
      "text/plain": [
       "[1, 2, 3, 4, 5, 6, 7, 8, 9]"
      ]
     },
     "execution_count": 42,
     "metadata": {},
     "output_type": "execute_result"
    }
   ],
   "source": [
    "list1"
   ]
  },
  {
   "cell_type": "code",
   "execution_count": 43,
   "id": "f1cb0ab1-f2fe-4e97-b78f-d6cbc1d48e92",
   "metadata": {},
   "outputs": [
    {
     "data": {
      "text/plain": [
       "[1, 4, 9, 16, 25, 36, 49, 64, 81]"
      ]
     },
     "execution_count": 43,
     "metadata": {},
     "output_type": "execute_result"
    }
   ],
   "source": [
    "output = []\n",
    "for i in list1:\n",
    "    output.append(i**2)\n",
    "\n",
    "output"
   ]
  },
  {
   "cell_type": "code",
   "execution_count": 44,
   "id": "005895b7-e0e5-437e-a306-7e956877c36b",
   "metadata": {},
   "outputs": [
    {
     "data": {
      "text/plain": [
       "[1, 4, 9, 16, 25, 36, 49, 64, 81]"
      ]
     },
     "execution_count": 44,
     "metadata": {},
     "output_type": "execute_result"
    }
   ],
   "source": [
    "[i**2 for i in list1]"
   ]
  },
  {
   "cell_type": "markdown",
   "id": "ea903d83-0f08-47d9-91fe-95784ae30f78",
   "metadata": {},
   "source": [
    "generate the values from 2 to 9 and find the square root of each value and preserve them in a list"
   ]
  },
  {
   "cell_type": "code",
   "execution_count": 47,
   "id": "2b45cc01-ae95-4a7f-8acc-e93ee8ad7ff4",
   "metadata": {},
   "outputs": [
    {
     "data": {
      "text/plain": [
       "[1.4142135623730951,\n",
       " 1.7320508075688772,\n",
       " 2.0,\n",
       " 2.23606797749979,\n",
       " 2.449489742783178,\n",
       " 2.6457513110645907,\n",
       " 2.8284271247461903,\n",
       " 3.0]"
      ]
     },
     "execution_count": 47,
     "metadata": {},
     "output_type": "execute_result"
    }
   ],
   "source": [
    "[i**0.5 for i in range(2,10)]"
   ]
  },
  {
   "cell_type": "markdown",
   "id": "52665fb9-c70f-47a4-8e2e-6a37023b63d6",
   "metadata": {},
   "source": [
    "generate 1 to 15 and seperate the even numbers"
   ]
  },
  {
   "cell_type": "code",
   "execution_count": 48,
   "id": "530eb156-b88c-4ac4-84bc-0846310ab02c",
   "metadata": {},
   "outputs": [
    {
     "data": {
      "text/plain": [
       "[2, 4, 6, 8, 10, 12, 14]"
      ]
     },
     "execution_count": 48,
     "metadata": {},
     "output_type": "execute_result"
    }
   ],
   "source": [
    "[i for i in range(1,16) if i%2 == 0]"
   ]
  },
  {
   "cell_type": "markdown",
   "id": "61fd3d84-4e6a-48e8-94cf-ef1c567567b5",
   "metadata": {},
   "source": [
    "find the values which are divisible by 3 and 5.range is 10 to 40"
   ]
  },
  {
   "cell_type": "code",
   "execution_count": 49,
   "id": "98a137ca-1d42-43f1-95e6-2b5b95f97a11",
   "metadata": {},
   "outputs": [
    {
     "name": "stdout",
     "output_type": "stream",
     "text": [
      "10\n",
      "11\n",
      "12\n",
      "13\n",
      "14\n",
      "15\n",
      "16\n",
      "17\n",
      "18\n",
      "19\n",
      "20\n",
      "21\n",
      "22\n",
      "23\n",
      "24\n",
      "25\n",
      "26\n",
      "27\n",
      "28\n",
      "29\n",
      "30\n",
      "31\n",
      "32\n",
      "33\n",
      "34\n",
      "35\n",
      "36\n",
      "37\n",
      "38\n",
      "39\n",
      "40\n"
     ]
    }
   ],
   "source": [
    "for i in range(10,41):\n",
    "    print(i)"
   ]
  },
  {
   "cell_type": "code",
   "execution_count": 53,
   "id": "bdadfdbb-3e7d-4441-8bcd-9a68e38077bd",
   "metadata": {},
   "outputs": [
    {
     "name": "stdout",
     "output_type": "stream",
     "text": [
      "15\n",
      "30\n"
     ]
    }
   ],
   "source": [
    "for i in range(10,41):\n",
    "    if (i%3 == 0) and (i%5 == 0):\n",
    "       print(i)"
   ]
  },
  {
   "cell_type": "code",
   "execution_count": 54,
   "id": "442877e4-6370-4c61-84d9-9be97dffcb36",
   "metadata": {},
   "outputs": [
    {
     "data": {
      "text/plain": [
       "[15, 30]"
      ]
     },
     "execution_count": 54,
     "metadata": {},
     "output_type": "execute_result"
    }
   ],
   "source": [
    "list2 = []\n",
    "for i in range(10,41):\n",
    "    if(i%3 == 0) and (i%5 == 0):\n",
    "        list2.append(i)\n",
    "\n",
    "list2"
   ]
  },
  {
   "cell_type": "code",
   "execution_count": 55,
   "id": "a495d258-bf93-4480-aa5b-402d84e5881b",
   "metadata": {},
   "outputs": [
    {
     "data": {
      "text/plain": [
       "[15, 30]"
      ]
     },
     "execution_count": 55,
     "metadata": {},
     "output_type": "execute_result"
    }
   ],
   "source": [
    "[i for i in range(10,41) if (i%3 == 0) and (i%5 == 0)]"
   ]
  },
  {
   "cell_type": "markdown",
   "id": "701ed894-1bd0-4243-a9be-981a0b4fbe7b",
   "metadata": {},
   "source": [
    "generate values from 15 to 100 and display \"Hello\" when the number is divisible by 5 \n",
    "and  display \"Bye\" when it is divisible by 7. and print if 'welcome' if they are divisible by 5 and 7"
   ]
  },
  {
   "cell_type": "code",
   "execution_count": 2,
   "id": "e0327435-2b22-43a3-9ac9-2c950e63ef31",
   "metadata": {},
   "outputs": [
    {
     "name": "stdout",
     "output_type": "stream",
     "text": [
      "Hello\n",
      "Hello\n",
      "Bye\n",
      "Hello\n",
      "Bye\n",
      "Hello\n",
      "Welcome\n",
      "Hello\n",
      "Bye\n",
      "Hello\n",
      "Bye\n",
      "Hello\n",
      "Hello\n",
      "Bye\n",
      "Hello\n",
      "Bye\n",
      "Hello\n",
      "Welcome\n",
      "Hello\n",
      "Bye\n",
      "Hello\n",
      "Bye\n",
      "Hello\n",
      "Hello\n",
      "Bye\n",
      "Hello\n",
      "Bye\n"
     ]
    }
   ],
   "source": [
    "list2 = []\n",
    "for i in range(15,100):\n",
    "    if(i%5==0) and (i%7==0):\n",
    "     print(\"Welcome\")\n",
    "    elif(i%5==0):\n",
    "     print(\"Hello\")\n",
    "    elif(i%7==0):\n",
    "     print(\"Bye\")"
   ]
  },
  {
   "cell_type": "markdown",
   "id": "0e1168d6-3650-4e63-bfe2-75cc9a7e647a",
   "metadata": {},
   "source": [
    "fruit = {\"Apple\":50,\"Banana\":30,\"Grape\" : 40,\"Orange\" : 20,\"Kiwi\":100,\"lychee\" : 50}\n",
    "\n",
    "\n",
    "what are the fruits available in the basket\n",
    "\n",
    "write a program to know the price if i purchase 3 apples and 2 oranges\n",
    "\n",
    "add fruit for every available fruit\n",
    "\n",
    "find the average price of fruits.\n",
    "\n",
    "which fruit is containing less than 5 characters."
   ]
  },
  {
   "cell_type": "code",
   "execution_count": 4,
   "id": "41997f81-a65f-4162-82d8-a805f9b63d22",
   "metadata": {},
   "outputs": [],
   "source": [
    "fruit = {\"Apple\":50,\"Banana\":30,\"Grape\" : 40,\"Orange\" : 20,\"Kiwi\":100,\"lychee\" : 50}"
   ]
  },
  {
   "cell_type": "markdown",
   "id": "a3c53584-570c-40a0-b1c8-26e199ae12be",
   "metadata": {},
   "source": [
    "#### what are the fruits available in the basket?"
   ]
  },
  {
   "cell_type": "code",
   "execution_count": 7,
   "id": "efb65739-0c57-4321-9486-d949189798bf",
   "metadata": {},
   "outputs": [
    {
     "data": {
      "text/plain": [
       "dict_keys(['Apple', 'Banana', 'Grape', 'Orange', 'Kiwi', 'lychee'])"
      ]
     },
     "execution_count": 7,
     "metadata": {},
     "output_type": "execute_result"
    }
   ],
   "source": [
    "fruit.keys()"
   ]
  },
  {
   "cell_type": "markdown",
   "id": "7cf1baf3-0cfa-4ee5-ab46-c4cfa0213005",
   "metadata": {},
   "source": [
    "#### find the average price of fruits."
   ]
  },
  {
   "cell_type": "code",
   "execution_count": 9,
   "id": "c02f50f1-b434-44ef-a6cd-357c937fdee3",
   "metadata": {},
   "outputs": [],
   "source": [
    "avg = sum(fruit.values()) / len(fruit)"
   ]
  },
  {
   "cell_type": "code",
   "execution_count": 10,
   "id": "73d0b592-afe0-4dc7-856c-298a113a005b",
   "metadata": {},
   "outputs": [
    {
     "data": {
      "text/plain": [
       "48.333333333333336"
      ]
     },
     "execution_count": 10,
     "metadata": {},
     "output_type": "execute_result"
    }
   ],
   "source": [
    "avg"
   ]
  },
  {
   "cell_type": "markdown",
   "id": "5dfc3413-b93d-4bb2-b756-a6dee67ee19b",
   "metadata": {},
   "source": [
    "#### write a program to know the price if i purchase 3 apples and 2 oranges"
   ]
  },
  {
   "cell_type": "code",
   "execution_count": 12,
   "id": "076b4248-4c3c-4e50-aeb8-9e92163fbd21",
   "metadata": {},
   "outputs": [
    {
     "data": {
      "text/plain": [
       "[190]"
      ]
     },
     "execution_count": 12,
     "metadata": {},
     "output_type": "execute_result"
    }
   ],
   "source": [
    "[3*fruit.get(\"Apple\") + 2*fruit.get(\"Orange\")]"
   ]
  },
  {
   "cell_type": "markdown",
   "id": "5577020f-2daa-456a-953c-8dfb0d0a32a2",
   "metadata": {},
   "source": [
    "#### add fruit for every available fruit"
   ]
  },
  {
   "cell_type": "code",
   "execution_count": 13,
   "id": "d8b1b33a-9348-40ec-88b7-98ebc32797da",
   "metadata": {},
   "outputs": [
    {
     "data": {
      "text/plain": [
       "dict_keys(['Apple', 'Banana', 'Grape', 'Orange', 'Kiwi', 'lychee'])"
      ]
     },
     "execution_count": 13,
     "metadata": {},
     "output_type": "execute_result"
    }
   ],
   "source": [
    "fruit.keys()"
   ]
  },
  {
   "cell_type": "code",
   "execution_count": 14,
   "id": "44d50a66-ed5d-444e-b7ef-d9d37b2c32fe",
   "metadata": {},
   "outputs": [
    {
     "name": "stdout",
     "output_type": "stream",
     "text": [
      "Applefruit\n",
      "Bananafruit\n",
      "Grapefruit\n",
      "Orangefruit\n",
      "Kiwifruit\n",
      "lycheefruit\n"
     ]
    }
   ],
   "source": [
    "for i in fruit.keys():\n",
    "    print(i+ 'fruit')"
   ]
  },
  {
   "cell_type": "markdown",
   "id": "5f513c32-0f54-4ba9-bfac-26f01563aa48",
   "metadata": {},
   "source": [
    "#### which fruit is containing less than 5 characters."
   ]
  },
  {
   "cell_type": "code",
   "execution_count": 2,
   "id": "88379e5b-07c1-4079-9c9f-7ec0fbeaec90",
   "metadata": {},
   "outputs": [],
   "source": [
    "fruit = {\"Apple\":50,\"Banana\":30,\"Grape\" : 40,\"Orange\" : 20,\"Kiwi\":100,\"lychee\" : 50}"
   ]
  },
  {
   "cell_type": "code",
   "execution_count": 3,
   "id": "2a173ed1-bfdb-490d-a478-8fd29c8731d0",
   "metadata": {},
   "outputs": [
    {
     "data": {
      "text/plain": [
       "dict_keys(['Apple', 'Banana', 'Grape', 'Orange', 'Kiwi', 'lychee'])"
      ]
     },
     "execution_count": 3,
     "metadata": {},
     "output_type": "execute_result"
    }
   ],
   "source": [
    "fruit.keys()"
   ]
  },
  {
   "cell_type": "code",
   "execution_count": 4,
   "id": "da7954a0-d617-458c-b6b4-6c648bb27290",
   "metadata": {},
   "outputs": [
    {
     "name": "stdout",
     "output_type": "stream",
     "text": [
      "Kiwi\n"
     ]
    }
   ],
   "source": [
    "for i in fruit.keys():\n",
    "    if len(i)<5:\n",
    "        print(i)"
   ]
  },
  {
   "cell_type": "markdown",
   "id": "f004e7c5-1514-442c-b5a0-7395d6553cb7",
   "metadata": {},
   "source": [
    "## Nested Forloop"
   ]
  },
  {
   "cell_type": "code",
   "execution_count": 6,
   "id": "fca7422b-bfa7-44b3-9cf6-0c7de0f40d76",
   "metadata": {},
   "outputs": [],
   "source": [
    "import time"
   ]
  },
  {
   "cell_type": "code",
   "execution_count": 8,
   "id": "b9d1fdc9-a382-4635-a7e9-2c599050cb51",
   "metadata": {},
   "outputs": [
    {
     "name": "stdout",
     "output_type": "stream",
     "text": [
      "1\n",
      "6\n",
      "1\n",
      "7\n",
      "1\n",
      "8\n",
      "1\n",
      "9\n",
      "1\n",
      "10\n",
      "2\n",
      "6\n",
      "2\n",
      "7\n",
      "2\n",
      "8\n",
      "2\n",
      "9\n",
      "2\n",
      "10\n",
      "3\n",
      "6\n",
      "3\n",
      "7\n",
      "3\n",
      "8\n",
      "3\n",
      "9\n",
      "3\n",
      "10\n",
      "4\n",
      "6\n",
      "4\n",
      "7\n",
      "4\n",
      "8\n",
      "4\n",
      "9\n",
      "4\n",
      "10\n"
     ]
    }
   ],
   "source": [
    "for i in range(1,5):\n",
    "    for j in range(6,11):\n",
    "        print(i)\n",
    "        print(j)\n",
    "        time.sleep(2)"
   ]
  },
  {
   "cell_type": "code",
   "execution_count": 12,
   "id": "b60104e6-d1a4-4ddb-9890-e062de8393bf",
   "metadata": {},
   "outputs": [
    {
     "name": "stdout",
     "output_type": "stream",
     "text": [
      "outer for loop is getting executed 1\n",
      "inner for loop is getting executed 6\n",
      "inner for loop is getting executed 7\n",
      "inner for loop is getting executed 8\n",
      "inner for loop is getting executed 9\n",
      "inner for loop is getting executed 10\n",
      "outer for loop is getting executed 2\n",
      "inner for loop is getting executed 6\n",
      "inner for loop is getting executed 7\n",
      "inner for loop is getting executed 8\n",
      "inner for loop is getting executed 9\n",
      "inner for loop is getting executed 10\n",
      "outer for loop is getting executed 3\n",
      "inner for loop is getting executed 6\n",
      "inner for loop is getting executed 7\n",
      "inner for loop is getting executed 8\n",
      "inner for loop is getting executed 9\n",
      "inner for loop is getting executed 10\n",
      "outer for loop is getting executed 4\n",
      "inner for loop is getting executed 6\n",
      "inner for loop is getting executed 7\n",
      "inner for loop is getting executed 8\n",
      "inner for loop is getting executed 9\n",
      "inner for loop is getting executed 10\n"
     ]
    }
   ],
   "source": [
    "for i in range(1,5):\n",
    "    print(f\"outer for loop is getting executed {i}\")\n",
    "    for j in range(6,11):\n",
    "        print(f\"inner for loop is getting executed {j}\")\n",
    "    time.sleep(2)"
   ]
  },
  {
   "cell_type": "code",
   "execution_count": 14,
   "id": "f38fce1f-ec5d-435e-a662-541a84bd85af",
   "metadata": {},
   "outputs": [
    {
     "name": "stdout",
     "output_type": "stream",
     "text": [
      "6\n",
      "1\n",
      "7\n",
      "1\n",
      "6\n",
      "2\n",
      "7\n",
      "2\n"
     ]
    }
   ],
   "source": [
    "for i in range(1,3): #1,2\n",
    "    for j in range(6,8): #6,7\n",
    "        print(j)\n",
    "        print(i)"
   ]
  },
  {
   "cell_type": "code",
   "execution_count": 16,
   "id": "85070a76-11a2-439e-9dee-3130f252db97",
   "metadata": {},
   "outputs": [
    {
     "name": "stdout",
     "output_type": "stream",
     "text": [
      "100\n",
      "101\n",
      "100\n",
      "101\n"
     ]
    }
   ],
   "source": [
    "for i in range(5,7): #5,6\n",
    "    for j in range(100,102): #100,101\n",
    "        print(j)"
   ]
  },
  {
   "cell_type": "markdown",
   "id": "e8d52893-d226-4a21-b66f-7eabb8011bc3",
   "metadata": {},
   "source": [
    "## Multiplication table using NestedFor loop"
   ]
  },
  {
   "cell_type": "code",
   "execution_count": 17,
   "id": "455f8b1b-6f4d-4ca6-9523-2ba04b2c9d22",
   "metadata": {},
   "outputs": [
    {
     "name": "stdout",
     "output_type": "stream",
     "text": [
      "1 * 1 = 1\n",
      "1 * 2 = 2\n",
      "1 * 3 = 3\n",
      "1 * 4 = 4\n",
      "1 * 5 = 5\n",
      "1 * 6 = 6\n",
      "1 * 7 = 7\n",
      "1 * 8 = 8\n",
      "1 * 9 = 9\n",
      "1 * 10 = 10\n",
      "\n",
      "\n",
      "2 * 1 = 2\n",
      "2 * 2 = 4\n",
      "2 * 3 = 6\n",
      "2 * 4 = 8\n",
      "2 * 5 = 10\n",
      "2 * 6 = 12\n",
      "2 * 7 = 14\n",
      "2 * 8 = 16\n",
      "2 * 9 = 18\n",
      "2 * 10 = 20\n",
      "\n",
      "\n",
      "3 * 1 = 3\n",
      "3 * 2 = 6\n",
      "3 * 3 = 9\n",
      "3 * 4 = 12\n",
      "3 * 5 = 15\n",
      "3 * 6 = 18\n",
      "3 * 7 = 21\n",
      "3 * 8 = 24\n",
      "3 * 9 = 27\n",
      "3 * 10 = 30\n",
      "\n",
      "\n",
      "4 * 1 = 4\n",
      "4 * 2 = 8\n",
      "4 * 3 = 12\n",
      "4 * 4 = 16\n",
      "4 * 5 = 20\n",
      "4 * 6 = 24\n",
      "4 * 7 = 28\n",
      "4 * 8 = 32\n",
      "4 * 9 = 36\n",
      "4 * 10 = 40\n",
      "\n",
      "\n",
      "5 * 1 = 5\n",
      "5 * 2 = 10\n",
      "5 * 3 = 15\n",
      "5 * 4 = 20\n",
      "5 * 5 = 25\n",
      "5 * 6 = 30\n",
      "5 * 7 = 35\n",
      "5 * 8 = 40\n",
      "5 * 9 = 45\n",
      "5 * 10 = 50\n",
      "\n",
      "\n"
     ]
    }
   ],
   "source": [
    "for i in range(1,6):\n",
    "    for j in range(1,11):\n",
    "        print(f\"{i} * {j} = {i*j}\")\n",
    "    print('\\n')"
   ]
  },
  {
   "cell_type": "markdown",
   "id": "43595f1b-a544-4cc2-bf29-37067a1e349c",
   "metadata": {},
   "source": [
    "## PATTERN PROGRAMMING"
   ]
  },
  {
   "cell_type": "code",
   "execution_count": 18,
   "id": "2f49b878-c94f-476a-827c-a2830a8f5236",
   "metadata": {},
   "outputs": [
    {
     "name": "stdout",
     "output_type": "stream",
     "text": [
      "1 2 3 4 "
     ]
    }
   ],
   "source": [
    "for i in range(1,5):\n",
    "    print(i,end = ' ')"
   ]
  },
  {
   "cell_type": "code",
   "execution_count": 19,
   "id": "fc8c1c47-b899-4248-b053-f739606eea16",
   "metadata": {},
   "outputs": [
    {
     "name": "stdout",
     "output_type": "stream",
     "text": [
      "1\n",
      "2\n",
      "3\n",
      "4\n"
     ]
    }
   ],
   "source": [
    "for i in range(1,5):\n",
    "    print(i,end ='\\n')"
   ]
  },
  {
   "cell_type": "code",
   "execution_count": 20,
   "id": "acffe42d-c2d6-466e-9d5f-4b7d3a1e8058",
   "metadata": {},
   "outputs": [
    {
     "name": "stdout",
     "output_type": "stream",
     "text": [
      "1\t 2\t 3\t 4\t "
     ]
    }
   ],
   "source": [
    "for i in range(1,5):\n",
    "    print(i,end = '\\t ')"
   ]
  },
  {
   "cell_type": "markdown",
   "id": "54749959-7261-467a-8dbd-e61ca2bea174",
   "metadata": {},
   "source": [
    "#### print **********(10 stars)"
   ]
  },
  {
   "cell_type": "code",
   "execution_count": 21,
   "id": "eaa51d0c-04d1-4f53-9a8f-e6cef78e4b49",
   "metadata": {},
   "outputs": [
    {
     "name": "stdout",
     "output_type": "stream",
     "text": [
      "* * * * * * * * * * "
     ]
    }
   ],
   "source": [
    "for i in range(1,11):\n",
    "    print('*',end = ' ')"
   ]
  },
  {
   "cell_type": "code",
   "execution_count": 22,
   "id": "a77204a1-ee8e-4c6a-8bbc-186ca712f7ab",
   "metadata": {},
   "outputs": [
    {
     "name": "stdout",
     "output_type": "stream",
     "text": [
      "*\n",
      "*\n",
      "*\n",
      "*\n",
      "*\n",
      "*\n",
      "*\n",
      "*\n",
      "*\n",
      "*\n"
     ]
    }
   ],
   "source": [
    "for i in range(1,11):\n",
    "    print('*')"
   ]
  },
  {
   "cell_type": "code",
   "execution_count": 23,
   "id": "37c175ae-e46f-4ca3-9d64-4dbd89db3cf3",
   "metadata": {},
   "outputs": [
    {
     "name": "stdout",
     "output_type": "stream",
     "text": [
      "****\n",
      "****\n",
      "****\n",
      "****\n"
     ]
    }
   ],
   "source": [
    "for i in range(1,5):\n",
    "    print('*' * 4)"
   ]
  },
  {
   "cell_type": "code",
   "execution_count": 24,
   "id": "ec5661c1-756c-41f5-b269-11438752b501",
   "metadata": {},
   "outputs": [
    {
     "name": "stdin",
     "output_type": "stream",
     "text": [
      "enter the dimension of square matrix:  6\n"
     ]
    },
    {
     "name": "stdout",
     "output_type": "stream",
     "text": [
      "******\n",
      "******\n",
      "******\n",
      "******\n",
      "******\n",
      "******\n"
     ]
    }
   ],
   "source": [
    "n = int(input(\"enter the dimension of square matrix: \"))\n",
    "for i in range(1,n+1):\n",
    "    print('*' *n)"
   ]
  },
  {
   "cell_type": "code",
   "execution_count": 26,
   "id": "a07d55d4-95a4-4b96-bbe1-1746da4a2608",
   "metadata": {},
   "outputs": [
    {
     "name": "stdin",
     "output_type": "stream",
     "text": [
      "enter the dimension of square matrix:  10\n"
     ]
    },
    {
     "name": "stdout",
     "output_type": "stream",
     "text": [
      "💞💞💞💞💞💞💞💞💞💞\n",
      "💞💞💞💞💞💞💞💞💞💞\n",
      "💞💞💞💞💞💞💞💞💞💞\n",
      "💞💞💞💞💞💞💞💞💞💞\n",
      "💞💞💞💞💞💞💞💞💞💞\n",
      "💞💞💞💞💞💞💞💞💞💞\n",
      "💞💞💞💞💞💞💞💞💞💞\n",
      "💞💞💞💞💞💞💞💞💞💞\n",
      "💞💞💞💞💞💞💞💞💞💞\n",
      "💞💞💞💞💞💞💞💞💞💞\n"
     ]
    }
   ],
   "source": [
    "n = int(input(\"enter the dimension of square matrix: \"))\n",
    "for i in range(1,n+1):\n",
    "    print('💞' *n)"
   ]
  },
  {
   "cell_type": "code",
   "execution_count": 27,
   "id": "ffdd2f48-2f70-41b8-88c1-ccc6aa5080bc",
   "metadata": {},
   "outputs": [
    {
     "name": "stdin",
     "output_type": "stream",
     "text": [
      "enter the dimension of square matrix:  4\n"
     ]
    },
    {
     "name": "stdout",
     "output_type": "stream",
     "text": [
      "4444\n",
      "4444\n",
      "4444\n",
      "4444\n"
     ]
    }
   ],
   "source": [
    "n = int(input(\"enter the dimension of square matrix: \"))\n",
    "for i in range(1,n+1):\n",
    "    print('4' *n)"
   ]
  },
  {
   "cell_type": "code",
   "execution_count": 6,
   "id": "6717112c-bab8-4567-ba20-80f5a1daac50",
   "metadata": {},
   "outputs": [
    {
     "name": "stdout",
     "output_type": "stream",
     "text": [
      "*\n",
      "**\n",
      "***\n",
      "****\n",
      "*****\n"
     ]
    }
   ],
   "source": [
    "for i in range(1,6):\n",
    "    print('*' * i)"
   ]
  },
  {
   "cell_type": "code",
   "execution_count": 5,
   "id": "ae56a798-0281-4084-99e0-241d995dde26",
   "metadata": {},
   "outputs": [
    {
     "name": "stdout",
     "output_type": "stream",
     "text": [
      "******\n",
      "*****\n",
      "****\n",
      "***\n",
      "**\n",
      "*\n"
     ]
    }
   ],
   "source": [
    "for i in range(6,0,-1):\n",
    "    print('*' * i)"
   ]
  },
  {
   "cell_type": "code",
   "execution_count": 30,
   "id": "3ab43c9e-e47a-48e3-b5ca-dc7360d1d3b2",
   "metadata": {},
   "outputs": [
    {
     "name": "stdout",
     "output_type": "stream",
     "text": [
      " 1 \n",
      " 2  2 \n",
      " 3  3  3 \n",
      " 4  4  4  4 \n",
      " 5  5  5  5  5 \n"
     ]
    }
   ],
   "source": [
    "for i in range(1,6):\n",
    "    print(f' {i} ' * i)"
   ]
  },
  {
   "cell_type": "code",
   "execution_count": 33,
   "id": "1f4f77f0-746a-45dc-ba26-c563780fff1c",
   "metadata": {},
   "outputs": [
    {
     "name": "stdout",
     "output_type": "stream",
     "text": [
      "A\n",
      "BB\n",
      "CCC\n",
      "DDDD\n",
      "EEEEE\n"
     ]
    }
   ],
   "source": [
    "for i in range(1,6):\n",
    "    print(chr(64+i)*i)"
   ]
  },
  {
   "cell_type": "markdown",
   "id": "1e73b7f8-2f03-4a7f-a818-e505722e38a2",
   "metadata": {},
   "source": [
    "##### if we need space in output then we are going to create like this.code will be below"
   ]
  },
  {
   "cell_type": "code",
   "execution_count": 32,
   "id": "63987f19-110d-4ab7-8a30-608ed388757e",
   "metadata": {},
   "outputs": [
    {
     "name": "stdout",
     "output_type": "stream",
     "text": [
      "A \n",
      "B B \n",
      "C C C \n",
      "D D D D \n",
      "E E E E E \n"
     ]
    }
   ],
   "source": [
    "for i in range(1,6):\n",
    "    print((chr(64+i)+' ') * i)"
   ]
  },
  {
   "cell_type": "code",
   "execution_count": 35,
   "id": "ba6355d8-afb0-4421-825c-9bd1608fdc58",
   "metadata": {},
   "outputs": [
    {
     "name": "stdin",
     "output_type": "stream",
     "text": [
      "Enter the n value ::  5\n"
     ]
    },
    {
     "name": "stdout",
     "output_type": "stream",
     "text": [
      "1 \n",
      "1 2 \n",
      "1 2 3 \n",
      "1 2 3 4 \n",
      "1 2 3 4 5 \n"
     ]
    }
   ],
   "source": [
    "n = int(input(\"Enter the n value :: \"))\n",
    "for i in range(n):\n",
    "    for j in range(i+1):\n",
    "        print(j+1,end = ' ')\n",
    "    print()"
   ]
  },
  {
   "cell_type": "code",
   "execution_count": 1,
   "id": "c81e2162-e913-4755-906c-6dab3560a11d",
   "metadata": {},
   "outputs": [
    {
     "name": "stdin",
     "output_type": "stream",
     "text": [
      "Enter the n value ::  6\n"
     ]
    },
    {
     "name": "stdout",
     "output_type": "stream",
     "text": [
      "1 \n",
      "\n",
      "1 2 \n",
      "\n",
      "1 2 3 \n",
      "\n",
      "1 2 3 4 \n",
      "\n",
      "1 2 3 4 5 \n",
      "\n",
      "1 2 3 4 5 6 \n",
      "\n"
     ]
    }
   ],
   "source": [
    "n = int(input(\"Enter the n value :: \"))\n",
    "for i in range(n):\n",
    "    for j in range(i+1):\n",
    "        print(j+1,end = ' ')\n",
    "    print('\\n')"
   ]
  },
  {
   "cell_type": "code",
   "execution_count": 3,
   "id": "8b2ad2f8-34e3-405d-bede-a39794016b7f",
   "metadata": {},
   "outputs": [
    {
     "name": "stdin",
     "output_type": "stream",
     "text": [
      "Enter the n value ::  5\n"
     ]
    },
    {
     "name": "stdout",
     "output_type": "stream",
     "text": [
      "A  \n",
      "A B  \n",
      "A B C  \n",
      "A B C D  \n",
      "A B C D E  \n"
     ]
    }
   ],
   "source": [
    "n = int(input(\"Enter the n value :: \"))\n",
    "for i in range(n):\n",
    "    for j in range(i+1):\n",
    "        print(chr(j+65),end = ' ')\n",
    "    print(' ')"
   ]
  },
  {
   "cell_type": "code",
   "execution_count": 4,
   "id": "929bb2c6-193a-4c44-ab96-a226f5e19c93",
   "metadata": {},
   "outputs": [
    {
     "name": "stdin",
     "output_type": "stream",
     "text": [
      "Enter the n value ::  5\n"
     ]
    },
    {
     "name": "stdout",
     "output_type": "stream",
     "text": [
      "5  \n",
      "5 4  \n",
      "5 4 3  \n",
      "5 4 3 2  \n",
      "5 4 3 2 1  \n"
     ]
    }
   ],
   "source": [
    "n = int(input(\"Enter the n value :: \"))\n",
    "for i in range(n):\n",
    "    for j in range(i+1):\n",
    "        print(n-j,end = ' ')\n",
    "    print(' ')"
   ]
  },
  {
   "cell_type": "code",
   "execution_count": 8,
   "id": "187b5b9d-eec2-4ed2-ab9c-4abebfd7dc4e",
   "metadata": {},
   "outputs": [
    {
     "name": "stdout",
     "output_type": "stream",
     "text": [
      "     \n",
      "     *\n",
      "    * *\n",
      "   * * *\n",
      "  * * * *\n"
     ]
    }
   ],
   "source": [
    "for i in range(5):\n",
    "    print(' '*(5-i)+' *'*i)"
   ]
  },
  {
   "cell_type": "code",
   "execution_count": 9,
   "id": "87cb93d7-ea0b-4fc6-bc00-b0fc1fdca40d",
   "metadata": {},
   "outputs": [
    {
     "name": "stdout",
     "output_type": "stream",
     "text": [
      "     \n",
      "    *\n",
      "   **\n",
      "  ***\n",
      " ****\n"
     ]
    }
   ],
   "source": [
    "for i in range(5):\n",
    "    print(' '*(5-i)+'*'*i)"
   ]
  },
  {
   "cell_type": "code",
   "execution_count": 11,
   "id": "891c5e92-f337-4f95-9c35-8d0af67774dd",
   "metadata": {},
   "outputs": [
    {
     "name": "stdout",
     "output_type": "stream",
     "text": [
      "          \n",
      "         *\n",
      "       * * *\n",
      "     * * * * *\n",
      "   * * * * * * *\n"
     ]
    }
   ],
   "source": [
    "for i in range(5):\n",
    "    print('  '*(5-i)+' *'*i+ ' *'*(i-1))"
   ]
  },
  {
   "cell_type": "code",
   "execution_count": 12,
   "id": "70d2c4cd-dc41-4ff3-b540-c16cb17e405c",
   "metadata": {},
   "outputs": [
    {
     "name": "stdout",
     "output_type": "stream",
     "text": [
      "          \n",
      "        *\n",
      "      **\n",
      "    ***\n",
      "  ****\n"
     ]
    }
   ],
   "source": [
    "for i in range(5):\n",
    "    print('  '*(5-i)+'*'*i)"
   ]
  },
  {
   "cell_type": "code",
   "execution_count": 13,
   "id": "3d559c42-2196-4373-9516-a914ef6ccbd5",
   "metadata": {},
   "outputs": [
    {
     "name": "stdin",
     "output_type": "stream",
     "text": [
      "Enter the no.of rows::  10\n"
     ]
    },
    {
     "name": "stdout",
     "output_type": "stream",
     "text": [
      "                   *\n",
      "                 * * *\n",
      "               * * * * *\n",
      "             * * * * * * *\n",
      "           * * * * * * * * *\n",
      "         * * * * * * * * * * *\n",
      "       * * * * * * * * * * * * *\n",
      "     * * * * * * * * * * * * * * *\n",
      "   * * * * * * * * * * * * * * * * *\n"
     ]
    }
   ],
   "source": [
    "n = int(input(\"Enter the no.of rows:: \"))\n",
    "for i in range(1,n):\n",
    "    print('  '*(n-i)+' *'*i+ ' *'*(i-1))"
   ]
  },
  {
   "cell_type": "code",
   "execution_count": 15,
   "id": "f49173d1-8e52-4eec-b869-9ffd807aeae1",
   "metadata": {},
   "outputs": [
    {
     "name": "stdin",
     "output_type": "stream",
     "text": [
      "Enter the no.of rows::  10\n"
     ]
    },
    {
     "name": "stdout",
     "output_type": "stream",
     "text": [
      " * * * * * * * * * * * * * * * * * * *\n",
      "   * * * * * * * * * * * * * * * * *\n",
      "     * * * * * * * * * * * * * * *\n",
      "       * * * * * * * * * * * * *\n",
      "         * * * * * * * * * * *\n",
      "           * * * * * * * * *\n",
      "             * * * * * * *\n",
      "               * * * * *\n",
      "                 * * *\n"
     ]
    }
   ],
   "source": [
    "n = int(input(\"Enter the no.of rows:: \"))\n",
    "for i in range(n,1,-1):\n",
    "    print('  '*(n-i)+' *'*i+ ' *'*(i-1))"
   ]
  },
  {
   "cell_type": "code",
   "execution_count": 16,
   "id": "f89b7dab-669c-45db-8efe-208ea99416ce",
   "metadata": {},
   "outputs": [
    {
     "name": "stdin",
     "output_type": "stream",
     "text": [
      "Enter the no.of rows::  10\n"
     ]
    },
    {
     "name": "stdout",
     "output_type": "stream",
     "text": [
      "                   *\n",
      "                 * * *\n",
      "               * * * * *\n",
      "             * * * * * * *\n",
      "           * * * * * * * * *\n",
      "         * * * * * * * * * * *\n",
      "       * * * * * * * * * * * * *\n",
      "     * * * * * * * * * * * * * * *\n",
      "   * * * * * * * * * * * * * * * * *\n",
      " * * * * * * * * * * * * * * * * * * *\n"
     ]
    }
   ],
   "source": [
    "n = int(input(\"Enter the no.of rows:: \"))\n",
    "for i in range(1,n+1):\n",
    "    print('  '*(n-i)+' *'*(2*i-1))"
   ]
  },
  {
   "cell_type": "code",
   "execution_count": 19,
   "id": "bbbefb46-15ce-4e08-a424-cc41d405f343",
   "metadata": {},
   "outputs": [
    {
     "name": "stdin",
     "output_type": "stream",
     "text": [
      "Enter the no.of rows::  10\n"
     ]
    },
    {
     "name": "stdout",
     "output_type": "stream",
     "text": [
      "   * * * * * * * * * * * * * * * * *\n",
      "     * * * * * * * * * * * * * * *\n",
      "       * * * * * * * * * * * * *\n",
      "         * * * * * * * * * * *\n",
      "           * * * * * * * * *\n",
      "             * * * * * * *\n",
      "               * * * * *\n",
      "                 * * *\n",
      "                   *\n"
     ]
    }
   ],
   "source": [
    "n = int(input(\"Enter the no.of rows:: \"))\n",
    "for i in range(n-1,0,-1):\n",
    "    print('  '*(n-i)+' *'*(2*i-1))"
   ]
  },
  {
   "cell_type": "code",
   "execution_count": 21,
   "id": "4c677a6f-a2be-4e1a-9ec9-7d86f23469f4",
   "metadata": {},
   "outputs": [
    {
     "name": "stdin",
     "output_type": "stream",
     "text": [
      "Enter the no.of rows::  10\n"
     ]
    },
    {
     "name": "stdout",
     "output_type": "stream",
     "text": [
      "   * * * * * * * * * * * * * * * * *\n",
      "     * * * * * * * * * * * * * * *\n",
      "       * * * * * * * * * * * * *\n",
      "         * * * * * * * * * * *\n",
      "           * * * * * * * * *\n",
      "             * * * * * * *\n",
      "               * * * * *\n",
      "                 * * *\n",
      "                   *\n",
      "                   *\n",
      "                 * * *\n",
      "               * * * * *\n",
      "             * * * * * * *\n",
      "           * * * * * * * * *\n",
      "         * * * * * * * * * * *\n",
      "       * * * * * * * * * * * * *\n",
      "     * * * * * * * * * * * * * * *\n",
      "   * * * * * * * * * * * * * * * * *\n",
      " * * * * * * * * * * * * * * * * * * *\n"
     ]
    }
   ],
   "source": [
    "n = int(input(\"Enter the no.of rows:: \"))\n",
    "for i in range(n-1,0,-1):\n",
    "    print('  '*(n-i)+' *'*(2*i-1))\n",
    "for i in range(1,n+1):\n",
    "    print('  '*(n-i)+' *'*(2*i-1))"
   ]
  },
  {
   "cell_type": "code",
   "execution_count": 22,
   "id": "3d37e1fc-35fb-4210-9401-7ab19e99963e",
   "metadata": {},
   "outputs": [
    {
     "name": "stdin",
     "output_type": "stream",
     "text": [
      "Enter the no.of rows::  10\n"
     ]
    },
    {
     "name": "stdout",
     "output_type": "stream",
     "text": [
      "                   *\n",
      "                 * * *\n",
      "               * * * * *\n",
      "             * * * * * * *\n",
      "           * * * * * * * * *\n",
      "         * * * * * * * * * * *\n",
      "       * * * * * * * * * * * * *\n",
      "     * * * * * * * * * * * * * * *\n",
      "   * * * * * * * * * * * * * * * * *\n",
      " * * * * * * * * * * * * * * * * * * *\n",
      "   * * * * * * * * * * * * * * * * *\n",
      "     * * * * * * * * * * * * * * *\n",
      "       * * * * * * * * * * * * *\n",
      "         * * * * * * * * * * *\n",
      "           * * * * * * * * *\n",
      "             * * * * * * *\n",
      "               * * * * *\n",
      "                 * * *\n",
      "                   *\n"
     ]
    }
   ],
   "source": [
    "n = int(input(\"Enter the no.of rows:: \"))\n",
    "for i in range(1,n+1):\n",
    "    print('  '*(n-i)+' *'*(2*i-1))\n",
    "for i in range(n-1,0,-1):\n",
    "    print('  '*(n-i)+' *'*(2*i-1))"
   ]
  },
  {
   "cell_type": "code",
   "execution_count": null,
   "id": "40d1fdb9-7428-4098-b446-ed34f43db7fa",
   "metadata": {},
   "outputs": [],
   "source": []
  }
 ],
 "metadata": {
  "kernelspec": {
   "display_name": "Python 3 (ipykernel)",
   "language": "python",
   "name": "python3"
  },
  "language_info": {
   "codemirror_mode": {
    "name": "ipython",
    "version": 3
   },
   "file_extension": ".py",
   "mimetype": "text/x-python",
   "name": "python",
   "nbconvert_exporter": "python",
   "pygments_lexer": "ipython3",
   "version": "3.11.7"
  }
 },
 "nbformat": 4,
 "nbformat_minor": 5
}
