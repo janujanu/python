{
 "cells": [
  {
   "cell_type": "markdown",
   "id": "969ad020-e75b-438e-af51-9060d10f5b6c",
   "metadata": {},
   "source": [
    "## Creating an Empty dictionary"
   ]
  },
  {
   "cell_type": "markdown",
   "id": "c1e38f43-eccf-492c-b598-4709fc4b571e",
   "metadata": {},
   "source": [
    "* 2 way we are having to create an empty dictionary"
   ]
  },
  {
   "cell_type": "code",
   "execution_count": 1,
   "id": "c922e653-d362-41d1-a0fe-20aba4080d23",
   "metadata": {},
   "outputs": [],
   "source": [
    "dict1 = {}"
   ]
  },
  {
   "cell_type": "code",
   "execution_count": 2,
   "id": "e337427f-c5d5-44cb-9ce6-aa3f0e097f1f",
   "metadata": {},
   "outputs": [
    {
     "data": {
      "text/plain": [
       "dict"
      ]
     },
     "execution_count": 2,
     "metadata": {},
     "output_type": "execute_result"
    }
   ],
   "source": [
    "type(dict1)"
   ]
  },
  {
   "cell_type": "code",
   "execution_count": 3,
   "id": "63f2751f-c9fa-4c4d-ab22-8767c140de85",
   "metadata": {},
   "outputs": [
    {
     "data": {
      "text/plain": [
       "dict"
      ]
     },
     "execution_count": 3,
     "metadata": {},
     "output_type": "execute_result"
    }
   ],
   "source": [
    "dict2 = dict()\n",
    "type(dict2)"
   ]
  },
  {
   "cell_type": "markdown",
   "id": "a3cff155-dada-49bf-b2d6-a7cc2fcabcad",
   "metadata": {},
   "source": [
    "## Different ways to create a dictionary"
   ]
  },
  {
   "cell_type": "markdown",
   "id": "2e1fbd2f-a6b1-42f4-ba6b-b4b9e86402f5",
   "metadata": {},
   "source": [
    "##### * Using curly braces"
   ]
  },
  {
   "cell_type": "code",
   "execution_count": 5,
   "id": "97d8dd0a-05ab-4409-8c84-1c8960a8a3fa",
   "metadata": {},
   "outputs": [],
   "source": [
    "capital = {\"TS\":\"Hyderabad\",\"MH\":\"Mumbai\",\"KA\":\"BNG\",\"Orissa\":\"Bhuvaneswar\"}"
   ]
  },
  {
   "cell_type": "code",
   "execution_count": 6,
   "id": "9d71e374-2bae-4923-9fbb-86351be797ad",
   "metadata": {},
   "outputs": [
    {
     "data": {
      "text/plain": [
       "{'TS': 'Hyderabad', 'MH': 'Mumbai', 'KA': 'BNG', 'Orissa': 'Bhuvaneswar'}"
      ]
     },
     "execution_count": 6,
     "metadata": {},
     "output_type": "execute_result"
    }
   ],
   "source": [
    "capital"
   ]
  },
  {
   "cell_type": "code",
   "execution_count": 7,
   "id": "936a5b57-5188-4894-a644-41fed2a97ed3",
   "metadata": {},
   "outputs": [
    {
     "data": {
      "text/plain": [
       "4"
      ]
     },
     "execution_count": 7,
     "metadata": {},
     "output_type": "execute_result"
    }
   ],
   "source": [
    "len(capital)"
   ]
  },
  {
   "cell_type": "markdown",
   "id": "630f35e0-7fa5-4f0a-8c49-70bab18ccb7e",
   "metadata": {},
   "source": [
    "#### * Using Dictionary function"
   ]
  },
  {
   "cell_type": "code",
   "execution_count": 8,
   "id": "142c0961-edbe-4b6e-b332-7a1abbfa7c7b",
   "metadata": {},
   "outputs": [
    {
     "data": {
      "text/plain": [
       "{'India': 'Delhi', 'China': 'Bejing', 'Japan': 'Tokyo', 'USA': 'Washington DC'}"
      ]
     },
     "execution_count": 8,
     "metadata": {},
     "output_type": "execute_result"
    }
   ],
   "source": [
    "cap = dict([[\"India\",\"Delhi\"],[\"China\",\"Bejing\"],[\"Japan\",\"Tokyo\"],[\"USA\",\"Washington DC\"]])\n",
    "cap"
   ]
  },
  {
   "cell_type": "code",
   "execution_count": 9,
   "id": "45f6d7cf-f473-4856-b6fb-7b71b7056faf",
   "metadata": {},
   "outputs": [
    {
     "data": {
      "text/plain": [
       "{'India': 'Delhi', 'China': 'Bejing', 'Japan': 'Tokyo', 'USA': 'Washington DC'}"
      ]
     },
     "execution_count": 9,
     "metadata": {},
     "output_type": "execute_result"
    }
   ],
   "source": [
    "cap = dict(((\"India\",\"Delhi\"),(\"China\",\"Bejing\"),(\"Japan\",\"Tokyo\"),(\"USA\",\"Washington DC\")))\n",
    "cap"
   ]
  },
  {
   "cell_type": "markdown",
   "id": "d1bd31ea-fc2f-455a-8cb3-da0a91576b99",
   "metadata": {},
   "source": [
    "#### Using Assignment Operator"
   ]
  },
  {
   "cell_type": "code",
   "execution_count": 10,
   "id": "63d028d8-c4f7-45ba-843e-03f18d991f7c",
   "metadata": {},
   "outputs": [
    {
     "data": {
      "text/plain": [
       "{'RCB': 'Virat Kohli', 'Mumbai': 'Rohit Sharma', 'CSK': 'Dhoni'}"
      ]
     },
     "execution_count": 10,
     "metadata": {},
     "output_type": "execute_result"
    }
   ],
   "source": [
    "ipl = dict(RCB = 'Virat Kohli',Mumbai = \"Rohit Sharma\",CSK = \"Dhoni\")\n",
    "ipl"
   ]
  },
  {
   "cell_type": "markdown",
   "id": "a34c964f-c331-46f1-909c-9b2e0d0f6316",
   "metadata": {},
   "source": [
    "#### Using Zip function"
   ]
  },
  {
   "cell_type": "code",
   "execution_count": 11,
   "id": "b091f5dd-7340-42dd-90ff-8089d53b76c2",
   "metadata": {},
   "outputs": [
    {
     "data": {
      "text/plain": [
       "{'Apple': 100, 'Grapes': 45, 'Banana': 40, 'Pine apple': 100}"
      ]
     },
     "execution_count": 11,
     "metadata": {},
     "output_type": "execute_result"
    }
   ],
   "source": [
    "fruits = [\"Apple\",\"Grapes\",\"Banana\",\"Pine apple\"]\n",
    "price = [100,45,40,100]\n",
    "\n",
    "market = dict(zip(fruits,price))\n",
    "market"
   ]
  },
  {
   "cell_type": "markdown",
   "id": "2fffff16-8f43-4905-ab30-9a5a1eaa09b9",
   "metadata": {},
   "source": [
    "## Attributes"
   ]
  },
  {
   "cell_type": "code",
   "execution_count": 12,
   "id": "5b6b3107-4c05-4966-b920-9366e11095e9",
   "metadata": {},
   "outputs": [
    {
     "data": {
      "text/plain": [
       "{'Apple': 100, 'Grapes': 45, 'Banana': 40, 'Pine apple': 100}"
      ]
     },
     "execution_count": 12,
     "metadata": {},
     "output_type": "execute_result"
    }
   ],
   "source": [
    "market"
   ]
  },
  {
   "cell_type": "code",
   "execution_count": 13,
   "id": "ce74e88c-2e8c-4e5d-bab4-16683b0aa304",
   "metadata": {},
   "outputs": [],
   "source": [
    "#Mutable\n",
    "market[\"Dragon Fruit\"] = 70"
   ]
  },
  {
   "cell_type": "code",
   "execution_count": 14,
   "id": "1dbbe56f-be30-4f42-a14b-09630259326c",
   "metadata": {},
   "outputs": [
    {
     "data": {
      "text/plain": [
       "{'Apple': 100,\n",
       " 'Grapes': 45,\n",
       " 'Banana': 40,\n",
       " 'Pine apple': 100,\n",
       " 'Dragon Fruit': 70}"
      ]
     },
     "execution_count": 14,
     "metadata": {},
     "output_type": "execute_result"
    }
   ],
   "source": [
    "market"
   ]
  },
  {
   "cell_type": "code",
   "execution_count": 15,
   "id": "b698b69c-71d9-4734-b049-1a485357e34b",
   "metadata": {},
   "outputs": [
    {
     "data": {
      "text/plain": [
       "100"
      ]
     },
     "execution_count": 15,
     "metadata": {},
     "output_type": "execute_result"
    }
   ],
   "source": [
    "market.pop(\"Apple\")"
   ]
  },
  {
   "cell_type": "code",
   "execution_count": 17,
   "id": "74af9920-0e3d-46dd-8013-c1b52c43aa6d",
   "metadata": {},
   "outputs": [
    {
     "data": {
      "text/plain": [
       "{'Grapes': 45, 'Banana': 40, 'Pine apple': 100, 'Dragon Fruit': 70}"
      ]
     },
     "execution_count": 17,
     "metadata": {},
     "output_type": "execute_result"
    }
   ],
   "source": [
    "market"
   ]
  },
  {
   "cell_type": "code",
   "execution_count": null,
   "id": "74901fd0-6613-4c73-ad53-89afcec2eeca",
   "metadata": {},
   "outputs": [],
   "source": [
    "#Unordered"
   ]
  },
  {
   "cell_type": "code",
   "execution_count": 18,
   "id": "c39cf1d1-e7fa-4966-afd5-395e4f2798da",
   "metadata": {},
   "outputs": [
    {
     "data": {
      "text/plain": [
       "{'Grapes': 45, 'Banana': 40, 'Pine apple': 100, 'Dragon Fruit': 70}"
      ]
     },
     "execution_count": 18,
     "metadata": {},
     "output_type": "execute_result"
    }
   ],
   "source": [
    "market"
   ]
  },
  {
   "cell_type": "code",
   "execution_count": 19,
   "id": "1b79ed32-de8d-4950-9fbc-37df5d911d9f",
   "metadata": {},
   "outputs": [
    {
     "ename": "KeyError",
     "evalue": "-1",
     "output_type": "error",
     "traceback": [
      "\u001b[1;31m---------------------------------------------------------------------------\u001b[0m",
      "\u001b[1;31mKeyError\u001b[0m                                  Traceback (most recent call last)",
      "Cell \u001b[1;32mIn[19], line 1\u001b[0m\n\u001b[1;32m----> 1\u001b[0m market[\u001b[38;5;241m-\u001b[39m\u001b[38;5;241m1\u001b[39m]\n",
      "\u001b[1;31mKeyError\u001b[0m: -1"
     ]
    }
   ],
   "source": [
    "market[-1]"
   ]
  },
  {
   "cell_type": "code",
   "execution_count": 20,
   "id": "62dd8311-ddc8-4e41-9c6e-e73cbde3c03f",
   "metadata": {},
   "outputs": [],
   "source": [
    "#Duplicates"
   ]
  },
  {
   "cell_type": "code",
   "execution_count": 21,
   "id": "50fdd35c-b587-48b9-beae-f88d8a85d90b",
   "metadata": {},
   "outputs": [],
   "source": [
    "#duplicates values are allowed"
   ]
  },
  {
   "cell_type": "code",
   "execution_count": 22,
   "id": "50e44666-a998-4568-81df-b09d63cd50a9",
   "metadata": {},
   "outputs": [
    {
     "data": {
      "text/plain": [
       "{'Grapes': 45, 'Banana': 40, 'Pine apple': 100, 'Dragon Fruit': 70}"
      ]
     },
     "execution_count": 22,
     "metadata": {},
     "output_type": "execute_result"
    }
   ],
   "source": [
    "market"
   ]
  },
  {
   "cell_type": "code",
   "execution_count": 23,
   "id": "492d15c0-f0ca-4309-b766-d47d3fac8d88",
   "metadata": {},
   "outputs": [],
   "source": [
    "market['apple'] = 40"
   ]
  },
  {
   "cell_type": "code",
   "execution_count": 24,
   "id": "04a02e38-792f-4fc0-851b-6decd55503ae",
   "metadata": {},
   "outputs": [
    {
     "data": {
      "text/plain": [
       "{'Grapes': 45,\n",
       " 'Banana': 40,\n",
       " 'Pine apple': 100,\n",
       " 'Dragon Fruit': 70,\n",
       " 'apple': 40}"
      ]
     },
     "execution_count": 24,
     "metadata": {},
     "output_type": "execute_result"
    }
   ],
   "source": [
    "market"
   ]
  },
  {
   "cell_type": "code",
   "execution_count": 25,
   "id": "f98a492b-e3bd-4fb6-8b0a-6fab44fe6829",
   "metadata": {},
   "outputs": [],
   "source": [
    "#duplicates keys are not allowed.\n",
    "#if we try to add one more duplicate key,the latest value is updated"
   ]
  },
  {
   "cell_type": "code",
   "execution_count": 26,
   "id": "f6171c1f-cea9-4ca4-af49-2dfe8d51f32f",
   "metadata": {},
   "outputs": [],
   "source": [
    "market[\"Guava\"] = 40"
   ]
  },
  {
   "cell_type": "code",
   "execution_count": 27,
   "id": "eb535f9a-daf5-41a5-bd8a-2a53e9691cb2",
   "metadata": {},
   "outputs": [
    {
     "data": {
      "text/plain": [
       "{'Grapes': 45,\n",
       " 'Banana': 40,\n",
       " 'Pine apple': 100,\n",
       " 'Dragon Fruit': 70,\n",
       " 'apple': 40,\n",
       " 'Guava': 40}"
      ]
     },
     "execution_count": 27,
     "metadata": {},
     "output_type": "execute_result"
    }
   ],
   "source": [
    "market"
   ]
  },
  {
   "cell_type": "code",
   "execution_count": 28,
   "id": "513fe2cd-5e26-4916-99a2-a8880aac605a",
   "metadata": {},
   "outputs": [],
   "source": [
    "market['Banana'] = 200"
   ]
  },
  {
   "cell_type": "code",
   "execution_count": 29,
   "id": "39a39f1b-7494-4d2c-9357-49df3d785959",
   "metadata": {},
   "outputs": [
    {
     "data": {
      "text/plain": [
       "{'Grapes': 45,\n",
       " 'Banana': 200,\n",
       " 'Pine apple': 100,\n",
       " 'Dragon Fruit': 70,\n",
       " 'apple': 40,\n",
       " 'Guava': 40}"
      ]
     },
     "execution_count": 29,
     "metadata": {},
     "output_type": "execute_result"
    }
   ],
   "source": [
    "market"
   ]
  },
  {
   "cell_type": "markdown",
   "id": "3885f158-3c7f-430b-b9b4-d19af28e0a20",
   "metadata": {},
   "source": [
    "# Dictionary Methods"
   ]
  },
  {
   "cell_type": "code",
   "execution_count": 30,
   "id": "ff1f38f9-b399-4940-9b46-f5c40b5258d6",
   "metadata": {},
   "outputs": [
    {
     "data": {
      "text/plain": [
       "{'Grapes': 45,\n",
       " 'Banana': 200,\n",
       " 'Pine apple': 100,\n",
       " 'Dragon Fruit': 70,\n",
       " 'apple': 40,\n",
       " 'Guava': 40}"
      ]
     },
     "execution_count": 30,
     "metadata": {},
     "output_type": "execute_result"
    }
   ],
   "source": [
    "market"
   ]
  },
  {
   "cell_type": "code",
   "execution_count": 31,
   "id": "856cf5f3-4ec8-4d86-b3d1-4b520f6813b6",
   "metadata": {},
   "outputs": [
    {
     "data": {
      "text/plain": [
       "dict_keys(['Grapes', 'Banana', 'Pine apple', 'Dragon Fruit', 'apple', 'Guava'])"
      ]
     },
     "execution_count": 31,
     "metadata": {},
     "output_type": "execute_result"
    }
   ],
   "source": [
    "market.keys()"
   ]
  },
  {
   "cell_type": "code",
   "execution_count": 32,
   "id": "2556795b-c5a3-4447-b5e5-5c6db564067e",
   "metadata": {},
   "outputs": [
    {
     "data": {
      "text/plain": [
       "dict_values([45, 200, 100, 70, 40, 40])"
      ]
     },
     "execution_count": 32,
     "metadata": {},
     "output_type": "execute_result"
    }
   ],
   "source": [
    "market.values()"
   ]
  },
  {
   "cell_type": "code",
   "execution_count": 33,
   "id": "b6f4151f-1f17-423c-b6fc-c2e33e194bc6",
   "metadata": {},
   "outputs": [
    {
     "data": {
      "text/plain": [
       "dict_items([('Grapes', 45), ('Banana', 200), ('Pine apple', 100), ('Dragon Fruit', 70), ('apple', 40), ('Guava', 40)])"
      ]
     },
     "execution_count": 33,
     "metadata": {},
     "output_type": "execute_result"
    }
   ],
   "source": [
    "market.items()"
   ]
  },
  {
   "cell_type": "markdown",
   "id": "48b1f8e8-38e7-4dd0-9cae-0cb427217834",
   "metadata": {},
   "source": [
    "#### Accessing the values"
   ]
  },
  {
   "cell_type": "code",
   "execution_count": 34,
   "id": "700b5c27-73cb-4646-8274-84e10670fc77",
   "metadata": {},
   "outputs": [
    {
     "data": {
      "text/plain": [
       "{'Grapes': 45,\n",
       " 'Banana': 200,\n",
       " 'Pine apple': 100,\n",
       " 'Dragon Fruit': 70,\n",
       " 'apple': 40,\n",
       " 'Guava': 40}"
      ]
     },
     "execution_count": 34,
     "metadata": {},
     "output_type": "execute_result"
    }
   ],
   "source": [
    "market"
   ]
  },
  {
   "cell_type": "code",
   "execution_count": 35,
   "id": "a84f2ec8-c041-4489-b5c5-e503939bbf60",
   "metadata": {},
   "outputs": [
    {
     "data": {
      "text/plain": [
       "70"
      ]
     },
     "execution_count": 35,
     "metadata": {},
     "output_type": "execute_result"
    }
   ],
   "source": [
    "market[\"Dragon Fruit\"]   #dict[key_name]"
   ]
  },
  {
   "cell_type": "code",
   "execution_count": 36,
   "id": "66b079b4-131d-4d1f-be5a-fb313f2b097f",
   "metadata": {},
   "outputs": [
    {
     "data": {
      "text/plain": [
       "40"
      ]
     },
     "execution_count": 36,
     "metadata": {},
     "output_type": "execute_result"
    }
   ],
   "source": [
    "market.get(\"apple\")  #get the value from the key"
   ]
  },
  {
   "cell_type": "code",
   "execution_count": 37,
   "id": "f1c58cec-69af-4a80-9747-7187d41e9b03",
   "metadata": {},
   "outputs": [
    {
     "data": {
      "text/plain": [
       "{'Grapes': 45,\n",
       " 'Banana': 200,\n",
       " 'Pine apple': 100,\n",
       " 'Dragon Fruit': 70,\n",
       " 'apple': 40,\n",
       " 'Guava': 40}"
      ]
     },
     "execution_count": 37,
     "metadata": {},
     "output_type": "execute_result"
    }
   ],
   "source": [
    "market"
   ]
  },
  {
   "cell_type": "code",
   "execution_count": 38,
   "id": "816d2985-2dae-4a12-85c0-36f71721542e",
   "metadata": {},
   "outputs": [
    {
     "data": {
      "text/plain": [
       "45"
      ]
     },
     "execution_count": 38,
     "metadata": {},
     "output_type": "execute_result"
    }
   ],
   "source": [
    "market.pop(\"Grapes\") #removing the item based on key"
   ]
  },
  {
   "cell_type": "code",
   "execution_count": 39,
   "id": "1de71cd3-13ed-4167-adda-bac4f89f4489",
   "metadata": {},
   "outputs": [
    {
     "data": {
      "text/plain": [
       "{'Banana': 200,\n",
       " 'Pine apple': 100,\n",
       " 'Dragon Fruit': 70,\n",
       " 'apple': 40,\n",
       " 'Guava': 40}"
      ]
     },
     "execution_count": 39,
     "metadata": {},
     "output_type": "execute_result"
    }
   ],
   "source": [
    "market"
   ]
  },
  {
   "cell_type": "code",
   "execution_count": 40,
   "id": "2ca04fce-ac45-4e15-9290-01458aae9f72",
   "metadata": {},
   "outputs": [
    {
     "data": {
      "text/plain": [
       "('Guava', 40)"
      ]
     },
     "execution_count": 40,
     "metadata": {},
     "output_type": "execute_result"
    }
   ],
   "source": [
    "market.popitem() #removing the last item"
   ]
  },
  {
   "cell_type": "code",
   "execution_count": 41,
   "id": "c62e7751-958e-4563-95dc-bed7154374e5",
   "metadata": {},
   "outputs": [
    {
     "data": {
      "text/plain": [
       "{'Banana': 200, 'Pine apple': 100, 'Dragon Fruit': 70, 'apple': 40}"
      ]
     },
     "execution_count": 41,
     "metadata": {},
     "output_type": "execute_result"
    }
   ],
   "source": [
    "market"
   ]
  },
  {
   "cell_type": "code",
   "execution_count": 43,
   "id": "ef44a542-0dd6-4346-a66a-f9184405dbcd",
   "metadata": {},
   "outputs": [],
   "source": [
    "market[\"Orange\"] = 50   #one item at a time"
   ]
  },
  {
   "cell_type": "code",
   "execution_count": 44,
   "id": "560b0f4a-592d-459d-9fec-36af3d946b2c",
   "metadata": {},
   "outputs": [
    {
     "data": {
      "text/plain": [
       "{'Banana': 200,\n",
       " 'Pine apple': 100,\n",
       " 'Dragon Fruit': 70,\n",
       " 'apple': 40,\n",
       " 'Orange': 50}"
      ]
     },
     "execution_count": 44,
     "metadata": {},
     "output_type": "execute_result"
    }
   ],
   "source": [
    "market"
   ]
  },
  {
   "cell_type": "code",
   "execution_count": 45,
   "id": "d3341f18-ca5d-42b2-8f71-976ee1b16f59",
   "metadata": {},
   "outputs": [
    {
     "data": {
      "text/plain": [
       "50"
      ]
     },
     "execution_count": 45,
     "metadata": {},
     "output_type": "execute_result"
    }
   ],
   "source": [
    "market.pop('Orange')"
   ]
  },
  {
   "cell_type": "code",
   "execution_count": 46,
   "id": "8a51662d-1ec5-4ae4-81a7-c69a6855083c",
   "metadata": {},
   "outputs": [
    {
     "data": {
      "text/plain": [
       "{'Banana': 200, 'Pine apple': 100, 'Dragon Fruit': 70, 'apple': 40}"
      ]
     },
     "execution_count": 46,
     "metadata": {},
     "output_type": "execute_result"
    }
   ],
   "source": [
    "market"
   ]
  },
  {
   "cell_type": "code",
   "execution_count": 49,
   "id": "cd88e636-b031-4fa7-9eda-a03350d784ff",
   "metadata": {},
   "outputs": [],
   "source": [
    "market.update({\"Kiwi\":50,\"Apple\":60,\"Litchi\":30})  #adding multiple items at atime"
   ]
  },
  {
   "cell_type": "code",
   "execution_count": 50,
   "id": "a19f537a-3512-44d2-aab6-9a1800f43eb4",
   "metadata": {},
   "outputs": [
    {
     "data": {
      "text/plain": [
       "{'Banana': 200,\n",
       " 'Pine apple': 100,\n",
       " 'Dragon Fruit': 70,\n",
       " 'apple': 40,\n",
       " 'Kiwi': 50,\n",
       " 'Apple': 60,\n",
       " 'Litchi': 30}"
      ]
     },
     "execution_count": 50,
     "metadata": {},
     "output_type": "execute_result"
    }
   ],
   "source": [
    "market"
   ]
  },
  {
   "cell_type": "code",
   "execution_count": 52,
   "id": "071eb344-8765-4b4a-a629-f770a5f753e6",
   "metadata": {},
   "outputs": [
    {
     "data": {
      "text/plain": [
       "{'Onions': 100, 'Mirchi': 100}"
      ]
     },
     "execution_count": 52,
     "metadata": {},
     "output_type": "execute_result"
    }
   ],
   "source": [
    "market.fromkeys([\"Onions\",\"Mirchi\"],100)  #different keys but same value"
   ]
  },
  {
   "cell_type": "code",
   "execution_count": 53,
   "id": "815823ca-faf9-4800-aeb6-287510355eb6",
   "metadata": {},
   "outputs": [
    {
     "data": {
      "text/plain": [
       "{'Banana': 200,\n",
       " 'Pine apple': 100,\n",
       " 'Dragon Fruit': 70,\n",
       " 'apple': 40,\n",
       " 'Kiwi': 50,\n",
       " 'Apple': 60,\n",
       " 'Litchi': 30}"
      ]
     },
     "execution_count": 53,
     "metadata": {},
     "output_type": "execute_result"
    }
   ],
   "source": [
    "market"
   ]
  },
  {
   "cell_type": "code",
   "execution_count": 55,
   "id": "4dbdeb9e-727c-4bf8-95eb-b9a3e2185daa",
   "metadata": {},
   "outputs": [
    {
     "data": {
      "text/plain": [
       "{'Jahnavi': 'Innomatics', 'Siva': 'Innomatics', 'Sankar': 'Innomatics'}"
      ]
     },
     "execution_count": 55,
     "metadata": {},
     "output_type": "execute_result"
    }
   ],
   "source": [
    "students = dict.fromkeys([\"Jahnavi\",\"Siva\",\"Sankar\"],\"Innomatics\")\n",
    "\n",
    "students"
   ]
  },
  {
   "cell_type": "code",
   "execution_count": 61,
   "id": "4ae3b0b9-9eee-4244-9ad0-4531c36bade0",
   "metadata": {},
   "outputs": [
    {
     "data": {
      "text/plain": [
       "{'Banana': 200,\n",
       " 'Pine apple': 100,\n",
       " 'Dragon Fruit': 70,\n",
       " 'apple': 40,\n",
       " 'Kiwi': 50,\n",
       " 'Apple': 60,\n",
       " 'Litchi': 30}"
      ]
     },
     "execution_count": 61,
     "metadata": {},
     "output_type": "execute_result"
    }
   ],
   "source": [
    "market"
   ]
  },
  {
   "cell_type": "code",
   "execution_count": 62,
   "id": "8c478c9f-33fc-4e68-924c-46c071f53cf5",
   "metadata": {},
   "outputs": [
    {
     "data": {
      "text/plain": [
       "40"
      ]
     },
     "execution_count": 62,
     "metadata": {},
     "output_type": "execute_result"
    }
   ],
   "source": [
    "market.setdefault(\"Onion\",40)"
   ]
  },
  {
   "cell_type": "code",
   "execution_count": 63,
   "id": "1e8ffc09-e405-4058-ba32-83398c394a37",
   "metadata": {},
   "outputs": [
    {
     "data": {
      "text/plain": [
       "{'Banana': 200,\n",
       " 'Pine apple': 100,\n",
       " 'Dragon Fruit': 70,\n",
       " 'apple': 40,\n",
       " 'Kiwi': 50,\n",
       " 'Apple': 60,\n",
       " 'Litchi': 30,\n",
       " 'Onion': 40}"
      ]
     },
     "execution_count": 63,
     "metadata": {},
     "output_type": "execute_result"
    }
   ],
   "source": [
    "market"
   ]
  },
  {
   "cell_type": "code",
   "execution_count": 82,
   "id": "6fae7aae-bfc9-4efc-b9eb-eeaecd3f4d0d",
   "metadata": {},
   "outputs": [],
   "source": [
    "phones = { 'Apple':{\"Model\": \"Iphone15\",\n",
    "                    \"Color\": [\"Black\",\"White\",\"Orange\"],\n",
    "                    \"Camera\": 48,\n",
    "                    \"Price\": [80000,90000,100000]},\n",
    "          \n",
    "          'Samsung': {\"Model\": \"S23Ulta\",\n",
    "                    \"Color\": [\"Black\",\"White\",\"Grey\"],\n",
    "                    \"Camera\": 28,\n",
    "                    \"Price\": 120000},\n",
    "          \n",
    "          'Oneplus': {\"Model\": \"11R\",\n",
    "                    \"Color\": [\"Black\",\"Golden\",\"Grey\"],\n",
    "                    \"Camera\": 60,\n",
    "                    \"Price\": [70000,80000,90000]},\n",
    "          \n",
    "          'Mi': {\"Model\": \"Note 10 Pro\",\n",
    "                    \"Color\": [\"Black\",\"Grey\"],\n",
    "                    \"Camera\": 108,\n",
    "                    \"Price\": 80000},\n",
    "          \n",
    "          'Iqoo': {\"Model\": \"Neo7 Pro\",\n",
    "                    \"Color\": [\"Black\",\"Golden\",\"Blue\"],\n",
    "                    \"Camera\": 80,\n",
    "                    \"Price\": 30000},\n",
    "    \n",
    "}"
   ]
  },
  {
   "cell_type": "code",
   "execution_count": 76,
   "id": "906e9656-aba8-4f13-8e4b-3858625534e0",
   "metadata": {},
   "outputs": [
    {
     "data": {
      "text/plain": [
       "{'Apple': {'Model': 'Iphone15',\n",
       "  'Color': ['Black', 'White', 'Orange'],\n",
       "  'Camera': 48,\n",
       "  'Price': [80000, 90000, 100000]},\n",
       " 'Samsung': {'Model': 'S23Ulta',\n",
       "  'Color': ['Black', 'White', 'Grey'],\n",
       "  'Camera': 28,\n",
       "  'Price': 120000},\n",
       " 'Oneplus': {'Model': '11R',\n",
       "  'Color': ['Black', 'Golden', 'Grey'],\n",
       "  'Camera': 60,\n",
       "  'Price': 70000},\n",
       " 'Mi': {'Model': 'Note 10 Pro',\n",
       "  'Color': ['Black', 'Grey'],\n",
       "  'Camera': 108,\n",
       "  'Price': 80000},\n",
       " 'Iqoo': {'Model': 'Neo7 Pro',\n",
       "  'Color': ['Black', 'Golden', 'Blue'],\n",
       "  'Camera': 80,\n",
       "  'Price': 30000}}"
      ]
     },
     "execution_count": 76,
     "metadata": {},
     "output_type": "execute_result"
    }
   ],
   "source": [
    "phones"
   ]
  },
  {
   "cell_type": "code",
   "execution_count": 67,
   "id": "8ccece03-c341-464b-9cb2-f02caefa4c0d",
   "metadata": {},
   "outputs": [
    {
     "data": {
      "text/plain": [
       "{'Model': '11R',\n",
       " 'Color': ['Black', 'Golden', 'Grey'],\n",
       " 'Camera': 60,\n",
       " 'Price': 70000}"
      ]
     },
     "execution_count": 67,
     "metadata": {},
     "output_type": "execute_result"
    }
   ],
   "source": [
    "phones.get('Oneplus')"
   ]
  },
  {
   "cell_type": "code",
   "execution_count": 68,
   "id": "670abb66-b4d4-4a87-9fe8-c38cb3b938da",
   "metadata": {},
   "outputs": [
    {
     "data": {
      "text/plain": [
       "{'Model': '11R',\n",
       " 'Color': ['Black', 'Golden', 'Grey'],\n",
       " 'Camera': 60,\n",
       " 'Price': 70000}"
      ]
     },
     "execution_count": 68,
     "metadata": {},
     "output_type": "execute_result"
    }
   ],
   "source": [
    "phones['Oneplus']"
   ]
  },
  {
   "cell_type": "code",
   "execution_count": 71,
   "id": "ceac44b5-e457-4002-8217-29a040af276e",
   "metadata": {},
   "outputs": [
    {
     "data": {
      "text/plain": [
       "3"
      ]
     },
     "execution_count": 71,
     "metadata": {},
     "output_type": "execute_result"
    }
   ],
   "source": [
    "len(phones['Apple']['Color'])"
   ]
  },
  {
   "cell_type": "code",
   "execution_count": 72,
   "id": "ba6fb416-bd78-4c17-877b-54029c81c5ca",
   "metadata": {},
   "outputs": [
    {
     "data": {
      "text/plain": [
       "80000"
      ]
     },
     "execution_count": 72,
     "metadata": {},
     "output_type": "execute_result"
    }
   ],
   "source": [
    "phones['Mi']['Price']"
   ]
  },
  {
   "cell_type": "code",
   "execution_count": 74,
   "id": "cef5f1bf-08f2-4c39-8d6e-409a92bdeaa0",
   "metadata": {},
   "outputs": [],
   "source": [
    "phones.update({\"Apple\":{\"Price\":90000}})"
   ]
  },
  {
   "cell_type": "code",
   "execution_count": 79,
   "id": "e93a979e-0722-433e-bbe9-c8e0b63b52da",
   "metadata": {},
   "outputs": [],
   "source": [
    "p = phones['Apple']['Price']"
   ]
  },
  {
   "cell_type": "code",
   "execution_count": 80,
   "id": "911d0bfe-5b53-42b8-9710-a46e5d15a3ff",
   "metadata": {},
   "outputs": [
    {
     "data": {
      "text/plain": [
       "[80000, 90000, 100000]"
      ]
     },
     "execution_count": 80,
     "metadata": {},
     "output_type": "execute_result"
    }
   ],
   "source": [
    "p"
   ]
  },
  {
   "cell_type": "code",
   "execution_count": 81,
   "id": "1c57d112-f922-4568-824f-7da7da354d7b",
   "metadata": {},
   "outputs": [
    {
     "data": {
      "text/plain": [
       "270000"
      ]
     },
     "execution_count": 81,
     "metadata": {},
     "output_type": "execute_result"
    }
   ],
   "source": [
    "sum(p)"
   ]
  },
  {
   "cell_type": "code",
   "execution_count": 83,
   "id": "cdf84676-2b7d-4387-8749-489015180652",
   "metadata": {},
   "outputs": [
    {
     "data": {
      "text/plain": [
       "90000"
      ]
     },
     "execution_count": 83,
     "metadata": {},
     "output_type": "execute_result"
    }
   ],
   "source": [
    "max(phones['Oneplus']['Price'])"
   ]
  },
  {
   "cell_type": "code",
   "execution_count": 1,
   "id": "140c23a8-da5e-4200-bbb7-88ff7c008969",
   "metadata": {},
   "outputs": [],
   "source": [
    "book = {\"title\":\"Emotion\",\"author\":\"sadhguru\",\"publicationyear\":\"2018\"}"
   ]
  },
  {
   "cell_type": "code",
   "execution_count": 2,
   "id": "91426db4-5401-451e-996f-1f0de5d1b4a6",
   "metadata": {},
   "outputs": [],
   "source": [
    "book.update({\"secondeditionyear\":\"2019\"})"
   ]
  },
  {
   "cell_type": "code",
   "execution_count": 3,
   "id": "c6eb4f49-6620-4d91-a548-e77945e02277",
   "metadata": {},
   "outputs": [
    {
     "data": {
      "text/plain": [
       "{'title': 'Emotion',\n",
       " 'author': 'sadhguru',\n",
       " 'publicationyear': '2018',\n",
       " 'secondeditionyear': '2019'}"
      ]
     },
     "execution_count": 3,
     "metadata": {},
     "output_type": "execute_result"
    }
   ],
   "source": [
    "book"
   ]
  },
  {
   "cell_type": "code",
   "execution_count": 4,
   "id": "1e52f807-7302-4a0a-868a-b551eb7b7585",
   "metadata": {},
   "outputs": [],
   "source": [
    "words = {\"go\":\"ir\",\"hi\":\"hola\",\"welcome\":\"bienvenida\",\"went\":\"fue\",\"morning\":\"manana\"}"
   ]
  },
  {
   "cell_type": "code",
   "execution_count": 5,
   "id": "0002dbab-0a87-44ec-a38d-189fa374f28c",
   "metadata": {},
   "outputs": [
    {
     "data": {
      "text/plain": [
       "{'go': 'ir',\n",
       " 'hi': 'hola',\n",
       " 'welcome': 'bienvenida',\n",
       " 'went': 'fue',\n",
       " 'morning': 'manana'}"
      ]
     },
     "execution_count": 5,
     "metadata": {},
     "output_type": "execute_result"
    }
   ],
   "source": [
    "words"
   ]
  },
  {
   "cell_type": "code",
   "execution_count": 19,
   "id": "bd2f8a69-79ca-43b3-bd54-0c607db9d0db",
   "metadata": {},
   "outputs": [
    {
     "name": "stdin",
     "output_type": "stream",
     "text": [
      "Enter a english word:  gone\n"
     ]
    }
   ],
   "source": [
    "\n",
    "words.get(input(\"Enter a english word: \"))"
   ]
  },
  {
   "cell_type": "markdown",
   "id": "aabecf6d-5b56-4f78-97d7-5252642c06f0",
   "metadata": {},
   "source": [
    "## 3..Create a Python program that stores the grades of five students in a dictionary. Allow users to input the names of the students and their respective grades. Calculate and display the average grade of the students.¶"
   ]
  },
  {
   "cell_type": "code",
   "execution_count": 131,
   "id": "c45983e9-86dd-405d-af9d-de198eec7ffe",
   "metadata": {},
   "outputs": [
    {
     "data": {
      "text/plain": [
       "{'Jahnavi': 'A+', 'Siva': 'A', 'Sankar': 'B', 'Sai': 'C', 'janu': 'D'}"
      ]
     },
     "execution_count": 131,
     "metadata": {},
     "output_type": "execute_result"
    }
   ],
   "source": [
    "#grades = dict([[\"Jahnavi\",\"A+\"],[\"Siva\",\"A\"],[\"Sankar\",\"B\"],[\"Sai\",\"C\"],[\"janu\",\"D\"]])\n",
    "#grades"
   ]
  },
  {
   "cell_type": "code",
   "execution_count": 352,
   "id": "0c68c416-1d65-44fe-9daf-9b830e5c103c",
   "metadata": {},
   "outputs": [],
   "source": [
    "students = {'Jahnavi':{\"marks\":90,\n",
    "                   \"grade\":\"A+\"},\n",
    "          \n",
    "          'Siva'   :{\"marks\":75,\n",
    "                   \"grade\":\"A\"},\n",
    "\n",
    "          'Sankar' :{\"marks\":65,\n",
    "                    \"grade\":\"B\"},\n",
    "\n",
    "          'Janu'   :{\"marks\":60,\n",
    "                    \"grade\":\"B\"},\n",
    "\n",
    "         'Sai'    :{\"marks\":55,\n",
    "                     \"grade\":\"C\"}\n",
    "}"
   ]
  },
  {
   "cell_type": "code",
   "execution_count": 353,
   "id": "95c1199c-278c-4269-aa0b-c9273363070f",
   "metadata": {},
   "outputs": [
    {
     "data": {
      "text/plain": [
       "{'Jahnavi': {'marks': 90, 'grade': 'A+'},\n",
       " 'Siva': {'marks': 75, 'grade': 'A'},\n",
       " 'Sankar': {'marks': 65, 'grade': 'B'},\n",
       " 'Janu': {'marks': 60, 'grade': 'B'},\n",
       " 'Sai': {'marks': 55, 'grade': 'C'}}"
      ]
     },
     "execution_count": 353,
     "metadata": {},
     "output_type": "execute_result"
    }
   ],
   "source": [
    "students"
   ]
  },
  {
   "cell_type": "code",
   "execution_count": 356,
   "id": "ae81bd34-eb2f-4775-b87e-2b772519bb48",
   "metadata": {},
   "outputs": [
    {
     "name": "stdin",
     "output_type": "stream",
     "text": [
      "Enter naame: veda\n",
      "Enter marks: 80\n",
      "Enter grade: A+\n"
     ]
    }
   ],
   "source": [
    "students.update({input(\"Enter naame:\"):\n",
    "{int(input(\"Enter marks:\")),\n",
    "input(\"Enter grade:\")}})\n",
    "\n"
   ]
  },
  {
   "cell_type": "code",
   "execution_count": 359,
   "id": "6274ee54-30e5-4bbe-8f84-aa10cc16daaa",
   "metadata": {},
   "outputs": [],
   "source": [
    "students[' ' ] = {\"marks\":marks,\"grade\":grade}"
   ]
  },
  {
   "cell_type": "code",
   "execution_count": 344,
   "id": "7ea10227-9308-4ceb-89a6-fd126388b8b6",
   "metadata": {},
   "outputs": [
    {
     "name": "stdout",
     "output_type": "stream",
     "text": [
      "{'Jahnavi': {'marks': 90, 'grade': 'A+'}, 'Siva': {'marks': 75, 'grade': 'A'}, 'Sankar': {'marks': 65, 'grade': 'B'}, 'Janu': {'marks': 60, 'grade': 'B'}, 'Sai': {'marks': 55, 'grade': 'C'}, 'veda': {80, 'A+'}, 'naame': {'marks': '80', 'grade': 'A'}}\n"
     ]
    }
   ],
   "source": [
    "print(students)"
   ]
  },
  {
   "cell_type": "code",
   "execution_count": 197,
   "id": "cd332b4a-5c7e-45b1-b7e0-f4cf448e4df4",
   "metadata": {},
   "outputs": [],
   "source": [
    "#p = students.items()"
   ]
  },
  {
   "cell_type": "code",
   "execution_count": 198,
   "id": "fb2d19bd-cda7-4cb2-98a1-f5283a3735fb",
   "metadata": {},
   "outputs": [
    {
     "data": {
      "text/plain": [
       "dict_items([('Jahnavi', {'marks': 90, 'grade': 'A+'}), ('Siva', {'marks': 75, 'grade': 'A'}), ('Sankar', {'marks': 65, 'grade': 'B'}), ('Janu', {'marks': 60, 'grade': 'B'}), ('Sai', {'marks': 55, 'grade': 'C'}), ('veda', {'marks': '80', 'grade': 'A'})])"
      ]
     },
     "execution_count": 198,
     "metadata": {},
     "output_type": "execute_result"
    }
   ],
   "source": [
    "#p"
   ]
  },
  {
   "cell_type": "code",
   "execution_count": 195,
   "id": "ea441ef2-394a-4a2f-80a8-135480e1986f",
   "metadata": {},
   "outputs": [
    {
     "data": {
      "text/plain": [
       "6"
      ]
     },
     "execution_count": 195,
     "metadata": {},
     "output_type": "execute_result"
    }
   ],
   "source": [
    "len(students)"
   ]
  },
  {
   "cell_type": "code",
   "execution_count": null,
   "id": "e4b3d463-203a-431f-9da9-458f65fd96bd",
   "metadata": {},
   "outputs": [],
   "source": []
  },
  {
   "cell_type": "markdown",
   "id": "58eb332f-ac27-458a-a98d-6ef431a2f25c",
   "metadata": {},
   "source": [
    "## Build a basic contact list using a dictionary. Initially, the dictionary can be empty. Allow users to add new contacts with names and phone numbers. Users should also be able to search for contacts by name and display their phone numbers(use in operator)."
   ]
  },
  {
   "cell_type": "code",
   "execution_count": 2,
   "id": "1ece8c9f-af96-4063-bd04-7783229f30e4",
   "metadata": {},
   "outputs": [],
   "source": [
    "contact = {}"
   ]
  },
  {
   "cell_type": "code",
   "execution_count": 3,
   "id": "fad505b8-9eae-4c48-8450-91e7d8d2bcf6",
   "metadata": {},
   "outputs": [
    {
     "name": "stdin",
     "output_type": "stream",
     "text": [
      "Enter name: sanju\n",
      "Enter phnum: 738928798\n"
     ]
    }
   ],
   "source": [
    "name = input(\"Enter name:\")\n",
    "phnum = int(input(\"Enter phnum:\"))"
   ]
  },
  {
   "cell_type": "code",
   "execution_count": 4,
   "id": "08690fa1-18e0-4f5e-bc70-af9835accdea",
   "metadata": {},
   "outputs": [],
   "source": [
    "contact[name]=phnum"
   ]
  },
  {
   "cell_type": "code",
   "execution_count": 5,
   "id": "476a6873-1644-48b6-90f7-eaedf9327986",
   "metadata": {},
   "outputs": [
    {
     "name": "stdout",
     "output_type": "stream",
     "text": [
      "{'sanju': 738928798}\n"
     ]
    }
   ],
   "source": [
    "print(contact)"
   ]
  },
  {
   "cell_type": "code",
   "execution_count": 6,
   "id": "f90388e4-670e-4779-9c22-eb7f8bcb2c29",
   "metadata": {},
   "outputs": [
    {
     "name": "stdin",
     "output_type": "stream",
     "text": [
      "Enter name:  sanju\n"
     ]
    },
    {
     "data": {
      "text/plain": [
       "738928798"
      ]
     },
     "execution_count": 6,
     "metadata": {},
     "output_type": "execute_result"
    }
   ],
   "source": [
    "result = input(\"Enter name: \")\n",
    "result in contact\n",
    "contact.get(result)"
   ]
  },
  {
   "cell_type": "markdown",
   "id": "ce9ea296-a430-487a-99a6-56984cfd2e29",
   "metadata": {},
   "source": [
    "## 5.Write a Python program that defines a dictionary containing the names of fruits as keys and their corresponding colors as values (e.g., 'apple': 'red').Do atleast 5 dictionary methods on it."
   ]
  },
  {
   "cell_type": "code",
   "execution_count": 73,
   "id": "ed968c2b-732b-4458-8294-65b793efd0b3",
   "metadata": {},
   "outputs": [],
   "source": [
    "fruits = {\"apple\":\"red\",\"Banana\":\"Yellow\",\"Kiwi\":\"green\",\"Dragonfruit\":\"pink\"}"
   ]
  },
  {
   "cell_type": "code",
   "execution_count": 74,
   "id": "fbaeb4e4-e128-43f4-a476-90239fb95764",
   "metadata": {},
   "outputs": [
    {
     "data": {
      "text/plain": [
       "{'apple': 'red', 'Banana': 'Yellow', 'Kiwi': 'green', 'Dragonfruit': 'pink'}"
      ]
     },
     "execution_count": 74,
     "metadata": {},
     "output_type": "execute_result"
    }
   ],
   "source": [
    "fruits"
   ]
  },
  {
   "cell_type": "code",
   "execution_count": 75,
   "id": "3627b325-d856-41ff-92a8-a05b430b8a49",
   "metadata": {},
   "outputs": [
    {
     "data": {
      "text/plain": [
       "'red'"
      ]
     },
     "execution_count": 75,
     "metadata": {},
     "output_type": "execute_result"
    }
   ],
   "source": [
    "fruits.get('apple')"
   ]
  },
  {
   "cell_type": "code",
   "execution_count": 78,
   "id": "b22e0bde-f89d-4d85-987c-dc7db17e8cde",
   "metadata": {},
   "outputs": [],
   "source": [
    "fruits.update({'Banana':'lightyellow'})"
   ]
  },
  {
   "cell_type": "code",
   "execution_count": 79,
   "id": "8861e5d3-93d6-4a60-a2d6-f19b13c27ffa",
   "metadata": {},
   "outputs": [
    {
     "data": {
      "text/plain": [
       "{'apple': 'red',\n",
       " 'Banana': 'lightyellow',\n",
       " 'Kiwi': 'green',\n",
       " 'Dragonfruit': 'pink'}"
      ]
     },
     "execution_count": 79,
     "metadata": {},
     "output_type": "execute_result"
    }
   ],
   "source": [
    "fruits"
   ]
  },
  {
   "cell_type": "code",
   "execution_count": 80,
   "id": "7a89d7dd-e622-4f05-a3ef-f3bab9ade3b2",
   "metadata": {},
   "outputs": [
    {
     "data": {
      "text/plain": [
       "dict_keys(['apple', 'Banana', 'Kiwi', 'Dragonfruit'])"
      ]
     },
     "execution_count": 80,
     "metadata": {},
     "output_type": "execute_result"
    }
   ],
   "source": [
    "fruits.keys()"
   ]
  },
  {
   "cell_type": "code",
   "execution_count": 81,
   "id": "7ad597d4-b735-4532-9d4f-746db85c30d8",
   "metadata": {},
   "outputs": [
    {
     "data": {
      "text/plain": [
       "dict_values(['red', 'lightyellow', 'green', 'pink'])"
      ]
     },
     "execution_count": 81,
     "metadata": {},
     "output_type": "execute_result"
    }
   ],
   "source": [
    "fruits.values()"
   ]
  },
  {
   "cell_type": "code",
   "execution_count": 82,
   "id": "5644a684-0bc4-46a0-9eed-1017c184d2fc",
   "metadata": {},
   "outputs": [
    {
     "data": {
      "text/plain": [
       "('Dragonfruit', 'pink')"
      ]
     },
     "execution_count": 82,
     "metadata": {},
     "output_type": "execute_result"
    }
   ],
   "source": [
    "fruits.popitem()"
   ]
  },
  {
   "cell_type": "code",
   "execution_count": 83,
   "id": "da824bf4-c8e9-432c-be23-e3a94af4739f",
   "metadata": {},
   "outputs": [
    {
     "data": {
      "text/plain": [
       "{'apple': 'red', 'Banana': 'lightyellow', 'Kiwi': 'green'}"
      ]
     },
     "execution_count": 83,
     "metadata": {},
     "output_type": "execute_result"
    }
   ],
   "source": [
    "fruits"
   ]
  },
  {
   "cell_type": "code",
   "execution_count": 85,
   "id": "d26bfe5a-646c-404e-a0a1-75425e580b0a",
   "metadata": {},
   "outputs": [
    {
     "data": {
      "text/plain": [
       "'Pink'"
      ]
     },
     "execution_count": 85,
     "metadata": {},
     "output_type": "execute_result"
    }
   ],
   "source": [
    "fruits.setdefault(\"Dragonfruit\",'Pink')"
   ]
  },
  {
   "cell_type": "code",
   "execution_count": 86,
   "id": "58f63fd0-c062-481a-9b00-15a2243be4f6",
   "metadata": {},
   "outputs": [
    {
     "data": {
      "text/plain": [
       "{'apple': 'red',\n",
       " 'Banana': 'lightyellow',\n",
       " 'Kiwi': 'green',\n",
       " 'Dragonfruit': 'Pink'}"
      ]
     },
     "execution_count": 86,
     "metadata": {},
     "output_type": "execute_result"
    }
   ],
   "source": [
    "fruits"
   ]
  },
  {
   "cell_type": "code",
   "execution_count": null,
   "id": "a9d4a788-f282-47aa-accf-46764cb646e9",
   "metadata": {},
   "outputs": [],
   "source": []
  }
 ],
 "metadata": {
  "kernelspec": {
   "display_name": "Python 3 (ipykernel)",
   "language": "python",
   "name": "python3"
  },
  "language_info": {
   "codemirror_mode": {
    "name": "ipython",
    "version": 3
   },
   "file_extension": ".py",
   "mimetype": "text/x-python",
   "name": "python",
   "nbconvert_exporter": "python",
   "pygments_lexer": "ipython3",
   "version": "3.11.7"
  }
 },
 "nbformat": 4,
 "nbformat_minor": 5
}
