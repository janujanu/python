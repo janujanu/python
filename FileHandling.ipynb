{
 "cells": [
  {
   "cell_type": "markdown",
   "id": "584f1dcc-7f86-4203-884d-751835b2ba61",
   "metadata": {},
   "source": [
    "File Handling\n",
    "\n",
    "1. Create\n",
    "2. Open\n",
    "3. Read\n",
    "4. Write\n",
    "5. Append\n",
    "6. Close"
   ]
  },
  {
   "cell_type": "markdown",
   "id": "ebe6f475-d084-46e7-94c0-01a0938f05d5",
   "metadata": {},
   "source": [
    "### Opening/loading the file"
   ]
  },
  {
   "cell_type": "markdown",
   "id": "06323929-f008-49f0-bd79-cbf7572a6f25",
   "metadata": {},
   "source": [
    "using File Path/File Name"
   ]
  },
  {
   "cell_type": "markdown",
   "id": "0c48cba6-b83a-4f95-bb0e-dc10ba440a44",
   "metadata": {},
   "source": [
    "#### File Path"
   ]
  },
  {
   "cell_type": "code",
   "execution_count": 2,
   "id": "1a1e1649-0102-4ae5-849e-2fa13907c8ea",
   "metadata": {},
   "outputs": [],
   "source": [
    "file = open(r\"C:\\Users\\DELL\\OneDrive\\Desktop\\jahnavi285.txt\")"
   ]
  },
  {
   "cell_type": "code",
   "execution_count": 3,
   "id": "70fda63e-95d1-46cd-b768-a820593d8b4e",
   "metadata": {},
   "outputs": [
    {
     "data": {
      "text/plain": [
       "<_io.TextIOWrapper name='C:\\\\Users\\\\DELL\\\\OneDrive\\\\Desktop\\\\jahnavi285.txt' mode='r' encoding='cp1252'>"
      ]
     },
     "execution_count": 3,
     "metadata": {},
     "output_type": "execute_result"
    }
   ],
   "source": [
    "file"
   ]
  },
  {
   "cell_type": "code",
   "execution_count": 6,
   "id": "d93944d8-95fc-4370-8a39-205f174a1241",
   "metadata": {},
   "outputs": [
    {
     "data": {
      "text/plain": [
       "\"'Hello Everyone....currently i am learning data analysis'\""
      ]
     },
     "execution_count": 6,
     "metadata": {},
     "output_type": "execute_result"
    }
   ],
   "source": [
    "file.read()"
   ]
  },
  {
   "cell_type": "code",
   "execution_count": 7,
   "id": "b1e77620-7eea-466b-b513-ee8a73b4be19",
   "metadata": {},
   "outputs": [
    {
     "data": {
      "text/plain": [
       "\"'Hello Everyone....currently i am learning data analysis'\""
      ]
     },
     "execution_count": 7,
     "metadata": {},
     "output_type": "execute_result"
    }
   ],
   "source": [
    "file2 = open(\"C:\\\\Users\\\\DELL\\\\OneDrive\\\\Desktop\\\\jahnavi285.txt\")\n",
    "file2.read()"
   ]
  },
  {
   "cell_type": "markdown",
   "id": "5f430ce0-3419-465b-8525-4c1135672cb0",
   "metadata": {},
   "source": [
    "#### File Name"
   ]
  },
  {
   "cell_type": "code",
   "execution_count": 16,
   "id": "913f8317-9828-49ef-9f33-889c9cf1c7f1",
   "metadata": {},
   "outputs": [
    {
     "data": {
      "text/plain": [
       "\"'Hello Everyone....currently i am learning data analysis'\""
      ]
     },
     "execution_count": 16,
     "metadata": {},
     "output_type": "execute_result"
    }
   ],
   "source": [
    "file3 = open('jahnavi285.txt')\n",
    "file3.read()"
   ]
  },
  {
   "cell_type": "markdown",
   "id": "b2d6cd54-1300-466e-800c-855a3dab3fcf",
   "metadata": {},
   "source": [
    "It checks the files in current working directory"
   ]
  },
  {
   "cell_type": "code",
   "execution_count": 14,
   "id": "a0f63942-a780-4297-a2bd-71298a847a6d",
   "metadata": {},
   "outputs": [
    {
     "data": {
      "text/plain": [
       "'C:\\\\Users\\\\DELL\\\\jahnavi285'"
      ]
     },
     "execution_count": 14,
     "metadata": {},
     "output_type": "execute_result"
    }
   ],
   "source": [
    "import os\n",
    "os.getcwd()"
   ]
  },
  {
   "cell_type": "markdown",
   "id": "99b731d1-af33-4569-852a-fb8ac56d9706",
   "metadata": {},
   "source": [
    "#### Reading the Data"
   ]
  },
  {
   "cell_type": "code",
   "execution_count": 83,
   "id": "23a5979c-7a81-4e7d-be93-1cdee08682e7",
   "metadata": {},
   "outputs": [],
   "source": [
    "file = open(r\"C:\\\\Users\\\\DELL\\\\OneDrive\\\\Desktop\\\\jahnavi285.txt\",mode = 'r')"
   ]
  },
  {
   "cell_type": "code",
   "execution_count": 84,
   "id": "54778981-fe68-43ae-b46d-cf7634eefc44",
   "metadata": {},
   "outputs": [
    {
     "name": "stdout",
     "output_type": "stream",
     "text": [
      "'Hello Everyone....currently i am learning data analysis\n",
      "I am jahnavi from hyderabad\n",
      "my husband name is sivasankar\n"
     ]
    }
   ],
   "source": [
    "print(file.read())  #It reads complete data from the file"
   ]
  },
  {
   "cell_type": "code",
   "execution_count": 80,
   "id": "1bb5c2ec-2694-4974-b878-7dde8ce923f6",
   "metadata": {},
   "outputs": [
    {
     "name": "stdout",
     "output_type": "stream",
     "text": [
      "\n"
     ]
    }
   ],
   "source": [
    "print(file.readline())  #It reads the data line by line"
   ]
  },
  {
   "cell_type": "code",
   "execution_count": 81,
   "id": "6756bd3c-f7bf-4e2f-b87a-a9c79b37b3d7",
   "metadata": {},
   "outputs": [
    {
     "name": "stdout",
     "output_type": "stream",
     "text": [
      "[]\n"
     ]
    }
   ],
   "source": [
    "print(file.readlines()) #reads all lines in the list"
   ]
  },
  {
   "cell_type": "code",
   "execution_count": 82,
   "id": "81a25adc-af47-4441-a99c-e05b9e9d1c53",
   "metadata": {},
   "outputs": [
    {
     "data": {
      "text/plain": [
       "''"
      ]
     },
     "execution_count": 82,
     "metadata": {},
     "output_type": "execute_result"
    }
   ],
   "source": [
    "file.read()"
   ]
  },
  {
   "cell_type": "code",
   "execution_count": 96,
   "id": "2367e62e-2a66-4bf9-967c-7c47a03a9882",
   "metadata": {},
   "outputs": [
    {
     "name": "stdout",
     "output_type": "stream",
     "text": [
      "'Hello Everyone....currently i am learning data analysis\n",
      "\n"
     ]
    }
   ],
   "source": [
    "file = open(r\"C:\\\\Users\\\\DELL\\\\OneDrive\\\\Desktop\\\\jahnavi285.txt\",mode = 'r')\n",
    "print(file.readline())\n",
    "#print(file.readlines())"
   ]
  },
  {
   "cell_type": "code",
   "execution_count": 99,
   "id": "de25dc18-7f92-424a-a9fc-3478569bf72e",
   "metadata": {},
   "outputs": [
    {
     "data": {
      "text/plain": [
       "116"
      ]
     },
     "execution_count": 99,
     "metadata": {},
     "output_type": "execute_result"
    }
   ],
   "source": [
    "file.tell()  #tells us the pointer/cursor current position"
   ]
  },
  {
   "cell_type": "code",
   "execution_count": 97,
   "id": "8b9eaf79-9516-484e-a717-8770cc18503c",
   "metadata": {},
   "outputs": [
    {
     "data": {
      "text/plain": [
       "'I am jahnavi from'"
      ]
     },
     "execution_count": 97,
     "metadata": {},
     "output_type": "execute_result"
    }
   ],
   "source": [
    "file.read(17)"
   ]
  },
  {
   "cell_type": "code",
   "execution_count": 98,
   "id": "ce2be6be-86c8-47e2-ae2d-c1970b0f23f3",
   "metadata": {},
   "outputs": [
    {
     "data": {
      "text/plain": [
       "' hyderabad\\nmy husband name is sivasankar'"
      ]
     },
     "execution_count": 98,
     "metadata": {},
     "output_type": "execute_result"
    }
   ],
   "source": [
    "file.read()"
   ]
  },
  {
   "cell_type": "code",
   "execution_count": 103,
   "id": "4d1213a3-2cdc-410b-a4a2-3e1b75bbd197",
   "metadata": {},
   "outputs": [
    {
     "data": {
      "text/plain": [
       "\"'Hello Everyone....currently i am learning data analysis\\nI am jahnavi from hyderabad\\nmy husband name is sivasankar\""
      ]
     },
     "execution_count": 103,
     "metadata": {},
     "output_type": "execute_result"
    }
   ],
   "source": [
    "file.seek(0) #It shifts the pointer/cursor position to given index\n",
    "file.read()"
   ]
  },
  {
   "cell_type": "markdown",
   "id": "fec8d505-d396-4488-beb2-d7392c43ab51",
   "metadata": {},
   "source": [
    "#### Writing the File"
   ]
  },
  {
   "cell_type": "markdown",
   "id": "f82b0c83-9798-4d1d-b45b-c1f46c9cad73",
   "metadata": {},
   "source": [
    "*w - writing the data to the file\n",
    "\n",
    "*need to close the file to make changes\n",
    "\n",
    "*It overrides the previous data(old data will be replaced with new data)\n",
    "\n",
    "*if the file is not available,it creates new file"
   ]
  },
  {
   "cell_type": "code",
   "execution_count": 104,
   "id": "c00e92af-6608-4468-9178-bf8883f07b3b",
   "metadata": {},
   "outputs": [],
   "source": [
    "file = open(r\"C:\\Users\\DELL\\OneDrive\\Desktop\\jahnavi285.txt\",mode = 'w')"
   ]
  },
  {
   "cell_type": "code",
   "execution_count": 105,
   "id": "48d77b8e-1464-47e9-94f5-f8d712a4cbf9",
   "metadata": {},
   "outputs": [
    {
     "data": {
      "text/plain": [
       "52"
      ]
     },
     "execution_count": 105,
     "metadata": {},
     "output_type": "execute_result"
    }
   ],
   "source": [
    "file.write(\"we are data scientists from innomatics research labs\")"
   ]
  },
  {
   "cell_type": "code",
   "execution_count": 106,
   "id": "bdc02ea0-89c4-4d58-badd-81a57be0f069",
   "metadata": {},
   "outputs": [],
   "source": [
    "file.close()"
   ]
  },
  {
   "cell_type": "code",
   "execution_count": 107,
   "id": "12f86ff2-2667-46b2-b229-a534a69ed9fc",
   "metadata": {},
   "outputs": [],
   "source": [
    "file = open(r\"C:\\Users\\DELL\\OneDrive\\Desktop\\jahnavi285.txt\",mode = 'w')\n",
    "file.write(\"we are from Hyderabad\")\n",
    "file.close()"
   ]
  },
  {
   "cell_type": "code",
   "execution_count": 110,
   "id": "a60da904-2675-40a2-8ab0-1d455fb2c379",
   "metadata": {},
   "outputs": [],
   "source": [
    "file = open(r\"C:\\Users\\DELL\\OneDrive\\Desktop\\jahnavi285.txt\",mode = 'w')\n",
    "file.writelines([\"I am python developer\\n\",\"I am data analyst\\n\",\"I am data scientist\\n\"])\n",
    "file.close()"
   ]
  },
  {
   "cell_type": "code",
   "execution_count": 3,
   "id": "fb416657-cd7c-4733-82e2-3abab66ec27f",
   "metadata": {},
   "outputs": [],
   "source": [
    "file = open(\"python.txt\", mode = 'w')"
   ]
  },
  {
   "cell_type": "code",
   "execution_count": 4,
   "id": "470a14f1-4520-4cf9-8f75-ad797c93388b",
   "metadata": {},
   "outputs": [],
   "source": [
    "file.writelines([\"I am jahnavi\\n\",\"I am from lingampally\\n\",\"I am interested on data analytics\"])\n",
    "file.close()"
   ]
  },
  {
   "cell_type": "markdown",
   "id": "c0ee5e37-daae-4b6f-b1db-5d9315d41aa0",
   "metadata": {},
   "source": [
    "### Appending the Data"
   ]
  },
  {
   "cell_type": "markdown",
   "id": "3537ce80-3822-4282-95c2-0feb7ad0f426",
   "metadata": {},
   "source": [
    "####\n",
    "* past data + new data\n",
    "* It will not override the data\n",
    "* if the file is not available,it will creates new file\n"
   ]
  },
  {
   "cell_type": "code",
   "execution_count": 2,
   "id": "65a7af93-c703-469a-878d-b3824a04d9f0",
   "metadata": {},
   "outputs": [],
   "source": [
    "file = open(\"jahnavi285.txt\")"
   ]
  },
  {
   "cell_type": "code",
   "execution_count": 5,
   "id": "3d092cfb-b7e2-49f4-ac4b-b51810a20408",
   "metadata": {},
   "outputs": [],
   "source": [
    "file = open(\"python.txt\",mode = 'a')"
   ]
  },
  {
   "cell_type": "code",
   "execution_count": 6,
   "id": "9d8db4f5-821d-4b4d-83ea-8175b75c2123",
   "metadata": {},
   "outputs": [],
   "source": [
    "file.writelines(['\\n python is dynamic programming language','\\n python is case sensitive language'])\n",
    "file.close()"
   ]
  },
  {
   "cell_type": "code",
   "execution_count": 7,
   "id": "65c0c724-aefd-465a-b317-e1ec4607f107",
   "metadata": {},
   "outputs": [],
   "source": [
    "file = open(\"innom.txt\", mode = 'a')"
   ]
  },
  {
   "cell_type": "markdown",
   "id": "a515b78e-419b-4797-abf3-1125d8ca317f",
   "metadata": {},
   "source": [
    "#### Multi Operations"
   ]
  },
  {
   "cell_type": "markdown",
   "id": "3aa82fb7-3bbd-426d-bc7e-e3754c6db90d",
   "metadata": {},
   "source": [
    "r+ -Read and write\n",
    "\n",
    "w+ -write and read\n",
    "\n",
    "a+ -Append and read"
   ]
  },
  {
   "cell_type": "markdown",
   "id": "4cb9774d-f476-40d5-ba8b-4029db0d30ac",
   "metadata": {},
   "source": [
    "### r+"
   ]
  },
  {
   "cell_type": "code",
   "execution_count": 10,
   "id": "e2b9a84e-842c-42e9-96b0-95cecfad7115",
   "metadata": {},
   "outputs": [
    {
     "name": "stdout",
     "output_type": "stream",
     "text": [
      "I am jahnavi\n",
      "I am from lingampally\n",
      "I am interested on data analytics\n",
      " python is dynamic programming language\n",
      " python is case sensitive languageHello World\n"
     ]
    }
   ],
   "source": [
    "file = open(\"python.txt\",mode = 'r+')\n",
    "print(file.read())\n",
    "file.write(' Hello World')\n",
    "file.close()"
   ]
  },
  {
   "cell_type": "code",
   "execution_count": 11,
   "id": "59113d26-b46e-4cdc-922a-e0af52573608",
   "metadata": {},
   "outputs": [
    {
     "name": "stdout",
     "output_type": "stream",
     "text": [
      "I am jahnavi\n",
      "I am from lingampally\n",
      "I am interested on data analytics\n",
      " python is dynamic programming language\n",
      " python is case sensitive languageHello World Hello World\n"
     ]
    }
   ],
   "source": [
    "file = open(\"python.txt\",mode = 'r')\n",
    "print(file.read())"
   ]
  },
  {
   "cell_type": "markdown",
   "id": "cdf371ac-79fd-4e96-a204-ebcd58aaef86",
   "metadata": {},
   "source": [
    "### w+"
   ]
  },
  {
   "cell_type": "code",
   "execution_count": 12,
   "id": "5c40acf3-d54b-4bde-8401-103704f30bad",
   "metadata": {},
   "outputs": [
    {
     "name": "stdout",
     "output_type": "stream",
     "text": [
      " Hello World\n"
     ]
    }
   ],
   "source": [
    "file = open(\"python.txt\",mode = 'w+')\n",
    "file.write(' Hello World')\n",
    "file.seek(0)\n",
    "print(file.read())\n",
    "file.close()"
   ]
  },
  {
   "cell_type": "markdown",
   "id": "8b95f3a9-6baf-47a9-987e-da01ac07a2ba",
   "metadata": {},
   "source": [
    "### a+"
   ]
  },
  {
   "cell_type": "code",
   "execution_count": 13,
   "id": "30f1a94d-e1b3-402f-bd63-688e73edf29f",
   "metadata": {},
   "outputs": [
    {
     "name": "stdout",
     "output_type": "stream",
     "text": [
      " Hello World Hello World\n"
     ]
    }
   ],
   "source": [
    "file = open(\"python.txt\",mode = 'a+')\n",
    "file.write(' Hello World')\n",
    "file.seek(0)\n",
    "print(file.read())\n",
    "file.close()"
   ]
  },
  {
   "cell_type": "markdown",
   "id": "981504d5-c076-489d-bb20-c9921e5ccdb6",
   "metadata": {},
   "source": [
    "## Creating a File"
   ]
  },
  {
   "cell_type": "code",
   "execution_count": 16,
   "id": "8aa8850d-1777-4321-9178-5bb687f130d8",
   "metadata": {},
   "outputs": [
    {
     "data": {
      "text/plain": [
       "<_io.TextIOWrapper name='data science.txt' mode='x' encoding='cp1252'>"
      ]
     },
     "execution_count": 16,
     "metadata": {},
     "output_type": "execute_result"
    }
   ],
   "source": [
    "open('data science.txt',mode = 'x')"
   ]
  },
  {
   "cell_type": "code",
   "execution_count": 17,
   "id": "dd2c113c-d9a9-4879-bc93-fbd9652746d8",
   "metadata": {},
   "outputs": [
    {
     "data": {
      "text/plain": [
       "<_io.TextIOWrapper name='data science.txt' mode='w' encoding='cp1252'>"
      ]
     },
     "execution_count": 17,
     "metadata": {},
     "output_type": "execute_result"
    }
   ],
   "source": [
    "open('data science.txt',mode = 'w')"
   ]
  },
  {
   "cell_type": "code",
   "execution_count": 18,
   "id": "15a53739-a96a-4771-9d3f-ed71cbbd208c",
   "metadata": {},
   "outputs": [
    {
     "data": {
      "text/plain": [
       "<_io.TextIOWrapper name='data science.txt' mode='a' encoding='cp1252'>"
      ]
     },
     "execution_count": 18,
     "metadata": {},
     "output_type": "execute_result"
    }
   ],
   "source": [
    "open('data science.txt',mode = 'a')"
   ]
  },
  {
   "cell_type": "markdown",
   "id": "1a42024a-93f8-455e-a004-dcdbbf66ca05",
   "metadata": {},
   "source": [
    "## Binary File"
   ]
  },
  {
   "cell_type": "code",
   "execution_count": 15,
   "id": "233badbd-87b7-4bec-b7a7-d5cf32abc7f5",
   "metadata": {},
   "outputs": [
    {
     "data": {
      "text/plain": [
       "b'Hello this is a binary data'"
      ]
     },
     "execution_count": 15,
     "metadata": {},
     "output_type": "execute_result"
    }
   ],
   "source": [
    "file = open(r\"C:\\Users\\DELL\\binary.bin.txt\", mode = 'rb')\n",
    "file.read()"
   ]
  },
  {
   "cell_type": "markdown",
   "id": "ab92d888-8c4c-4686-ada8-1937b138b101",
   "metadata": {},
   "source": [
    "## File Attributes"
   ]
  },
  {
   "cell_type": "code",
   "execution_count": 19,
   "id": "eb14d306-9290-47a0-b893-176951f30135",
   "metadata": {},
   "outputs": [
    {
     "name": "stdout",
     "output_type": "stream",
     "text": [
      " Hello World Hello World\n"
     ]
    }
   ],
   "source": [
    "file = open(\"python.txt\",mode = 'r')\n",
    "print(file.read())"
   ]
  },
  {
   "cell_type": "code",
   "execution_count": 21,
   "id": "25805996-4cbc-41b2-a48d-9e3ac44a2ac5",
   "metadata": {},
   "outputs": [
    {
     "data": {
      "text/plain": [
       "False"
      ]
     },
     "execution_count": 21,
     "metadata": {},
     "output_type": "execute_result"
    }
   ],
   "source": [
    "file.closed  #whether the file is close or not"
   ]
  },
  {
   "cell_type": "code",
   "execution_count": 22,
   "id": "381e4243-07b7-43ed-a32b-41284631e7df",
   "metadata": {},
   "outputs": [
    {
     "name": "stdout",
     "output_type": "stream",
     "text": [
      " Hello World Hello World\n"
     ]
    }
   ],
   "source": [
    "file = open(\"python.txt\",mode = 'r')\n",
    "print(file.read())\n",
    "file.close()"
   ]
  },
  {
   "cell_type": "code",
   "execution_count": 23,
   "id": "30a58b27-09e7-460b-82dd-2c8df2bc5365",
   "metadata": {},
   "outputs": [
    {
     "data": {
      "text/plain": [
       "True"
      ]
     },
     "execution_count": 23,
     "metadata": {},
     "output_type": "execute_result"
    }
   ],
   "source": [
    "file.closed"
   ]
  },
  {
   "cell_type": "code",
   "execution_count": 25,
   "id": "08e12bbe-e36c-42cf-b8dd-d22d2419adcb",
   "metadata": {},
   "outputs": [
    {
     "data": {
      "text/plain": [
       "'r'"
      ]
     },
     "execution_count": 25,
     "metadata": {},
     "output_type": "execute_result"
    }
   ],
   "source": [
    "file.mode   #the file mode"
   ]
  },
  {
   "cell_type": "code",
   "execution_count": 28,
   "id": "1d197405-e95d-4c8a-b04c-3fc52102afa1",
   "metadata": {},
   "outputs": [
    {
     "name": "stdout",
     "output_type": "stream",
     "text": [
      " Hello World Hello World\n"
     ]
    }
   ],
   "source": [
    "file = open(\"python.txt\",mode = 'r')\n",
    "print(file.read())"
   ]
  },
  {
   "cell_type": "code",
   "execution_count": 29,
   "id": "c4cc7baf-93a2-4f49-bdb4-9cce34b7f2da",
   "metadata": {},
   "outputs": [
    {
     "data": {
      "text/plain": [
       "True"
      ]
     },
     "execution_count": 29,
     "metadata": {},
     "output_type": "execute_result"
    }
   ],
   "source": [
    "file.readable()  #whether the file is readable or not"
   ]
  },
  {
   "cell_type": "code",
   "execution_count": 30,
   "id": "5faf7687-aa9e-42bb-8583-113fba147099",
   "metadata": {},
   "outputs": [
    {
     "data": {
      "text/plain": [
       "True"
      ]
     },
     "execution_count": 30,
     "metadata": {},
     "output_type": "execute_result"
    }
   ],
   "source": [
    "file.seekable()"
   ]
  },
  {
   "cell_type": "code",
   "execution_count": 31,
   "id": "beacad13-7d43-4012-9567-f3bc066a6a74",
   "metadata": {},
   "outputs": [
    {
     "data": {
      "text/plain": [
       "False"
      ]
     },
     "execution_count": 31,
     "metadata": {},
     "output_type": "execute_result"
    }
   ],
   "source": [
    "file.writable()"
   ]
  },
  {
   "cell_type": "code",
   "execution_count": 32,
   "id": "e7cbbd50-8da9-4d32-aaf4-1c7c38eb7115",
   "metadata": {},
   "outputs": [
    {
     "data": {
      "text/plain": [
       "'python.txt'"
      ]
     },
     "execution_count": 32,
     "metadata": {},
     "output_type": "execute_result"
    }
   ],
   "source": [
    "file.name"
   ]
  },
  {
   "cell_type": "markdown",
   "id": "4bc71759-ad8a-45d8-83c5-9798434b641f",
   "metadata": {},
   "source": [
    "## Context Manager"
   ]
  },
  {
   "cell_type": "code",
   "execution_count": 33,
   "id": "4d6a7061-3134-486d-9f41-4d8ee843b57e",
   "metadata": {},
   "outputs": [],
   "source": [
    "file = open('context.txt',mode = 'w')\n",
    "file.write(\"I am learning context manager\")\n",
    "file.close()"
   ]
  },
  {
   "cell_type": "markdown",
   "id": "a8a45d9b-e888-4477-be0c-c738ff2b1740",
   "metadata": {},
   "source": [
    "with open(filename/file path,mode) as File:\n",
    "\n",
    "    file.read()\n",
    "    file.write()"
   ]
  },
  {
   "cell_type": "code",
   "execution_count": 34,
   "id": "b5ffd689-b6fc-4e67-9373-f1208e0ec869",
   "metadata": {},
   "outputs": [],
   "source": [
    "with open('manager.txt',mode = 'w') as file:\n",
    "    file.write(\"Hello World I am data scientist\")"
   ]
  },
  {
   "cell_type": "code",
   "execution_count": 35,
   "id": "8b9857a4-43e7-408f-a134-a2b2d8752fe6",
   "metadata": {},
   "outputs": [],
   "source": [
    "with open('manager.txt',mode = 'a+') as file:\n",
    "    file.write(\"\\nI am data scientist too\")"
   ]
  },
  {
   "cell_type": "code",
   "execution_count": null,
   "id": "689b3923-b39b-4e8c-bdeb-c86ee0b199ce",
   "metadata": {},
   "outputs": [],
   "source": []
  }
 ],
 "metadata": {
  "kernelspec": {
   "display_name": "Python 3 (ipykernel)",
   "language": "python",
   "name": "python3"
  },
  "language_info": {
   "codemirror_mode": {
    "name": "ipython",
    "version": 3
   },
   "file_extension": ".py",
   "mimetype": "text/x-python",
   "name": "python",
   "nbconvert_exporter": "python",
   "pygments_lexer": "ipython3",
   "version": "3.11.7"
  }
 },
 "nbformat": 4,
 "nbformat_minor": 5
}
