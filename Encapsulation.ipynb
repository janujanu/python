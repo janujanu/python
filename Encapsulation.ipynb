{
 "cells": [
  {
   "cell_type": "code",
   "execution_count": 2,
   "id": "21dddeeb-4faa-4779-83c0-ccb7d49f1726",
   "metadata": {},
   "outputs": [],
   "source": [
    "class admin:\n",
    "    password = 'Innomatics@1234'\n",
    "\n",
    "    def method(self):\n",
    "        self.password = password\n",
    "        print(self.password)\n",
    "\n",
    "\n",
    "class user(admin):\n",
    "    def method1(self):\n",
    "        print(self.password)"
   ]
  },
  {
   "cell_type": "code",
   "execution_count": 3,
   "id": "4f04c3e6-b667-42ee-8a85-e33e9e6e96e5",
   "metadata": {},
   "outputs": [],
   "source": [
    "ad = admin()"
   ]
  },
  {
   "cell_type": "code",
   "execution_count": 4,
   "id": "f247d512-e6ce-4d5d-95ca-831a7c4e29e9",
   "metadata": {},
   "outputs": [
    {
     "data": {
      "text/plain": [
       "'Innomatics@1234'"
      ]
     },
     "execution_count": 4,
     "metadata": {},
     "output_type": "execute_result"
    }
   ],
   "source": [
    "ad.password"
   ]
  },
  {
   "cell_type": "code",
   "execution_count": 5,
   "id": "9f62fa93-48f3-498a-adc8-7a68eded755b",
   "metadata": {},
   "outputs": [],
   "source": [
    "user = user()"
   ]
  },
  {
   "cell_type": "code",
   "execution_count": 6,
   "id": "08638dd0-f98d-4379-a821-fb734b3ca932",
   "metadata": {},
   "outputs": [
    {
     "data": {
      "text/plain": [
       "'Innomatics@1234'"
      ]
     },
     "execution_count": 6,
     "metadata": {},
     "output_type": "execute_result"
    }
   ],
   "source": [
    "user.password"
   ]
  },
  {
   "cell_type": "markdown",
   "id": "e1ef7291-9a85-4924-8eb3-6f2bcd23ddf7",
   "metadata": {},
   "source": [
    "### protected Access Modifier"
   ]
  },
  {
   "cell_type": "code",
   "execution_count": 7,
   "id": "6cc985ee-336f-4a65-a994-3548500c110a",
   "metadata": {},
   "outputs": [],
   "source": [
    "class admin:\n",
    "    _password = 'Innomatics@1234'\n",
    "\n",
    "    def method(self):\n",
    "        self._password = _password\n",
    "        print(self._password)\n",
    "\n",
    "\n",
    "class user(admin):\n",
    "    def method1(self):\n",
    "        print(self._password)"
   ]
  },
  {
   "cell_type": "code",
   "execution_count": 8,
   "id": "caf61559-1601-4716-a971-87edb808e1a3",
   "metadata": {},
   "outputs": [],
   "source": [
    "ad = admin()"
   ]
  },
  {
   "cell_type": "code",
   "execution_count": 10,
   "id": "e04a445b-f867-4e25-937e-aab3375ad3ee",
   "metadata": {},
   "outputs": [
    {
     "data": {
      "text/plain": [
       "'Innomatics@1234'"
      ]
     },
     "execution_count": 10,
     "metadata": {},
     "output_type": "execute_result"
    }
   ],
   "source": [
    "ad._password"
   ]
  },
  {
   "cell_type": "code",
   "execution_count": 11,
   "id": "6959916b-f806-4277-a32d-33ddfc5aa90c",
   "metadata": {},
   "outputs": [],
   "source": [
    "us = user()"
   ]
  },
  {
   "cell_type": "code",
   "execution_count": 12,
   "id": "c2c0d7ae-1c8b-451e-87dd-afa2a56d7e67",
   "metadata": {},
   "outputs": [
    {
     "data": {
      "text/plain": [
       "'Innomatics@1234'"
      ]
     },
     "execution_count": 12,
     "metadata": {},
     "output_type": "execute_result"
    }
   ],
   "source": [
    "us._password"
   ]
  },
  {
   "cell_type": "markdown",
   "id": "20d7550c-9027-4ae2-824e-3b990417f064",
   "metadata": {},
   "source": [
    "### private access modifiers"
   ]
  },
  {
   "cell_type": "code",
   "execution_count": 13,
   "id": "1a7b67dc-e04c-4852-98fa-2470f9f5dec3",
   "metadata": {},
   "outputs": [],
   "source": [
    "class admin:\n",
    "    __password = 'Innomatics@1234'\n",
    "\n",
    "    def method(self):\n",
    "        self.__password = __password\n",
    "        print(self.__password)\n",
    "\n",
    "\n",
    "class user(admin):\n",
    "    def method1(self):\n",
    "        print(self.__password)"
   ]
  },
  {
   "cell_type": "code",
   "execution_count": 14,
   "id": "a3f3ead3-f672-45a0-bbae-afc8e6c9ae6a",
   "metadata": {},
   "outputs": [],
   "source": [
    "a = admin()"
   ]
  },
  {
   "cell_type": "code",
   "execution_count": 15,
   "id": "06795ffd-b8aa-4cda-8644-355862595523",
   "metadata": {},
   "outputs": [
    {
     "ename": "AttributeError",
     "evalue": "'admin' object has no attribute '__password'",
     "output_type": "error",
     "traceback": [
      "\u001b[1;31m---------------------------------------------------------------------------\u001b[0m",
      "\u001b[1;31mAttributeError\u001b[0m                            Traceback (most recent call last)",
      "Cell \u001b[1;32mIn[15], line 1\u001b[0m\n\u001b[1;32m----> 1\u001b[0m a\u001b[38;5;241m.\u001b[39m__password\n",
      "\u001b[1;31mAttributeError\u001b[0m: 'admin' object has no attribute '__password'"
     ]
    }
   ],
   "source": [
    "a.__password"
   ]
  },
  {
   "cell_type": "markdown",
   "id": "e307b540-cf96-4e5a-ba9c-5d25182f130a",
   "metadata": {},
   "source": [
    "### Hiding the Bank Data"
   ]
  },
  {
   "cell_type": "code",
   "execution_count": 20,
   "id": "087b217e-776f-4cf2-bc92-a6af5879ebaf",
   "metadata": {},
   "outputs": [],
   "source": [
    "class bank_server:\n",
    "    ATM_cash = 2000000\n",
    "\n",
    "    def atm_cash(self):\n",
    "        self.atm = ATM_cash\n",
    "        print(self.atm)\n",
    "\n",
    "\n",
    "class Customer(bank_server):\n",
    "    balance = 20000\n",
    "\n",
    "    def bank_bal(self):\n",
    "        self.balance = balance\n",
    "        print(self.balance)"
   ]
  },
  {
   "cell_type": "code",
   "execution_count": 21,
   "id": "4d3a6771-710b-41a4-83b9-6af8ddca04cd",
   "metadata": {},
   "outputs": [],
   "source": [
    "b = bank_server()"
   ]
  },
  {
   "cell_type": "code",
   "execution_count": 22,
   "id": "557bf5fd-27c4-44a5-a23e-ba69b37347ee",
   "metadata": {},
   "outputs": [
    {
     "data": {
      "text/plain": [
       "2000000"
      ]
     },
     "execution_count": 22,
     "metadata": {},
     "output_type": "execute_result"
    }
   ],
   "source": [
    "b.ATM_cash"
   ]
  },
  {
   "cell_type": "code",
   "execution_count": 23,
   "id": "7888734d-5768-44b4-a431-2194af43efb7",
   "metadata": {},
   "outputs": [],
   "source": [
    "c = Customer()"
   ]
  },
  {
   "cell_type": "code",
   "execution_count": 24,
   "id": "18ba9e11-2044-4413-832a-a71c5059babb",
   "metadata": {},
   "outputs": [
    {
     "data": {
      "text/plain": [
       "2000000"
      ]
     },
     "execution_count": 24,
     "metadata": {},
     "output_type": "execute_result"
    }
   ],
   "source": [
    "c.ATM_cash"
   ]
  },
  {
   "cell_type": "code",
   "execution_count": 25,
   "id": "63b4b4d5-b0f0-40ec-8a69-0665491c32ba",
   "metadata": {},
   "outputs": [],
   "source": [
    "class bank_server:\n",
    "    __ATM_cash = 2000000\n",
    "\n",
    "    def atm_cash(self):\n",
    "        self.atm = ATM_cash\n",
    "        print(self.atm)\n",
    "\n",
    "\n",
    "class Customer(bank_server):\n",
    "    balance = 20000\n",
    "\n",
    "    def bank_bal(self):\n",
    "        self.balance = balance\n",
    "        print(self.balance)"
   ]
  },
  {
   "cell_type": "code",
   "execution_count": 26,
   "id": "28443a6c-d8d8-4c75-9c6b-6100bcf6fb8c",
   "metadata": {},
   "outputs": [],
   "source": [
    "b = bank_server()"
   ]
  },
  {
   "cell_type": "code",
   "execution_count": 27,
   "id": "ba04b0cc-06fd-4cf7-8942-8d16f0eecfba",
   "metadata": {},
   "outputs": [
    {
     "ename": "AttributeError",
     "evalue": "'bank_server' object has no attribute 'ATM_cash'",
     "output_type": "error",
     "traceback": [
      "\u001b[1;31m---------------------------------------------------------------------------\u001b[0m",
      "\u001b[1;31mAttributeError\u001b[0m                            Traceback (most recent call last)",
      "Cell \u001b[1;32mIn[27], line 1\u001b[0m\n\u001b[1;32m----> 1\u001b[0m b\u001b[38;5;241m.\u001b[39mATM_cash\n",
      "\u001b[1;31mAttributeError\u001b[0m: 'bank_server' object has no attribute 'ATM_cash'"
     ]
    }
   ],
   "source": [
    "b.ATM_cash"
   ]
  },
  {
   "cell_type": "code",
   "execution_count": 30,
   "id": "7c2bce1c-ca47-4e60-b2ed-c47c410ade8b",
   "metadata": {},
   "outputs": [
    {
     "data": {
      "text/plain": [
       "20000"
      ]
     },
     "execution_count": 30,
     "metadata": {},
     "output_type": "execute_result"
    }
   ],
   "source": [
    "c.balance"
   ]
  },
  {
   "cell_type": "markdown",
   "id": "29abaccc-f6c5-47cc-bc32-b0f35ccaf734",
   "metadata": {},
   "source": [
    "### Name Mangling"
   ]
  },
  {
   "cell_type": "code",
   "execution_count": 31,
   "id": "96d40744-712f-432b-bc3e-8aae7ab64051",
   "metadata": {},
   "outputs": [],
   "source": [
    "class example:\n",
    "    _a = 20\n",
    "    __b = 40\n",
    "    ___c = 50\n",
    "    ___d_= 60\n",
    "    _e_ = 70\n",
    "    __f__=45\n",
    "    _g = 100"
   ]
  },
  {
   "cell_type": "code",
   "execution_count": 32,
   "id": "fd2eb2af-7f9d-4863-8c49-7dc8cad5ed83",
   "metadata": {},
   "outputs": [
    {
     "data": {
      "text/plain": [
       "['__class__',\n",
       " '__delattr__',\n",
       " '__dict__',\n",
       " '__dir__',\n",
       " '__doc__',\n",
       " '__eq__',\n",
       " '__f__',\n",
       " '__format__',\n",
       " '__ge__',\n",
       " '__getattribute__',\n",
       " '__getstate__',\n",
       " '__gt__',\n",
       " '__hash__',\n",
       " '__init__',\n",
       " '__init_subclass__',\n",
       " '__le__',\n",
       " '__lt__',\n",
       " '__module__',\n",
       " '__ne__',\n",
       " '__new__',\n",
       " '__reduce__',\n",
       " '__reduce_ex__',\n",
       " '__repr__',\n",
       " '__setattr__',\n",
       " '__sizeof__',\n",
       " '__str__',\n",
       " '__subclasshook__',\n",
       " '__weakref__',\n",
       " '_a',\n",
       " '_e_',\n",
       " '_example___c',\n",
       " '_example___d_',\n",
       " '_example__b',\n",
       " '_g']"
      ]
     },
     "execution_count": 32,
     "metadata": {},
     "output_type": "execute_result"
    }
   ],
   "source": [
    "dir(example)"
   ]
  },
  {
   "cell_type": "markdown",
   "id": "600db8f0-9533-46e1-8ce0-7ce508513424",
   "metadata": {},
   "source": [
    "## Abstraction"
   ]
  },
  {
   "cell_type": "code",
   "execution_count": 35,
   "id": "956d83c1-046f-49d0-9437-bf22802ab3d0",
   "metadata": {},
   "outputs": [],
   "source": [
    "from abc import ABC,abstractmethod"
   ]
  },
  {
   "cell_type": "code",
   "execution_count": 37,
   "id": "29c89677-ee9a-459f-91bc-5b99f2e7a574",
   "metadata": {},
   "outputs": [],
   "source": [
    "class bank_server(ABC):\n",
    "    ATM_cash = 2000000\n",
    "\n",
    "    @abstractmethod\n",
    "    def cash_transfer(self):\n",
    "        print(\"The cash is transferring from account to account\")\n",
    "\n",
    "    @abstractmethod\n",
    "    def cash_deposit(self):\n",
    "        print(\"The cash is getting deposited in the server\")\n",
    "\n",
    "\n",
    "class Customer(bank_server):\n",
    "    balance = 20000\n",
    "\n",
    "    def bank_bal(self):\n",
    "        self.balance = balance\n",
    "        print(self.balance)"
   ]
  },
  {
   "cell_type": "code",
   "execution_count": 38,
   "id": "76d2e969-734c-4a10-a550-048f603fcba9",
   "metadata": {},
   "outputs": [
    {
     "ename": "TypeError",
     "evalue": "Can't instantiate abstract class Customer with abstract methods cash_deposit, cash_transfer",
     "output_type": "error",
     "traceback": [
      "\u001b[1;31m---------------------------------------------------------------------------\u001b[0m",
      "\u001b[1;31mTypeError\u001b[0m                                 Traceback (most recent call last)",
      "Cell \u001b[1;32mIn[38], line 1\u001b[0m\n\u001b[1;32m----> 1\u001b[0m c \u001b[38;5;241m=\u001b[39m Customer()\n",
      "\u001b[1;31mTypeError\u001b[0m: Can't instantiate abstract class Customer with abstract methods cash_deposit, cash_transfer"
     ]
    }
   ],
   "source": [
    "c = Customer()"
   ]
  },
  {
   "cell_type": "code",
   "execution_count": null,
   "id": "ade2b0b0-391d-460f-bdd1-04749e77680d",
   "metadata": {},
   "outputs": [],
   "source": []
  }
 ],
 "metadata": {
  "kernelspec": {
   "display_name": "Python 3 (ipykernel)",
   "language": "python",
   "name": "python3"
  },
  "language_info": {
   "codemirror_mode": {
    "name": "ipython",
    "version": 3
   },
   "file_extension": ".py",
   "mimetype": "text/x-python",
   "name": "python",
   "nbconvert_exporter": "python",
   "pygments_lexer": "ipython3",
   "version": "3.11.7"
  }
 },
 "nbformat": 4,
 "nbformat_minor": 5
}
