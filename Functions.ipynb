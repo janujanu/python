{
 "cells": [
  {
   "cell_type": "markdown",
   "id": "0b48a192-8459-4517-8289-046ac5b3e0dc",
   "metadata": {},
   "source": [
    "### Creating the Function"
   ]
  },
  {
   "cell_type": "code",
   "execution_count": 1,
   "id": "4653feaa-bacb-466c-804f-539dbb85f7f3",
   "metadata": {},
   "outputs": [],
   "source": [
    "def add(a,b):\n",
    "    '''This function takes two inputs and performs the addition'''\n",
    "    print(a+b)"
   ]
  },
  {
   "cell_type": "markdown",
   "id": "bca6f66c-a897-4a5e-858a-a7339d0c6dcd",
   "metadata": {},
   "source": [
    "### Calling the Function"
   ]
  },
  {
   "cell_type": "code",
   "execution_count": 2,
   "id": "a8a99bd6-039e-4608-95c3-9b990b375487",
   "metadata": {},
   "outputs": [
    {
     "name": "stdout",
     "output_type": "stream",
     "text": [
      "9\n"
     ]
    }
   ],
   "source": [
    "add(4,5)"
   ]
  },
  {
   "cell_type": "code",
   "execution_count": 3,
   "id": "2b128bf6-6d7a-46d9-b570-4a71d5ca0ef8",
   "metadata": {},
   "outputs": [
    {
     "name": "stdout",
     "output_type": "stream",
     "text": [
      "99\n"
     ]
    }
   ],
   "source": [
    "add(9,90)"
   ]
  },
  {
   "cell_type": "code",
   "execution_count": 4,
   "id": "819e7dc9-389a-4760-9126-22b77b9cd59f",
   "metadata": {},
   "outputs": [
    {
     "name": "stdout",
     "output_type": "stream",
     "text": [
      "30\n"
     ]
    }
   ],
   "source": [
    "add(10,20)"
   ]
  },
  {
   "cell_type": "code",
   "execution_count": 5,
   "id": "9ff7b303-64fa-44af-a3b4-9a4e3bd428f7",
   "metadata": {},
   "outputs": [
    {
     "name": "stdout",
     "output_type": "stream",
     "text": [
      "-30\n"
     ]
    }
   ],
   "source": [
    "add(-10,-20)"
   ]
  },
  {
   "cell_type": "code",
   "execution_count": 8,
   "id": "3c62bd7e-3b64-4142-a431-7b1edd8e2a41",
   "metadata": {},
   "outputs": [],
   "source": [
    "def addition(a,b):\n",
    "     '''This function takes two inputs and performs the addition'''\n",
    "     return a+b"
   ]
  },
  {
   "cell_type": "code",
   "execution_count": 9,
   "id": "09e1e13c-8fcd-4581-b829-6a500f81e9f0",
   "metadata": {},
   "outputs": [
    {
     "data": {
      "text/plain": [
       "55"
      ]
     },
     "execution_count": 9,
     "metadata": {},
     "output_type": "execute_result"
    }
   ],
   "source": [
    "addition(10,45)"
   ]
  },
  {
   "cell_type": "code",
   "execution_count": 10,
   "id": "7359d631-868d-442b-b095-730874d10710",
   "metadata": {},
   "outputs": [
    {
     "data": {
      "text/plain": [
       "30"
      ]
     },
     "execution_count": 10,
     "metadata": {},
     "output_type": "execute_result"
    }
   ],
   "source": [
    "addition(10,20)"
   ]
  },
  {
   "cell_type": "code",
   "execution_count": 11,
   "id": "6e4894e4-b170-4cb8-ad64-c3d762da6721",
   "metadata": {},
   "outputs": [
    {
     "name": "stdout",
     "output_type": "stream",
     "text": [
      "40\n"
     ]
    },
    {
     "ename": "TypeError",
     "evalue": "unsupported operand type(s) for +: 'NoneType' and 'int'",
     "output_type": "error",
     "traceback": [
      "\u001b[1;31m---------------------------------------------------------------------------\u001b[0m",
      "\u001b[1;31mTypeError\u001b[0m                                 Traceback (most recent call last)",
      "Cell \u001b[1;32mIn[11], line 1\u001b[0m\n\u001b[1;32m----> 1\u001b[0m add(\u001b[38;5;241m10\u001b[39m,\u001b[38;5;241m30\u001b[39m) \u001b[38;5;241m+\u001b[39m \u001b[38;5;241m30\u001b[39m\n",
      "\u001b[1;31mTypeError\u001b[0m: unsupported operand type(s) for +: 'NoneType' and 'int'"
     ]
    }
   ],
   "source": [
    "add(10,30) + 30"
   ]
  },
  {
   "cell_type": "code",
   "execution_count": 13,
   "id": "c1d70309-e5ed-49e3-99fb-d7a2b50e16a9",
   "metadata": {},
   "outputs": [
    {
     "name": "stdout",
     "output_type": "stream",
     "text": [
      "40\n"
     ]
    },
    {
     "data": {
      "text/plain": [
       "NoneType"
      ]
     },
     "execution_count": 13,
     "metadata": {},
     "output_type": "execute_result"
    }
   ],
   "source": [
    "type(add(10,30))"
   ]
  },
  {
   "cell_type": "code",
   "execution_count": 12,
   "id": "0f13b811-b60e-4047-b1e2-1b4de4e5b454",
   "metadata": {},
   "outputs": [
    {
     "data": {
      "text/plain": [
       "70"
      ]
     },
     "execution_count": 12,
     "metadata": {},
     "output_type": "execute_result"
    }
   ],
   "source": [
    "addition(10,30) + 30"
   ]
  },
  {
   "cell_type": "code",
   "execution_count": 14,
   "id": "a0bc7f2a-741a-435a-8498-da6a8eddba7c",
   "metadata": {},
   "outputs": [
    {
     "data": {
      "text/plain": [
       "int"
      ]
     },
     "execution_count": 14,
     "metadata": {},
     "output_type": "execute_result"
    }
   ],
   "source": [
    "type(addition(10,30))"
   ]
  },
  {
   "cell_type": "code",
   "execution_count": 16,
   "id": "eea28377-2a4b-4f25-8918-7d330600a987",
   "metadata": {},
   "outputs": [
    {
     "data": {
      "text/plain": [
       "35"
      ]
     },
     "execution_count": 16,
     "metadata": {},
     "output_type": "execute_result"
    }
   ],
   "source": [
    "def sub(a,b):\n",
    "     '''This function takes two inputs and performs the addition'''\n",
    "     return a-b\n",
    "sub(45,10)\n",
    "    "
   ]
  },
  {
   "cell_type": "code",
   "execution_count": 18,
   "id": "01b07825-4880-4744-8c89-d693d6750931",
   "metadata": {},
   "outputs": [
    {
     "data": {
      "text/plain": [
       "450"
      ]
     },
     "execution_count": 18,
     "metadata": {},
     "output_type": "execute_result"
    }
   ],
   "source": [
    "def multiplication(a,b):\n",
    "     '''This function takes two inputs and performs the addition'''\n",
    "     return a*b\n",
    "multiplication(45,10)\n",
    "    "
   ]
  },
  {
   "cell_type": "code",
   "execution_count": 19,
   "id": "f779d5ef-a5e3-4f22-9341-f3ebf180be41",
   "metadata": {},
   "outputs": [
    {
     "data": {
      "text/plain": [
       "5"
      ]
     },
     "execution_count": 19,
     "metadata": {},
     "output_type": "execute_result"
    }
   ],
   "source": [
    "def division(a,b):\n",
    "     '''This function takes two inputs and performs the addition'''\n",
    "     return a%b\n",
    "division(45,10)"
   ]
  },
  {
   "cell_type": "markdown",
   "id": "48c41d69-78fc-4469-9995-e9ef03e69406",
   "metadata": {},
   "source": [
    "## Types of Arguments"
   ]
  },
  {
   "cell_type": "markdown",
   "id": "b0ec648e-3239-4f50-b3ec-9a5ee8d1b0d8",
   "metadata": {},
   "source": [
    "### 1.Positional Arguments"
   ]
  },
  {
   "cell_type": "code",
   "execution_count": 20,
   "id": "c1320be2-8ed6-40c7-8e20-e476dc2bb4fe",
   "metadata": {},
   "outputs": [],
   "source": [
    "def sub(a,b):\n",
    "    print(a-b)"
   ]
  },
  {
   "cell_type": "code",
   "execution_count": 21,
   "id": "295de2ea-ffa9-461f-9fcc-702568937f1a",
   "metadata": {},
   "outputs": [
    {
     "name": "stdout",
     "output_type": "stream",
     "text": [
      "-10\n"
     ]
    }
   ],
   "source": [
    "sub(10,20)"
   ]
  },
  {
   "cell_type": "code",
   "execution_count": 22,
   "id": "907c658f-e5ad-4e89-bc5a-6fbda91b83f6",
   "metadata": {},
   "outputs": [
    {
     "name": "stdout",
     "output_type": "stream",
     "text": [
      "10\n"
     ]
    }
   ],
   "source": [
    "sub(20,10)"
   ]
  },
  {
   "cell_type": "code",
   "execution_count": 2,
   "id": "a292ec69-7459-4530-b21e-a7c512b16697",
   "metadata": {},
   "outputs": [],
   "source": [
    "def solve(a,b,c,d):\n",
    "    print(a+b-c+d)"
   ]
  },
  {
   "cell_type": "code",
   "execution_count": 3,
   "id": "8230945d-4500-4e50-9f0c-bdc4e48a755a",
   "metadata": {},
   "outputs": [
    {
     "name": "stdout",
     "output_type": "stream",
     "text": [
      "4\n",
      "18\n",
      "26\n"
     ]
    }
   ],
   "source": [
    "solve(1,2,3,4)\n",
    "solve(7,8,1,4)\n",
    "solve(10,15,2,3)"
   ]
  },
  {
   "cell_type": "code",
   "execution_count": 4,
   "id": "c4467838-7e88-4bfc-a219-5a8465c81289",
   "metadata": {},
   "outputs": [
    {
     "name": "stdout",
     "output_type": "stream",
     "text": [
      "1\n"
     ]
    }
   ],
   "source": [
    "solve(1,2,3,1)"
   ]
  },
  {
   "cell_type": "markdown",
   "id": "b87f842b-d921-4040-a30b-e0424ae00b81",
   "metadata": {},
   "source": [
    "### 2.Keyword Arguments"
   ]
  },
  {
   "cell_type": "code",
   "execution_count": 1,
   "id": "bb6b3421-8d08-449d-a247-322862f8631d",
   "metadata": {},
   "outputs": [
    {
     "name": "stdout",
     "output_type": "stream",
     "text": [
      "-1\n"
     ]
    }
   ],
   "source": [
    "def sub(x,y):\n",
    "    print(x-y)\n",
    "\n",
    "sub(4,5)"
   ]
  },
  {
   "cell_type": "code",
   "execution_count": 2,
   "id": "605d259d-875e-4fbe-aeaa-d5258bbc98a9",
   "metadata": {},
   "outputs": [
    {
     "name": "stdout",
     "output_type": "stream",
     "text": [
      "-1\n"
     ]
    }
   ],
   "source": [
    "def sub(x,y):\n",
    "    print(x-y)\n",
    "\n",
    "sub(y=5,x=4)"
   ]
  },
  {
   "cell_type": "code",
   "execution_count": 3,
   "id": "4959c62e-46da-471f-9d52-90a05a26e7ad",
   "metadata": {},
   "outputs": [
    {
     "name": "stdout",
     "output_type": "stream",
     "text": [
      "4\n"
     ]
    }
   ],
   "source": [
    "sub(x=124,y=120)"
   ]
  },
  {
   "cell_type": "code",
   "execution_count": 4,
   "id": "4a1b0ad3-586b-4b45-85aa-4bf48565b6c6",
   "metadata": {},
   "outputs": [
    {
     "name": "stdout",
     "output_type": "stream",
     "text": [
      "-1\n"
     ]
    }
   ],
   "source": [
    "sub(x=4,y=5)"
   ]
  },
  {
   "cell_type": "code",
   "execution_count": 5,
   "id": "bfe49f6b-8768-4756-8bce-8fbdf7898922",
   "metadata": {},
   "outputs": [
    {
     "name": "stdout",
     "output_type": "stream",
     "text": [
      "-4\n"
     ]
    }
   ],
   "source": [
    "sub(y=124,x=120)"
   ]
  },
  {
   "cell_type": "code",
   "execution_count": 6,
   "id": "67d6cb50-2e46-4daa-9d01-02a4f5c66c00",
   "metadata": {},
   "outputs": [
    {
     "name": "stdout",
     "output_type": "stream",
     "text": [
      "-4\n"
     ]
    }
   ],
   "source": [
    "sub(x=120,y=124)"
   ]
  },
  {
   "cell_type": "code",
   "execution_count": 7,
   "id": "83c732fb-d271-4279-9690-e410f27fbc10",
   "metadata": {},
   "outputs": [
    {
     "name": "stdout",
     "output_type": "stream",
     "text": [
      "4\n"
     ]
    }
   ],
   "source": [
    "sub(y=120,x=124)"
   ]
  },
  {
   "cell_type": "code",
   "execution_count": 8,
   "id": "4e841ab2-d097-44ef-b22c-8755ec8ad4f3",
   "metadata": {},
   "outputs": [],
   "source": [
    "def sub(x,y):\n",
    "    print(x-y)"
   ]
  },
  {
   "cell_type": "code",
   "execution_count": 9,
   "id": "16940765-c95b-436d-9784-c586ce355c86",
   "metadata": {},
   "outputs": [
    {
     "name": "stdout",
     "output_type": "stream",
     "text": [
      "-4\n"
     ]
    }
   ],
   "source": [
    "sub(3,7)  #positional Arguments"
   ]
  },
  {
   "cell_type": "code",
   "execution_count": 10,
   "id": "c4e46d30-d17c-41af-8bb1-4ce5d644387a",
   "metadata": {},
   "outputs": [
    {
     "name": "stdout",
     "output_type": "stream",
     "text": [
      "-6\n"
     ]
    }
   ],
   "source": [
    "sub(x = 4,y = 10)  #Keyword Arguments"
   ]
  },
  {
   "cell_type": "code",
   "execution_count": 11,
   "id": "b77e4221-2bf7-4ad9-9570-b909a0312bf7",
   "metadata": {},
   "outputs": [
    {
     "name": "stdout",
     "output_type": "stream",
     "text": [
      "-5\n"
     ]
    }
   ],
   "source": [
    "sub(10,y = 15)"
   ]
  },
  {
   "cell_type": "code",
   "execution_count": 12,
   "id": "6a5330db-1f52-4870-b968-31fc346e6655",
   "metadata": {},
   "outputs": [
    {
     "ename": "SyntaxError",
     "evalue": "positional argument follows keyword argument (766535025.py, line 1)",
     "output_type": "error",
     "traceback": [
      "\u001b[1;36m  Cell \u001b[1;32mIn[12], line 1\u001b[1;36m\u001b[0m\n\u001b[1;33m    sub(x = 15,5)\u001b[0m\n\u001b[1;37m                ^\u001b[0m\n\u001b[1;31mSyntaxError\u001b[0m\u001b[1;31m:\u001b[0m positional argument follows keyword argument\n"
     ]
    }
   ],
   "source": [
    "sub(x = 15,5)"
   ]
  },
  {
   "cell_type": "code",
   "execution_count": 13,
   "id": "db7e54d6-affa-47d5-af44-9a84bb1dc0b4",
   "metadata": {},
   "outputs": [
    {
     "name": "stdout",
     "output_type": "stream",
     "text": [
      "10\n"
     ]
    }
   ],
   "source": [
    "sub(15,y = 5)"
   ]
  },
  {
   "cell_type": "code",
   "execution_count": 14,
   "id": "3bc8941d-250f-493e-b156-06f0223c6923",
   "metadata": {},
   "outputs": [
    {
     "ename": "TypeError",
     "evalue": "sub() got multiple values for argument 'x'",
     "output_type": "error",
     "traceback": [
      "\u001b[1;31m---------------------------------------------------------------------------\u001b[0m",
      "\u001b[1;31mTypeError\u001b[0m                                 Traceback (most recent call last)",
      "Cell \u001b[1;32mIn[14], line 1\u001b[0m\n\u001b[1;32m----> 1\u001b[0m sub(\u001b[38;5;241m15\u001b[39m,x \u001b[38;5;241m=\u001b[39m \u001b[38;5;241m5\u001b[39m)\n",
      "\u001b[1;31mTypeError\u001b[0m: sub() got multiple values for argument 'x'"
     ]
    }
   ],
   "source": [
    "sub(15,x = 5)"
   ]
  },
  {
   "cell_type": "code",
   "execution_count": 15,
   "id": "5253c6f6-5727-4866-a3ff-dc5f199190d7",
   "metadata": {},
   "outputs": [
    {
     "name": "stdout",
     "output_type": "stream",
     "text": [
      "-5\n"
     ]
    }
   ],
   "source": [
    "sub(15,20)"
   ]
  },
  {
   "cell_type": "code",
   "execution_count": 16,
   "id": "5dc3c53d-8562-4689-b06b-0cf78f2f163d",
   "metadata": {},
   "outputs": [
    {
     "ename": "SyntaxError",
     "evalue": "positional argument follows keyword argument (1441997847.py, line 1)",
     "output_type": "error",
     "traceback": [
      "\u001b[1;36m  Cell \u001b[1;32mIn[16], line 1\u001b[1;36m\u001b[0m\n\u001b[1;33m    sub(y=20,15)\u001b[0m\n\u001b[1;37m               ^\u001b[0m\n\u001b[1;31mSyntaxError\u001b[0m\u001b[1;31m:\u001b[0m positional argument follows keyword argument\n"
     ]
    }
   ],
   "source": [
    "sub(y=20,15)"
   ]
  },
  {
   "cell_type": "markdown",
   "id": "8beda77d-2da8-433c-b6cb-357ace0d332b",
   "metadata": {},
   "source": [
    "### 3. Default Arguments"
   ]
  },
  {
   "cell_type": "code",
   "execution_count": 17,
   "id": "822557d6-1db9-49ed-aea4-23004559b9ae",
   "metadata": {},
   "outputs": [],
   "source": [
    "def solve(a,b,c,d):\n",
    "    print(a+b-c+d)"
   ]
  },
  {
   "cell_type": "code",
   "execution_count": 18,
   "id": "e3b31c86-c27f-4e21-b4f5-ca15de1de715",
   "metadata": {},
   "outputs": [
    {
     "name": "stdout",
     "output_type": "stream",
     "text": [
      "6\n"
     ]
    }
   ],
   "source": [
    "solve(1,c = 2, b = 3,d = 4)"
   ]
  },
  {
   "cell_type": "raw",
   "id": "b40b8f2a-b61c-4022-871a-c675517f8ee4",
   "metadata": {},
   "source": [
    "\"Dear Ramesh...thank you for registering\"\n",
    "\"Dear User...Thank you for registering\""
   ]
  },
  {
   "cell_type": "code",
   "execution_count": 19,
   "id": "8588f3c0-7bcb-4079-8f68-f18494c5bb54",
   "metadata": {},
   "outputs": [
    {
     "name": "stdout",
     "output_type": "stream",
     "text": [
      "Dear Rajesh..Thank you for registering\n"
     ]
    }
   ],
   "source": [
    "def wish(name):\n",
    "    print(f\"Dear {name}..Thank you for registering\")\n",
    "wish(\"Rajesh\")"
   ]
  },
  {
   "cell_type": "code",
   "execution_count": 20,
   "id": "8ff34d94-919e-4fdc-9b0d-4a8a5f348317",
   "metadata": {},
   "outputs": [
    {
     "name": "stdout",
     "output_type": "stream",
     "text": [
      "Dear Arjun..Thank you for registering\n"
     ]
    }
   ],
   "source": [
    "def wish(name = 'User'):\n",
    "    print(f\"Dear {name}..Thank you for registering\")\n",
    "wish(\"Arjun\")"
   ]
  },
  {
   "cell_type": "code",
   "execution_count": 21,
   "id": "9cb4e3f2-b46d-4a33-936d-bc4d9028db81",
   "metadata": {},
   "outputs": [
    {
     "name": "stdout",
     "output_type": "stream",
     "text": [
      "Dear User..Thank you for registering\n"
     ]
    }
   ],
   "source": [
    "def wish(name = 'User'):\n",
    "    print(f\"Dear {name}..Thank you for registering\")\n",
    "wish()"
   ]
  },
  {
   "cell_type": "code",
   "execution_count": 24,
   "id": "7a1a8859-6f88-4d94-a97d-2fa34b067b16",
   "metadata": {},
   "outputs": [
    {
     "name": "stdout",
     "output_type": "stream",
     "text": [
      "11\n"
     ]
    }
   ],
   "source": [
    "def solve(a,b,c,d):\n",
    "    print(a+b-c+d)\n",
    "    \n",
    "solve(12,b=2,c=4,d=1)"
   ]
  },
  {
   "cell_type": "code",
   "execution_count": 25,
   "id": "85b2e502-42c9-40a6-87f6-b35a8ce78b46",
   "metadata": {},
   "outputs": [
    {
     "name": "stdout",
     "output_type": "stream",
     "text": [
      "20\n"
     ]
    }
   ],
   "source": [
    "def solve(a,b,c,d=10):\n",
    "    print(a+b-c+d)\n",
    "    \n",
    "solve(12,b=2,c=4)"
   ]
  },
  {
   "cell_type": "code",
   "execution_count": 26,
   "id": "fba42bc1-1cba-41ab-af83-252b0a0d05e6",
   "metadata": {},
   "outputs": [
    {
     "name": "stdout",
     "output_type": "stream",
     "text": [
      "15\n"
     ]
    }
   ],
   "source": [
    "def solve(a,b,c,d=10):\n",
    "    print(a+b-c+d)\n",
    "    \n",
    "solve(12,b=2,c=4,d=5)"
   ]
  },
  {
   "cell_type": "code",
   "execution_count": 27,
   "id": "e778a13f-bb60-4ac0-8b3e-525abeb7c017",
   "metadata": {},
   "outputs": [
    {
     "name": "stdout",
     "output_type": "stream",
     "text": [
      "a 12\n",
      "b 2\n",
      "c 4\n",
      "d 19\n"
     ]
    }
   ],
   "source": [
    "def solve(a,b,c,d=10):\n",
    "    print(f\"a {a}\")\n",
    "    print(f\"b {b}\")\n",
    "    print(f\"c {c}\")\n",
    "    print(f\"d {d}\")\n",
    "\n",
    "solve(12,b=2,c=4,d=19)"
   ]
  },
  {
   "cell_type": "code",
   "execution_count": 28,
   "id": "28b232da-d6a7-4475-a38f-1034a30ceeee",
   "metadata": {},
   "outputs": [
    {
     "name": "stdout",
     "output_type": "stream",
     "text": [
      "a 12\n",
      "b 2\n",
      "c 4\n",
      "d 19\n"
     ]
    }
   ],
   "source": [
    "def solve(a,b,c=15,d=10):\n",
    "    print(f\"a {a}\")\n",
    "    print(f\"b {b}\")\n",
    "    print(f\"c {c}\")\n",
    "    print(f\"d {d}\")\n",
    "\n",
    "solve(12,b=2,c=4,d=19)"
   ]
  },
  {
   "cell_type": "code",
   "execution_count": 29,
   "id": "3d296a44-78c5-4ad3-9baf-2421fa552176",
   "metadata": {},
   "outputs": [
    {
     "name": "stdout",
     "output_type": "stream",
     "text": [
      "a 12\n",
      "b 2\n",
      "c 2.1\n",
      "d 19\n"
     ]
    }
   ],
   "source": [
    "def solve(a,b,c=2.1,d=10):\n",
    "    print(f\"a {a}\")\n",
    "    print(f\"b {b}\")\n",
    "    print(f\"c {c}\")\n",
    "    print(f\"d {d}\")\n",
    "\n",
    "solve(12,b=2,d=19)"
   ]
  },
  {
   "cell_type": "code",
   "execution_count": 30,
   "id": "e9d9e624-1f8f-4cf3-b24e-a3048adad21c",
   "metadata": {},
   "outputs": [
    {
     "name": "stdout",
     "output_type": "stream",
     "text": [
      "a 12\n",
      "b 2\n",
      "c 0.5\n",
      "d 19\n"
     ]
    }
   ],
   "source": [
    "def solve(a,b,c=2.1,d=10):\n",
    "    print(f\"a {a}\")\n",
    "    print(f\"b {b}\")\n",
    "    print(f\"c {c}\")\n",
    "    print(f\"d {d}\")\n",
    "\n",
    "solve(12,b=2,c = 0.5,d=19)"
   ]
  },
  {
   "cell_type": "code",
   "execution_count": 31,
   "id": "7e467851-c5c7-4139-b8e5-81c1e9b8460c",
   "metadata": {},
   "outputs": [
    {
     "name": "stdout",
     "output_type": "stream",
     "text": [
      "a 12\n",
      "b 2\n",
      "c 19\n",
      "d 11\n"
     ]
    }
   ],
   "source": [
    "def solve(a,b,c=2.1,d=10):\n",
    "    print(f\"a {a}\")\n",
    "    print(f\"b {b}\")\n",
    "    print(f\"c {c}\")\n",
    "    print(f\"d {d}\")\n",
    "\n",
    "solve(12,2,19,11)"
   ]
  },
  {
   "cell_type": "markdown",
   "id": "1de7c6df-f587-4f2e-921a-afcb8a4bef39",
   "metadata": {},
   "source": [
    "### 4.Variable length Arguments"
   ]
  },
  {
   "cell_type": "code",
   "execution_count": 34,
   "id": "58829ceb-36e7-44bd-82da-e1782a7dc0b7",
   "metadata": {},
   "outputs": [
    {
     "name": "stdout",
     "output_type": "stream",
     "text": [
      "15\n"
     ]
    }
   ],
   "source": [
    "def add(a,b,c,d,e):\n",
    "    print(a+b+c+d+e)\n",
    "add(1,2,3,4,5)"
   ]
  },
  {
   "cell_type": "code",
   "execution_count": 35,
   "id": "b38d62e7-627c-436c-91f0-b645ad05b994",
   "metadata": {},
   "outputs": [
    {
     "name": "stdout",
     "output_type": "stream",
     "text": [
      "136\n"
     ]
    }
   ],
   "source": [
    "def add(*n):\n",
    "    print(sum(n))\n",
    "\n",
    "add(1,2,3,4,5,6,7,8,9,10,11,12,13,14,15,16)"
   ]
  },
  {
   "cell_type": "code",
   "execution_count": 37,
   "id": "2dae5b90-96e5-4bf4-97e0-364e79b6733b",
   "metadata": {},
   "outputs": [
    {
     "name": "stdout",
     "output_type": "stream",
     "text": [
      "1\n",
      "2\n",
      "3\n",
      "4\n",
      "5\n",
      "6\n",
      "7\n",
      "8\n",
      "9\n",
      "10\n",
      "11\n",
      "12\n",
      "13\n",
      "14\n",
      "15\n",
      "16\n"
     ]
    }
   ],
   "source": [
    "def add(*n):\n",
    "    for i in n:\n",
    "        print(i)\n",
    "\n",
    "add(1,2,3,4,5,6,7,8,9,10,11,12,13,14,15,16)"
   ]
  },
  {
   "cell_type": "markdown",
   "id": "8b023496-f1f8-4bf8-b781-edaaf9b50392",
   "metadata": {},
   "source": [
    "#### create a function that accepts variable length arguments as input and find the maximum and minimum number"
   ]
  },
  {
   "cell_type": "code",
   "execution_count": 38,
   "id": "9fd54ee3-ba25-44c5-b5a9-c297c0c5f3ca",
   "metadata": {},
   "outputs": [
    {
     "name": "stdout",
     "output_type": "stream",
     "text": [
      "16\n"
     ]
    }
   ],
   "source": [
    "def add(*n):\n",
    "    print(max(n))\n",
    "\n",
    "add(1,2,3,4,5,6,7,8,9,10,11,12,13,14,15,16)"
   ]
  },
  {
   "cell_type": "code",
   "execution_count": 39,
   "id": "06fcd73a-e003-4e41-817b-02058a1dbb63",
   "metadata": {},
   "outputs": [
    {
     "name": "stdout",
     "output_type": "stream",
     "text": [
      "1\n"
     ]
    }
   ],
   "source": [
    "def add(*n):\n",
    "    print(min(n))\n",
    "\n",
    "add(1,2,3,4,5,6,7,8,9,10,11,12,13,14,15,16)"
   ]
  },
  {
   "cell_type": "code",
   "execution_count": 40,
   "id": "1d96d78d-2341-4141-9f3c-328faab6fe9d",
   "metadata": {},
   "outputs": [
    {
     "name": "stdout",
     "output_type": "stream",
     "text": [
      "16 1\n"
     ]
    }
   ],
   "source": [
    "def add(*n):\n",
    "    print(max(n),min(n))\n",
    "\n",
    "add(1,2,3,4,5,6,7,8,9,10,11,12,13,14,15,16)"
   ]
  },
  {
   "cell_type": "code",
   "execution_count": 41,
   "id": "de5e415d-bd95-4f3c-a8fe-111ac78f342b",
   "metadata": {},
   "outputs": [
    {
     "name": "stdout",
     "output_type": "stream",
     "text": [
      "16\n",
      "1\n"
     ]
    }
   ],
   "source": [
    "def min_max(*args):\n",
    "    print(max(args))\n",
    "    print(min(args))\n",
    "\n",
    "min_max(1,2,3,4,5,6,7,8,9,10,11,12,13,14,15,16)"
   ]
  },
  {
   "cell_type": "code",
   "execution_count": 42,
   "id": "964fe0a9-13c0-4c6c-a127-237f89e15f13",
   "metadata": {},
   "outputs": [
    {
     "name": "stdout",
     "output_type": "stream",
     "text": [
      "{'name': 'Rajesh', 'Course': 'Data Analytics', 'Edtech': 'Innomatics'}\n"
     ]
    }
   ],
   "source": [
    "def name(**n):\n",
    "    print(n)\n",
    "\n",
    "name(name = \"Rajesh\",Course = \"Data Analytics\",Edtech = \"Innomatics\")"
   ]
  },
  {
   "cell_type": "code",
   "execution_count": 44,
   "id": "38bc3e0a-d069-4360-967b-e2472c5877e2",
   "metadata": {},
   "outputs": [
    {
     "name": "stdout",
     "output_type": "stream",
     "text": [
      "name\n",
      "Course\n",
      "Edtech\n"
     ]
    }
   ],
   "source": [
    "def name(**n):\n",
    "    for i in n.keys():\n",
    "        print(i)\n",
    "\n",
    "name(name = \"Rajesh\",Course = \"Data Analytics\",Edtech = \"Innomatics\")"
   ]
  },
  {
   "cell_type": "code",
   "execution_count": 45,
   "id": "ef9fe3f7-467f-4d51-97a5-1b86ee5b2c79",
   "metadata": {},
   "outputs": [
    {
     "name": "stdout",
     "output_type": "stream",
     "text": [
      "Rajesh\n",
      "Data Analytics\n",
      "Innomatics\n"
     ]
    }
   ],
   "source": [
    "def name(**n):\n",
    "    for i in n.values():\n",
    "        print(i)\n",
    "\n",
    "name(name = \"Rajesh\",Course = \"Data Analytics\",Edtech = \"Innomatics\")"
   ]
  },
  {
   "cell_type": "code",
   "execution_count": 46,
   "id": "27f7bb92-74d7-4912-b2ae-21668171b566",
   "metadata": {},
   "outputs": [
    {
     "name": "stdout",
     "output_type": "stream",
     "text": [
      "Rajesh\n",
      "Data Analytics\n",
      "Innomatics\n",
      "Hyderabad\n",
      "Kondapur\n"
     ]
    }
   ],
   "source": [
    "def name(**n):\n",
    "    for i in n.values():\n",
    "        print(i)\n",
    "\n",
    "name(name = \"Rajesh\",Course = \"Data Analytics\",Edtech = \"Innomatics\",City = 'Hyderabad',Branch = 'Kondapur')"
   ]
  },
  {
   "cell_type": "code",
   "execution_count": 47,
   "id": "06cf8f8f-ba98-4a52-b4d3-294bd38da7a9",
   "metadata": {},
   "outputs": [
    {
     "name": "stdout",
     "output_type": "stream",
     "text": [
      "('name', 'Rajesh')\n",
      "('Course', 'Data Analytics')\n",
      "('Edtech', 'Innomatics')\n",
      "('City', 'Hyderabad')\n",
      "('Branch', 'Kondapur')\n"
     ]
    }
   ],
   "source": [
    "def name(**n):\n",
    "    for i in n.items():\n",
    "        print(i)\n",
    "\n",
    "name(name = \"Rajesh\",Course = \"Data Analytics\",Edtech = \"Innomatics\",City = 'Hyderabad',Branch = 'Kondapur')"
   ]
  },
  {
   "cell_type": "markdown",
   "id": "e826e243-97d4-4353-a709-08449d35bde2",
   "metadata": {},
   "source": [
    "### Variable Scope or Types of Variables in functions"
   ]
  },
  {
   "cell_type": "code",
   "execution_count": 48,
   "id": "20a32ac5-1454-445b-9cea-83a458be5ce0",
   "metadata": {},
   "outputs": [
    {
     "name": "stdout",
     "output_type": "stream",
     "text": [
      "30\n"
     ]
    }
   ],
   "source": [
    "def fun(n):\n",
    "    a = 20  #Local Variable\n",
    "    print(n+a)\n",
    "\n",
    "fun(10)"
   ]
  },
  {
   "cell_type": "code",
   "execution_count": 49,
   "id": "081cfba5-54a0-4514-8e72-92336bbb3fc0",
   "metadata": {},
   "outputs": [
    {
     "name": "stdout",
     "output_type": "stream",
     "text": [
      "-10\n"
     ]
    }
   ],
   "source": [
    "w = 20  #Global Variable\n",
    "def name(x):\n",
    "    print(x - w)\n",
    "\n",
    "name(10)"
   ]
  },
  {
   "cell_type": "code",
   "execution_count": 50,
   "id": "9179af13-80c9-4e47-9489-9bf6a99302d7",
   "metadata": {},
   "outputs": [
    {
     "name": "stdout",
     "output_type": "stream",
     "text": [
      "30\n"
     ]
    }
   ],
   "source": [
    "def fun(n):\n",
    "    d = 20  #Local Variable\n",
    "    print(n+d)\n",
    "\n",
    "fun(10)"
   ]
  },
  {
   "cell_type": "code",
   "execution_count": 52,
   "id": "c37dbfcb-7aee-4145-bd65-49fa0b0af7c5",
   "metadata": {},
   "outputs": [
    {
     "ename": "NameError",
     "evalue": "name 'd' is not defined",
     "output_type": "error",
     "traceback": [
      "\u001b[1;31m---------------------------------------------------------------------------\u001b[0m",
      "\u001b[1;31mNameError\u001b[0m                                 Traceback (most recent call last)",
      "Cell \u001b[1;32mIn[52], line 1\u001b[0m\n\u001b[1;32m----> 1\u001b[0m d\n",
      "\u001b[1;31mNameError\u001b[0m: name 'd' is not defined"
     ]
    }
   ],
   "source": [
    "d  #Local variable can not be accessed outside the function"
   ]
  },
  {
   "cell_type": "code",
   "execution_count": 53,
   "id": "18b31470-e83f-4326-aa49-6d4510089de3",
   "metadata": {},
   "outputs": [
    {
     "name": "stdout",
     "output_type": "stream",
     "text": [
      "-10\n"
     ]
    }
   ],
   "source": [
    "w = 20  #Global Variable\n",
    "def name(x):\n",
    "    print(x - w)\n",
    "\n",
    "name(10)"
   ]
  },
  {
   "cell_type": "code",
   "execution_count": 54,
   "id": "83539cb8-5109-45fd-80c9-bbac4552c5dd",
   "metadata": {},
   "outputs": [
    {
     "data": {
      "text/plain": [
       "20"
      ]
     },
     "execution_count": 54,
     "metadata": {},
     "output_type": "execute_result"
    }
   ],
   "source": [
    "w"
   ]
  },
  {
   "cell_type": "raw",
   "id": "3d432ae6-73c2-4d86-aaf1-de0e12c3e51c",
   "metadata": {},
   "source": [
    "global variable can also be created inside the functions also"
   ]
  },
  {
   "cell_type": "code",
   "execution_count": 55,
   "id": "39757c3c-aba2-4aee-9369-3df05d775d63",
   "metadata": {},
   "outputs": [
    {
     "name": "stdout",
     "output_type": "stream",
     "text": [
      "30\n"
     ]
    }
   ],
   "source": [
    "def fun(n):\n",
    "    global d\n",
    "    d = 20  #Local Variable\n",
    "    print(n+d)\n",
    "\n",
    "fun(10)"
   ]
  },
  {
   "cell_type": "code",
   "execution_count": 56,
   "id": "adde8149-ec95-49fa-bc67-b5d60ffa38c5",
   "metadata": {},
   "outputs": [
    {
     "data": {
      "text/plain": [
       "20"
      ]
     },
     "execution_count": 56,
     "metadata": {},
     "output_type": "execute_result"
    }
   ],
   "source": [
    "d"
   ]
  },
  {
   "cell_type": "markdown",
   "id": "24c45c51-538d-4b03-912f-0efcdfc3cd25",
   "metadata": {},
   "source": [
    "### Recursive Functions"
   ]
  },
  {
   "cell_type": "raw",
   "id": "82a180e0-3bc3-424d-9891-455613ae58f9",
   "metadata": {},
   "source": [
    "#Factorial"
   ]
  },
  {
   "cell_type": "code",
   "execution_count": 1,
   "id": "4865a91b-8ec9-420c-8db8-768506ddcc4b",
   "metadata": {},
   "outputs": [
    {
     "name": "stdin",
     "output_type": "stream",
     "text": [
      "Enter the number to find Factorial::  5\n"
     ]
    },
    {
     "data": {
      "text/plain": [
       "120"
      ]
     },
     "execution_count": 1,
     "metadata": {},
     "output_type": "execute_result"
    }
   ],
   "source": [
    "def fact(n):\n",
    "    if n == 0 or n == 1:\n",
    "        return 1\n",
    "    else:\n",
    "        value = n * fact(n-1)\n",
    "    return value\n",
    "\n",
    "\n",
    "\n",
    "n = int(input(\"Enter the number to find Factorial:: \"))\n",
    "fact(n)"
   ]
  },
  {
   "cell_type": "code",
   "execution_count": 2,
   "id": "824111da-c530-4288-8c16-42aa7fe5ed9e",
   "metadata": {},
   "outputs": [
    {
     "name": "stdin",
     "output_type": "stream",
     "text": [
      "Enter the number to find Factorial::  5\n"
     ]
    },
    {
     "name": "stdout",
     "output_type": "stream",
     "text": [
      "120\n"
     ]
    }
   ],
   "source": [
    "def fact(n):\n",
    "    if n == 0 or n == 1:\n",
    "        return 1\n",
    "    else:\n",
    "        value = n * fact(n-1)\n",
    "    return value\n",
    "\n",
    "\n",
    "\n",
    "n = int(input(\"Enter the number to find Factorial:: \"))\n",
    "if n>=0:\n",
    "    print(fact(n))\n",
    "else:\n",
    "    print(\"Enter the positive value only\")\n"
   ]
  },
  {
   "cell_type": "raw",
   "id": "4b638872-0385-4328-8329-ff1dd9e529f0",
   "metadata": {},
   "source": [
    "#Fibonacci series"
   ]
  },
  {
   "cell_type": "code",
   "execution_count": 3,
   "id": "9a1f5fb8-41dd-411c-820d-6d112731389f",
   "metadata": {},
   "outputs": [
    {
     "name": "stdin",
     "output_type": "stream",
     "text": [
      "Enter the number::  7\n"
     ]
    },
    {
     "data": {
      "text/plain": [
       "13"
      ]
     },
     "execution_count": 3,
     "metadata": {},
     "output_type": "execute_result"
    }
   ],
   "source": [
    "def fib(n):\n",
    "\n",
    "    if n == 0 or n == 1:\n",
    "        return n\n",
    "    else:\n",
    "        val = fib(n-1)+fib(n-2)\n",
    "    return val\n",
    "\n",
    "n = int(input(\"Enter the number:: \"))\n",
    "fib(n)"
   ]
  },
  {
   "cell_type": "code",
   "execution_count": 4,
   "id": "4901a7f0-1ed1-4207-876b-7933039aa2f9",
   "metadata": {},
   "outputs": [
    {
     "name": "stdin",
     "output_type": "stream",
     "text": [
      "Enter the number::  7\n"
     ]
    },
    {
     "name": "stdout",
     "output_type": "stream",
     "text": [
      "0\n",
      "1\n",
      "1\n",
      "2\n",
      "3\n",
      "5\n",
      "8\n"
     ]
    }
   ],
   "source": [
    "def fib(n):\n",
    "\n",
    "    if n == 0 or n == 1:\n",
    "        return n\n",
    "    else:\n",
    "        val = fib(n-1)+fib(n-2)\n",
    "    return val\n",
    "\n",
    "n = int(input(\"Enter the number:: \"))\n",
    "for i in range(n):\n",
    "    print(fib(i))"
   ]
  },
  {
   "cell_type": "markdown",
   "id": "a48bbd48-0bb8-4434-88bf-e99068b6672b",
   "metadata": {},
   "source": [
    "## Lambda Functions"
   ]
  },
  {
   "cell_type": "code",
   "execution_count": 5,
   "id": "b86403da-99b6-41b8-b221-7529020aba2a",
   "metadata": {},
   "outputs": [
    {
     "data": {
      "text/plain": [
       "30"
      ]
     },
     "execution_count": 5,
     "metadata": {},
     "output_type": "execute_result"
    }
   ],
   "source": [
    "def add(x,y):\n",
    "    return x+y\n",
    "\n",
    "add(10,20)"
   ]
  },
  {
   "cell_type": "markdown",
   "id": "6c965ed0-83ab-45f4-a96c-eadf02fc6fe3",
   "metadata": {},
   "source": [
    "### lambda args: expression"
   ]
  },
  {
   "cell_type": "code",
   "execution_count": 6,
   "id": "a939a74b-fe34-4c07-bc4b-09170e8def13",
   "metadata": {},
   "outputs": [
    {
     "data": {
      "text/plain": [
       "<function __main__.<lambda>(x, y)>"
      ]
     },
     "execution_count": 6,
     "metadata": {},
     "output_type": "execute_result"
    }
   ],
   "source": [
    "lambda x,y: x+y"
   ]
  },
  {
   "cell_type": "code",
   "execution_count": 7,
   "id": "fd075ade-ee8a-4c1d-a72f-16cae89a0ab0",
   "metadata": {},
   "outputs": [],
   "source": [
    "addition = lambda x,y: x+y"
   ]
  },
  {
   "cell_type": "code",
   "execution_count": 8,
   "id": "3dc7846b-7509-4572-94fa-3f4b9bc4c2bb",
   "metadata": {},
   "outputs": [
    {
     "data": {
      "text/plain": [
       "30"
      ]
     },
     "execution_count": 8,
     "metadata": {},
     "output_type": "execute_result"
    }
   ],
   "source": [
    "addition(10,20)"
   ]
  },
  {
   "cell_type": "code",
   "execution_count": 9,
   "id": "4238d4c6-d07f-4581-8c8c-7cc5527ba187",
   "metadata": {},
   "outputs": [],
   "source": [
    "addition = lambda x,y=5: x+y"
   ]
  },
  {
   "cell_type": "code",
   "execution_count": 11,
   "id": "05fa6772-7a6b-4c87-8a61-af65a15326a1",
   "metadata": {},
   "outputs": [
    {
     "data": {
      "text/plain": [
       "30"
      ]
     },
     "execution_count": 11,
     "metadata": {},
     "output_type": "execute_result"
    }
   ],
   "source": [
    "addition(10,20)"
   ]
  },
  {
   "cell_type": "markdown",
   "id": "7732f8b0-43ab-456f-a5c8-0f89011c15c6",
   "metadata": {},
   "source": [
    "#### write functions for sub,mul,div using lambda espressions"
   ]
  },
  {
   "cell_type": "code",
   "execution_count": 12,
   "id": "6bf2235f-6d92-4a3f-b754-2638c6498782",
   "metadata": {},
   "outputs": [],
   "source": [
    "subtraction = lambda a,b: a-b"
   ]
  },
  {
   "cell_type": "code",
   "execution_count": 13,
   "id": "c4b1f342-561a-4a65-89ab-14b6a60b2e63",
   "metadata": {},
   "outputs": [
    {
     "data": {
      "text/plain": [
       "10"
      ]
     },
     "execution_count": 13,
     "metadata": {},
     "output_type": "execute_result"
    }
   ],
   "source": [
    "subtraction(30,20)"
   ]
  },
  {
   "cell_type": "code",
   "execution_count": 14,
   "id": "b958bfac-bef9-4df3-b3ed-47b85eda22fa",
   "metadata": {},
   "outputs": [],
   "source": [
    "multiplication = lambda a,b: a*b"
   ]
  },
  {
   "cell_type": "code",
   "execution_count": 15,
   "id": "fcf31401-86aa-4367-ad82-d4a6b28ac36e",
   "metadata": {},
   "outputs": [
    {
     "data": {
      "text/plain": [
       "600"
      ]
     },
     "execution_count": 15,
     "metadata": {},
     "output_type": "execute_result"
    }
   ],
   "source": [
    "multiplication(30,20)"
   ]
  },
  {
   "cell_type": "code",
   "execution_count": 16,
   "id": "f93d0e09-2f22-4e3f-9a01-d45a6535f5dc",
   "metadata": {},
   "outputs": [],
   "source": [
    "division = lambda a,b: a/b"
   ]
  },
  {
   "cell_type": "code",
   "execution_count": 17,
   "id": "44215487-85fc-4743-b585-b649693b463e",
   "metadata": {},
   "outputs": [
    {
     "data": {
      "text/plain": [
       "0.5"
      ]
     },
     "execution_count": 17,
     "metadata": {},
     "output_type": "execute_result"
    }
   ],
   "source": [
    "division(10,20)"
   ]
  },
  {
   "cell_type": "code",
   "execution_count": 18,
   "id": "58e880e4-7901-4d4e-aa2e-187b775d03f0",
   "metadata": {},
   "outputs": [
    {
     "data": {
      "text/plain": [
       "21"
      ]
     },
     "execution_count": 18,
     "metadata": {},
     "output_type": "execute_result"
    }
   ],
   "source": [
    "summation = lambda *n: sum(n)\n",
    "summation(1,2,3,4,5,6)"
   ]
  },
  {
   "cell_type": "code",
   "execution_count": 21,
   "id": "23a09473-35fb-4f68-b10b-cfe239ecac83",
   "metadata": {},
   "outputs": [
    {
     "data": {
      "text/plain": [
       "1"
      ]
     },
     "execution_count": 21,
     "metadata": {},
     "output_type": "execute_result"
    }
   ],
   "source": [
    "summation = lambda *n: min(n)\n",
    "summation(1,2,3,4,5,6)"
   ]
  },
  {
   "cell_type": "code",
   "execution_count": 22,
   "id": "47196591-f4c5-49d3-bfc3-1edbc92a9479",
   "metadata": {},
   "outputs": [
    {
     "data": {
      "text/plain": [
       "6"
      ]
     },
     "execution_count": 22,
     "metadata": {},
     "output_type": "execute_result"
    }
   ],
   "source": [
    "summation = lambda *n: max(n)\n",
    "summation(1,2,3,4,5,6)"
   ]
  },
  {
   "cell_type": "code",
   "execution_count": 23,
   "id": "3f8449e6-4a91-467d-9cbc-d0dfd4bbf429",
   "metadata": {},
   "outputs": [
    {
     "data": {
      "text/plain": [
       "6"
      ]
     },
     "execution_count": 23,
     "metadata": {},
     "output_type": "execute_result"
    }
   ],
   "source": [
    "summation = lambda *n: len(n)\n",
    "summation(1,2,3,4,5,6)"
   ]
  },
  {
   "cell_type": "code",
   "execution_count": 6,
   "id": "7f9834fa-05d2-4faa-acae-2634dacf7c65",
   "metadata": {
    "scrolled": true
   },
   "outputs": [
    {
     "data": {
      "text/plain": [
       "4"
      ]
     },
     "execution_count": 6,
     "metadata": {},
     "output_type": "execute_result"
    }
   ],
   "source": [
    "square = lambda x: x**2\n",
    "square(2)"
   ]
  },
  {
   "cell_type": "code",
   "execution_count": 9,
   "id": "1be9fa9a-8279-40ed-8d3a-be1af6905a4b",
   "metadata": {},
   "outputs": [
    {
     "data": {
      "text/plain": [
       "1252"
      ]
     },
     "execution_count": 9,
     "metadata": {},
     "output_type": "execute_result"
    }
   ],
   "source": [
    "summation = lambda a,b: a**2+b**2\n",
    "summation(24,26)"
   ]
  },
  {
   "cell_type": "code",
   "execution_count": 15,
   "id": "7ad3f201-48b2-44bd-acfa-c897434822cd",
   "metadata": {},
   "outputs": [
    {
     "data": {
      "text/plain": [
       "50"
      ]
     },
     "execution_count": 15,
     "metadata": {},
     "output_type": "execute_result"
    }
   ],
   "source": [
    "summation = lambda a,b: (a+b)\n",
    "\n",
    "summation(24,26)\n"
   ]
  },
  {
   "cell_type": "code",
   "execution_count": 29,
   "id": "28c16b2c-a7ff-48cb-96ed-68e008b2b19b",
   "metadata": {},
   "outputs": [
    {
     "data": {
      "text/plain": [
       "405"
      ]
     },
     "execution_count": 29,
     "metadata": {},
     "output_type": "execute_result"
    }
   ],
   "source": [
    "multiplication = lambda a,b: a*b \n",
    "multiplication(27,15)\n"
   ]
  },
  {
   "cell_type": "code",
   "execution_count": 30,
   "id": "3a235ec1-0428-4b0e-94d5-cc125d42c700",
   "metadata": {},
   "outputs": [],
   "source": [
    "multiplication = lambda a=27,b: a*b"
   ]
  },
  {
   "cell_type": "code",
   "execution_count": 32,
   "id": "5238ad6b-aa9d-4002-8526-ce3b24b2885d",
   "metadata": {},
   "outputs": [
    {
     "data": {
      "text/plain": [
       "405"
      ]
     },
     "execution_count": 32,
     "metadata": {},
     "output_type": "execute_result"
    }
   ],
   "source": [
    "multiplication(27,15)"
   ]
  },
  {
   "cell_type": "code",
   "execution_count": 26,
   "id": "9753f67f-5c06-4501-b09c-68a2097fc9e1",
   "metadata": {},
   "outputs": [
    {
     "data": {
      "text/plain": [
       "<function __main__.<lambda>(a=27, b=15)>"
      ]
     },
     "execution_count": 26,
     "metadata": {},
     "output_type": "execute_result"
    }
   ],
   "source": [
    "multiplication"
   ]
  },
  {
   "cell_type": "markdown",
   "id": "184eb7c3-86ab-4ea2-a23a-1bede901fc10",
   "metadata": {},
   "source": [
    "### lambda+ternary"
   ]
  },
  {
   "cell_type": "code",
   "execution_count": 29,
   "id": "cbf7fa82-5775-422e-b8cc-55f598d707cf",
   "metadata": {},
   "outputs": [
    {
     "name": "stdin",
     "output_type": "stream",
     "text": [
      "Enter the number::  5\n"
     ]
    },
    {
     "name": "stdout",
     "output_type": "stream",
     "text": [
      "Odd\n"
     ]
    }
   ],
   "source": [
    "def even(n):\n",
    "    if n%2==0:\n",
    "        print(\"Even\")\n",
    "    else:\n",
    "        print(\"Odd\")\n",
    "\n",
    "n = int(input(\"Enter the number:: \"))\n",
    "even(n)"
   ]
  },
  {
   "cell_type": "code",
   "execution_count": 30,
   "id": "5647c7da-1620-46af-b5fc-acebbff2c505",
   "metadata": {},
   "outputs": [],
   "source": [
    "result = lambda n: 'Even' if n%2 == 0 else \"odd\""
   ]
  },
  {
   "cell_type": "code",
   "execution_count": 31,
   "id": "5ec7dc60-d999-438b-a4e6-d4edae3041f6",
   "metadata": {},
   "outputs": [
    {
     "name": "stdin",
     "output_type": "stream",
     "text": [
      "Enter the number 10\n"
     ]
    },
    {
     "data": {
      "text/plain": [
       "'Even'"
      ]
     },
     "execution_count": 31,
     "metadata": {},
     "output_type": "execute_result"
    }
   ],
   "source": [
    "n = int(input(\"Enter the number\"))\n",
    "result(n)"
   ]
  },
  {
   "cell_type": "markdown",
   "id": "d5a4fb5a-078d-4fe1-b6be-2b4768b63e19",
   "metadata": {},
   "source": [
    "### lambda + ternary + comprehension"
   ]
  },
  {
   "cell_type": "code",
   "execution_count": 34,
   "id": "6948090d-673e-4bde-a778-ab32190ae583",
   "metadata": {},
   "outputs": [
    {
     "data": {
      "text/plain": [
       "<function __main__.<lambda>(*n)>"
      ]
     },
     "execution_count": 34,
     "metadata": {},
     "output_type": "execute_result"
    }
   ],
   "source": [
    "lambda *n: ['Even' if n%2 == 0 else \"odd\" for i in n]"
   ]
  },
  {
   "cell_type": "code",
   "execution_count": 36,
   "id": "60fe8b65-0aad-45f5-9322-60552be5a022",
   "metadata": {},
   "outputs": [
    {
     "data": {
      "text/plain": [
       "['odd', 'Even', 'odd', 'Even', 'odd', 'Even']"
      ]
     },
     "execution_count": 36,
     "metadata": {},
     "output_type": "execute_result"
    }
   ],
   "source": [
    "check = lambda *n: ['Even' if i%2 == 0 else \"odd\" for i in n]\n",
    "\n",
    "check(1,2,3,4,5,6)"
   ]
  },
  {
   "cell_type": "code",
   "execution_count": 39,
   "id": "5991ee12-c373-45fb-9d8e-13dfa0678214",
   "metadata": {},
   "outputs": [
    {
     "name": "stdout",
     "output_type": "stream",
     "text": [
      "odd\n",
      "Even\n",
      "odd\n",
      "Even\n",
      "odd\n",
      "Even\n"
     ]
    }
   ],
   "source": [
    "def trad(*x):\n",
    "    for i in x:\n",
    "        if i%2==0:\n",
    "            print(\"Even\")\n",
    "        else:\n",
    "            print(\"odd\")\n",
    "trad(1,2,3,4,5,6)"
   ]
  },
  {
   "cell_type": "markdown",
   "id": "17bf6ced-bf10-4768-8e99-7636a38f737c",
   "metadata": {},
   "source": [
    "### Miscellenous Functions"
   ]
  },
  {
   "cell_type": "markdown",
   "id": "aa4a7497-672b-4313-b23f-a98fcceb0768",
   "metadata": {},
   "source": [
    "#### Filter()"
   ]
  },
  {
   "cell_type": "markdown",
   "id": "8263ee27-6cc4-4655-84e0-6d53ec37a5bf",
   "metadata": {},
   "source": [
    "iterable - list,tuple,set,dict\n",
    "\n",
    "function - logic/functionality --traditional,lambda"
   ]
  },
  {
   "cell_type": "code",
   "execution_count": 50,
   "id": "d7184931-eb4a-4e77-a0ef-60be56244e64",
   "metadata": {},
   "outputs": [],
   "source": [
    "list1 = list(range(1,10))\n"
   ]
  },
  {
   "cell_type": "code",
   "execution_count": 53,
   "id": "d53e8250-7e31-4a2e-9418-5a92740dd3ff",
   "metadata": {},
   "outputs": [],
   "source": [
    "list2 = []\n",
    "def fun(n):\n",
    "    if n%2==0:\n",
    "        return n"
   ]
  },
  {
   "cell_type": "code",
   "execution_count": 54,
   "id": "7825faeb-8b5a-486a-976b-9067992d9b1f",
   "metadata": {},
   "outputs": [
    {
     "data": {
      "text/plain": [
       "[]"
      ]
     },
     "execution_count": 54,
     "metadata": {},
     "output_type": "execute_result"
    }
   ],
   "source": [
    "list(filter(fun,list2))"
   ]
  },
  {
   "cell_type": "code",
   "execution_count": 11,
   "id": "c2003d49-9d10-421a-9d3d-500e67768b7d",
   "metadata": {},
   "outputs": [],
   "source": [
    "list2 = list(range(1,10))\n",
    "\n",
    "def fun(n):\n",
    "    if n%2 == 1:\n",
    "        return n"
   ]
  },
  {
   "cell_type": "code",
   "execution_count": 12,
   "id": "4fa0cd6a-1044-4f02-b5bc-139a64b030ad",
   "metadata": {},
   "outputs": [
    {
     "data": {
      "text/plain": [
       "[1, 2, 3, 4, 5, 6, 7, 8, 9]"
      ]
     },
     "execution_count": 12,
     "metadata": {},
     "output_type": "execute_result"
    }
   ],
   "source": [
    "list2"
   ]
  },
  {
   "cell_type": "code",
   "execution_count": 13,
   "id": "0fd2389d-bcc5-452e-b2c1-e8036e7ba9d8",
   "metadata": {},
   "outputs": [
    {
     "data": {
      "text/plain": [
       "[1, 3, 5, 7, 9]"
      ]
     },
     "execution_count": 13,
     "metadata": {},
     "output_type": "execute_result"
    }
   ],
   "source": [
    "list(filter(fun,list2))"
   ]
  },
  {
   "cell_type": "code",
   "execution_count": 15,
   "id": "cae2251c-b651-4e61-a468-02411e0191cd",
   "metadata": {},
   "outputs": [
    {
     "name": "stdout",
     "output_type": "stream",
     "text": [
      "hello\n",
      "See you\n",
      "call me\n",
      "No issue\n"
     ]
    }
   ],
   "source": [
    "list2 = ['hello',\"hi\",\"bye\",\"See you\",\"call me\",\"No issue\"]\n",
    "\n",
    "for i in list2:\n",
    "    if len(i)>=5:\n",
    "        print(i)"
   ]
  },
  {
   "cell_type": "code",
   "execution_count": 16,
   "id": "d8364efe-da2e-4d26-a0a5-25c191a1f72e",
   "metadata": {},
   "outputs": [],
   "source": [
    "list2 = ['hello',\"hi\",\"bye\",\"See you\",\"call me\",\"No issue\"]\n",
    "output = []\n",
    "\n",
    "for i in list2:\n",
    "    if len(i)>=5:\n",
    "        output.append(i)"
   ]
  },
  {
   "cell_type": "code",
   "execution_count": 17,
   "id": "4ebd5f4a-47a6-4caf-a110-286ce8a67817",
   "metadata": {},
   "outputs": [
    {
     "data": {
      "text/plain": [
       "['hello', 'See you', 'call me', 'No issue']"
      ]
     },
     "execution_count": 17,
     "metadata": {},
     "output_type": "execute_result"
    }
   ],
   "source": [
    "output"
   ]
  },
  {
   "cell_type": "code",
   "execution_count": 18,
   "id": "aa4f868e-e625-4872-a2bc-f0d82cc6e2a1",
   "metadata": {},
   "outputs": [
    {
     "data": {
      "text/plain": [
       "['hello', 'See you', 'call me', 'No issue']"
      ]
     },
     "execution_count": 18,
     "metadata": {},
     "output_type": "execute_result"
    }
   ],
   "source": [
    "list2 = ['hello',\"hi\",\"bye\",\"See you\",\"call me\",\"No issue\"]\n",
    "\n",
    "def words(n):\n",
    "    if len(n)>=5:\n",
    "        return n\n",
    "\n",
    "list(filter(words,list2))"
   ]
  },
  {
   "cell_type": "code",
   "execution_count": 25,
   "id": "0f5c1ec0-eed8-4e90-a245-275f72af81f3",
   "metadata": {},
   "outputs": [
    {
     "name": "stdout",
     "output_type": "stream",
     "text": [
      "1\n",
      "3\n",
      "99\n",
      "45\n",
      "67\n",
      "34\n"
     ]
    }
   ],
   "source": [
    "num = [1,567,899,3,99,45,100,67,34]\n",
    "\n",
    "for i in num:\n",
    "    if i < 100:\n",
    "        print(i)"
   ]
  },
  {
   "cell_type": "code",
   "execution_count": 26,
   "id": "ea421341-a7b7-464d-a3d5-4e4c5c13e6c8",
   "metadata": {},
   "outputs": [
    {
     "data": {
      "text/plain": [
       "[1, 3, 99, 45, 67, 34]"
      ]
     },
     "execution_count": 26,
     "metadata": {},
     "output_type": "execute_result"
    }
   ],
   "source": [
    "def minimum(n):\n",
    "    if n < 100:\n",
    "        return n\n",
    "\n",
    "num = [1,567,899,3,99,45,100,67,34]\n",
    "\n",
    "list(filter(minimum,num))"
   ]
  },
  {
   "cell_type": "markdown",
   "id": "a4a35fc5-4153-478d-ade4-6fff2571cf57",
   "metadata": {},
   "source": [
    "find the all the numbers from 100 to 150 which are divisible by 7 using filter function"
   ]
  },
  {
   "cell_type": "code",
   "execution_count": 34,
   "id": "0d9a9189-f5f5-404b-ab86-d5169cff0a52",
   "metadata": {},
   "outputs": [
    {
     "data": {
      "text/plain": [
       "[105, 112, 119, 126, 133, 140, 147]"
      ]
     },
     "execution_count": 34,
     "metadata": {},
     "output_type": "execute_result"
    }
   ],
   "source": [
    "list2 = list(range(100,150))\n",
    "\n",
    "def num(n):\n",
    "    if n%7==0:\n",
    "        return n\n",
    "\n",
    "list(filter(num,list2))\n"
   ]
  },
  {
   "cell_type": "markdown",
   "id": "2e440891-bef0-49fb-a650-b2231afc414e",
   "metadata": {},
   "source": [
    "*Filtering the values based on condition which is created inside another function\n",
    "\n",
    "*syntax :- filter(function,iterable)"
   ]
  },
  {
   "cell_type": "markdown",
   "id": "2d76303e-98cc-40e2-8100-8176b22f0f41",
   "metadata": {},
   "source": [
    "#### Map()"
   ]
  },
  {
   "cell_type": "raw",
   "id": "a9ec37de-5247-4346-a8a4-fa8b3b8a502d",
   "metadata": {},
   "source": [
    "*Applying the functionality on every element in the iterable."
   ]
  },
  {
   "cell_type": "markdown",
   "id": "042ddf9a-13ab-48aa-a7e1-06cf514b37ef",
   "metadata": {},
   "source": [
    "salaries = [34000,54000,65000,23000,75000]\n",
    "\n",
    "10% bonus on every employee's salary\n"
   ]
  },
  {
   "cell_type": "code",
   "execution_count": 12,
   "id": "8f219903-194d-480f-9124-c08bd665671d",
   "metadata": {},
   "outputs": [
    {
     "data": {
      "text/plain": [
       "['1', '2', '3', '4', '5', '6']"
      ]
     },
     "execution_count": 12,
     "metadata": {},
     "output_type": "execute_result"
    }
   ],
   "source": [
    "string = [\"1\",\"2\",\"3\",\"4\",\"5\",\"6\"]\n",
    "string"
   ]
  },
  {
   "cell_type": "code",
   "execution_count": 16,
   "id": "2b85adf5-c23d-4190-b944-d691884cb786",
   "metadata": {},
   "outputs": [
    {
     "name": "stdout",
     "output_type": "stream",
     "text": [
      "<map object at 0x000001D077AEACE0>\n"
     ]
    }
   ],
   "source": [
    "result =map(int, string)\n",
    "print(result)"
   ]
  },
  {
   "cell_type": "code",
   "execution_count": 83,
   "id": "28227d45-506c-481a-a892-b5b65a992710",
   "metadata": {},
   "outputs": [],
   "source": [
    "salaries = [34000,54000,65000,23000,75000]\n",
    "\n",
    "def bonus(n):\n",
    "    return n + (n * 0.1)"
   ]
  },
  {
   "cell_type": "code",
   "execution_count": 84,
   "id": "7adf1452-b20d-4009-9de9-10a00075059d",
   "metadata": {},
   "outputs": [
    {
     "data": {
      "text/plain": [
       "[37400.0, 59400.0, 71500.0, 25300.0, 82500.0]"
      ]
     },
     "execution_count": 84,
     "metadata": {},
     "output_type": "execute_result"
    }
   ],
   "source": [
    "list(map(bonus,salaries))"
   ]
  },
  {
   "cell_type": "code",
   "execution_count": 91,
   "id": "85491994-bd2b-4605-a603-aab1539ca710",
   "metadata": {},
   "outputs": [
    {
     "ename": "RecursionError",
     "evalue": "maximum recursion depth exceeded",
     "output_type": "error",
     "traceback": [
      "\u001b[1;31m---------------------------------------------------------------------------\u001b[0m",
      "\u001b[1;31mRecursionError\u001b[0m                            Traceback (most recent call last)",
      "Cell \u001b[1;32mIn[91], line 7\u001b[0m\n\u001b[0;32m      4\u001b[0m     leng \u001b[38;5;241m=\u001b[39m \u001b[38;5;28mlen\u001b[39m(n)\n\u001b[0;32m      5\u001b[0m     \u001b[38;5;28;01mreturn\u001b[39;00m leng\n\u001b[1;32m----> 7\u001b[0m \u001b[38;5;28mlist\u001b[39m(\u001b[38;5;28mmap\u001b[39m(length,list2))\n",
      "Cell \u001b[1;32mIn[91], line 4\u001b[0m, in \u001b[0;36mlength\u001b[1;34m(n)\u001b[0m\n\u001b[0;32m      3\u001b[0m \u001b[38;5;28;01mdef\u001b[39;00m \u001b[38;5;21mlength\u001b[39m(n):\n\u001b[1;32m----> 4\u001b[0m     leng \u001b[38;5;241m=\u001b[39m \u001b[38;5;28mlen\u001b[39m(n)\n\u001b[0;32m      5\u001b[0m     \u001b[38;5;28;01mreturn\u001b[39;00m leng\n",
      "Cell \u001b[1;32mIn[42], line 4\u001b[0m, in \u001b[0;36mlen\u001b[1;34m(n)\u001b[0m\n\u001b[0;32m      3\u001b[0m \u001b[38;5;28;01mdef\u001b[39;00m \u001b[38;5;21mlen\u001b[39m(n):\n\u001b[1;32m----> 4\u001b[0m     \u001b[38;5;28;01mreturn\u001b[39;00m \u001b[38;5;28mlen\u001b[39m(n)\n",
      "Cell \u001b[1;32mIn[42], line 4\u001b[0m, in \u001b[0;36mlen\u001b[1;34m(n)\u001b[0m\n\u001b[0;32m      3\u001b[0m \u001b[38;5;28;01mdef\u001b[39;00m \u001b[38;5;21mlen\u001b[39m(n):\n\u001b[1;32m----> 4\u001b[0m     \u001b[38;5;28;01mreturn\u001b[39;00m \u001b[38;5;28mlen\u001b[39m(n)\n",
      "    \u001b[1;31m[... skipping similar frames: len at line 4 (2969 times)]\u001b[0m\n",
      "Cell \u001b[1;32mIn[42], line 4\u001b[0m, in \u001b[0;36mlen\u001b[1;34m(n)\u001b[0m\n\u001b[0;32m      3\u001b[0m \u001b[38;5;28;01mdef\u001b[39;00m \u001b[38;5;21mlen\u001b[39m(n):\n\u001b[1;32m----> 4\u001b[0m     \u001b[38;5;28;01mreturn\u001b[39;00m \u001b[38;5;28mlen\u001b[39m(n)\n",
      "\u001b[1;31mRecursionError\u001b[0m: maximum recursion depth exceeded"
     ]
    }
   ],
   "source": [
    "list2 = ['hello',\"hi\",\"bye\",\"See you\",\"call me\",\"No issue\"]\n",
    "\n",
    "def length(n):\n",
    "    leng = len(n)\n",
    "    return leng\n",
    "    \n",
    "list(map(length,list2))"
   ]
  },
  {
   "cell_type": "markdown",
   "id": "cb0da1eb-5081-438f-90f2-4302fd5b6d5b",
   "metadata": {},
   "source": [
    "### reduce()"
   ]
  },
  {
   "cell_type": "code",
   "execution_count": 86,
   "id": "41d269e4-7aa0-4caf-b8b1-eefdf2a9945d",
   "metadata": {},
   "outputs": [],
   "source": [
    "from functools import reduce"
   ]
  },
  {
   "cell_type": "code",
   "execution_count": 87,
   "id": "ef75477a-9c26-42ae-b210-dcaf02d80e24",
   "metadata": {},
   "outputs": [],
   "source": [
    "list2 = [1,2,3,4,5,6,7,8,9]\n",
    "\n",
    "def cumsum(x,y):\n",
    "    return x+y"
   ]
  },
  {
   "cell_type": "code",
   "execution_count": 88,
   "id": "60d76099-ee04-491d-ae51-9ad08b2b4e04",
   "metadata": {},
   "outputs": [
    {
     "data": {
      "text/plain": [
       "45"
      ]
     },
     "execution_count": 88,
     "metadata": {},
     "output_type": "execute_result"
    }
   ],
   "source": [
    "reduce(cumsum,list2)"
   ]
  },
  {
   "cell_type": "code",
   "execution_count": 92,
   "id": "2dcae6ef-05fd-47d0-abfa-58c3e768ce24",
   "metadata": {},
   "outputs": [],
   "source": [
    "list2 = [1,2,3,4]\n",
    "\n",
    "def cummul(x,y):\n",
    "    return x*y"
   ]
  },
  {
   "cell_type": "code",
   "execution_count": 93,
   "id": "d3c3a5f1-3359-40d2-87a2-cd527adbab44",
   "metadata": {},
   "outputs": [
    {
     "data": {
      "text/plain": [
       "24"
      ]
     },
     "execution_count": 93,
     "metadata": {},
     "output_type": "execute_result"
    }
   ],
   "source": [
    "reduce(cummul,list2)"
   ]
  },
  {
   "cell_type": "code",
   "execution_count": 94,
   "id": "4c335bea-acb7-4c4e-a8d3-a938382ffd79",
   "metadata": {},
   "outputs": [
    {
     "name": "stdin",
     "output_type": "stream",
     "text": [
      "Enter the number to find the factorial 5\n"
     ]
    },
    {
     "data": {
      "text/plain": [
       "120"
      ]
     },
     "execution_count": 94,
     "metadata": {},
     "output_type": "execute_result"
    }
   ],
   "source": [
    "n = int(input(\"Enter the number to find the factorial\"))\n",
    "\n",
    "list3 = list(range(1,n+1))\n",
    "\n",
    "reduce(lambda x,y: x*y , list3)"
   ]
  },
  {
   "cell_type": "markdown",
   "id": "dfb3888d-ea60-4859-bc08-19ebe5476957",
   "metadata": {},
   "source": [
    "write python code to result sum of all given numbers using reduce function"
   ]
  },
  {
   "cell_type": "code",
   "execution_count": 96,
   "id": "467c1c29-079a-422a-b701-d9a8c071eead",
   "metadata": {},
   "outputs": [],
   "source": [
    "from functools import reduce"
   ]
  },
  {
   "cell_type": "code",
   "execution_count": 98,
   "id": "3cdb2d48-f5af-4696-950d-6ea1584b99f9",
   "metadata": {},
   "outputs": [
    {
     "data": {
      "text/plain": [
       "5477"
      ]
     },
     "execution_count": 98,
     "metadata": {},
     "output_type": "execute_result"
    }
   ],
   "source": [
    "list4 = [100,200,3445,567,899,34,78,10,0,45,44,55]\n",
    "\n",
    "reduce(lambda x,y:x+y, list4)\n",
    "\n"
   ]
  },
  {
   "cell_type": "markdown",
   "id": "8d56a9d3-0e53-4a68-9482-22486a336acb",
   "metadata": {},
   "source": [
    "### enumerate()"
   ]
  },
  {
   "cell_type": "code",
   "execution_count": null,
   "id": "486ad96e-c02b-420a-8003-e1d20c50d2a2",
   "metadata": {},
   "outputs": [],
   "source": [
    "list2 = ['hello',\"hi\",\"bye\",\"see you\",\"call me\",\"No issue\"]\n",
    "\n",
    "list(enumerate"
   ]
  }
 ],
 "metadata": {
  "kernelspec": {
   "display_name": "Python 3 (ipykernel)",
   "language": "python",
   "name": "python3"
  },
  "language_info": {
   "codemirror_mode": {
    "name": "ipython",
    "version": 3
   },
   "file_extension": ".py",
   "mimetype": "text/x-python",
   "name": "python",
   "nbconvert_exporter": "python",
   "pygments_lexer": "ipython3",
   "version": "3.11.7"
  }
 },
 "nbformat": 4,
 "nbformat_minor": 5
}
