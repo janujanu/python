{
 "cells": [
  {
   "cell_type": "markdown",
   "id": "cb2712ae-2349-448d-8f18-01e4e7ca30a0",
   "metadata": {},
   "source": [
    "## Syntax errors"
   ]
  },
  {
   "cell_type": "code",
   "execution_count": 1,
   "id": "0b57c7bd-4499-41d3-b704-29b31b15157e",
   "metadata": {},
   "outputs": [
    {
     "ename": "SyntaxError",
     "evalue": "invalid syntax. Perhaps you forgot a comma? (2596950302.py, line 1)",
     "output_type": "error",
     "traceback": [
      "\u001b[1;36m  Cell \u001b[1;32mIn[1], line 1\u001b[1;36m\u001b[0m\n\u001b[1;33m    a = int(input(\"Enter the a value:: \")\u001b[0m\n\u001b[1;37m            ^\u001b[0m\n\u001b[1;31mSyntaxError\u001b[0m\u001b[1;31m:\u001b[0m invalid syntax. Perhaps you forgot a comma?\n"
     ]
    }
   ],
   "source": [
    "a = int(input(\"Enter the a value:: \")\n",
    "b = int(input(\"Enter the b value:: \")\n",
    "print(a+b"
   ]
  },
  {
   "cell_type": "markdown",
   "id": "e624f6e1-5150-4fc7-ad3d-92efca5428ff",
   "metadata": {},
   "source": [
    "*Name error\n",
    "\n",
    "*Indendation errors\n",
    "\n",
    "*Typr error\n",
    "\n",
    "*Attribute error\n",
    "\n",
    "*Index error"
   ]
  },
  {
   "cell_type": "markdown",
   "id": "75877796-545e-4f25-974b-0ca91ef8c718",
   "metadata": {},
   "source": [
    "## RunTime Errors/Exceptions"
   ]
  },
  {
   "cell_type": "markdown",
   "id": "17953d52-40e8-475c-bb75-6a1ed118c0dd",
   "metadata": {},
   "source": [
    "#### *Reason"
   ]
  },
  {
   "cell_type": "raw",
   "id": "5f696fd9-ec23-4521-bdf1-81a1848acbbe",
   "metadata": {},
   "source": [
    "1. user input\n",
    "2. Expression/logic\n",
    "3. Memory issue"
   ]
  },
  {
   "cell_type": "markdown",
   "id": "a6ffa617-3173-4710-983e-0f8af41b9442",
   "metadata": {},
   "source": [
    "### User Input"
   ]
  },
  {
   "cell_type": "code",
   "execution_count": 1,
   "id": "9e18d0e0-25a1-4f65-9cce-ae7de9d7b1c6",
   "metadata": {},
   "outputs": [
    {
     "name": "stdout",
     "output_type": "stream",
     "text": [
      "Welcome to Innomatics\n"
     ]
    },
    {
     "name": "stdin",
     "output_type": "stream",
     "text": [
      "Enter the a value::  3\n",
      "Enter the b value::  5\n"
     ]
    },
    {
     "name": "stdout",
     "output_type": "stream",
     "text": [
      "8\n",
      "The addition is successfully done\n"
     ]
    }
   ],
   "source": [
    "print(\"Welcome to Innomatics\")\n",
    "\n",
    "a = int(input(\"Enter the a value:: \"))\n",
    "b = int(input(\"Enter the b value:: \"))\n",
    "\n",
    "print(a+b)\n",
    "\n",
    "print(\"The addition is successfully done\")"
   ]
  },
  {
   "cell_type": "code",
   "execution_count": 2,
   "id": "dc36bd8f-e268-4796-8397-3b6f95ba0c3a",
   "metadata": {},
   "outputs": [
    {
     "name": "stdout",
     "output_type": "stream",
     "text": [
      "Welcome to Innomatics\n"
     ]
    },
    {
     "name": "stdin",
     "output_type": "stream",
     "text": [
      "Enter the a value::  3\n",
      "Enter the b value::  two\n"
     ]
    },
    {
     "ename": "ValueError",
     "evalue": "invalid literal for int() with base 10: 'two'",
     "output_type": "error",
     "traceback": [
      "\u001b[1;31m---------------------------------------------------------------------------\u001b[0m",
      "\u001b[1;31mValueError\u001b[0m                                Traceback (most recent call last)",
      "Cell \u001b[1;32mIn[2], line 4\u001b[0m\n\u001b[0;32m      1\u001b[0m \u001b[38;5;28mprint\u001b[39m(\u001b[38;5;124m\"\u001b[39m\u001b[38;5;124mWelcome to Innomatics\u001b[39m\u001b[38;5;124m\"\u001b[39m)\n\u001b[0;32m      3\u001b[0m a \u001b[38;5;241m=\u001b[39m \u001b[38;5;28mint\u001b[39m(\u001b[38;5;28minput\u001b[39m(\u001b[38;5;124m\"\u001b[39m\u001b[38;5;124mEnter the a value:: \u001b[39m\u001b[38;5;124m\"\u001b[39m))\n\u001b[1;32m----> 4\u001b[0m b \u001b[38;5;241m=\u001b[39m \u001b[38;5;28mint\u001b[39m(\u001b[38;5;28minput\u001b[39m(\u001b[38;5;124m\"\u001b[39m\u001b[38;5;124mEnter the b value:: \u001b[39m\u001b[38;5;124m\"\u001b[39m))\n\u001b[0;32m      6\u001b[0m \u001b[38;5;28mprint\u001b[39m(a\u001b[38;5;241m+\u001b[39mb)\n\u001b[0;32m      8\u001b[0m \u001b[38;5;28mprint\u001b[39m(\u001b[38;5;124m\"\u001b[39m\u001b[38;5;124mThe addition is successfully done\u001b[39m\u001b[38;5;124m\"\u001b[39m)\n",
      "\u001b[1;31mValueError\u001b[0m: invalid literal for int() with base 10: 'two'"
     ]
    }
   ],
   "source": [
    "print(\"Welcome to Innomatics\")\n",
    "\n",
    "a = int(input(\"Enter the a value:: \"))\n",
    "b = int(input(\"Enter the b value:: \"))\n",
    "\n",
    "print(a+b)\n",
    "\n",
    "print(\"The addition is successfully done\")"
   ]
  },
  {
   "cell_type": "markdown",
   "id": "4eb8fa65-c6a5-4daf-9dc9-c6c69dae70d4",
   "metadata": {},
   "source": [
    "### Expression/Logic"
   ]
  },
  {
   "cell_type": "code",
   "execution_count": 3,
   "id": "9a9ba6d0-88ae-438e-aa16-6177002a333a",
   "metadata": {},
   "outputs": [
    {
     "name": "stdout",
     "output_type": "stream",
     "text": [
      "Welcome to Innomatics\n"
     ]
    },
    {
     "name": "stdin",
     "output_type": "stream",
     "text": [
      "Enter the a value::  4\n",
      "Enter the b value::  2\n"
     ]
    },
    {
     "name": "stdout",
     "output_type": "stream",
     "text": [
      "2.0\n",
      "The multiplication is successfully done\n"
     ]
    }
   ],
   "source": [
    "print(\"Welcome to Innomatics\")\n",
    "\n",
    "a = int(input(\"Enter the a value:: \"))\n",
    "b = int(input(\"Enter the b value:: \"))\n",
    "\n",
    "print(a/b)\n",
    "\n",
    "print(\"The multiplication is successfully done\")"
   ]
  },
  {
   "cell_type": "code",
   "execution_count": 5,
   "id": "f5b86da1-1fa1-4c29-b5c4-9ca05e546950",
   "metadata": {},
   "outputs": [
    {
     "name": "stdout",
     "output_type": "stream",
     "text": [
      "Welcome to Innomatics\n"
     ]
    },
    {
     "name": "stdin",
     "output_type": "stream",
     "text": [
      "Enter the a value::  4\n",
      "Enter the b value::  0\n"
     ]
    },
    {
     "ename": "ZeroDivisionError",
     "evalue": "division by zero",
     "output_type": "error",
     "traceback": [
      "\u001b[1;31m---------------------------------------------------------------------------\u001b[0m",
      "\u001b[1;31mZeroDivisionError\u001b[0m                         Traceback (most recent call last)",
      "Cell \u001b[1;32mIn[5], line 6\u001b[0m\n\u001b[0;32m      3\u001b[0m a \u001b[38;5;241m=\u001b[39m \u001b[38;5;28mint\u001b[39m(\u001b[38;5;28minput\u001b[39m(\u001b[38;5;124m\"\u001b[39m\u001b[38;5;124mEnter the a value:: \u001b[39m\u001b[38;5;124m\"\u001b[39m))\n\u001b[0;32m      4\u001b[0m b \u001b[38;5;241m=\u001b[39m \u001b[38;5;28mint\u001b[39m(\u001b[38;5;28minput\u001b[39m(\u001b[38;5;124m\"\u001b[39m\u001b[38;5;124mEnter the b value:: \u001b[39m\u001b[38;5;124m\"\u001b[39m))\n\u001b[1;32m----> 6\u001b[0m \u001b[38;5;28mprint\u001b[39m(a\u001b[38;5;241m/\u001b[39mb)\n\u001b[0;32m      8\u001b[0m \u001b[38;5;28mprint\u001b[39m(\u001b[38;5;124m\"\u001b[39m\u001b[38;5;124mThe multiplication is successfully done\u001b[39m\u001b[38;5;124m\"\u001b[39m)\n",
      "\u001b[1;31mZeroDivisionError\u001b[0m: division by zero"
     ]
    }
   ],
   "source": [
    "print(\"Welcome to Innomatics\")\n",
    "\n",
    "a = int(input(\"Enter the a value:: \"))\n",
    "b = int(input(\"Enter the b value:: \"))\n",
    "\n",
    "print(a/b)\n",
    "\n",
    "print(\"The multiplication is successfully done\")"
   ]
  },
  {
   "cell_type": "markdown",
   "id": "416c2709-9045-487f-847c-536ff97412fe",
   "metadata": {},
   "source": [
    "### Memory Issue"
   ]
  },
  {
   "cell_type": "code",
   "execution_count": 7,
   "id": "4a22af67-d4cf-4c5b-9e34-69d8d9bc486b",
   "metadata": {},
   "outputs": [
    {
     "name": "stdout",
     "output_type": "stream",
     "text": [
      "Hello\n"
     ]
    }
   ],
   "source": [
    "a = 100\n",
    "\n",
    "while a:\n",
    "    print('Hello')\n",
    "    break"
   ]
  },
  {
   "cell_type": "markdown",
   "id": "fbc7d832-f08d-49f9-907c-44f0269fd6b9",
   "metadata": {},
   "source": [
    "without break statement if we run the above code we are getting memory issue "
   ]
  },
  {
   "cell_type": "markdown",
   "id": "71ceffe8-549b-47cb-9293-5300629ba13f",
   "metadata": {},
   "source": [
    "### Solution for Exceeptions"
   ]
  },
  {
   "cell_type": "markdown",
   "id": "89d7092d-e03e-49f6-92e3-3eb53b6c6e4c",
   "metadata": {},
   "source": [
    "try:\n",
    "\n",
    "    #Risky code\n",
    "\n",
    "except:\n",
    "\n",
    "    #Handling code\n",
    "\n",
    "else:\n",
    "\n",
    "    #if there is no error, this block will be executed\n",
    "\n",
    "finally:\n",
    "\n",
    "    #Irrespective of exception this block will be executed\n",
    "    "
   ]
  },
  {
   "cell_type": "code",
   "execution_count": 1,
   "id": "ef9f5393-658f-48ca-80f2-bfb9b6e4390e",
   "metadata": {},
   "outputs": [
    {
     "name": "stdout",
     "output_type": "stream",
     "text": [
      "Welcome to Innomatics\n"
     ]
    },
    {
     "name": "stdin",
     "output_type": "stream",
     "text": [
      "Enter the a value::  5\n",
      "Enter the b value::  0\n"
     ]
    },
    {
     "ename": "ZeroDivisionError",
     "evalue": "division by zero",
     "output_type": "error",
     "traceback": [
      "\u001b[1;31m---------------------------------------------------------------------------\u001b[0m",
      "\u001b[1;31mZeroDivisionError\u001b[0m                         Traceback (most recent call last)",
      "Cell \u001b[1;32mIn[1], line 6\u001b[0m\n\u001b[0;32m      3\u001b[0m a \u001b[38;5;241m=\u001b[39m \u001b[38;5;28mint\u001b[39m(\u001b[38;5;28minput\u001b[39m(\u001b[38;5;124m\"\u001b[39m\u001b[38;5;124mEnter the a value:: \u001b[39m\u001b[38;5;124m\"\u001b[39m))\n\u001b[0;32m      4\u001b[0m b \u001b[38;5;241m=\u001b[39m \u001b[38;5;28mint\u001b[39m(\u001b[38;5;28minput\u001b[39m(\u001b[38;5;124m\"\u001b[39m\u001b[38;5;124mEnter the b value:: \u001b[39m\u001b[38;5;124m\"\u001b[39m))\n\u001b[1;32m----> 6\u001b[0m \u001b[38;5;28mprint\u001b[39m(a\u001b[38;5;241m/\u001b[39mb)\n\u001b[0;32m      8\u001b[0m \u001b[38;5;28mprint\u001b[39m(\u001b[38;5;124m\"\u001b[39m\u001b[38;5;124mThe multiplication is successfully done\u001b[39m\u001b[38;5;124m\"\u001b[39m)\n",
      "\u001b[1;31mZeroDivisionError\u001b[0m: division by zero"
     ]
    }
   ],
   "source": [
    "print(\"Welcome to Innomatics\")\n",
    "\n",
    "a = int(input(\"Enter the a value:: \"))\n",
    "b = int(input(\"Enter the b value:: \"))\n",
    "\n",
    "print(a/b)\n",
    "\n",
    "print(\"The multiplication is successfully done\")"
   ]
  },
  {
   "cell_type": "code",
   "execution_count": 8,
   "id": "af61b1df-7bbc-4ff7-9842-a239222128df",
   "metadata": {},
   "outputs": [
    {
     "name": "stdout",
     "output_type": "stream",
     "text": [
      "**************************************************\n"
     ]
    },
    {
     "name": "stdin",
     "output_type": "stream",
     "text": [
      "Enter the a value::  5\n",
      "Enter the b value::  two\n"
     ]
    },
    {
     "name": "stdout",
     "output_type": "stream",
     "text": [
      "Please enter valid numbers\n",
      "The application is closed\n",
      "**************************************************\n"
     ]
    }
   ],
   "source": [
    "print('*'*50)\n",
    "\n",
    "try:\n",
    "    a = int(input(\"Enter the a value:: \"))\n",
    "    b = int(input(\"Enter the b value:: \"))\n",
    "    print(a/b)\n",
    "\n",
    "except(ZeroDivisionError,ValueError):\n",
    "    print(\"Please enter valid numbers\")\n",
    "\n",
    "else:\n",
    "    print(\"The operation is done successfully\")\n",
    "\n",
    "finally:\n",
    "    print(\"The application is closed\")\n",
    "\n",
    "print('*'*50)"
   ]
  },
  {
   "cell_type": "code",
   "execution_count": 9,
   "id": "97a213b6-a358-4cdb-975d-e68869eacf13",
   "metadata": {},
   "outputs": [
    {
     "name": "stdout",
     "output_type": "stream",
     "text": [
      "**************************************************\n"
     ]
    },
    {
     "name": "stdin",
     "output_type": "stream",
     "text": [
      "Enter the a value::  5\n",
      "Enter the b value::  two\n"
     ]
    },
    {
     "name": "stdout",
     "output_type": "stream",
     "text": [
      "invalid literal for int() with base 10: 'two'\n",
      "**************************************************\n"
     ]
    }
   ],
   "source": [
    "print('*'*50)\n",
    "\n",
    "try:\n",
    "    a = int(input(\"Enter the a value:: \"))\n",
    "    b = int(input(\"Enter the b value:: \"))\n",
    "    print(a/b)\n",
    "\n",
    "except(ZeroDivisionError,ValueError) as msg:\n",
    "    print(msg)\n",
    "\n",
    "print('*'*50)"
   ]
  },
  {
   "cell_type": "code",
   "execution_count": 10,
   "id": "65ae4c19-6815-4795-a8d3-58a605aded54",
   "metadata": {},
   "outputs": [],
   "source": [
    "import traceback"
   ]
  },
  {
   "cell_type": "code",
   "execution_count": 12,
   "id": "d1a7dd36-05ae-4e28-8264-edfc888fba6f",
   "metadata": {},
   "outputs": [
    {
     "name": "stdout",
     "output_type": "stream",
     "text": [
      "**************************************************\n"
     ]
    },
    {
     "name": "stdin",
     "output_type": "stream",
     "text": [
      "Enter the a value::  5\n",
      "Enter the b value::  0\n"
     ]
    },
    {
     "name": "stdout",
     "output_type": "stream",
     "text": [
      "**************************************************\n"
     ]
    },
    {
     "name": "stderr",
     "output_type": "stream",
     "text": [
      "Traceback (most recent call last):\n",
      "  File \"C:\\Users\\DELL\\AppData\\Local\\Temp\\ipykernel_324\\2668910871.py\", line 6, in <module>\n",
      "    print(a/b)\n",
      "          ~^~\n",
      "ZeroDivisionError: division by zero\n"
     ]
    }
   ],
   "source": [
    "print('*'*50)\n",
    "\n",
    "try:\n",
    "    a = int(input(\"Enter the a value:: \"))\n",
    "    b = int(input(\"Enter the b value:: \"))\n",
    "    print(a/b)\n",
    "\n",
    "except(ZeroDivisionError,ValueError) as msg:\n",
    "    traceback.print_exc()\n",
    "\n",
    "print('*'*50)"
   ]
  },
  {
   "cell_type": "markdown",
   "id": "0a86de71-6e16-4dc6-a80b-e95524095d30",
   "metadata": {},
   "source": [
    "### User Defined Errors"
   ]
  },
  {
   "cell_type": "raw",
   "id": "8df579b6-5917-4358-b503-b2476cc912e4",
   "metadata": {},
   "source": [
    "raise--used to create user defined errors"
   ]
  },
  {
   "cell_type": "code",
   "execution_count": 15,
   "id": "078ce339-d933-4f6d-b720-393af568da8d",
   "metadata": {},
   "outputs": [
    {
     "name": "stdin",
     "output_type": "stream",
     "text": [
      "Enter the age::  17\n"
     ]
    },
    {
     "ename": "ValueError",
     "evalue": "You are not eligible for voting",
     "output_type": "error",
     "traceback": [
      "\u001b[1;31m---------------------------------------------------------------------------\u001b[0m",
      "\u001b[1;31mValueError\u001b[0m                                Traceback (most recent call last)",
      "Cell \u001b[1;32mIn[15], line 4\u001b[0m\n\u001b[0;32m      1\u001b[0m age \u001b[38;5;241m=\u001b[39m \u001b[38;5;28mint\u001b[39m(\u001b[38;5;28minput\u001b[39m(\u001b[38;5;124m\"\u001b[39m\u001b[38;5;124mEnter the age:: \u001b[39m\u001b[38;5;124m\"\u001b[39m))\n\u001b[0;32m      3\u001b[0m \u001b[38;5;28;01mif\u001b[39;00m age\u001b[38;5;241m<\u001b[39m\u001b[38;5;241m18\u001b[39m:\n\u001b[1;32m----> 4\u001b[0m    \u001b[38;5;28;01mraise\u001b[39;00m \u001b[38;5;167;01mValueError\u001b[39;00m(\u001b[38;5;124m\"\u001b[39m\u001b[38;5;124mYou are not eligible for voting\u001b[39m\u001b[38;5;124m\"\u001b[39m)\n\u001b[0;32m      5\u001b[0m \u001b[38;5;28;01melse\u001b[39;00m:\n\u001b[0;32m      6\u001b[0m     \u001b[38;5;28mprint\u001b[39m(\u001b[38;5;124m\"\u001b[39m\u001b[38;5;124mPlease cast your vote\u001b[39m\u001b[38;5;124m\"\u001b[39m)\n",
      "\u001b[1;31mValueError\u001b[0m: You are not eligible for voting"
     ]
    }
   ],
   "source": [
    "age = int(input(\"Enter the age:: \"))\n",
    "\n",
    "if age<18:\n",
    "   raise ValueError(\"You are not eligible for voting\")\n",
    "else:\n",
    "    print(\"Please cast your vote\")"
   ]
  },
  {
   "cell_type": "code",
   "execution_count": 16,
   "id": "c3496bce-600e-43a8-ac2d-cbd27b0125d0",
   "metadata": {},
   "outputs": [
    {
     "name": "stdin",
     "output_type": "stream",
     "text": [
      "Enter the amount to withdraw 20000\n"
     ]
    },
    {
     "name": "stdout",
     "output_type": "stream",
     "text": [
      "Take the cash\n",
      "Your account has -10000 rupees\n"
     ]
    }
   ],
   "source": [
    "bank_balance = 10000\n",
    "amount = int(input(\"Enter the amount to withdraw\"))\n",
    "bank_balance = bank_balance-amount\n",
    "print(\"Take the cash\")\n",
    "print(f\"Your account has {bank_balance} rupees\")"
   ]
  },
  {
   "cell_type": "code",
   "execution_count": 17,
   "id": "5d6bbcd4-9558-4481-971f-97b49f0e9376",
   "metadata": {},
   "outputs": [],
   "source": [
    "class InsufficientBalance(Exception):\n",
    "    pass"
   ]
  },
  {
   "cell_type": "code",
   "execution_count": 18,
   "id": "75ff6bcf-9fc9-48ba-884a-9855454dbe8c",
   "metadata": {},
   "outputs": [
    {
     "name": "stdin",
     "output_type": "stream",
     "text": [
      "Enter the amount to withdraw 25000\n"
     ]
    },
    {
     "ename": "InsufficientBalance",
     "evalue": "Your account balance is low to withdraw",
     "output_type": "error",
     "traceback": [
      "\u001b[1;31m---------------------------------------------------------------------------\u001b[0m",
      "\u001b[1;31mInsufficientBalance\u001b[0m                       Traceback (most recent call last)",
      "Cell \u001b[1;32mIn[18], line 5\u001b[0m\n\u001b[0;32m      2\u001b[0m amount \u001b[38;5;241m=\u001b[39m \u001b[38;5;28mint\u001b[39m(\u001b[38;5;28minput\u001b[39m(\u001b[38;5;124m\"\u001b[39m\u001b[38;5;124mEnter the amount to withdraw\u001b[39m\u001b[38;5;124m\"\u001b[39m))\n\u001b[0;32m      4\u001b[0m \u001b[38;5;28;01mif\u001b[39;00m bank_balance \u001b[38;5;241m<\u001b[39m amount:\n\u001b[1;32m----> 5\u001b[0m    \u001b[38;5;28;01mraise\u001b[39;00m InsufficientBalance(\u001b[38;5;124m\"\u001b[39m\u001b[38;5;124mYour account balance is low to withdraw\u001b[39m\u001b[38;5;124m\"\u001b[39m)\n\u001b[0;32m      7\u001b[0m \u001b[38;5;28;01melse\u001b[39;00m:\n\u001b[0;32m      8\u001b[0m     bank_balance \u001b[38;5;241m=\u001b[39m bank_balance\u001b[38;5;241m-\u001b[39mamount\n",
      "\u001b[1;31mInsufficientBalance\u001b[0m: Your account balance is low to withdraw"
     ]
    }
   ],
   "source": [
    "bank_balance = 10000\n",
    "amount = int(input(\"Enter the amount to withdraw\"))\n",
    "\n",
    "if bank_balance < amount:\n",
    "   raise InsufficientBalance(\"Your account balance is low to withdraw\")\n",
    "    \n",
    "else:\n",
    "    bank_balance = bank_balance-amount\n",
    "    print(\"Take the cash\")\n",
    "    print(f\"Your account has {bank_balance} rupees\")"
   ]
  },
  {
   "cell_type": "code",
   "execution_count": null,
   "id": "1dc56242-1622-41e9-83ad-565b45c7bd37",
   "metadata": {},
   "outputs": [],
   "source": []
  }
 ],
 "metadata": {
  "kernelspec": {
   "display_name": "Python 3 (ipykernel)",
   "language": "python",
   "name": "python3"
  },
  "language_info": {
   "codemirror_mode": {
    "name": "ipython",
    "version": 3
   },
   "file_extension": ".py",
   "mimetype": "text/x-python",
   "name": "python",
   "nbconvert_exporter": "python",
   "pygments_lexer": "ipython3",
   "version": "3.11.7"
  }
 },
 "nbformat": 4,
 "nbformat_minor": 5
}
