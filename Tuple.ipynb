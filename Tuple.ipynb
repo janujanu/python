{
 "cells": [
  {
   "cell_type": "code",
   "execution_count": 1,
   "id": "80e992f2-1132-4d1f-a39e-05c0071ba857",
   "metadata": {},
   "outputs": [
    {
     "name": "stdout",
     "output_type": "stream",
     "text": [
      "[10, 20, 30, 40]\n",
      "[10, 20, 30, 40]\n"
     ]
    }
   ],
   "source": [
    "a = [10,20]\n",
    "b = a\n",
    "b+= [30,40]\n",
    "print(a)\n",
    "print(b)"
   ]
  },
  {
   "cell_type": "code",
   "execution_count": 2,
   "id": "a6fbe703-f729-41c9-8fd3-d6c095a2e7c7",
   "metadata": {},
   "outputs": [
    {
     "name": "stdout",
     "output_type": "stream",
     "text": [
      "[10, 20]\n",
      "[10, 20, 30, 40]\n"
     ]
    }
   ],
   "source": [
    "a = [10,20]\n",
    "b = a.copy()\n",
    "b+= [30,40]\n",
    "print(a)\n",
    "print(b)"
   ]
  },
  {
   "cell_type": "markdown",
   "id": "c2847ecf-2a9a-42fa-8339-24f2d5261219",
   "metadata": {},
   "source": [
    "# REPRESENTATION"
   ]
  },
  {
   "cell_type": "code",
   "execution_count": 1,
   "id": "38a47c85-4312-4ee5-b15c-6ac76672d153",
   "metadata": {},
   "outputs": [],
   "source": [
    "tuple1 = () #empty tuples"
   ]
  },
  {
   "cell_type": "code",
   "execution_count": 2,
   "id": "6e71673b-c410-494e-b9b5-383596b04390",
   "metadata": {},
   "outputs": [
    {
     "data": {
      "text/plain": [
       "tuple"
      ]
     },
     "execution_count": 2,
     "metadata": {},
     "output_type": "execute_result"
    }
   ],
   "source": [
    "type(tuple1)"
   ]
  },
  {
   "cell_type": "code",
   "execution_count": 3,
   "id": "b253143c-07ee-41d9-834c-6b8ced54bafe",
   "metadata": {},
   "outputs": [
    {
     "data": {
      "text/plain": [
       "tuple"
      ]
     },
     "execution_count": 3,
     "metadata": {},
     "output_type": "execute_result"
    }
   ],
   "source": [
    "tuple2 = tuple()\n",
    "type(tuple2)"
   ]
  },
  {
   "cell_type": "code",
   "execution_count": 4,
   "id": "7e5ca957-7325-4be0-b3c2-ca7f4bcfd4e0",
   "metadata": {},
   "outputs": [
    {
     "data": {
      "text/plain": [
       "tuple"
      ]
     },
     "execution_count": 4,
     "metadata": {},
     "output_type": "execute_result"
    }
   ],
   "source": [
    "cities = ('Hyderabad',\"Bangalore\",\"Mumbai\",\"Chennai\")\n",
    "type(cities)"
   ]
  },
  {
   "cell_type": "markdown",
   "id": "94154f5e-60f3-4d96-841c-f79aa5bf0586",
   "metadata": {},
   "source": [
    "### indexing and slicing"
   ]
  },
  {
   "cell_type": "code",
   "execution_count": 5,
   "id": "a4e9a559-5b6b-4103-a7ef-28184ed67ea4",
   "metadata": {},
   "outputs": [
    {
     "data": {
      "text/plain": [
       "'Hyderabad'"
      ]
     },
     "execution_count": 5,
     "metadata": {},
     "output_type": "execute_result"
    }
   ],
   "source": [
    "cities[0]"
   ]
  },
  {
   "cell_type": "code",
   "execution_count": 6,
   "id": "6f3232ce-62c0-4794-a066-a82c9ba0433a",
   "metadata": {},
   "outputs": [
    {
     "data": {
      "text/plain": [
       "('Bangalore', 'Mumbai')"
      ]
     },
     "execution_count": 6,
     "metadata": {},
     "output_type": "execute_result"
    }
   ],
   "source": [
    "cities[1:3]"
   ]
  },
  {
   "cell_type": "code",
   "execution_count": 7,
   "id": "70341448-cfa0-4de2-b33b-421e81703246",
   "metadata": {},
   "outputs": [],
   "source": [
    "a = 2,3,4"
   ]
  },
  {
   "cell_type": "code",
   "execution_count": 8,
   "id": "4f0a6117-73d7-48f9-bdeb-c575a2e2b523",
   "metadata": {},
   "outputs": [
    {
     "data": {
      "text/plain": [
       "tuple"
      ]
     },
     "execution_count": 8,
     "metadata": {},
     "output_type": "execute_result"
    }
   ],
   "source": [
    "type(a)"
   ]
  },
  {
   "cell_type": "code",
   "execution_count": 9,
   "id": "8cb734af-c741-432f-955a-ca61c4f725ba",
   "metadata": {},
   "outputs": [],
   "source": [
    "a = 'hyderabad',"
   ]
  },
  {
   "cell_type": "code",
   "execution_count": 10,
   "id": "a411730e-7310-4b1e-aaf3-0c85886635c3",
   "metadata": {},
   "outputs": [
    {
     "data": {
      "text/plain": [
       "tuple"
      ]
     },
     "execution_count": 10,
     "metadata": {},
     "output_type": "execute_result"
    }
   ],
   "source": [
    "type(a)"
   ]
  },
  {
   "cell_type": "code",
   "execution_count": 11,
   "id": "4fa2cdd1-0993-4ec3-a76f-8dd00cc11d1f",
   "metadata": {},
   "outputs": [],
   "source": [
    "marks = (23,14,15,27,19,34,56)"
   ]
  },
  {
   "cell_type": "code",
   "execution_count": 12,
   "id": "7917ef2e-668e-4271-97dc-ff12ca3eac76",
   "metadata": {},
   "outputs": [
    {
     "data": {
      "text/plain": [
       "15"
      ]
     },
     "execution_count": 12,
     "metadata": {},
     "output_type": "execute_result"
    }
   ],
   "source": [
    "marks[2]"
   ]
  },
  {
   "cell_type": "code",
   "execution_count": 13,
   "id": "9de25de8-5ceb-4adb-98b5-7faf0c0aa035",
   "metadata": {},
   "outputs": [
    {
     "data": {
      "text/plain": [
       "1"
      ]
     },
     "execution_count": 13,
     "metadata": {},
     "output_type": "execute_result"
    }
   ],
   "source": [
    "marks.count(23)"
   ]
  },
  {
   "cell_type": "code",
   "execution_count": 14,
   "id": "a21c9c78-8689-49b3-9bd3-cad2f4a1ecde",
   "metadata": {},
   "outputs": [
    {
     "data": {
      "text/plain": [
       "2"
      ]
     },
     "execution_count": 14,
     "metadata": {},
     "output_type": "execute_result"
    }
   ],
   "source": [
    "marks.index(15)"
   ]
  },
  {
   "cell_type": "code",
   "execution_count": 15,
   "id": "eb5bc26a-8e62-4123-b56d-1960ef661277",
   "metadata": {},
   "outputs": [
    {
     "data": {
      "text/plain": [
       "56"
      ]
     },
     "execution_count": 15,
     "metadata": {},
     "output_type": "execute_result"
    }
   ],
   "source": [
    "marks[-1]"
   ]
  },
  {
   "cell_type": "markdown",
   "id": "7e67e661-1574-4b6e-be66-1115952ae070",
   "metadata": {},
   "source": [
    "### Mathematical functions"
   ]
  },
  {
   "cell_type": "code",
   "execution_count": 1,
   "id": "5f651122-c3b1-47ad-863c-d74afb09136c",
   "metadata": {},
   "outputs": [],
   "source": [
    "list1 = [12,13,14,17,19,25]"
   ]
  },
  {
   "cell_type": "code",
   "execution_count": 2,
   "id": "5253969d-7b23-467f-9438-fd7cd1c1d07d",
   "metadata": {},
   "outputs": [
    {
     "data": {
      "text/plain": [
       "25"
      ]
     },
     "execution_count": 2,
     "metadata": {},
     "output_type": "execute_result"
    }
   ],
   "source": [
    "max(list1)"
   ]
  },
  {
   "cell_type": "code",
   "execution_count": 3,
   "id": "cd468c69-901c-4833-a784-b3c7a3b9d4d2",
   "metadata": {},
   "outputs": [
    {
     "data": {
      "text/plain": [
       "12"
      ]
     },
     "execution_count": 3,
     "metadata": {},
     "output_type": "execute_result"
    }
   ],
   "source": [
    "min(list1)"
   ]
  },
  {
   "cell_type": "code",
   "execution_count": 4,
   "id": "2c855f67-c068-403a-a20d-5f87bde299cf",
   "metadata": {},
   "outputs": [
    {
     "data": {
      "text/plain": [
       "100"
      ]
     },
     "execution_count": 4,
     "metadata": {},
     "output_type": "execute_result"
    }
   ],
   "source": [
    "sum(list1)"
   ]
  },
  {
   "cell_type": "code",
   "execution_count": 5,
   "id": "4caa3c45-b13e-4df4-8535-0516c985884f",
   "metadata": {},
   "outputs": [
    {
     "data": {
      "text/plain": [
       "[12, 13, 14, 17, 19, 25]"
      ]
     },
     "execution_count": 5,
     "metadata": {},
     "output_type": "execute_result"
    }
   ],
   "source": [
    "sorted(list1)"
   ]
  },
  {
   "cell_type": "code",
   "execution_count": 1,
   "id": "e7d84d41-ebd8-4461-b3f5-ea3776b1d4d2",
   "metadata": {},
   "outputs": [],
   "source": [
    "t = (1,2,3,4,3,2,6,7)\n",
    "t1 = (5,6,7,8,9,10)"
   ]
  },
  {
   "cell_type": "code",
   "execution_count": 3,
   "id": "cb42a913-7e3f-418a-90bf-66c002067fbc",
   "metadata": {},
   "outputs": [],
   "source": [
    "c = t+t1"
   ]
  },
  {
   "cell_type": "code",
   "execution_count": 4,
   "id": "f2548a9e-97a8-4768-be0a-8c78010c71a0",
   "metadata": {},
   "outputs": [
    {
     "data": {
      "text/plain": [
       "(1, 2, 3, 4, 3, 2, 6, 7, 5, 6, 7, 8, 9, 10)"
      ]
     },
     "execution_count": 4,
     "metadata": {},
     "output_type": "execute_result"
    }
   ],
   "source": [
    "c"
   ]
  },
  {
   "cell_type": "code",
   "execution_count": 5,
   "id": "94ee8f1d-2281-4f3e-ae74-6fbb44a488e5",
   "metadata": {},
   "outputs": [
    {
     "data": {
      "text/plain": [
       "14"
      ]
     },
     "execution_count": 5,
     "metadata": {},
     "output_type": "execute_result"
    }
   ],
   "source": [
    "len(c)"
   ]
  },
  {
   "cell_type": "code",
   "execution_count": 7,
   "id": "36a35e03-4bd1-4b81-8cb2-8fc26567e71b",
   "metadata": {},
   "outputs": [],
   "source": [
    "tu = (11,12,13,14,17,19,25)"
   ]
  },
  {
   "cell_type": "code",
   "execution_count": 11,
   "id": "02e9d72a-db5a-44b3-b002-74b83909b6fa",
   "metadata": {},
   "outputs": [],
   "source": [
    "s = set(tu)"
   ]
  },
  {
   "cell_type": "code",
   "execution_count": 12,
   "id": "ee038c0f-be74-457d-9af5-086412ef4ee9",
   "metadata": {},
   "outputs": [
    {
     "data": {
      "text/plain": [
       "{11, 12, 13, 14, 17, 19, 25}"
      ]
     },
     "execution_count": 12,
     "metadata": {},
     "output_type": "execute_result"
    }
   ],
   "source": [
    "s"
   ]
  },
  {
   "cell_type": "code",
   "execution_count": 13,
   "id": "5d7d99d6-1377-415c-aeea-72ad27c86698",
   "metadata": {},
   "outputs": [
    {
     "ename": "TypeError",
     "evalue": "'set' object is not callable",
     "output_type": "error",
     "traceback": [
      "\u001b[1;31m---------------------------------------------------------------------------\u001b[0m",
      "\u001b[1;31mTypeError\u001b[0m                                 Traceback (most recent call last)",
      "Cell \u001b[1;32mIn[13], line 1\u001b[0m\n\u001b[1;32m----> 1\u001b[0m s(\u001b[38;5;28mmax\u001b[39m)\n",
      "\u001b[1;31mTypeError\u001b[0m: 'set' object is not callable"
     ]
    }
   ],
   "source": [
    "s(max)"
   ]
  },
  {
   "cell_type": "code",
   "execution_count": 14,
   "id": "b16bdaaa-8129-4f9a-8aee-967a89363eb0",
   "metadata": {},
   "outputs": [
    {
     "ename": "TypeError",
     "evalue": "'tuple' object is not callable",
     "output_type": "error",
     "traceback": [
      "\u001b[1;31m---------------------------------------------------------------------------\u001b[0m",
      "\u001b[1;31mTypeError\u001b[0m                                 Traceback (most recent call last)",
      "Cell \u001b[1;32mIn[14], line 1\u001b[0m\n\u001b[1;32m----> 1\u001b[0m tu(\u001b[38;5;28mmax\u001b[39m)\n",
      "\u001b[1;31mTypeError\u001b[0m: 'tuple' object is not callable"
     ]
    }
   ],
   "source": [
    "tu(max)"
   ]
  },
  {
   "cell_type": "code",
   "execution_count": 15,
   "id": "4bbe4a17-67e6-4ea6-a6aa-0f618d477d5a",
   "metadata": {},
   "outputs": [
    {
     "data": {
      "text/plain": [
       "25"
      ]
     },
     "execution_count": 15,
     "metadata": {},
     "output_type": "execute_result"
    }
   ],
   "source": [
    "max(s)"
   ]
  },
  {
   "cell_type": "code",
   "execution_count": 16,
   "id": "11597c66-7541-42a5-b217-784fa72644f9",
   "metadata": {},
   "outputs": [
    {
     "data": {
      "text/plain": [
       "11"
      ]
     },
     "execution_count": 16,
     "metadata": {},
     "output_type": "execute_result"
    }
   ],
   "source": [
    "min(s)"
   ]
  },
  {
   "cell_type": "code",
   "execution_count": null,
   "id": "afd2cfd5-5f49-469b-a697-4443d563fc89",
   "metadata": {},
   "outputs": [],
   "source": []
  }
 ],
 "metadata": {
  "kernelspec": {
   "display_name": "Python 3 (ipykernel)",
   "language": "python",
   "name": "python3"
  },
  "language_info": {
   "codemirror_mode": {
    "name": "ipython",
    "version": 3
   },
   "file_extension": ".py",
   "mimetype": "text/x-python",
   "name": "python",
   "nbconvert_exporter": "python",
   "pygments_lexer": "ipython3",
   "version": "3.11.7"
  }
 },
 "nbformat": 4,
 "nbformat_minor": 5
}
