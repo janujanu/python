{
 "cells": [
  {
   "cell_type": "code",
   "execution_count": 1,
   "id": "1a98d7d3-f5c5-473c-ae06-41a0e564a991",
   "metadata": {},
   "outputs": [
    {
     "data": {
      "text/plain": [
       "set"
      ]
     },
     "execution_count": 1,
     "metadata": {},
     "output_type": "execute_result"
    }
   ],
   "source": [
    "set1 = {1,2,3,4,5}\n",
    "type(set1)"
   ]
  },
  {
   "cell_type": "markdown",
   "id": "9993e72e-3b4f-48dc-bba7-a76747c6b5eb",
   "metadata": {},
   "source": [
    "## Representatiom"
   ]
  },
  {
   "cell_type": "markdown",
   "id": "2d27b8a1-5c31-4ff8-8597-b8f5eb6e1514",
   "metadata": {},
   "source": [
    "we dont have representation.we dont have any braces.directly we are using functin"
   ]
  },
  {
   "cell_type": "code",
   "execution_count": 2,
   "id": "e6408575-b435-4db1-8f4e-ec34d412b9f6",
   "metadata": {},
   "outputs": [],
   "source": [
    "values = frozenset([1,2,3,4,5,6,7,8,9])"
   ]
  },
  {
   "cell_type": "code",
   "execution_count": 3,
   "id": "8d637ab6-57e0-4fe2-8f9e-66970e450113",
   "metadata": {},
   "outputs": [
    {
     "data": {
      "text/plain": [
       "frozenset({1, 2, 3, 4, 5, 6, 7, 8, 9})"
      ]
     },
     "execution_count": 3,
     "metadata": {},
     "output_type": "execute_result"
    }
   ],
   "source": [
    "values"
   ]
  },
  {
   "cell_type": "code",
   "execution_count": 4,
   "id": "7fd71ba8-97c7-46f5-8afe-44163f47266a",
   "metadata": {},
   "outputs": [
    {
     "data": {
      "text/plain": [
       "frozenset"
      ]
     },
     "execution_count": 4,
     "metadata": {},
     "output_type": "execute_result"
    }
   ],
   "source": [
    "type(values)"
   ]
  },
  {
   "cell_type": "markdown",
   "id": "debafc81-ae81-418d-a8cb-6412cc93b6d7",
   "metadata": {},
   "source": [
    "## Attributes"
   ]
  },
  {
   "cell_type": "markdown",
   "id": "f6f5abbc-10c8-47bc-b02d-b0f4a263a370",
   "metadata": {},
   "source": [
    "#immutable"
   ]
  },
  {
   "cell_type": "code",
   "execution_count": 5,
   "id": "dad39020-0333-4059-a071-4dc445ed9c92",
   "metadata": {},
   "outputs": [
    {
     "data": {
      "text/plain": [
       "frozenset({1, 2, 3, 4, 5, 6, 7, 8, 9})"
      ]
     },
     "execution_count": 5,
     "metadata": {},
     "output_type": "execute_result"
    }
   ],
   "source": [
    "values"
   ]
  },
  {
   "cell_type": "code",
   "execution_count": 7,
   "id": "05cd44fb-bcf6-4e16-8986-70bd2cd14a3b",
   "metadata": {},
   "outputs": [
    {
     "ename": "AttributeError",
     "evalue": "'frozenset' object has no attribute 'add'",
     "output_type": "error",
     "traceback": [
      "\u001b[1;31m---------------------------------------------------------------------------\u001b[0m",
      "\u001b[1;31mAttributeError\u001b[0m                            Traceback (most recent call last)",
      "Cell \u001b[1;32mIn[7], line 1\u001b[0m\n\u001b[1;32m----> 1\u001b[0m values\u001b[38;5;241m.\u001b[39madd(\u001b[38;5;241m10\u001b[39m)\n",
      "\u001b[1;31mAttributeError\u001b[0m: 'frozenset' object has no attribute 'add'"
     ]
    }
   ],
   "source": [
    "values.add(10)  #we cant have add,pop,remove functions"
   ]
  },
  {
   "cell_type": "markdown",
   "id": "43564a8a-313f-401b-b430-8af865c6dfab",
   "metadata": {},
   "source": [
    "#unordered"
   ]
  },
  {
   "cell_type": "code",
   "execution_count": 8,
   "id": "61a1e8e5-65ce-45ca-a51f-589c9709a1d7",
   "metadata": {},
   "outputs": [
    {
     "data": {
      "text/plain": [
       "frozenset({1, 2, 3, 4, 5, 6, 7, 8, 9})"
      ]
     },
     "execution_count": 8,
     "metadata": {},
     "output_type": "execute_result"
    }
   ],
   "source": [
    "values"
   ]
  },
  {
   "cell_type": "code",
   "execution_count": 9,
   "id": "037a2bf3-672d-45f6-a5ce-7075611a478e",
   "metadata": {},
   "outputs": [
    {
     "ename": "TypeError",
     "evalue": "'frozenset' object is not subscriptable",
     "output_type": "error",
     "traceback": [
      "\u001b[1;31m---------------------------------------------------------------------------\u001b[0m",
      "\u001b[1;31mTypeError\u001b[0m                                 Traceback (most recent call last)",
      "Cell \u001b[1;32mIn[9], line 1\u001b[0m\n\u001b[1;32m----> 1\u001b[0m values[\u001b[38;5;241m2\u001b[39m]\n",
      "\u001b[1;31mTypeError\u001b[0m: 'frozenset' object is not subscriptable"
     ]
    }
   ],
   "source": [
    "values[2]"
   ]
  },
  {
   "cell_type": "markdown",
   "id": "f6609650-6001-490b-a4fe-173f69070a09",
   "metadata": {},
   "source": [
    "#duplicates are not allowed"
   ]
  },
  {
   "cell_type": "code",
   "execution_count": 10,
   "id": "272c8685-9614-4d5f-b6ff-dfc8bcee45db",
   "metadata": {},
   "outputs": [
    {
     "name": "stdout",
     "output_type": "stream",
     "text": [
      "frozenset({8, 1, 2, 5})\n"
     ]
    }
   ],
   "source": [
    "num = frozenset([1,5,8,1,2,1,2])\n",
    "print(num)"
   ]
  },
  {
   "cell_type": "markdown",
   "id": "846c817f-e2d6-48aa-a751-cb06bbc3dcfb",
   "metadata": {},
   "source": [
    "# Type Casting"
   ]
  },
  {
   "cell_type": "markdown",
   "id": "f42457d2-ff2a-4153-aa61-ff2b41ffae16",
   "metadata": {},
   "source": [
    "* List ---list()\n",
    "\n",
    "* Tuple ---tuple()\n",
    "\n",
    "* set ---set()"
   ]
  },
  {
   "cell_type": "markdown",
   "id": "bbc8ab91-2b3d-41a1-9aeb-756b8f18e10f",
   "metadata": {},
   "source": [
    "### To List"
   ]
  },
  {
   "cell_type": "markdown",
   "id": "58f28ae5-618a-4581-a495-b66a3e8a6532",
   "metadata": {},
   "source": [
    "Here,we are creating a tuple that is converting into list and set"
   ]
  },
  {
   "cell_type": "code",
   "execution_count": 14,
   "id": "00d855e0-aee0-42cc-9cb2-68f4b85d3a0e",
   "metadata": {},
   "outputs": [
    {
     "data": {
      "text/plain": [
       "tuple"
      ]
     },
     "execution_count": 14,
     "metadata": {},
     "output_type": "execute_result"
    }
   ],
   "source": [
    "tup = (1,5,8,9,10,12)\n",
    "type(tup)"
   ]
  },
  {
   "cell_type": "code",
   "execution_count": 15,
   "id": "70a4269a-0708-4d11-ad37-07e3842bef07",
   "metadata": {},
   "outputs": [
    {
     "data": {
      "text/plain": [
       "[1, 5, 8, 9, 10, 12]"
      ]
     },
     "execution_count": 15,
     "metadata": {},
     "output_type": "execute_result"
    }
   ],
   "source": [
    "list(tup)"
   ]
  },
  {
   "cell_type": "code",
   "execution_count": 16,
   "id": "4fb586d8-7824-4b8a-a076-56db675b3f3c",
   "metadata": {},
   "outputs": [
    {
     "data": {
      "text/plain": [
       "list"
      ]
     },
     "execution_count": 16,
     "metadata": {},
     "output_type": "execute_result"
    }
   ],
   "source": [
    "a = list(tup)\n",
    "type(a)"
   ]
  },
  {
   "cell_type": "code",
   "execution_count": 19,
   "id": "f2320dbe-6816-4fd9-beb1-eecf5049e252",
   "metadata": {},
   "outputs": [
    {
     "name": "stdout",
     "output_type": "stream",
     "text": [
      "{0, 1, 2, 5, 7, 9}\n",
      "[0, 1, 2, 5, 7, 9]\n"
     ]
    }
   ],
   "source": [
    "set1 = {1,9,0,2,5,7}\n",
    "print(set1)\n",
    "print(list(set1))"
   ]
  },
  {
   "cell_type": "markdown",
   "id": "465df8f7-8b49-42c6-897a-b0f85a583b0d",
   "metadata": {},
   "source": [
    "##### Here,we are going to create tuple that is converting into list then we are going to add the values"
   ]
  },
  {
   "cell_type": "code",
   "execution_count": 20,
   "id": "c3c7bf12-9e31-4171-a298-79f61a410b08",
   "metadata": {},
   "outputs": [],
   "source": [
    "marks = (12,45,67,89,34,47,92,35)"
   ]
  },
  {
   "cell_type": "code",
   "execution_count": 21,
   "id": "ef4699e3-c116-4278-8d42-ad566475623b",
   "metadata": {},
   "outputs": [
    {
     "data": {
      "text/plain": [
       "[12, 45, 67, 89, 34, 47, 92, 35]"
      ]
     },
     "execution_count": 21,
     "metadata": {},
     "output_type": "execute_result"
    }
   ],
   "source": [
    "list(marks)"
   ]
  },
  {
   "cell_type": "code",
   "execution_count": 22,
   "id": "c67dc98f-fabf-415e-a1e9-abd93f5654da",
   "metadata": {},
   "outputs": [],
   "source": [
    "a = list(marks)"
   ]
  },
  {
   "cell_type": "code",
   "execution_count": 24,
   "id": "dc95a7d9-c886-45e6-903b-039724774258",
   "metadata": {},
   "outputs": [],
   "source": [
    "a.extend((23,66,41))"
   ]
  },
  {
   "cell_type": "code",
   "execution_count": 25,
   "id": "91e200b9-71ec-4438-a65f-4f9ef5150bf6",
   "metadata": {},
   "outputs": [
    {
     "data": {
      "text/plain": [
       "[12, 45, 67, 89, 34, 47, 92, 35, 23, 66, 41]"
      ]
     },
     "execution_count": 25,
     "metadata": {},
     "output_type": "execute_result"
    }
   ],
   "source": [
    "a"
   ]
  },
  {
   "cell_type": "markdown",
   "id": "dd0a8d6e-3bae-4329-ae6d-edb9de719a5f",
   "metadata": {},
   "source": [
    "##### To Tuple"
   ]
  },
  {
   "cell_type": "code",
   "execution_count": 27,
   "id": "f20b9317-4bed-4a82-8daf-2b1819884fa8",
   "metadata": {},
   "outputs": [
    {
     "data": {
      "text/plain": [
       "(12, 45, 67, 89, 34, 47, 92, 35, 23, 66, 41)"
      ]
     },
     "execution_count": 27,
     "metadata": {},
     "output_type": "execute_result"
    }
   ],
   "source": [
    "tuple(a)       #then we are going to convert that list into tuple"
   ]
  },
  {
   "cell_type": "markdown",
   "id": "d33cbb4a-dfab-43a4-b9d3-32161ff447bb",
   "metadata": {},
   "source": [
    "### to set datatype"
   ]
  },
  {
   "cell_type": "code",
   "execution_count": 28,
   "id": "95f0e018-12e9-4785-b75c-3fafac68442a",
   "metadata": {},
   "outputs": [],
   "source": [
    "names = (\"Rajesh\",\"Ramesh\",\"Suresh\",\"Ramesh\",\"Suresh\")"
   ]
  },
  {
   "cell_type": "markdown",
   "id": "5125cae7-badc-4888-9858-5d4d04b724be",
   "metadata": {},
   "source": [
    "#### find the distinct or unique names in given data?"
   ]
  },
  {
   "cell_type": "code",
   "execution_count": 29,
   "id": "a9a51bfd-6fde-4353-be0b-b334940ca83b",
   "metadata": {},
   "outputs": [
    {
     "data": {
      "text/plain": [
       "{'Rajesh', 'Ramesh', 'Suresh'}"
      ]
     },
     "execution_count": 29,
     "metadata": {},
     "output_type": "execute_result"
    }
   ],
   "source": [
    "set(names)"
   ]
  },
  {
   "cell_type": "markdown",
   "id": "e4aa3eae-1f10-4dcc-879e-85c500e0790a",
   "metadata": {},
   "source": [
    "#### ask user to enter a name.Find the unique characters of the name?"
   ]
  },
  {
   "cell_type": "code",
   "execution_count": 34,
   "id": "d5d51e93-dfe0-47a6-a4b8-6de5203a267d",
   "metadata": {},
   "outputs": [
    {
     "name": "stdin",
     "output_type": "stream",
     "text": [
      "Enter a user name::  innomatics\n"
     ]
    }
   ],
   "source": [
    "name = input(\"Enter a user name:: \")"
   ]
  },
  {
   "cell_type": "code",
   "execution_count": 35,
   "id": "6d7648e2-64e0-4510-890d-e4c36ebcf3bf",
   "metadata": {},
   "outputs": [
    {
     "data": {
      "text/plain": [
       "{'a', 'c', 'i', 'm', 'n', 'o', 's', 't'}"
      ]
     },
     "execution_count": 35,
     "metadata": {},
     "output_type": "execute_result"
    }
   ],
   "source": [
    "set(name)"
   ]
  },
  {
   "cell_type": "markdown",
   "id": "ba131b17-0545-47e6-9bda-e4a7638d7d31",
   "metadata": {},
   "source": [
    "#### Ask user to enter 5 student marks....then preserve them in a list and then remove duplicate marks"
   ]
  },
  {
   "cell_type": "code",
   "execution_count": 39,
   "id": "bdabc2e4-2c87-4fc5-aa60-09a961891305",
   "metadata": {},
   "outputs": [
    {
     "name": "stdin",
     "output_type": "stream",
     "text": [
      "Enter suresh marks :  23\n",
      "Enter Ramesh marks :  45\n",
      "Enter Mahesh marks :  65\n",
      "Enter Rajesh marks :  45\n",
      "Enter Prakash marks :  66\n"
     ]
    }
   ],
   "source": [
    "marks = []\n",
    "suresh = int(input(\"Enter suresh marks : \"))\n",
    "marks.append(suresh)\n",
    "Ramesh = int(input(\"Enter Ramesh marks : \"))\n",
    "marks.append(Ramesh)\n",
    "Mahesh = int(input(\"Enter Mahesh marks : \"))\n",
    "marks.append(Mahesh)\n",
    "Rajesh = int(input(\"Enter Rajesh marks : \"))\n",
    "marks.append(Rajesh)\n",
    "Prakash = int(input(\"Enter Prakash marks : \"))\n",
    "marks.append(Prakash)"
   ]
  },
  {
   "cell_type": "code",
   "execution_count": 40,
   "id": "f1a3fc22-484f-4272-a207-2d03c52fd555",
   "metadata": {},
   "outputs": [
    {
     "data": {
      "text/plain": [
       "{23, 45, 65, 66}"
      ]
     },
     "execution_count": 40,
     "metadata": {},
     "output_type": "execute_result"
    }
   ],
   "source": [
    "set(marks)"
   ]
  },
  {
   "cell_type": "code",
   "execution_count": null,
   "id": "1a2f5fc8-b31a-4db9-8386-961e9dc87a38",
   "metadata": {},
   "outputs": [],
   "source": []
  }
 ],
 "metadata": {
  "kernelspec": {
   "display_name": "Python 3 (ipykernel)",
   "language": "python",
   "name": "python3"
  },
  "language_info": {
   "codemirror_mode": {
    "name": "ipython",
    "version": 3
   },
   "file_extension": ".py",
   "mimetype": "text/x-python",
   "name": "python",
   "nbconvert_exporter": "python",
   "pygments_lexer": "ipython3",
   "version": "3.11.7"
  }
 },
 "nbformat": 4,
 "nbformat_minor": 5
}
